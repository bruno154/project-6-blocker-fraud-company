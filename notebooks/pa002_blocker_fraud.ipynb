{
 "cells": [
  {
   "cell_type": "markdown",
   "metadata": {},
   "source": [
    "# 0.0 Business Problem"
   ]
  },
  {
   "cell_type": "markdown",
   "metadata": {},
   "source": [
    "Como um Consultor de Ciência de Dados para criar um modelo de alta precisão e acurácia na detecção de fraudes de transações feitas através de dispositivos móveis.\n",
    "\n",
    "Entregáveis da consultoria:\n",
    "\n",
    "- Modelo em produção com API.\n",
    "- Relatório reportando a performance e os resultados do seu modelo em relação ao lucro e prejuízo que a empresa terá ao usar o modelo que você produziu.\n",
    "\n",
    "  No seu relatório deve conter as respostas para as seguintes perguntas:\n",
    "\n",
    " -   Qual a Precisão e Acurácia do modelo?\n",
    " -   Qual a Confiabilidade do modelo em classificar as transações como legítimas ou fraudulentas?\n",
    " -   Qual o Faturamento Esperado pela Empresa se classificarmos 100% das transações com o modelo?\n",
    " -   Qual o Prejuízo Esperado pela Empresa em caso de falha do modelo?\n",
    " -   Qual o Lucro Esperado pela Blocker Fraud Company ao utilizar o modelo?\n",
    "\n",
    "Data source: [Link](https://www.kaggle.com/ntnu-testimon/paysim1)\n",
    "\n",
    "Index:\n",
    "\n",
    " - 0.0 Problema de Negócio\n",
    " - 0.1 Importações de bibliotecas\n",
    " - 1.0 Coleta de Dados\n",
    " - 2.0 Limpeza de dados/Feature Engineering\n",
    " - 3.0 EDA\n",
    " - 4.0 Data Preparation - Pipelines\n",
    " - 5.0 Modelagem Machine Learning / Avaliação dos Modelos\n",
    " - 6.0 Interpretação do Modelo\n",
    "\n",
    "Estrátegia:\n",
    "\n",
    "\n",
    "Conclusões e Resultados:\n"
   ]
  },
  {
   "cell_type": "code",
   "execution_count": 4,
   "metadata": {
    "execution": {
     "iopub.execute_input": "2020-10-22T18:33:02.148042Z",
     "iopub.status.busy": "2020-10-22T18:33:02.147623Z",
     "iopub.status.idle": "2020-10-22T18:33:02.174839Z",
     "shell.execute_reply": "2020-10-22T18:33:02.173811Z",
     "shell.execute_reply.started": "2020-10-22T18:33:02.147996Z"
    }
   },
   "outputs": [
    {
     "data": {
      "text/html": [
       "<div>\n",
       "<style scoped>\n",
       "    .dataframe tbody tr th:only-of-type {\n",
       "        vertical-align: middle;\n",
       "    }\n",
       "\n",
       "    .dataframe tbody tr th {\n",
       "        vertical-align: top;\n",
       "    }\n",
       "\n",
       "    .dataframe thead th {\n",
       "        text-align: right;\n",
       "    }\n",
       "</style>\n",
       "<table border=\"1\" class=\"dataframe\">\n",
       "  <thead>\n",
       "    <tr style=\"text-align: right;\">\n",
       "      <th></th>\n",
       "      <th>step</th>\n",
       "      <th>type</th>\n",
       "      <th>amount</th>\n",
       "      <th>nameOrig</th>\n",
       "      <th>oldbalanceOrg</th>\n",
       "      <th>newbalanceOrig</th>\n",
       "      <th>nameDest</th>\n",
       "      <th>oldbalanceDest</th>\n",
       "      <th>newbalanceDest</th>\n",
       "      <th>isFraud</th>\n",
       "      <th>isFlaggedFraud</th>\n",
       "    </tr>\n",
       "  </thead>\n",
       "  <tbody>\n",
       "    <tr>\n",
       "      <th>0</th>\n",
       "      <td>1</td>\n",
       "      <td>PAYMENT</td>\n",
       "      <td>9839.64</td>\n",
       "      <td>C1231006815</td>\n",
       "      <td>170136.0</td>\n",
       "      <td>160296.36</td>\n",
       "      <td>M1979787155</td>\n",
       "      <td>0.0</td>\n",
       "      <td>0.0</td>\n",
       "      <td>0</td>\n",
       "      <td>0</td>\n",
       "    </tr>\n",
       "    <tr>\n",
       "      <th>1</th>\n",
       "      <td>1</td>\n",
       "      <td>PAYMENT</td>\n",
       "      <td>1864.28</td>\n",
       "      <td>C1666544295</td>\n",
       "      <td>21249.0</td>\n",
       "      <td>19384.72</td>\n",
       "      <td>M2044282225</td>\n",
       "      <td>0.0</td>\n",
       "      <td>0.0</td>\n",
       "      <td>0</td>\n",
       "      <td>0</td>\n",
       "    </tr>\n",
       "    <tr>\n",
       "      <th>2</th>\n",
       "      <td>1</td>\n",
       "      <td>TRANSFER</td>\n",
       "      <td>181.00</td>\n",
       "      <td>C1305486145</td>\n",
       "      <td>181.0</td>\n",
       "      <td>0.00</td>\n",
       "      <td>C553264065</td>\n",
       "      <td>0.0</td>\n",
       "      <td>0.0</td>\n",
       "      <td>1</td>\n",
       "      <td>0</td>\n",
       "    </tr>\n",
       "    <tr>\n",
       "      <th>3</th>\n",
       "      <td>1</td>\n",
       "      <td>CASH_OUT</td>\n",
       "      <td>181.00</td>\n",
       "      <td>C840083671</td>\n",
       "      <td>181.0</td>\n",
       "      <td>0.00</td>\n",
       "      <td>C38997010</td>\n",
       "      <td>21182.0</td>\n",
       "      <td>0.0</td>\n",
       "      <td>1</td>\n",
       "      <td>0</td>\n",
       "    </tr>\n",
       "    <tr>\n",
       "      <th>4</th>\n",
       "      <td>1</td>\n",
       "      <td>PAYMENT</td>\n",
       "      <td>11668.14</td>\n",
       "      <td>C2048537720</td>\n",
       "      <td>41554.0</td>\n",
       "      <td>29885.86</td>\n",
       "      <td>M1230701703</td>\n",
       "      <td>0.0</td>\n",
       "      <td>0.0</td>\n",
       "      <td>0</td>\n",
       "      <td>0</td>\n",
       "    </tr>\n",
       "  </tbody>\n",
       "</table>\n",
       "</div>"
      ],
      "text/plain": [
       "   step      type    amount     nameOrig  oldbalanceOrg  newbalanceOrig  \\\n",
       "0     1   PAYMENT   9839.64  C1231006815       170136.0       160296.36   \n",
       "1     1   PAYMENT   1864.28  C1666544295        21249.0        19384.72   \n",
       "2     1  TRANSFER    181.00  C1305486145          181.0            0.00   \n",
       "3     1  CASH_OUT    181.00   C840083671          181.0            0.00   \n",
       "4     1   PAYMENT  11668.14  C2048537720        41554.0        29885.86   \n",
       "\n",
       "      nameDest  oldbalanceDest  newbalanceDest  isFraud  isFlaggedFraud  \n",
       "0  M1979787155             0.0             0.0        0               0  \n",
       "1  M2044282225             0.0             0.0        0               0  \n",
       "2   C553264065             0.0             0.0        1               0  \n",
       "3    C38997010         21182.0             0.0        1               0  \n",
       "4  M1230701703             0.0             0.0        0               0  "
      ]
     },
     "execution_count": 4,
     "metadata": {},
     "output_type": "execute_result"
    }
   ],
   "source": [
    "train.head()"
   ]
  },
  {
   "cell_type": "markdown",
   "metadata": {},
   "source": [
    "# 0.1 Imports and Helper Functions"
   ]
  },
  {
   "cell_type": "code",
   "execution_count": 1,
   "metadata": {
    "execution": {
     "iopub.execute_input": "2020-10-22T18:32:04.294515Z",
     "iopub.status.busy": "2020-10-22T18:32:04.294036Z",
     "iopub.status.idle": "2020-10-22T18:32:06.009776Z",
     "shell.execute_reply": "2020-10-22T18:32:06.009045Z",
     "shell.execute_reply.started": "2020-10-22T18:32:04.294393Z"
    }
   },
   "outputs": [],
   "source": [
    "# Importings\n",
    "import pandas as pd\n",
    "import numpy as np\n",
    "import time\n",
    "\n",
    "# Importings Dask test\n",
    "import dask.array as da\n",
    "import dask.dataframe as dd\n",
    "\n",
    "# Data Viz\n",
    "import seaborn as sns\n",
    "import matplotlib.pyplot as plt\n",
    "\n",
    "# General Librarys\n",
    "from MyToolBox import MyToolBox as mtb\n",
    "from IPython.display import Image\n",
    "from IPython.core.display import HTML\n",
    "\n",
    "\n",
    "from sklearn.neighbors import LocalOutlierFactor\n",
    "from sklearn.preprocessing import OrdinalEncoder\n",
    "from sklearn.preprocessing import KBinsDiscretizer\n",
    "from imblearn.combine import SMOTETomek"
   ]
  },
  {
   "cell_type": "code",
   "execution_count": 2,
   "metadata": {
    "execution": {
     "iopub.execute_input": "2020-10-22T18:32:20.639578Z",
     "iopub.status.busy": "2020-10-22T18:32:20.639222Z",
     "iopub.status.idle": "2020-10-22T18:32:20.654326Z",
     "shell.execute_reply": "2020-10-22T18:32:20.653841Z",
     "shell.execute_reply.started": "2020-10-22T18:32:20.639542Z"
    }
   },
   "outputs": [],
   "source": [
    "# Helper Functions  trans_fraud_data.csv\n",
    "\n",
    "def get_data(path, target, kind='train'):\n",
    "    if kind == 'train':\n",
    "        train = pd.read_csv(path)\n",
    "        X = train.drop(target, axis=1)\n",
    "        y = train[target]\n",
    "    else:\n",
    "        test = pd.read_csv(path)\n",
    "        X = test.copy()\n",
    "\n",
    "    return train, X, y\n",
    "\n",
    "\n",
    "def get_data_dask(path, target, kind='train'):\n",
    "    if kind == 'train':\n",
    "        train = dd.read_csv(path)\n",
    "        X = train.drop(target, axis=1)\n",
    "        y = train[target]\n",
    "    else:\n",
    "        test = dd.read_csv(path)\n",
    "        X = test.copy()\n",
    "\n",
    "    return train, X, y\n",
    "\n",
    "def balanced_target(target, dataset, hue=None):\n",
    "    \"\"\"\n",
    "    Function to check the balancing of the target variable.\n",
    "\n",
    "    :target:  An pd.Series of the target variable that will be checked.\n",
    "    :dataset: An Dataframe object. \n",
    "    \"\"\"\n",
    "    sns.set(style='darkgrid', palette='Accent')\n",
    "    ax = sns.countplot(x=target, hue=hue, data=dataset)\n",
    "    ax.figure.set_size_inches(10, 6)\n",
    "    ax.set_title('Feature Distribution', fontsize=18, loc='center')\n",
    "    ax.set_xlabel(target, fontsize=14)\n",
    "    ax.set_ylabel('Count', fontsize=14)\n",
    "    ax=ax\n",
    "\n",
    "def hipo_test(*samples):\n",
    "\n",
    "    samples = samples\n",
    "\n",
    "    try:\n",
    "        if len(samples) == 2:\n",
    "            stat, p = ttest_ind(*samples)\n",
    "        elif len(samples) > 2:\n",
    "            stat, p = f_oneway(*samples)\n",
    "    except:\n",
    "        raise Exception(\"Deve ser fornecido pelo menos duas samples!!!\")\n",
    "\n",
    "    if p < 0.05:\n",
    "        print(f'O valor de p é: {p}')\n",
    "        print('Provável haver diferença')\n",
    "    else:\n",
    "        print(f'O valor de p é: {p}')\n",
    "        print('Provável que não haja diferença')\n",
    "\n",
    "    return stat, p\n",
    "\n",
    "def Myheat_map(dataset, variaveis):\n",
    "\n",
    "    df_corr = dataset[variaveis].corr()\n",
    "\n",
    "    fig, ax = plt.subplots(figsize=(16, 10))\n",
    "    # mask\n",
    "    mask = np.triu(np.ones_like(df_corr, dtype=np.bool))\n",
    "    # adjust mask and df\n",
    "    mask = mask[1:, :-1]\n",
    "    corr = df_corr.iloc[1:,:-1].copy()\n",
    "    # color map\n",
    "    cmap = sns.diverging_palette(0, 230, 90, 60, as_cmap=True)\n",
    "\n",
    "    # plot heatmap\n",
    "    sns.heatmap(corr, mask=mask, annot=True, fmt=\".2f\",\n",
    "                   linewidths=5, cmap=cmap, vmin=-1, vmax=1, \n",
    "                   cbar_kws={\"shrink\": .8}, square=True)# ticks\n",
    "    yticks = [i.upper() for i in corr.index]\n",
    "    xticks = [i.upper() for i in corr.columns]\n",
    "    plt.yticks(plt.yticks()[0], labels=yticks, rotation=0)\n",
    "    plt.xticks(plt.xticks()[0], labels=xticks)\n",
    "\n",
    "    # title\n",
    "    title = 'CORRELATION MATRIX\\n'\n",
    "    plt.title(title, loc='left', fontsize=18)\n",
    "    plt.show()"
   ]
  },
  {
   "cell_type": "markdown",
   "metadata": {},
   "source": [
    "# 1.0 Collect Data"
   ]
  },
  {
   "cell_type": "code",
   "execution_count": 3,
   "metadata": {
    "execution": {
     "iopub.execute_input": "2020-10-22T18:32:47.669748Z",
     "iopub.status.busy": "2020-10-22T18:32:47.669415Z",
     "iopub.status.idle": "2020-10-22T18:32:55.960197Z",
     "shell.execute_reply": "2020-10-22T18:32:55.959664Z",
     "shell.execute_reply.started": "2020-10-22T18:32:47.669714Z"
    }
   },
   "outputs": [
    {
     "name": "stdout",
     "output_type": "stream",
     "text": [
      "Quantidade de Colunas 11\n",
      "Quantidade de Observações 6362620\n"
     ]
    }
   ],
   "source": [
    "# With pandas\n",
    "train, X, y = get_data(path='../data/trans_fraud_data.csv', target='isFraud')\n",
    "print(f'Quantidade de Colunas {train.shape[1]}')\n",
    "print(f'Quantidade de Observações {train.shape[0]}')"
   ]
  },
  {
   "cell_type": "code",
   "execution_count": 4,
   "metadata": {
    "execution": {
     "iopub.execute_input": "2020-10-21T20:01:50.543407Z",
     "iopub.status.busy": "2020-10-21T20:01:50.543248Z",
     "iopub.status.idle": "2020-10-21T20:01:50.562385Z",
     "shell.execute_reply": "2020-10-21T20:01:50.561333Z",
     "shell.execute_reply.started": "2020-10-21T20:01:50.543389Z"
    }
   },
   "outputs": [
    {
     "data": {
      "text/html": [
       "<div>\n",
       "<style scoped>\n",
       "    .dataframe tbody tr th:only-of-type {\n",
       "        vertical-align: middle;\n",
       "    }\n",
       "\n",
       "    .dataframe tbody tr th {\n",
       "        vertical-align: top;\n",
       "    }\n",
       "\n",
       "    .dataframe thead th {\n",
       "        text-align: right;\n",
       "    }\n",
       "</style>\n",
       "<table border=\"1\" class=\"dataframe\">\n",
       "  <thead>\n",
       "    <tr style=\"text-align: right;\">\n",
       "      <th></th>\n",
       "      <th>step</th>\n",
       "      <th>type</th>\n",
       "      <th>amount</th>\n",
       "      <th>nameOrig</th>\n",
       "      <th>oldbalanceOrg</th>\n",
       "      <th>newbalanceOrig</th>\n",
       "      <th>nameDest</th>\n",
       "      <th>oldbalanceDest</th>\n",
       "      <th>newbalanceDest</th>\n",
       "      <th>isFraud</th>\n",
       "      <th>isFlaggedFraud</th>\n",
       "    </tr>\n",
       "  </thead>\n",
       "  <tbody>\n",
       "    <tr>\n",
       "      <th>0</th>\n",
       "      <td>1</td>\n",
       "      <td>PAYMENT</td>\n",
       "      <td>9839.64</td>\n",
       "      <td>C1231006815</td>\n",
       "      <td>170136.0</td>\n",
       "      <td>160296.36</td>\n",
       "      <td>M1979787155</td>\n",
       "      <td>0.0</td>\n",
       "      <td>0.0</td>\n",
       "      <td>0</td>\n",
       "      <td>0</td>\n",
       "    </tr>\n",
       "    <tr>\n",
       "      <th>1</th>\n",
       "      <td>1</td>\n",
       "      <td>PAYMENT</td>\n",
       "      <td>1864.28</td>\n",
       "      <td>C1666544295</td>\n",
       "      <td>21249.0</td>\n",
       "      <td>19384.72</td>\n",
       "      <td>M2044282225</td>\n",
       "      <td>0.0</td>\n",
       "      <td>0.0</td>\n",
       "      <td>0</td>\n",
       "      <td>0</td>\n",
       "    </tr>\n",
       "    <tr>\n",
       "      <th>2</th>\n",
       "      <td>1</td>\n",
       "      <td>TRANSFER</td>\n",
       "      <td>181.00</td>\n",
       "      <td>C1305486145</td>\n",
       "      <td>181.0</td>\n",
       "      <td>0.00</td>\n",
       "      <td>C553264065</td>\n",
       "      <td>0.0</td>\n",
       "      <td>0.0</td>\n",
       "      <td>1</td>\n",
       "      <td>0</td>\n",
       "    </tr>\n",
       "    <tr>\n",
       "      <th>3</th>\n",
       "      <td>1</td>\n",
       "      <td>CASH_OUT</td>\n",
       "      <td>181.00</td>\n",
       "      <td>C840083671</td>\n",
       "      <td>181.0</td>\n",
       "      <td>0.00</td>\n",
       "      <td>C38997010</td>\n",
       "      <td>21182.0</td>\n",
       "      <td>0.0</td>\n",
       "      <td>1</td>\n",
       "      <td>0</td>\n",
       "    </tr>\n",
       "    <tr>\n",
       "      <th>4</th>\n",
       "      <td>1</td>\n",
       "      <td>PAYMENT</td>\n",
       "      <td>11668.14</td>\n",
       "      <td>C2048537720</td>\n",
       "      <td>41554.0</td>\n",
       "      <td>29885.86</td>\n",
       "      <td>M1230701703</td>\n",
       "      <td>0.0</td>\n",
       "      <td>0.0</td>\n",
       "      <td>0</td>\n",
       "      <td>0</td>\n",
       "    </tr>\n",
       "  </tbody>\n",
       "</table>\n",
       "</div>"
      ],
      "text/plain": [
       "   step      type    amount     nameOrig  oldbalanceOrg  newbalanceOrig  \\\n",
       "0     1   PAYMENT   9839.64  C1231006815       170136.0       160296.36   \n",
       "1     1   PAYMENT   1864.28  C1666544295        21249.0        19384.72   \n",
       "2     1  TRANSFER    181.00  C1305486145          181.0            0.00   \n",
       "3     1  CASH_OUT    181.00   C840083671          181.0            0.00   \n",
       "4     1   PAYMENT  11668.14  C2048537720        41554.0        29885.86   \n",
       "\n",
       "      nameDest  oldbalanceDest  newbalanceDest  isFraud  isFlaggedFraud  \n",
       "0  M1979787155             0.0             0.0        0               0  \n",
       "1  M2044282225             0.0             0.0        0               0  \n",
       "2   C553264065             0.0             0.0        1               0  \n",
       "3    C38997010         21182.0             0.0        1               0  \n",
       "4  M1230701703             0.0             0.0        0               0  "
      ]
     },
     "execution_count": 4,
     "metadata": {},
     "output_type": "execute_result"
    }
   ],
   "source": [
    "train.head()"
   ]
  },
  {
   "cell_type": "markdown",
   "metadata": {},
   "source": [
    "## 1.1 With Dask"
   ]
  },
  {
   "cell_type": "code",
   "execution_count": 5,
   "metadata": {
    "execution": {
     "iopub.execute_input": "2020-10-21T20:02:09.304989Z",
     "iopub.status.busy": "2020-10-21T20:02:09.304584Z",
     "iopub.status.idle": "2020-10-21T20:02:10.570620Z",
     "shell.execute_reply": "2020-10-21T20:02:10.569449Z",
     "shell.execute_reply.started": "2020-10-21T20:02:09.304944Z"
    }
   },
   "outputs": [
    {
     "name": "stderr",
     "output_type": "stream",
     "text": [
      "/home/brunods/anaconda3/envs/pas-env/lib/python3.8/site-packages/distributed/node.py:151: UserWarning: Port 8787 is already in use.\n",
      "Perhaps you already have a cluster running?\n",
      "Hosting the HTTP server on port 36825 instead\n",
      "  warnings.warn(\n"
     ]
    }
   ],
   "source": [
    "# Iniciando um cluster local\n",
    "from dask import delayed\n",
    "from dask.distributed import LocalCluster, Client\n",
    "\n",
    "\n",
    "cluster = LocalCluster()\n",
    "client = Client(cluster)"
   ]
  },
  {
   "cell_type": "code",
   "execution_count": null,
   "metadata": {},
   "outputs": [],
   "source": [
    "# With dask\n",
    "train_da, X_da, y_da = get_data_dask(path='../data/trans_fraud_data.csv', target='isFraud')\n",
    "print(f'Quantidade de Colunas {train.shape[1]}')\n",
    "\n",
    "obs = delayed(len)(delayed(list)(train.index))\n",
    "print(f'Quantidade de Observações {obs.compute()}')"
   ]
  },
  {
   "cell_type": "code",
   "execution_count": null,
   "metadata": {},
   "outputs": [],
   "source": [
    "train_da.head()"
   ]
  },
  {
   "cell_type": "markdown",
   "metadata": {
    "execution": {
     "iopub.execute_input": "2020-10-14T18:00:31.375595Z",
     "iopub.status.busy": "2020-10-14T18:00:31.375239Z",
     "iopub.status.idle": "2020-10-14T18:00:31.385856Z",
     "shell.execute_reply": "2020-10-14T18:00:31.384866Z",
     "shell.execute_reply.started": "2020-10-14T18:00:31.375556Z"
    }
   },
   "source": [
    "# 2.0 Data Description"
   ]
  },
  {
   "cell_type": "markdown",
   "metadata": {},
   "source": [
    "- Não possuimos missing values.\n",
    "- Bastante desbalanciado.\n",
    "- isFlaggedFraud possui somente 16 observações,as quais também estão como positivas em isFraud, podemos nos desfazer dessa variável.\n",
    "- Criar a variável type_dest e excluir nameOrig e nameDest."
   ]
  },
  {
   "cell_type": "code",
   "execution_count": 6,
   "metadata": {
    "execution": {
     "iopub.execute_input": "2020-10-21T20:02:36.082379Z",
     "iopub.status.busy": "2020-10-21T20:02:36.081946Z",
     "iopub.status.idle": "2020-10-21T20:02:59.776152Z",
     "shell.execute_reply": "2020-10-21T20:02:59.775481Z",
     "shell.execute_reply.started": "2020-10-21T20:02:36.082334Z"
    }
   },
   "outputs": [
    {
     "data": {
      "text/html": [
       "<div>\n",
       "<style scoped>\n",
       "    .dataframe tbody tr th:only-of-type {\n",
       "        vertical-align: middle;\n",
       "    }\n",
       "\n",
       "    .dataframe tbody tr th {\n",
       "        vertical-align: top;\n",
       "    }\n",
       "\n",
       "    .dataframe thead th {\n",
       "        text-align: right;\n",
       "    }\n",
       "</style>\n",
       "<table border=\"1\" class=\"dataframe\">\n",
       "  <thead>\n",
       "    <tr style=\"text-align: right;\">\n",
       "      <th></th>\n",
       "      <th>missingPerc</th>\n",
       "      <th>uniques</th>\n",
       "      <th>%uniquePerc</th>\n",
       "      <th>data_types</th>\n",
       "      <th>skew</th>\n",
       "      <th>kurtosis</th>\n",
       "    </tr>\n",
       "  </thead>\n",
       "  <tbody>\n",
       "    <tr>\n",
       "      <th>amount</th>\n",
       "      <td>0.0</td>\n",
       "      <td>5316900</td>\n",
       "      <td>83.564632</td>\n",
       "      <td>float64</td>\n",
       "      <td>30.993949</td>\n",
       "      <td>1797.956705</td>\n",
       "    </tr>\n",
       "    <tr>\n",
       "      <th>isFlaggedFraud</th>\n",
       "      <td>0.0</td>\n",
       "      <td>2</td>\n",
       "      <td>0.000031</td>\n",
       "      <td>int64</td>\n",
       "      <td>630.603629</td>\n",
       "      <td>397659.062500</td>\n",
       "    </tr>\n",
       "    <tr>\n",
       "      <th>isFraud</th>\n",
       "      <td>0.0</td>\n",
       "      <td>2</td>\n",
       "      <td>0.000031</td>\n",
       "      <td>int64</td>\n",
       "      <td>27.779538</td>\n",
       "      <td>769.702982</td>\n",
       "    </tr>\n",
       "    <tr>\n",
       "      <th>nameDest</th>\n",
       "      <td>0.0</td>\n",
       "      <td>2722362</td>\n",
       "      <td>42.786808</td>\n",
       "      <td>object</td>\n",
       "      <td>NaN</td>\n",
       "      <td>NaN</td>\n",
       "    </tr>\n",
       "    <tr>\n",
       "      <th>nameOrig</th>\n",
       "      <td>0.0</td>\n",
       "      <td>6353307</td>\n",
       "      <td>99.853629</td>\n",
       "      <td>object</td>\n",
       "      <td>NaN</td>\n",
       "      <td>NaN</td>\n",
       "    </tr>\n",
       "    <tr>\n",
       "      <th>newbalanceDest</th>\n",
       "      <td>0.0</td>\n",
       "      <td>3555499</td>\n",
       "      <td>55.881052</td>\n",
       "      <td>float64</td>\n",
       "      <td>19.352302</td>\n",
       "      <td>862.156508</td>\n",
       "    </tr>\n",
       "    <tr>\n",
       "      <th>newbalanceOrig</th>\n",
       "      <td>0.0</td>\n",
       "      <td>2682586</td>\n",
       "      <td>42.161657</td>\n",
       "      <td>float64</td>\n",
       "      <td>5.176884</td>\n",
       "      <td>32.066985</td>\n",
       "    </tr>\n",
       "    <tr>\n",
       "      <th>oldbalanceDest</th>\n",
       "      <td>0.0</td>\n",
       "      <td>3614697</td>\n",
       "      <td>56.811455</td>\n",
       "      <td>float64</td>\n",
       "      <td>19.921758</td>\n",
       "      <td>948.674125</td>\n",
       "    </tr>\n",
       "    <tr>\n",
       "      <th>oldbalanceOrg</th>\n",
       "      <td>0.0</td>\n",
       "      <td>1845844</td>\n",
       "      <td>29.010753</td>\n",
       "      <td>float64</td>\n",
       "      <td>5.249136</td>\n",
       "      <td>32.964879</td>\n",
       "    </tr>\n",
       "    <tr>\n",
       "      <th>step</th>\n",
       "      <td>0.0</td>\n",
       "      <td>743</td>\n",
       "      <td>0.011678</td>\n",
       "      <td>int64</td>\n",
       "      <td>0.375177</td>\n",
       "      <td>0.329071</td>\n",
       "    </tr>\n",
       "    <tr>\n",
       "      <th>type</th>\n",
       "      <td>0.0</td>\n",
       "      <td>5</td>\n",
       "      <td>0.000079</td>\n",
       "      <td>object</td>\n",
       "      <td>NaN</td>\n",
       "      <td>NaN</td>\n",
       "    </tr>\n",
       "  </tbody>\n",
       "</table>\n",
       "</div>"
      ],
      "text/plain": [
       "                missingPerc  uniques  %uniquePerc data_types        skew  \\\n",
       "amount                  0.0  5316900    83.564632    float64   30.993949   \n",
       "isFlaggedFraud          0.0        2     0.000031      int64  630.603629   \n",
       "isFraud                 0.0        2     0.000031      int64   27.779538   \n",
       "nameDest                0.0  2722362    42.786808     object         NaN   \n",
       "nameOrig                0.0  6353307    99.853629     object         NaN   \n",
       "newbalanceDest          0.0  3555499    55.881052    float64   19.352302   \n",
       "newbalanceOrig          0.0  2682586    42.161657    float64    5.176884   \n",
       "oldbalanceDest          0.0  3614697    56.811455    float64   19.921758   \n",
       "oldbalanceOrg           0.0  1845844    29.010753    float64    5.249136   \n",
       "step                    0.0      743     0.011678      int64    0.375177   \n",
       "type                    0.0        5     0.000079     object         NaN   \n",
       "\n",
       "                     kurtosis  \n",
       "amount            1797.956705  \n",
       "isFlaggedFraud  397659.062500  \n",
       "isFraud            769.702982  \n",
       "nameDest                  NaN  \n",
       "nameOrig                  NaN  \n",
       "newbalanceDest     862.156508  \n",
       "newbalanceOrig      32.066985  \n",
       "oldbalanceDest     948.674125  \n",
       "oldbalanceOrg       32.964879  \n",
       "step                 0.329071  \n",
       "type                      NaN  "
      ]
     },
     "execution_count": 6,
     "metadata": {},
     "output_type": "execute_result"
    }
   ],
   "source": [
    "def Mydescriber():\n",
    "    df = pd.DataFrame({'missingPerc': train.isna().mean(),\n",
    "              'uniques': train.nunique(),\n",
    "              '%uniquePerc': (train.nunique()/train.shape[0])*100,\n",
    "              'data_types': train.dtypes,\n",
    "              'skew': train.skew(),\n",
    "              'kurtosis': train.kurt()\n",
    "              })\n",
    "    return df\n",
    "\n",
    "describer = delayed(Mydescriber())\n",
    "describer.compute()"
   ]
  },
  {
   "cell_type": "markdown",
   "metadata": {},
   "source": [
    "## 2.1 isFraud vs isFlaggedFraud"
   ]
  },
  {
   "cell_type": "code",
   "execution_count": 7,
   "metadata": {
    "execution": {
     "iopub.execute_input": "2020-10-21T20:03:33.303307Z",
     "iopub.status.busy": "2020-10-21T20:03:33.302454Z",
     "iopub.status.idle": "2020-10-21T20:03:34.261184Z",
     "shell.execute_reply": "2020-10-21T20:03:34.260411Z",
     "shell.execute_reply.started": "2020-10-21T20:03:33.303249Z"
    }
   },
   "outputs": [
    {
     "name": "stdout",
     "output_type": "stream",
     "text": [
      "Quantidade de eventos positivos - isFraud- 8213\n",
      "Percentual de eventos positivos - isFraud- 0.12908204481801522\n",
      "\n",
      "Quantidade de eventos positivos - isFlaggedFraud- 16\n",
      "Percentual de eventos positivos - isFlaggedFraud- 0.12908204481801522\n",
      "\n"
     ]
    },
    {
     "data": {
      "image/png": "[encoded data removed]",
      "text/plain": [
       "<Figure size 720x432 with 2 Axes>"
      ]
     },
     "metadata": {
      "needs_background": "light"
     },
     "output_type": "display_data"
    }
   ],
   "source": [
    "quant = train['isFraud'].sum()\n",
    "perc = (quant/train.shape[0])*100\n",
    "print(f'Quantidade de eventos positivos - isFraud- {quant}')\n",
    "print(f'Percentual de eventos positivos - isFraud- {perc}\\n')\n",
    "\n",
    "quant1 = train['isFlaggedFraud'].sum()\n",
    "perc1 = (quant/train.shape[0])*100\n",
    "print(f'Quantidade de eventos positivos - isFlaggedFraud- {quant1}')\n",
    "print(f'Percentual de eventos positivos - isFlaggedFraud- {perc1}\\n')\n",
    "\n",
    "\n",
    "# Plots\n",
    "plt.subplot(1,2, 1)\n",
    "balanced_target('isFraud', dataset=train)\n",
    "\n",
    "plt.subplot(1,2, 2)\n",
    "balanced_target('isFlaggedFraud', dataset=train)"
   ]
  },
  {
   "cell_type": "markdown",
   "metadata": {
    "execution": {
     "iopub.execute_input": "2020-10-15T21:24:45.571667Z",
     "iopub.status.busy": "2020-10-15T21:24:45.571268Z",
     "iopub.status.idle": "2020-10-15T21:24:45.575930Z",
     "shell.execute_reply": "2020-10-15T21:24:45.574691Z",
     "shell.execute_reply.started": "2020-10-15T21:24:45.571623Z"
    }
   },
   "source": [
    "## 2.2 isFlaggedFraud"
   ]
  },
  {
   "cell_type": "code",
   "execution_count": 8,
   "metadata": {
    "execution": {
     "iopub.execute_input": "2020-10-21T20:03:34.262393Z",
     "iopub.status.busy": "2020-10-21T20:03:34.262232Z",
     "iopub.status.idle": "2020-10-21T20:03:34.295529Z",
     "shell.execute_reply": "2020-10-21T20:03:34.294824Z",
     "shell.execute_reply.started": "2020-10-21T20:03:34.262373Z"
    }
   },
   "outputs": [
    {
     "data": {
      "text/html": [
       "<div>\n",
       "<style scoped>\n",
       "    .dataframe tbody tr th:only-of-type {\n",
       "        vertical-align: middle;\n",
       "    }\n",
       "\n",
       "    .dataframe tbody tr th {\n",
       "        vertical-align: top;\n",
       "    }\n",
       "\n",
       "    .dataframe thead th {\n",
       "        text-align: right;\n",
       "    }\n",
       "</style>\n",
       "<table border=\"1\" class=\"dataframe\">\n",
       "  <thead>\n",
       "    <tr style=\"text-align: right;\">\n",
       "      <th></th>\n",
       "      <th>step</th>\n",
       "      <th>type</th>\n",
       "      <th>amount</th>\n",
       "      <th>nameOrig</th>\n",
       "      <th>oldbalanceOrg</th>\n",
       "      <th>newbalanceOrig</th>\n",
       "      <th>nameDest</th>\n",
       "      <th>oldbalanceDest</th>\n",
       "      <th>newbalanceDest</th>\n",
       "      <th>isFraud</th>\n",
       "      <th>isFlaggedFraud</th>\n",
       "    </tr>\n",
       "  </thead>\n",
       "  <tbody>\n",
       "    <tr>\n",
       "      <th>2736446</th>\n",
       "      <td>212</td>\n",
       "      <td>TRANSFER</td>\n",
       "      <td>4953893.08</td>\n",
       "      <td>C728984460</td>\n",
       "      <td>4953893.08</td>\n",
       "      <td>4953893.08</td>\n",
       "      <td>C639921569</td>\n",
       "      <td>0.0</td>\n",
       "      <td>0.0</td>\n",
       "      <td>1</td>\n",
       "      <td>1</td>\n",
       "    </tr>\n",
       "    <tr>\n",
       "      <th>3247297</th>\n",
       "      <td>250</td>\n",
       "      <td>TRANSFER</td>\n",
       "      <td>1343002.08</td>\n",
       "      <td>C1100582606</td>\n",
       "      <td>1343002.08</td>\n",
       "      <td>1343002.08</td>\n",
       "      <td>C1147517658</td>\n",
       "      <td>0.0</td>\n",
       "      <td>0.0</td>\n",
       "      <td>1</td>\n",
       "      <td>1</td>\n",
       "    </tr>\n",
       "    <tr>\n",
       "      <th>3760288</th>\n",
       "      <td>279</td>\n",
       "      <td>TRANSFER</td>\n",
       "      <td>536624.41</td>\n",
       "      <td>C1035541766</td>\n",
       "      <td>536624.41</td>\n",
       "      <td>536624.41</td>\n",
       "      <td>C1100697970</td>\n",
       "      <td>0.0</td>\n",
       "      <td>0.0</td>\n",
       "      <td>1</td>\n",
       "      <td>1</td>\n",
       "    </tr>\n",
       "    <tr>\n",
       "      <th>5563713</th>\n",
       "      <td>387</td>\n",
       "      <td>TRANSFER</td>\n",
       "      <td>4892193.09</td>\n",
       "      <td>C908544136</td>\n",
       "      <td>4892193.09</td>\n",
       "      <td>4892193.09</td>\n",
       "      <td>C891140444</td>\n",
       "      <td>0.0</td>\n",
       "      <td>0.0</td>\n",
       "      <td>1</td>\n",
       "      <td>1</td>\n",
       "    </tr>\n",
       "    <tr>\n",
       "      <th>5996407</th>\n",
       "      <td>425</td>\n",
       "      <td>TRANSFER</td>\n",
       "      <td>10000000.00</td>\n",
       "      <td>C689608084</td>\n",
       "      <td>19585040.37</td>\n",
       "      <td>19585040.37</td>\n",
       "      <td>C1392803603</td>\n",
       "      <td>0.0</td>\n",
       "      <td>0.0</td>\n",
       "      <td>1</td>\n",
       "      <td>1</td>\n",
       "    </tr>\n",
       "    <tr>\n",
       "      <th>5996409</th>\n",
       "      <td>425</td>\n",
       "      <td>TRANSFER</td>\n",
       "      <td>9585040.37</td>\n",
       "      <td>C452586515</td>\n",
       "      <td>19585040.37</td>\n",
       "      <td>19585040.37</td>\n",
       "      <td>C1109166882</td>\n",
       "      <td>0.0</td>\n",
       "      <td>0.0</td>\n",
       "      <td>1</td>\n",
       "      <td>1</td>\n",
       "    </tr>\n",
       "    <tr>\n",
       "      <th>6168499</th>\n",
       "      <td>554</td>\n",
       "      <td>TRANSFER</td>\n",
       "      <td>3576297.10</td>\n",
       "      <td>C193696150</td>\n",
       "      <td>3576297.10</td>\n",
       "      <td>3576297.10</td>\n",
       "      <td>C484597480</td>\n",
       "      <td>0.0</td>\n",
       "      <td>0.0</td>\n",
       "      <td>1</td>\n",
       "      <td>1</td>\n",
       "    </tr>\n",
       "    <tr>\n",
       "      <th>6205439</th>\n",
       "      <td>586</td>\n",
       "      <td>TRANSFER</td>\n",
       "      <td>353874.22</td>\n",
       "      <td>C1684585475</td>\n",
       "      <td>353874.22</td>\n",
       "      <td>353874.22</td>\n",
       "      <td>C1770418982</td>\n",
       "      <td>0.0</td>\n",
       "      <td>0.0</td>\n",
       "      <td>1</td>\n",
       "      <td>1</td>\n",
       "    </tr>\n",
       "    <tr>\n",
       "      <th>6266413</th>\n",
       "      <td>617</td>\n",
       "      <td>TRANSFER</td>\n",
       "      <td>2542664.27</td>\n",
       "      <td>C786455622</td>\n",
       "      <td>2542664.27</td>\n",
       "      <td>2542664.27</td>\n",
       "      <td>C661958277</td>\n",
       "      <td>0.0</td>\n",
       "      <td>0.0</td>\n",
       "      <td>1</td>\n",
       "      <td>1</td>\n",
       "    </tr>\n",
       "    <tr>\n",
       "      <th>6281482</th>\n",
       "      <td>646</td>\n",
       "      <td>TRANSFER</td>\n",
       "      <td>10000000.00</td>\n",
       "      <td>C19004745</td>\n",
       "      <td>10399045.08</td>\n",
       "      <td>10399045.08</td>\n",
       "      <td>C1806199534</td>\n",
       "      <td>0.0</td>\n",
       "      <td>0.0</td>\n",
       "      <td>1</td>\n",
       "      <td>1</td>\n",
       "    </tr>\n",
       "    <tr>\n",
       "      <th>6281484</th>\n",
       "      <td>646</td>\n",
       "      <td>TRANSFER</td>\n",
       "      <td>399045.08</td>\n",
       "      <td>C724693370</td>\n",
       "      <td>10399045.08</td>\n",
       "      <td>10399045.08</td>\n",
       "      <td>C1909486199</td>\n",
       "      <td>0.0</td>\n",
       "      <td>0.0</td>\n",
       "      <td>1</td>\n",
       "      <td>1</td>\n",
       "    </tr>\n",
       "    <tr>\n",
       "      <th>6296014</th>\n",
       "      <td>671</td>\n",
       "      <td>TRANSFER</td>\n",
       "      <td>3441041.46</td>\n",
       "      <td>C917414431</td>\n",
       "      <td>3441041.46</td>\n",
       "      <td>3441041.46</td>\n",
       "      <td>C1082139865</td>\n",
       "      <td>0.0</td>\n",
       "      <td>0.0</td>\n",
       "      <td>1</td>\n",
       "      <td>1</td>\n",
       "    </tr>\n",
       "    <tr>\n",
       "      <th>6351225</th>\n",
       "      <td>702</td>\n",
       "      <td>TRANSFER</td>\n",
       "      <td>3171085.59</td>\n",
       "      <td>C1892216157</td>\n",
       "      <td>3171085.59</td>\n",
       "      <td>3171085.59</td>\n",
       "      <td>C1308068787</td>\n",
       "      <td>0.0</td>\n",
       "      <td>0.0</td>\n",
       "      <td>1</td>\n",
       "      <td>1</td>\n",
       "    </tr>\n",
       "    <tr>\n",
       "      <th>6362460</th>\n",
       "      <td>730</td>\n",
       "      <td>TRANSFER</td>\n",
       "      <td>10000000.00</td>\n",
       "      <td>C2140038573</td>\n",
       "      <td>17316255.05</td>\n",
       "      <td>17316255.05</td>\n",
       "      <td>C1395467927</td>\n",
       "      <td>0.0</td>\n",
       "      <td>0.0</td>\n",
       "      <td>1</td>\n",
       "      <td>1</td>\n",
       "    </tr>\n",
       "    <tr>\n",
       "      <th>6362462</th>\n",
       "      <td>730</td>\n",
       "      <td>TRANSFER</td>\n",
       "      <td>7316255.05</td>\n",
       "      <td>C1869569059</td>\n",
       "      <td>17316255.05</td>\n",
       "      <td>17316255.05</td>\n",
       "      <td>C1861208726</td>\n",
       "      <td>0.0</td>\n",
       "      <td>0.0</td>\n",
       "      <td>1</td>\n",
       "      <td>1</td>\n",
       "    </tr>\n",
       "    <tr>\n",
       "      <th>6362584</th>\n",
       "      <td>741</td>\n",
       "      <td>TRANSFER</td>\n",
       "      <td>5674547.89</td>\n",
       "      <td>C992223106</td>\n",
       "      <td>5674547.89</td>\n",
       "      <td>5674547.89</td>\n",
       "      <td>C1366804249</td>\n",
       "      <td>0.0</td>\n",
       "      <td>0.0</td>\n",
       "      <td>1</td>\n",
       "      <td>1</td>\n",
       "    </tr>\n",
       "  </tbody>\n",
       "</table>\n",
       "</div>"
      ],
      "text/plain": [
       "         step      type       amount     nameOrig  oldbalanceOrg  \\\n",
       "2736446   212  TRANSFER   4953893.08   C728984460     4953893.08   \n",
       "3247297   250  TRANSFER   1343002.08  C1100582606     1343002.08   \n",
       "3760288   279  TRANSFER    536624.41  C1035541766      536624.41   \n",
       "5563713   387  TRANSFER   4892193.09   C908544136     4892193.09   \n",
       "5996407   425  TRANSFER  10000000.00   C689608084    19585040.37   \n",
       "5996409   425  TRANSFER   9585040.37   C452586515    19585040.37   \n",
       "6168499   554  TRANSFER   3576297.10   C193696150     3576297.10   \n",
       "6205439   586  TRANSFER    353874.22  C1684585475      353874.22   \n",
       "6266413   617  TRANSFER   2542664.27   C786455622     2542664.27   \n",
       "6281482   646  TRANSFER  10000000.00    C19004745    10399045.08   \n",
       "6281484   646  TRANSFER    399045.08   C724693370    10399045.08   \n",
       "6296014   671  TRANSFER   3441041.46   C917414431     3441041.46   \n",
       "6351225   702  TRANSFER   3171085.59  C1892216157     3171085.59   \n",
       "6362460   730  TRANSFER  10000000.00  C2140038573    17316255.05   \n",
       "6362462   730  TRANSFER   7316255.05  C1869569059    17316255.05   \n",
       "6362584   741  TRANSFER   5674547.89   C992223106     5674547.89   \n",
       "\n",
       "         newbalanceOrig     nameDest  oldbalanceDest  newbalanceDest  isFraud  \\\n",
       "2736446      4953893.08   C639921569             0.0             0.0        1   \n",
       "3247297      1343002.08  C1147517658             0.0             0.0        1   \n",
       "3760288       536624.41  C1100697970             0.0             0.0        1   \n",
       "5563713      4892193.09   C891140444             0.0             0.0        1   \n",
       "5996407     19585040.37  C1392803603             0.0             0.0        1   \n",
       "5996409     19585040.37  C1109166882             0.0             0.0        1   \n",
       "6168499      3576297.10   C484597480             0.0             0.0        1   \n",
       "6205439       353874.22  C1770418982             0.0             0.0        1   \n",
       "6266413      2542664.27   C661958277             0.0             0.0        1   \n",
       "6281482     10399045.08  C1806199534             0.0             0.0        1   \n",
       "6281484     10399045.08  C1909486199             0.0             0.0        1   \n",
       "6296014      3441041.46  C1082139865             0.0             0.0        1   \n",
       "6351225      3171085.59  C1308068787             0.0             0.0        1   \n",
       "6362460     17316255.05  C1395467927             0.0             0.0        1   \n",
       "6362462     17316255.05  C1861208726             0.0             0.0        1   \n",
       "6362584      5674547.89  C1366804249             0.0             0.0        1   \n",
       "\n",
       "         isFlaggedFraud  \n",
       "2736446               1  \n",
       "3247297               1  \n",
       "3760288               1  \n",
       "5563713               1  \n",
       "5996407               1  \n",
       "5996409               1  \n",
       "6168499               1  \n",
       "6205439               1  \n",
       "6266413               1  \n",
       "6281482               1  \n",
       "6281484               1  \n",
       "6296014               1  \n",
       "6351225               1  \n",
       "6362460               1  \n",
       "6362462               1  \n",
       "6362584               1  "
      ]
     },
     "execution_count": 8,
     "metadata": {},
     "output_type": "execute_result"
    }
   ],
   "source": [
    "dadosTemp = train.loc[train['isFlaggedFraud']==1,]\n",
    "dadosTemp"
   ]
  },
  {
   "cell_type": "markdown",
   "metadata": {},
   "source": [
    "A 'isFlaggedFraud' é positiva em 16 observações sendo que as mesmas também são positivas na variável 'isFraud' iremos excluir essa variável."
   ]
  },
  {
   "cell_type": "markdown",
   "metadata": {},
   "source": [
    "# 2.3 Amount"
   ]
  },
  {
   "cell_type": "code",
   "execution_count": 9,
   "metadata": {
    "execution": {
     "iopub.execute_input": "2020-10-21T20:03:35.419694Z",
     "iopub.status.busy": "2020-10-21T20:03:35.419060Z",
     "iopub.status.idle": "2020-10-21T20:03:35.444808Z",
     "shell.execute_reply": "2020-10-21T20:03:35.443686Z",
     "shell.execute_reply.started": "2020-10-21T20:03:35.419644Z"
    }
   },
   "outputs": [
    {
     "data": {
      "text/plain": [
       "count    8.213000e+03\n",
       "mean     1.467967e+06\n",
       "std      2.404253e+06\n",
       "min      0.000000e+00\n",
       "25%      1.270913e+05\n",
       "50%      4.414234e+05\n",
       "75%      1.517771e+06\n",
       "max      1.000000e+07\n",
       "Name: amount, dtype: float64"
      ]
     },
     "execution_count": 9,
     "metadata": {},
     "output_type": "execute_result"
    }
   ],
   "source": [
    "train.loc[train['isFraud'] == 1,'amount'].describe().T"
   ]
  },
  {
   "cell_type": "markdown",
   "metadata": {},
   "source": [
    "## 2.3 Outras variáveis "
   ]
  },
  {
   "cell_type": "code",
   "execution_count": 10,
   "metadata": {
    "execution": {
     "iopub.execute_input": "2020-10-21T20:03:36.326614Z",
     "iopub.status.busy": "2020-10-21T20:03:36.326143Z",
     "iopub.status.idle": "2020-10-21T20:03:37.799746Z",
     "shell.execute_reply": "2020-10-21T20:03:37.799146Z",
     "shell.execute_reply.started": "2020-10-21T20:03:36.326565Z"
    }
   },
   "outputs": [
    {
     "data": {
      "text/html": [
       "<div>\n",
       "<style scoped>\n",
       "    .dataframe tbody tr th:only-of-type {\n",
       "        vertical-align: middle;\n",
       "    }\n",
       "\n",
       "    .dataframe tbody tr th {\n",
       "        vertical-align: top;\n",
       "    }\n",
       "\n",
       "    .dataframe thead th {\n",
       "        text-align: right;\n",
       "    }\n",
       "</style>\n",
       "<table border=\"1\" class=\"dataframe\">\n",
       "  <thead>\n",
       "    <tr style=\"text-align: right;\">\n",
       "      <th></th>\n",
       "      <th>count</th>\n",
       "      <th>mean</th>\n",
       "      <th>std</th>\n",
       "      <th>min</th>\n",
       "      <th>25%</th>\n",
       "      <th>50%</th>\n",
       "      <th>75%</th>\n",
       "      <th>max</th>\n",
       "    </tr>\n",
       "  </thead>\n",
       "  <tbody>\n",
       "    <tr>\n",
       "      <th>step</th>\n",
       "      <td>6362620.0</td>\n",
       "      <td>2.433972e+02</td>\n",
       "      <td>1.423320e+02</td>\n",
       "      <td>1.0</td>\n",
       "      <td>156.0</td>\n",
       "      <td>239.000</td>\n",
       "      <td>3.350000e+02</td>\n",
       "      <td>7.430000e+02</td>\n",
       "    </tr>\n",
       "    <tr>\n",
       "      <th>oldbalanceOrg</th>\n",
       "      <td>6362620.0</td>\n",
       "      <td>8.338831e+05</td>\n",
       "      <td>2.888243e+06</td>\n",
       "      <td>0.0</td>\n",
       "      <td>0.0</td>\n",
       "      <td>14208.000</td>\n",
       "      <td>1.073152e+05</td>\n",
       "      <td>5.958504e+07</td>\n",
       "    </tr>\n",
       "    <tr>\n",
       "      <th>newbalanceOrig</th>\n",
       "      <td>6362620.0</td>\n",
       "      <td>8.551137e+05</td>\n",
       "      <td>2.924049e+06</td>\n",
       "      <td>0.0</td>\n",
       "      <td>0.0</td>\n",
       "      <td>0.000</td>\n",
       "      <td>1.442584e+05</td>\n",
       "      <td>4.958504e+07</td>\n",
       "    </tr>\n",
       "    <tr>\n",
       "      <th>oldbalanceDest</th>\n",
       "      <td>6362620.0</td>\n",
       "      <td>1.100702e+06</td>\n",
       "      <td>3.399180e+06</td>\n",
       "      <td>0.0</td>\n",
       "      <td>0.0</td>\n",
       "      <td>132705.665</td>\n",
       "      <td>9.430367e+05</td>\n",
       "      <td>3.560159e+08</td>\n",
       "    </tr>\n",
       "    <tr>\n",
       "      <th>newbalanceDest</th>\n",
       "      <td>6362620.0</td>\n",
       "      <td>1.224996e+06</td>\n",
       "      <td>3.674129e+06</td>\n",
       "      <td>0.0</td>\n",
       "      <td>0.0</td>\n",
       "      <td>214661.440</td>\n",
       "      <td>1.111909e+06</td>\n",
       "      <td>3.561793e+08</td>\n",
       "    </tr>\n",
       "  </tbody>\n",
       "</table>\n",
       "</div>"
      ],
      "text/plain": [
       "                    count          mean           std  min    25%         50%  \\\n",
       "step            6362620.0  2.433972e+02  1.423320e+02  1.0  156.0     239.000   \n",
       "oldbalanceOrg   6362620.0  8.338831e+05  2.888243e+06  0.0    0.0   14208.000   \n",
       "newbalanceOrig  6362620.0  8.551137e+05  2.924049e+06  0.0    0.0       0.000   \n",
       "oldbalanceDest  6362620.0  1.100702e+06  3.399180e+06  0.0    0.0  132705.665   \n",
       "newbalanceDest  6362620.0  1.224996e+06  3.674129e+06  0.0    0.0  214661.440   \n",
       "\n",
       "                         75%           max  \n",
       "step            3.350000e+02  7.430000e+02  \n",
       "oldbalanceOrg   1.073152e+05  5.958504e+07  \n",
       "newbalanceOrig  1.442584e+05  4.958504e+07  \n",
       "oldbalanceDest  9.430367e+05  3.560159e+08  \n",
       "newbalanceDest  1.111909e+06  3.561793e+08  "
      ]
     },
     "execution_count": 10,
     "metadata": {},
     "output_type": "execute_result"
    }
   ],
   "source": [
    "# Describe\n",
    "variables = ['step', 'oldbalanceOrg', 'newbalanceOrig', 'oldbalanceDest', 'newbalanceDest']\n",
    "train[variables].describe().T"
   ]
  },
  {
   "cell_type": "code",
   "execution_count": 11,
   "metadata": {
    "execution": {
     "iopub.execute_input": "2020-10-21T20:03:38.151923Z",
     "iopub.status.busy": "2020-10-21T20:03:38.151328Z",
     "iopub.status.idle": "2020-10-21T20:03:38.507128Z",
     "shell.execute_reply": "2020-10-21T20:03:38.506599Z",
     "shell.execute_reply.started": "2020-10-21T20:03:38.151867Z"
    }
   },
   "outputs": [
    {
     "name": "stdout",
     "output_type": "stream",
     "text": [
      "O percentual de casos onde o amount é diferente de 0 com oldbalanceDest e newbalanceDest iguais 36.0%\n"
     ]
    }
   ],
   "source": [
    "# Percentual de operações amount != de zero oldBalanceDest e newBalanceDest são iguais a 0\n",
    "quant_dest = train.loc[(train['amount'] != 0) & (train['oldbalanceDest'] == 0) & (train['newbalanceDest'] == 0), ]\n",
    "\n",
    "perc_quant_dest = round(quant_dest.shape[0]/train.shape[0], 2)*100\n",
    "print(f'O percentual de casos onde o amount é diferente de 0 com oldbalanceDest e newbalanceDest iguais {perc_quant_dest}%')"
   ]
  },
  {
   "cell_type": "code",
   "execution_count": 12,
   "metadata": {
    "execution": {
     "iopub.execute_input": "2020-10-21T20:03:39.057469Z",
     "iopub.status.busy": "2020-10-21T20:03:39.057004Z",
     "iopub.status.idle": "2020-10-21T20:03:39.075989Z",
     "shell.execute_reply": "2020-10-21T20:03:39.075207Z",
     "shell.execute_reply.started": "2020-10-21T20:03:39.057427Z"
    }
   },
   "outputs": [
    {
     "data": {
      "text/html": [
       "<div>\n",
       "<style scoped>\n",
       "    .dataframe tbody tr th:only-of-type {\n",
       "        vertical-align: middle;\n",
       "    }\n",
       "\n",
       "    .dataframe tbody tr th {\n",
       "        vertical-align: top;\n",
       "    }\n",
       "\n",
       "    .dataframe thead th {\n",
       "        text-align: right;\n",
       "    }\n",
       "</style>\n",
       "<table border=\"1\" class=\"dataframe\">\n",
       "  <thead>\n",
       "    <tr style=\"text-align: right;\">\n",
       "      <th></th>\n",
       "      <th>step</th>\n",
       "      <th>type</th>\n",
       "      <th>amount</th>\n",
       "      <th>nameOrig</th>\n",
       "      <th>oldbalanceOrg</th>\n",
       "      <th>newbalanceOrig</th>\n",
       "      <th>nameDest</th>\n",
       "      <th>oldbalanceDest</th>\n",
       "      <th>newbalanceDest</th>\n",
       "      <th>isFraud</th>\n",
       "      <th>isFlaggedFraud</th>\n",
       "    </tr>\n",
       "  </thead>\n",
       "  <tbody>\n",
       "    <tr>\n",
       "      <th>0</th>\n",
       "      <td>1</td>\n",
       "      <td>PAYMENT</td>\n",
       "      <td>9839.64</td>\n",
       "      <td>C1231006815</td>\n",
       "      <td>170136.0</td>\n",
       "      <td>160296.36</td>\n",
       "      <td>M1979787155</td>\n",
       "      <td>0.0</td>\n",
       "      <td>0.0</td>\n",
       "      <td>0</td>\n",
       "      <td>0</td>\n",
       "    </tr>\n",
       "    <tr>\n",
       "      <th>1</th>\n",
       "      <td>1</td>\n",
       "      <td>PAYMENT</td>\n",
       "      <td>1864.28</td>\n",
       "      <td>C1666544295</td>\n",
       "      <td>21249.0</td>\n",
       "      <td>19384.72</td>\n",
       "      <td>M2044282225</td>\n",
       "      <td>0.0</td>\n",
       "      <td>0.0</td>\n",
       "      <td>0</td>\n",
       "      <td>0</td>\n",
       "    </tr>\n",
       "    <tr>\n",
       "      <th>2</th>\n",
       "      <td>1</td>\n",
       "      <td>TRANSFER</td>\n",
       "      <td>181.00</td>\n",
       "      <td>C1305486145</td>\n",
       "      <td>181.0</td>\n",
       "      <td>0.00</td>\n",
       "      <td>C553264065</td>\n",
       "      <td>0.0</td>\n",
       "      <td>0.0</td>\n",
       "      <td>1</td>\n",
       "      <td>0</td>\n",
       "    </tr>\n",
       "    <tr>\n",
       "      <th>4</th>\n",
       "      <td>1</td>\n",
       "      <td>PAYMENT</td>\n",
       "      <td>11668.14</td>\n",
       "      <td>C2048537720</td>\n",
       "      <td>41554.0</td>\n",
       "      <td>29885.86</td>\n",
       "      <td>M1230701703</td>\n",
       "      <td>0.0</td>\n",
       "      <td>0.0</td>\n",
       "      <td>0</td>\n",
       "      <td>0</td>\n",
       "    </tr>\n",
       "    <tr>\n",
       "      <th>5</th>\n",
       "      <td>1</td>\n",
       "      <td>PAYMENT</td>\n",
       "      <td>7817.71</td>\n",
       "      <td>C90045638</td>\n",
       "      <td>53860.0</td>\n",
       "      <td>46042.29</td>\n",
       "      <td>M573487274</td>\n",
       "      <td>0.0</td>\n",
       "      <td>0.0</td>\n",
       "      <td>0</td>\n",
       "      <td>0</td>\n",
       "    </tr>\n",
       "  </tbody>\n",
       "</table>\n",
       "</div>"
      ],
      "text/plain": [
       "   step      type    amount     nameOrig  oldbalanceOrg  newbalanceOrig  \\\n",
       "0     1   PAYMENT   9839.64  C1231006815       170136.0       160296.36   \n",
       "1     1   PAYMENT   1864.28  C1666544295        21249.0        19384.72   \n",
       "2     1  TRANSFER    181.00  C1305486145          181.0            0.00   \n",
       "4     1   PAYMENT  11668.14  C2048537720        41554.0        29885.86   \n",
       "5     1   PAYMENT   7817.71    C90045638        53860.0        46042.29   \n",
       "\n",
       "      nameDest  oldbalanceDest  newbalanceDest  isFraud  isFlaggedFraud  \n",
       "0  M1979787155             0.0             0.0        0               0  \n",
       "1  M2044282225             0.0             0.0        0               0  \n",
       "2   C553264065             0.0             0.0        1               0  \n",
       "4  M1230701703             0.0             0.0        0               0  \n",
       "5   M573487274             0.0             0.0        0               0  "
      ]
     },
     "execution_count": 12,
     "metadata": {},
     "output_type": "execute_result"
    }
   ],
   "source": [
    "quant_dest.head()"
   ]
  },
  {
   "cell_type": "code",
   "execution_count": 13,
   "metadata": {
    "execution": {
     "iopub.execute_input": "2020-10-21T20:03:39.354317Z",
     "iopub.status.busy": "2020-10-21T20:03:39.353842Z",
     "iopub.status.idle": "2020-10-21T20:03:39.714048Z",
     "shell.execute_reply": "2020-10-21T20:03:39.712838Z",
     "shell.execute_reply.started": "2020-10-21T20:03:39.354275Z"
    }
   },
   "outputs": [
    {
     "name": "stdout",
     "output_type": "stream",
     "text": [
      "O percentual de casos onde o amount é diferente de 0 com oldbalanceDest e newbalanceDest iguais 33.0%\n"
     ]
    }
   ],
   "source": [
    "# Percentual de operações amount != de zero oldBalanceOrig e newBalanceOrig são iguais a 0\n",
    "\n",
    "quant_orig = train.loc[(train['amount'] != 0) & (train['oldbalanceOrg'] == 0) & (train['newbalanceOrig'] == 0), ]\n",
    "\n",
    "perc_quant_orig = round(quant_orig.shape[0]/train.shape[0], 2)*100\n",
    "print(f'O percentual de casos onde o amount é diferente de 0 com oldbalanceDest e newbalanceDest iguais {perc_quant_orig}%')"
   ]
  },
  {
   "cell_type": "code",
   "execution_count": 14,
   "metadata": {
    "execution": {
     "iopub.execute_input": "2020-10-21T20:03:43.353937Z",
     "iopub.status.busy": "2020-10-21T20:03:43.353335Z",
     "iopub.status.idle": "2020-10-21T20:03:43.370835Z",
     "shell.execute_reply": "2020-10-21T20:03:43.370096Z",
     "shell.execute_reply.started": "2020-10-21T20:03:43.353889Z"
    }
   },
   "outputs": [
    {
     "data": {
      "text/html": [
       "<div>\n",
       "<style scoped>\n",
       "    .dataframe tbody tr th:only-of-type {\n",
       "        vertical-align: middle;\n",
       "    }\n",
       "\n",
       "    .dataframe tbody tr th {\n",
       "        vertical-align: top;\n",
       "    }\n",
       "\n",
       "    .dataframe thead th {\n",
       "        text-align: right;\n",
       "    }\n",
       "</style>\n",
       "<table border=\"1\" class=\"dataframe\">\n",
       "  <thead>\n",
       "    <tr style=\"text-align: right;\">\n",
       "      <th></th>\n",
       "      <th>step</th>\n",
       "      <th>type</th>\n",
       "      <th>amount</th>\n",
       "      <th>nameOrig</th>\n",
       "      <th>oldbalanceOrg</th>\n",
       "      <th>newbalanceOrig</th>\n",
       "      <th>nameDest</th>\n",
       "      <th>oldbalanceDest</th>\n",
       "      <th>newbalanceDest</th>\n",
       "      <th>isFraud</th>\n",
       "      <th>isFlaggedFraud</th>\n",
       "    </tr>\n",
       "  </thead>\n",
       "  <tbody>\n",
       "    <tr>\n",
       "      <th>29</th>\n",
       "      <td>1</td>\n",
       "      <td>PAYMENT</td>\n",
       "      <td>9920.52</td>\n",
       "      <td>C764826684</td>\n",
       "      <td>0.0</td>\n",
       "      <td>0.0</td>\n",
       "      <td>M1940055334</td>\n",
       "      <td>0.0</td>\n",
       "      <td>0.0</td>\n",
       "      <td>0</td>\n",
       "      <td>0</td>\n",
       "    </tr>\n",
       "    <tr>\n",
       "      <th>30</th>\n",
       "      <td>1</td>\n",
       "      <td>PAYMENT</td>\n",
       "      <td>3448.92</td>\n",
       "      <td>C2103763750</td>\n",
       "      <td>0.0</td>\n",
       "      <td>0.0</td>\n",
       "      <td>M335107734</td>\n",
       "      <td>0.0</td>\n",
       "      <td>0.0</td>\n",
       "      <td>0</td>\n",
       "      <td>0</td>\n",
       "    </tr>\n",
       "    <tr>\n",
       "      <th>31</th>\n",
       "      <td>1</td>\n",
       "      <td>PAYMENT</td>\n",
       "      <td>4206.84</td>\n",
       "      <td>C215078753</td>\n",
       "      <td>0.0</td>\n",
       "      <td>0.0</td>\n",
       "      <td>M1757317128</td>\n",
       "      <td>0.0</td>\n",
       "      <td>0.0</td>\n",
       "      <td>0</td>\n",
       "      <td>0</td>\n",
       "    </tr>\n",
       "    <tr>\n",
       "      <th>32</th>\n",
       "      <td>1</td>\n",
       "      <td>PAYMENT</td>\n",
       "      <td>5885.56</td>\n",
       "      <td>C840514538</td>\n",
       "      <td>0.0</td>\n",
       "      <td>0.0</td>\n",
       "      <td>M1804441305</td>\n",
       "      <td>0.0</td>\n",
       "      <td>0.0</td>\n",
       "      <td>0</td>\n",
       "      <td>0</td>\n",
       "    </tr>\n",
       "    <tr>\n",
       "      <th>33</th>\n",
       "      <td>1</td>\n",
       "      <td>PAYMENT</td>\n",
       "      <td>5307.88</td>\n",
       "      <td>C1768242710</td>\n",
       "      <td>0.0</td>\n",
       "      <td>0.0</td>\n",
       "      <td>M1971783162</td>\n",
       "      <td>0.0</td>\n",
       "      <td>0.0</td>\n",
       "      <td>0</td>\n",
       "      <td>0</td>\n",
       "    </tr>\n",
       "  </tbody>\n",
       "</table>\n",
       "</div>"
      ],
      "text/plain": [
       "    step     type   amount     nameOrig  oldbalanceOrg  newbalanceOrig  \\\n",
       "29     1  PAYMENT  9920.52   C764826684            0.0             0.0   \n",
       "30     1  PAYMENT  3448.92  C2103763750            0.0             0.0   \n",
       "31     1  PAYMENT  4206.84   C215078753            0.0             0.0   \n",
       "32     1  PAYMENT  5885.56   C840514538            0.0             0.0   \n",
       "33     1  PAYMENT  5307.88  C1768242710            0.0             0.0   \n",
       "\n",
       "       nameDest  oldbalanceDest  newbalanceDest  isFraud  isFlaggedFraud  \n",
       "29  M1940055334             0.0             0.0        0               0  \n",
       "30   M335107734             0.0             0.0        0               0  \n",
       "31  M1757317128             0.0             0.0        0               0  \n",
       "32  M1804441305             0.0             0.0        0               0  \n",
       "33  M1971783162             0.0             0.0        0               0  "
      ]
     },
     "execution_count": 14,
     "metadata": {},
     "output_type": "execute_result"
    }
   ],
   "source": [
    "quant_orig.head()"
   ]
  },
  {
   "cell_type": "markdown",
   "metadata": {},
   "source": [
    "# 3.0 Mapa de Hipoteses"
   ]
  },
  {
   "cell_type": "code",
   "execution_count": 15,
   "metadata": {
    "execution": {
     "iopub.execute_input": "2020-10-21T20:03:44.413903Z",
     "iopub.status.busy": "2020-10-21T20:03:44.413493Z",
     "iopub.status.idle": "2020-10-21T20:03:44.440896Z",
     "shell.execute_reply": "2020-10-21T20:03:44.437551Z",
     "shell.execute_reply.started": "2020-10-21T20:03:44.413859Z"
    }
   },
   "outputs": [
    {
     "data": {
      "image/jpeg": "[encoded data removed]",
      "text/plain": [
       "<IPython.core.display.Image object>"
      ]
     },
     "execution_count": 15,
     "metadata": {},
     "output_type": "execute_result"
    }
   ],
   "source": [
    "Image(\"../img/map_mental.jpg\")"
   ]
  },
  {
   "cell_type": "markdown",
   "metadata": {},
   "source": [
    "# 4.0 Feature Engineering"
   ]
  },
  {
   "cell_type": "code",
   "execution_count": 61,
   "metadata": {
    "execution": {
     "iopub.execute_input": "2020-10-21T21:00:19.551808Z",
     "iopub.status.busy": "2020-10-21T21:00:19.551275Z",
     "iopub.status.idle": "2020-10-21T21:00:23.757848Z",
     "shell.execute_reply": "2020-10-21T21:00:23.756992Z",
     "shell.execute_reply.started": "2020-10-21T21:00:19.551760Z"
    }
   },
   "outputs": [],
   "source": [
    "# copy\n",
    "treino = train.copy()\n",
    "\n",
    "# dest_type\n",
    "treino['dest_type'] = treino['nameDest'].apply(lambda x: 1 if x[0] == 'M' else 0)  # 1 - Merchant e 0-Customer\n",
    "\n",
    "# error_transaction\n",
    "treino['error_transaction'] = treino['amount'] - (treino['oldbalanceOrg'] - treino['newbalanceOrig'])\n",
    "\n",
    "# amount/step\n",
    "treino['amount_step'] = treino['amount']/treino['step']\n",
    "\n",
    "# Encoding type\n",
    "enc = OrdinalEncoder()\n",
    "treino['type'] = enc.fit_transform(np.array(treino['type']).reshape(-1, 1))\n",
    "\n",
    "# Dropping 'isFlaggedFraud'\n",
    "treino.drop(['isFlaggedFraud', 'nameOrig', 'nameDest'], inplace=True, axis=1)\n",
    "\n",
    "# # X and y\n",
    "# X = treino.drop('isFraud', axis=1)\n",
    "# y = treino['isFraud']"
   ]
  },
  {
   "cell_type": "markdown",
   "metadata": {
    "execution": {
     "iopub.execute_input": "2020-10-14T19:43:56.794693Z",
     "iopub.status.busy": "2020-10-14T19:43:56.794362Z",
     "iopub.status.idle": "2020-10-14T19:43:56.798522Z",
     "shell.execute_reply": "2020-10-14T19:43:56.797568Z",
     "shell.execute_reply.started": "2020-10-14T19:43:56.794657Z"
    }
   },
   "source": [
    "# 5.0 EDA"
   ]
  },
  {
   "cell_type": "markdown",
   "metadata": {},
   "source": [
    "## 5.1 Análise Univariada"
   ]
  },
  {
   "cell_type": "markdown",
   "metadata": {},
   "source": [
    "### 5.1.1 Variáveis númericas"
   ]
  },
  {
   "cell_type": "markdown",
   "metadata": {},
   "source": [
    "- Alto Skew\n",
    "- Grande quantidade de outliers"
   ]
  },
  {
   "cell_type": "code",
   "execution_count": null,
   "metadata": {},
   "outputs": [],
   "source": [
    "explorer = mtb.EDA(treino)\n",
    "explorer.multi_histograms(['amount','amount_step', 'step','oldbalanceOrg','newbalanceOrig','oldbalanceDest','newbalanceDest'])\n",
    "explorer.multi_boxplots(['amount','amount_step', 'step','oldbalanceOrg','newbalanceOrig','oldbalanceDest','newbalanceDest'])"
   ]
  },
  {
   "cell_type": "markdown",
   "metadata": {},
   "source": [
    "### 5.1.2 KbinsDicretizer Amount"
   ]
  },
  {
   "cell_type": "code",
   "execution_count": 17,
   "metadata": {
    "execution": {
     "iopub.execute_input": "2020-10-21T20:08:42.669153Z",
     "iopub.status.busy": "2020-10-21T20:08:42.668758Z",
     "iopub.status.idle": "2020-10-21T20:08:42.864004Z",
     "shell.execute_reply": "2020-10-21T20:08:42.863334Z",
     "shell.execute_reply.started": "2020-10-21T20:08:42.669110Z"
    }
   },
   "outputs": [
    {
     "name": "stderr",
     "output_type": "stream",
     "text": [
      "<ipython-input-17-74a6ccb036d2>:9: SettingWithCopyWarning: \n",
      "A value is trying to be set on a copy of a slice from a DataFrame.\n",
      "Try using .loc[row_indexer,col_indexer] = value instead\n",
      "\n",
      "See the caveats in the documentation: https://pandas.pydata.org/pandas-docs/stable/user_guide/indexing.html#returning-a-view-versus-a-copy\n",
      "  obj_temp['bins'] = data_trans\n"
     ]
    },
    {
     "data": {
      "text/plain": [
       "<AxesSubplot:xlabel='bins'>"
      ]
     },
     "execution_count": 17,
     "metadata": {},
     "output_type": "execute_result"
    },
    {
     "data": {
      "image/png": "[encoded data removed]",
      "text/plain": [
       "<Figure size 432x288 with 1 Axes>"
      ]
     },
     "metadata": {},
     "output_type": "display_data"
    }
   ],
   "source": [
    "# Amount\n",
    "obj_temp = treino.loc[treino['isFraud']==1,]\n",
    "\n",
    "\n",
    "kbins = KBinsDiscretizer(n_bins=4, encode= 'ordinal' , strategy= 'uniform' )\n",
    "data_trans = kbins.fit_transform(np.array(obj_temp['amount']).reshape(-1,1))\n",
    "\n",
    "# Plot\n",
    "obj_temp['bins'] = data_trans\n",
    "obj_temp.groupby('bins').sum()['amount'].plot(kind='bar')"
   ]
  },
  {
   "cell_type": "code",
   "execution_count": 18,
   "metadata": {
    "execution": {
     "iopub.execute_input": "2020-10-21T20:08:42.950505Z",
     "iopub.status.busy": "2020-10-21T20:08:42.950252Z",
     "iopub.status.idle": "2020-10-21T20:08:42.961052Z",
     "shell.execute_reply": "2020-10-21T20:08:42.960389Z",
     "shell.execute_reply.started": "2020-10-21T20:08:42.950479Z"
    }
   },
   "outputs": [
    {
     "name": "stdout",
     "output_type": "stream",
     "text": [
      "Para o bin 0 limite minimo 0.0 e o limite maximo 2498837.82\n",
      "Para o bin 3 limite minimo 7513581.46 e o limite maximo 10000000.0\n"
     ]
    }
   ],
   "source": [
    "# bin 0\n",
    "bin_0_min = obj_temp.loc[obj_temp['bins']==0,'amount'].min()\n",
    "bin_0_max = obj_temp.loc[obj_temp['bins']==0,'amount'].max()\n",
    "\n",
    "#bin 3\n",
    "bin_3_min = obj_temp.loc[obj_temp['bins']==3,'amount'].min()\n",
    "bin_3_max = obj_temp.loc[obj_temp['bins']==3,'amount'].max()\n",
    "\n",
    "# Report\n",
    "print(f'Para o bin 0 limite minimo {bin_0_min} e o limite maximo {bin_0_max}')\n",
    "print(f'Para o bin 3 limite minimo {bin_3_min} e o limite maximo {bin_3_max}')"
   ]
  },
  {
   "cell_type": "code",
   "execution_count": 19,
   "metadata": {
    "execution": {
     "iopub.execute_input": "2020-10-21T20:08:43.805035Z",
     "iopub.status.busy": "2020-10-21T20:08:43.803055Z",
     "iopub.status.idle": "2020-10-21T20:08:44.012306Z",
     "shell.execute_reply": "2020-10-21T20:08:44.011326Z",
     "shell.execute_reply.started": "2020-10-21T20:08:43.804938Z"
    }
   },
   "outputs": [
    {
     "name": "stderr",
     "output_type": "stream",
     "text": [
      "<ipython-input-19-ffa6fcb6862c>:7: SettingWithCopyWarning: \n",
      "A value is trying to be set on a copy of a slice from a DataFrame.\n",
      "Try using .loc[row_indexer,col_indexer] = value instead\n",
      "\n",
      "See the caveats in the documentation: https://pandas.pydata.org/pandas-docs/stable/user_guide/indexing.html#returning-a-view-versus-a-copy\n",
      "  obj_temp['bins_step'] = data_trans2\n"
     ]
    },
    {
     "data": {
      "text/plain": [
       "<AxesSubplot:xlabel='bins_step'>"
      ]
     },
     "execution_count": 19,
     "metadata": {},
     "output_type": "execute_result"
    },
    {
     "data": {
      "image/png": "[encoded data removed]",
      "text/plain": [
       "<Figure size 432x288 with 1 Axes>"
      ]
     },
     "metadata": {},
     "output_type": "display_data"
    }
   ],
   "source": [
    "# Step\n",
    "\n",
    "kbins2 = KBinsDiscretizer(n_bins=4, encode= 'ordinal' , strategy= 'uniform' )\n",
    "data_trans2 = kbins2.fit_transform(np.array(obj_temp['step']).reshape(-1, 1))\n",
    "\n",
    "# Plot\n",
    "obj_temp['bins_step'] = data_trans2\n",
    "obj_temp.groupby('bins_step').sum()['step'].plot(kind='bar')"
   ]
  },
  {
   "cell_type": "code",
   "execution_count": 20,
   "metadata": {
    "execution": {
     "iopub.execute_input": "2020-10-21T20:08:44.083992Z",
     "iopub.status.busy": "2020-10-21T20:08:44.083712Z",
     "iopub.status.idle": "2020-10-21T20:08:44.091453Z",
     "shell.execute_reply": "2020-10-21T20:08:44.090484Z",
     "shell.execute_reply.started": "2020-10-21T20:08:44.083964Z"
    }
   },
   "outputs": [
    {
     "name": "stdout",
     "output_type": "stream",
     "text": [
      "Para o bin 0 limite minimo 372 e o limite maximo 743\n"
     ]
    }
   ],
   "source": [
    "# bin 0\n",
    "bin_0_min = obj_temp.loc[obj_temp['bins_step']==2,'step'].min()\n",
    "bin_0_max = obj_temp.loc[obj_temp['bins_step']==3,'step'].max()\n",
    "\n",
    "\n",
    "# Report\n",
    "print(f'Para o bin 0 limite minimo {bin_0_min} e o limite maximo {bin_0_max}')"
   ]
  },
  {
   "cell_type": "markdown",
   "metadata": {},
   "source": [
    "### 5.1.3 Variáveis Categórica"
   ]
  },
  {
   "cell_type": "markdown",
   "metadata": {},
   "source": [
    "- Possuimos fraudes somente nos tipos de transfer e cash_out, dessa forma podemos eliminar as observações dos demais tipos."
   ]
  },
  {
   "cell_type": "code",
   "execution_count": 30,
   "metadata": {
    "execution": {
     "iopub.execute_input": "2020-10-21T20:19:08.823657Z",
     "iopub.status.busy": "2020-10-21T20:19:08.822939Z",
     "iopub.status.idle": "2020-10-21T20:19:08.986322Z",
     "shell.execute_reply": "2020-10-21T20:19:08.985019Z",
     "shell.execute_reply.started": "2020-10-21T20:19:08.823605Z"
    }
   },
   "outputs": [
    {
     "data": {
      "image/png": "[encoded data removed]",
      "text/plain": [
       "<Figure size 720x432 with 1 Axes>"
      ]
     },
     "metadata": {},
     "output_type": "display_data"
    }
   ],
   "source": [
    "# Quantidade Fraud \n",
    "balanced_target('type', dataset=dados_temp)"
   ]
  },
  {
   "cell_type": "markdown",
   "metadata": {},
   "source": [
    "## 5.2 Análise Multivariada"
   ]
  },
  {
   "cell_type": "code",
   "execution_count": 62,
   "metadata": {
    "execution": {
     "iopub.execute_input": "2020-10-21T21:00:25.325970Z",
     "iopub.status.busy": "2020-10-21T21:00:25.325539Z",
     "iopub.status.idle": "2020-10-21T21:00:26.320824Z",
     "shell.execute_reply": "2020-10-21T21:00:26.320073Z",
     "shell.execute_reply.started": "2020-10-21T21:00:25.325923Z"
    }
   },
   "outputs": [],
   "source": [
    "# Eliminando os 'types' diferentes de CASH-OUT e TRANSFER\n",
    "index = treino.loc[(treino['type'] != 1.0) & (treino['type'] != 4.0), ].index\n",
    "treino = treino.drop(index, axis=0)"
   ]
  },
  {
   "cell_type": "code",
   "execution_count": 63,
   "metadata": {
    "execution": {
     "iopub.execute_input": "2020-10-21T21:00:26.321949Z",
     "iopub.status.busy": "2020-10-21T21:00:26.321764Z",
     "iopub.status.idle": "2020-10-21T21:00:26.326373Z",
     "shell.execute_reply": "2020-10-21T21:00:26.325797Z",
     "shell.execute_reply.started": "2020-10-21T21:00:26.321931Z"
    }
   },
   "outputs": [
    {
     "data": {
      "text/plain": [
       "(2770409, 11)"
      ]
     },
     "execution_count": 63,
     "metadata": {},
     "output_type": "execute_result"
    }
   ],
   "source": [
    "treino.shape"
   ]
  },
  {
   "cell_type": "code",
   "execution_count": 69,
   "metadata": {
    "execution": {
     "iopub.execute_input": "2020-10-21T21:04:32.194579Z",
     "iopub.status.busy": "2020-10-21T21:04:32.194228Z",
     "iopub.status.idle": "2020-10-21T21:04:32.416140Z",
     "shell.execute_reply": "2020-10-21T21:04:32.414906Z",
     "shell.execute_reply.started": "2020-10-21T21:04:32.194540Z"
    }
   },
   "outputs": [
    {
     "name": "stdout",
     "output_type": "stream",
     "text": [
      "Limites - Outliers\n",
      "Q1 = 82973.54\n",
      "Q3 = 306791.18\n",
      "IQR = 223817.64\n",
      "low_ = -252752.92000000004\n",
      "high_ = 642517.64\n"
     ]
    }
   ],
   "source": [
    "def drop_outliers(var: str, dataset: pd.DataFrame):\n",
    "\n",
    "    # Calculando os Q1, Q3 e IQR\n",
    "    Q1 = np.quantile(dataset[var], .25)\n",
    "    Q3 = np.quantile(dataset[var], .75)\n",
    "    IQR = Q3 - Q1\n",
    "\n",
    "    # calculates the outliers boundaries through statistical relationship\n",
    "    low = Q1 - 1.5 * IQR\n",
    "    high = Q3 + 1.5 * IQR\n",
    "\n",
    "    print(\"Limites - Outliers\")\n",
    "    print(f\"Q1 = {Q1}\\nQ3 = {Q3}\\nIQR = {IQR}\\nlow_ = {low}\\nhigh_ = {high}\")\n",
    "\n",
    "    dados_resultado = dataset.loc[(dataset[var] > low) & (dataset[var] < high),]\n",
    "\n",
    "    return dados_resultado\n",
    "\n",
    "treino = drop_outliers('amount', treino)\n",
    "\n",
    "# X and y\n",
    "X = treino.drop('isFraud', axis=1)\n",
    "y = treino['isFraud']"
   ]
  },
  {
   "cell_type": "code",
   "execution_count": 71,
   "metadata": {
    "execution": {
     "iopub.execute_input": "2020-10-21T21:04:49.280999Z",
     "iopub.status.busy": "2020-10-21T21:04:49.280416Z",
     "iopub.status.idle": "2020-10-21T23:38:31.345355Z",
     "shell.execute_reply": "2020-10-21T23:38:31.344342Z",
     "shell.execute_reply.started": "2020-10-21T21:04:49.280957Z"
    }
   },
   "outputs": [
    {
     "ename": "TypeError",
     "evalue": "Delayed objects of unspecified length are not iterable",
     "output_type": "error",
     "traceback": [
      "\u001b[0;31m---------------------------------------------------------------------------\u001b[0m",
      "\u001b[0;31mTypeError\u001b[0m                                 Traceback (most recent call last)",
      "\u001b[0;32m<ipython-input-71-fee8c6131926>\u001b[0m in \u001b[0;36m<module>\u001b[0;34m\u001b[0m\n\u001b[1;32m      2\u001b[0m \u001b[0;34m\u001b[0m\u001b[0m\n\u001b[1;32m      3\u001b[0m \u001b[0msmt\u001b[0m \u001b[0;34m=\u001b[0m \u001b[0mSMOTETomek\u001b[0m\u001b[0;34m(\u001b[0m\u001b[0mrandom_state\u001b[0m\u001b[0;34m=\u001b[0m\u001b[0;36m42\u001b[0m\u001b[0;34m)\u001b[0m\u001b[0;34m\u001b[0m\u001b[0;34m\u001b[0m\u001b[0m\n\u001b[0;32m----> 4\u001b[0;31m \u001b[0mXres\u001b[0m\u001b[0;34m,\u001b[0m \u001b[0myres\u001b[0m \u001b[0;34m=\u001b[0m \u001b[0mdelayed\u001b[0m\u001b[0;34m(\u001b[0m\u001b[0msmt\u001b[0m\u001b[0;34m.\u001b[0m\u001b[0mfit_resample\u001b[0m\u001b[0;34m(\u001b[0m\u001b[0mX\u001b[0m\u001b[0;34m,\u001b[0m \u001b[0my\u001b[0m\u001b[0;34m)\u001b[0m\u001b[0;34m)\u001b[0m\u001b[0;34m\u001b[0m\u001b[0;34m\u001b[0m\u001b[0m\n\u001b[0m\u001b[1;32m      5\u001b[0m \u001b[0mXtemp\u001b[0m \u001b[0;34m=\u001b[0m \u001b[0mpd\u001b[0m\u001b[0;34m.\u001b[0m\u001b[0mconcat\u001b[0m\u001b[0;34m(\u001b[0m\u001b[0;34m[\u001b[0m\u001b[0mXres\u001b[0m\u001b[0;34m,\u001b[0m \u001b[0myres\u001b[0m\u001b[0;34m]\u001b[0m\u001b[0;34m,\u001b[0m \u001b[0maxis\u001b[0m\u001b[0;34m=\u001b[0m\u001b[0;36m1\u001b[0m\u001b[0;34m)\u001b[0m\u001b[0;34m\u001b[0m\u001b[0;34m\u001b[0m\u001b[0m\n",
      "\u001b[0;32m~/anaconda3/envs/pas-env/lib/python3.8/site-packages/dask/delayed.py\u001b[0m in \u001b[0;36m__iter__\u001b[0;34m(self)\u001b[0m\n\u001b[1;32m    553\u001b[0m     \u001b[0;32mdef\u001b[0m \u001b[0m__iter__\u001b[0m\u001b[0;34m(\u001b[0m\u001b[0mself\u001b[0m\u001b[0;34m)\u001b[0m\u001b[0;34m:\u001b[0m\u001b[0;34m\u001b[0m\u001b[0;34m\u001b[0m\u001b[0m\n\u001b[1;32m    554\u001b[0m         \u001b[0;32mif\u001b[0m \u001b[0mgetattr\u001b[0m\u001b[0;34m(\u001b[0m\u001b[0mself\u001b[0m\u001b[0;34m,\u001b[0m \u001b[0;34m\"_length\"\u001b[0m\u001b[0;34m,\u001b[0m \u001b[0;32mNone\u001b[0m\u001b[0;34m)\u001b[0m \u001b[0;32mis\u001b[0m \u001b[0;32mNone\u001b[0m\u001b[0;34m:\u001b[0m\u001b[0;34m\u001b[0m\u001b[0;34m\u001b[0m\u001b[0m\n\u001b[0;32m--> 555\u001b[0;31m             \u001b[0;32mraise\u001b[0m \u001b[0mTypeError\u001b[0m\u001b[0;34m(\u001b[0m\u001b[0;34m\"Delayed objects of unspecified length are not iterable\"\u001b[0m\u001b[0;34m)\u001b[0m\u001b[0;34m\u001b[0m\u001b[0;34m\u001b[0m\u001b[0m\n\u001b[0m\u001b[1;32m    556\u001b[0m         \u001b[0;32mfor\u001b[0m \u001b[0mi\u001b[0m \u001b[0;32min\u001b[0m \u001b[0mrange\u001b[0m\u001b[0;34m(\u001b[0m\u001b[0mself\u001b[0m\u001b[0;34m.\u001b[0m\u001b[0m_length\u001b[0m\u001b[0;34m)\u001b[0m\u001b[0;34m:\u001b[0m\u001b[0;34m\u001b[0m\u001b[0;34m\u001b[0m\u001b[0m\n\u001b[1;32m    557\u001b[0m             \u001b[0;32myield\u001b[0m \u001b[0mself\u001b[0m\u001b[0;34m[\u001b[0m\u001b[0mi\u001b[0m\u001b[0;34m]\u001b[0m\u001b[0;34m\u001b[0m\u001b[0;34m\u001b[0m\u001b[0m\n",
      "\u001b[0;31mTypeError\u001b[0m: Delayed objects of unspecified length are not iterable"
     ]
    }
   ],
   "source": [
    "# Balanciando os dados - SMOTE + TomekLink\n",
    "\n",
    "smt = SMOTETomek(random_state=42)\n",
    "Xres, yres = smt.fit_resample(X, y)\n",
    "Xtemp = pd.concat([Xres, yres], axis=1)"
   ]
  },
  {
   "cell_type": "markdown",
   "metadata": {},
   "source": [
    "### 5.2.1 Númericas - Desbalanciados"
   ]
  },
  {
   "cell_type": "code",
   "execution_count": 21,
   "metadata": {
    "execution": {
     "iopub.execute_input": "2020-10-21T20:08:52.691229Z",
     "iopub.status.busy": "2020-10-21T20:08:52.690778Z",
     "iopub.status.idle": "2020-10-21T20:08:53.887758Z",
     "shell.execute_reply": "2020-10-21T20:08:53.887179Z",
     "shell.execute_reply.started": "2020-10-21T20:08:52.691181Z"
    }
   },
   "outputs": [
    {
     "data": {
      "image/png": "[encoded data removed]",
      "text/plain": [
       "<Figure size 1152x720 with 2 Axes>"
      ]
     },
     "metadata": {},
     "output_type": "display_data"
    }
   ],
   "source": [
    "# Matriz Corr\n",
    "\n",
    "variaveis = ['amount','amount_step', 'step','oldbalanceOrg','newbalanceOrig','oldbalanceDest','newbalanceDest']\n",
    "Myheat_map(dataset=treino, variaveis=variaveis)"
   ]
  },
  {
   "cell_type": "markdown",
   "metadata": {},
   "source": [
    "### 5.2.1 Númericas - Balanciados"
   ]
  },
  {
   "cell_type": "code",
   "execution_count": null,
   "metadata": {},
   "outputs": [],
   "source": []
  },
  {
   "cell_type": "markdown",
   "metadata": {},
   "source": [
    "### 5.2.2 Categóricas - Desbalanciados"
   ]
  },
  {
   "cell_type": "code",
   "execution_count": null,
   "metadata": {},
   "outputs": [],
   "source": [
    "from scipy.stats import pointbiserialr\n",
    "\n",
    "# Variáveis numericas\n",
    "num_vars =  ['step', 'amount', 'oldbalanceOrg', 'newbalanceOrig', 'oldbalanceDest', 'newbalanceDest']\n",
    "\n",
    "# Correlações\n",
    "corrs = [pointbiserialr(treino['isFraud'], treino[var])[0] for var in num_vars]\n",
    "df_corr = pd.DataFrame({'isFraud': corrs}, index=num_vars)\n",
    "\n",
    "# Plot Matrix\n",
    "fig, ax = plt.subplots()\n",
    "plt.subplot(1, 2, 1)\n",
    "sns.heatmap(df_corr, annot=True, annot_kws={\"fontsize\":14}, cmap='viridis')\n",
    "plt.title(\"Pointbiserialr\")"
   ]
  },
  {
   "cell_type": "markdown",
   "metadata": {
    "execution": {
     "iopub.execute_input": "2020-10-21T18:46:26.948950Z",
     "iopub.status.busy": "2020-10-21T18:46:26.948343Z",
     "iopub.status.idle": "2020-10-21T18:46:26.952592Z",
     "shell.execute_reply": "2020-10-21T18:46:26.951586Z",
     "shell.execute_reply.started": "2020-10-21T18:46:26.948880Z"
    }
   },
   "source": [
    "### 5.2.2 Categóricas - Balanciados "
   ]
  },
  {
   "cell_type": "code",
   "execution_count": null,
   "metadata": {},
   "outputs": [],
   "source": []
  },
  {
   "cell_type": "code",
   "execution_count": null,
   "metadata": {},
   "outputs": [],
   "source": []
  },
  {
   "cell_type": "markdown",
   "metadata": {},
   "source": [
    "## 5.3 Out of Outliers!"
   ]
  },
  {
   "cell_type": "code",
   "execution_count": null,
   "metadata": {},
   "outputs": [],
   "source": []
  },
  {
   "cell_type": "code",
   "execution_count": null,
   "metadata": {},
   "outputs": [],
   "source": []
  },
  {
   "cell_type": "markdown",
   "metadata": {
    "execution": {
     "iopub.execute_input": "2020-10-16T23:01:32.314628Z",
     "iopub.status.busy": "2020-10-16T23:01:32.314308Z",
     "iopub.status.idle": "2020-10-16T23:01:32.317686Z",
     "shell.execute_reply": "2020-10-16T23:01:32.316835Z",
     "shell.execute_reply.started": "2020-10-16T23:01:32.314599Z"
    }
   },
   "source": [
    "## 5.4 Hipóteses\n",
    "\n",
    "Lista de Hipóteses!\n",
    "\n",
    "1. O montante fraudado é maior para o 'type' transfer!\n",
    "2. O percentual de error_transaction é maior que 50%!\n",
    "3. O montante fraudado é maior com o 'dest_type' Customers que Merchant!\n",
    "4. O oldbalanceOrig é sempre diferente de 0, já que se deve ter saldo para realizar uma transação!\n",
    "5. A quantidade de transações fraudulentas é maior para o tipo de Origem 'Customer'!\n",
    "6. A conta de uma transação fraudulenta 'TRANSFER' bate com a conta Origem de um CASH-OUT!\n",
    "7. A quantidade de transações fraudulentas é maior na modalidade 'TRANSFER'!"
   ]
  },
  {
   "cell_type": "markdown",
   "metadata": {},
   "source": [
    "### 5.4.1 H1 O montante fraudado é maior para o 'type' TRANSFER! [TRUE]"
   ]
  },
  {
   "cell_type": "code",
   "execution_count": 29,
   "metadata": {
    "execution": {
     "iopub.execute_input": "2020-10-21T20:10:06.699751Z",
     "iopub.status.busy": "2020-10-21T20:10:06.699124Z",
     "iopub.status.idle": "2020-10-21T20:10:07.025951Z",
     "shell.execute_reply": "2020-10-21T20:10:07.025105Z",
     "shell.execute_reply.started": "2020-10-21T20:10:06.699695Z"
    }
   },
   "outputs": [
    {
     "name": "stdout",
     "output_type": "stream",
     "text": [
      "\n",
      " Montante de observações TRANSFER: 6067213184.01\n",
      "Montante de observações CASH_OUT: 5989202243.83\n",
      "\n"
     ]
    }
   ],
   "source": [
    "treino['type'] = enc.inverse_transform(np.array(treino['type']).reshape(-1, 1))\n",
    "dados_temp = treino.loc[treino['isFraud']==1, ]\n",
    "\n",
    "AMOUNT_TRANSFER = dados_temp.loc[dados_temp['type']=='TRANSFER', 'amount'].sum()\n",
    "AMOUNT_CASH_OUT = dados_temp.loc[dados_temp['type']=='CASH_OUT', 'amount'].sum()\n",
    "\n",
    "print(f'\\n Montante de observações TRANSFER: {AMOUNT_TRANSFER}')\n",
    "print(f'Montante de observações CASH_OUT: {AMOUNT_CASH_OUT}\\n')"
   ]
  },
  {
   "cell_type": "markdown",
   "metadata": {
    "execution": {
     "iopub.execute_input": "2020-10-16T23:03:13.865854Z",
     "iopub.status.busy": "2020-10-16T23:03:13.865446Z",
     "iopub.status.idle": "2020-10-16T23:03:13.869728Z",
     "shell.execute_reply": "2020-10-16T23:03:13.868790Z",
     "shell.execute_reply.started": "2020-10-16T23:03:13.865809Z"
    }
   },
   "source": [
    "### 5.4.2 H2 O percentual de error_transaction é maior que 50%[TRUE]!"
   ]
  },
  {
   "cell_type": "code",
   "execution_count": 23,
   "metadata": {
    "execution": {
     "iopub.execute_input": "2020-10-21T20:09:26.140065Z",
     "iopub.status.busy": "2020-10-21T20:09:26.139547Z",
     "iopub.status.idle": "2020-10-21T20:09:26.424303Z",
     "shell.execute_reply": "2020-10-21T20:09:26.423523Z",
     "shell.execute_reply.started": "2020-10-21T20:09:26.140023Z"
    }
   },
   "outputs": [
    {
     "name": "stdout",
     "output_type": "stream",
     "text": [
      "O percentual de transações com erro são de 93.08\n"
     ]
    }
   ],
   "source": [
    "# Erro\n",
    "erro_acima_0 = treino.loc[treino['error_transaction'] != 0, ]\n",
    "\n",
    "#Percentual do erro sobre dataset\n",
    "perc_error = round(erro_acima_0.shape[0]/train.shape[0]*100, 2)\n",
    "print(f'O percentual de transações com erro são de {perc_error}')"
   ]
  },
  {
   "cell_type": "markdown",
   "metadata": {},
   "source": [
    "### 5.4.3 H3 O montante fraudado é maior com o 'dest_type' Customers que Merchant![TRUE]"
   ]
  },
  {
   "cell_type": "code",
   "execution_count": 24,
   "metadata": {
    "execution": {
     "iopub.execute_input": "2020-10-21T20:09:26.946858Z",
     "iopub.status.busy": "2020-10-21T20:09:26.946393Z",
     "iopub.status.idle": "2020-10-21T20:09:26.973944Z",
     "shell.execute_reply": "2020-10-21T20:09:26.973131Z",
     "shell.execute_reply.started": "2020-10-21T20:09:26.946808Z"
    }
   },
   "outputs": [
    {
     "name": "stdout",
     "output_type": "stream",
     "text": [
      "Quantidade de observações Customers: 12056415427.84\n",
      "Quantidade de observações Merchant: 0.0\n",
      "\n"
     ]
    }
   ],
   "source": [
    "dados_temp1 = treino.loc[treino['isFraud'] == 1, ['amount','dest_type']]\n",
    "\n",
    "# Montantes\n",
    "AMOUNT_CUSTOMER = round(dados_temp1.loc[dados_temp1['dest_type']==0, 'amount'].sum(),2) \n",
    "AMOUNT_MERCHANT = round(dados_temp1.loc[dados_temp1['dest_type']==1, 'amount'].sum(),2)\n",
    "\n",
    "# Report\n",
    "print(f'Quantidade de observações Customers: {AMOUNT_CUSTOMER}')\n",
    "print(f'Quantidade de observações Merchant: {AMOUNT_MERCHANT}\\n')"
   ]
  },
  {
   "cell_type": "markdown",
   "metadata": {
    "execution": {
     "iopub.execute_input": "2020-10-19T19:46:04.243650Z",
     "iopub.status.busy": "2020-10-19T19:46:04.243164Z",
     "iopub.status.idle": "2020-10-19T19:46:04.248025Z",
     "shell.execute_reply": "2020-10-19T19:46:04.246964Z",
     "shell.execute_reply.started": "2020-10-19T19:46:04.243579Z"
    }
   },
   "source": [
    "### 5.4.4 H4 O oldbalanceOrig é sempre diferente de 0, já que se deve ter saldo para realizar uma transação![FALSE]"
   ]
  },
  {
   "cell_type": "code",
   "execution_count": 25,
   "metadata": {
    "execution": {
     "iopub.execute_input": "2020-10-21T20:09:27.819519Z",
     "iopub.status.busy": "2020-10-21T20:09:27.818777Z",
     "iopub.status.idle": "2020-10-21T20:09:28.134251Z",
     "shell.execute_reply": "2020-10-21T20:09:28.133376Z",
     "shell.execute_reply.started": "2020-10-21T20:09:27.819443Z"
    }
   },
   "outputs": [
    {
     "name": "stdout",
     "output_type": "stream",
     "text": [
      "O percentual de casos onde o amount é diferente de 0 com oldbalanceDest e newbalanceDest iguais 33.0%\n"
     ]
    }
   ],
   "source": [
    "# Percentual de operações amount != de zero oldBalanceOrig e newBalanceOrig são iguais a 0\n",
    "\n",
    "quant_orig = train.loc[(train['amount'] != 0) & (train['oldbalanceOrg'] == 0) & (train['newbalanceOrig'] == 0), ]\n",
    "\n",
    "perc_quant_orig = round(quant_orig.shape[0]/train.shape[0], 2)*100\n",
    "print(f'O percentual de casos onde o amount é diferente de 0 com oldbalanceDest e newbalanceDest iguais {perc_quant_orig}%')"
   ]
  },
  {
   "cell_type": "markdown",
   "metadata": {},
   "source": [
    "### 5.4.5 H5 A quantidade de transações fraudulentas é maior para o tipo de Origem 'Customer'![TRUE]"
   ]
  },
  {
   "cell_type": "code",
   "execution_count": 26,
   "metadata": {
    "execution": {
     "iopub.execute_input": "2020-10-21T20:09:28.805685Z",
     "iopub.status.busy": "2020-10-21T20:09:28.805203Z",
     "iopub.status.idle": "2020-10-21T20:09:28.816380Z",
     "shell.execute_reply": "2020-10-21T20:09:28.815316Z",
     "shell.execute_reply.started": "2020-10-21T20:09:28.805633Z"
    }
   },
   "outputs": [
    {
     "name": "stdout",
     "output_type": "stream",
     "text": [
      "Quantidade de observações Customers: 8213\n",
      "Quantidade de observações Merchant: 0\n",
      "\n"
     ]
    }
   ],
   "source": [
    "# Montantes\n",
    "QUANT_CUSTOMER = dados_temp1.loc[dados_temp1['dest_type']==0, 'amount'].shape[0]\n",
    "QUANT_MERCHANT = dados_temp1.loc[dados_temp1['dest_type']==1, 'amount'].shape[0]\n",
    "\n",
    "# Report\n",
    "print(f'Quantidade de observações Customers: {QUANT_CUSTOMER}')\n",
    "print(f'Quantidade de observações Merchant: {QUANT_MERCHANT}\\n')"
   ]
  },
  {
   "cell_type": "markdown",
   "metadata": {},
   "source": [
    "### 5.4.6 H6 A conta de uma transação fraudulenta 'TRANSFER' bate com a conta Origem de um CASH-OUT![FALSE]"
   ]
  },
  {
   "cell_type": "code",
   "execution_count": 27,
   "metadata": {
    "execution": {
     "iopub.execute_input": "2020-10-21T20:09:29.624912Z",
     "iopub.status.busy": "2020-10-21T20:09:29.624346Z",
     "iopub.status.idle": "2020-10-21T20:09:30.243703Z",
     "shell.execute_reply": "2020-10-21T20:09:30.243001Z",
     "shell.execute_reply.started": "2020-10-21T20:09:29.624862Z"
    }
   },
   "outputs": [
    {
     "name": "stdout",
     "output_type": "stream",
     "text": [
      "Contas encontradas:0\n"
     ]
    }
   ],
   "source": [
    "CONTA_ORIG = train.loc[(train['isFraud']==1) & (train['type']=='TRANSFER'), 'nameOrig']\n",
    "CONTA_DEST = train.loc[(train['isFraud']==1) & (train['type']=='CASH_OUT'), 'nameDest']\n",
    "\n",
    "resultado = set(CONTA_ORIG).intersection(set(CONTA_DEST))\n",
    "print(f'Contas encontradas:{len(resultado)}')"
   ]
  },
  {
   "cell_type": "markdown",
   "metadata": {},
   "source": [
    "### 5.4.7 H7 A quantidade de transações fraudulentas é maior na modalidade 'TRANSFER'!"
   ]
  },
  {
   "cell_type": "code",
   "execution_count": 39,
   "metadata": {
    "execution": {
     "iopub.execute_input": "2020-10-21T20:37:59.656840Z",
     "iopub.status.busy": "2020-10-21T20:37:59.656476Z",
     "iopub.status.idle": "2020-10-21T20:38:00.284167Z",
     "shell.execute_reply": "2020-10-21T20:38:00.283014Z",
     "shell.execute_reply.started": "2020-10-21T20:37:59.656799Z"
    }
   },
   "outputs": [
    {
     "name": "stdout",
     "output_type": "stream",
     "text": [
      "Quantidade de observações Customers: 8213\n",
      "Quantidade de observações Merchant: 4116\n",
      "\n"
     ]
    }
   ],
   "source": [
    "# Montantes\n",
    "QUANT_TRANSFER = train.loc[(train['isFraud']==1) & (train['type']=='TRANSFER'), 'amount'].shape[0]\n",
    "QUANT_MERCHANT = train.loc[(train['isFraud']==1) & (train['type']=='CASH_OUT'), 'amount'].shape[0]\n",
    "\n",
    "# Report\n",
    "print(f'Quantidade de observações Customers: {QUANT_CUSTOMER}')\n",
    "print(f'Quantidade de observações Merchant: {QUANT_MERCHANT}\\n')"
   ]
  },
  {
   "cell_type": "markdown",
   "metadata": {},
   "source": [
    "# 4.0 Feature Engineering - Part02"
   ]
  },
  {
   "cell_type": "markdown",
   "metadata": {},
   "source": [
    "- Retirar Outliers\n",
    "- Drop os types diferentes 'TRANSFER' e 'CASH_OUT'.\n",
    "- Criar nova variável com base nos limites encontrados para 'amount'.\n",
    "- Criar nova variável com base nos limites encontrados para 'step'."
   ]
  },
  {
   "cell_type": "code",
   "execution_count": null,
   "metadata": {},
   "outputs": [],
   "source": [
    "treino.head()"
   ]
  },
  {
   "cell_type": "code",
   "execution_count": null,
   "metadata": {},
   "outputs": [],
   "source": []
  },
  {
   "cell_type": "code",
   "execution_count": null,
   "metadata": {},
   "outputs": [],
   "source": []
  },
  {
   "cell_type": "markdown",
   "metadata": {},
   "source": [
    "# 6.0 Pipeline de Treinamento - Data Preparation"
   ]
  },
  {
   "cell_type": "code",
   "execution_count": null,
   "metadata": {},
   "outputs": [],
   "source": []
  }
 ],
 "metadata": {
  "kernelspec": {
   "display_name": "pas-env",
   "language": "python",
   "name": "pas-env"
  },
  "language_info": {
   "codemirror_mode": {
    "name": "ipython",
    "version": 3
   },
   "file_extension": ".py",
   "mimetype": "text/x-python",
   "name": "python",
   "nbconvert_exporter": "python",
   "pygments_lexer": "ipython3",
   "version": "3.8.5"
  }
 },
 "nbformat": 4,
 "nbformat_minor": 4
}
