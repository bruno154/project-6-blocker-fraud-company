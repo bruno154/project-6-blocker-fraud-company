{
 "cells": [
  {
   "cell_type": "markdown",
   "metadata": {},
   "source": [
    "# 0.0 Business Problem"
   ]
  },
  {
   "cell_type": "markdown",
   "metadata": {},
   "source": [
    "Como um Consultor de Ciência de Dados para criar um modelo de alta precisão e acurácia na detecção de fraudes de transações feitas através de dispositivos móveis.\n",
    "\n",
    "Entregáveis da consultoria:\n",
    "\n",
    "- Modelo em produção com API.\n",
    "- Relatório reportando a performance e os resultados do seu modelo em relação ao lucro e prejuízo que a empresa terá ao usar o modelo que você produziu.\n",
    "\n",
    "  No seu relatório deve conter as respostas para as seguintes perguntas:\n",
    "\n",
    " -   Qual a Precisão e Acurácia do modelo?\n",
    " -   Qual a Confiabilidade do modelo em classificar as transações como legítimas ou fraudulentas?\n",
    " -   Qual o Faturamento Esperado pela Empresa se classificarmos 100% das transações com o modelo?\n",
    " -   Qual o Prejuízo Esperado pela Empresa em caso de falha do modelo?\n",
    " -   Qual o Lucro Esperado pela Blocker Fraud Company ao utilizar o modelo?\n",
    "\n",
    "Data source: [Link](https://www.kaggle.com/ntnu-testimon/paysim1)\n",
    "\n",
    "**Index:**\n",
    "\n",
    " - 0.0 Problema de Negócio\n",
    " - 0.1 Importações de bibliotecas\n",
    " - 1.0 Coleta de Dados\n",
    " - 2.0 Descrição dos Dados\n",
    " - 3.0 Limpeza de dados\n",
    " - 4.0 Feature Engineering\n",
    " - 5.0 EDA\n",
    " - 6.0 Data Preparation - Pipelines\n",
    " - 7.0 Modelagem Machine Learning / Avaliação dos Modelos\n",
    " - 8.0 Interpretação do Modelo\n",
    " - 9.0 API\n",
    "\n",
    "**Estrátegia:**\n",
    "\n",
    "1.0 Coleta de Dados:\n",
    "- Coletar os dados utilizando pd.read_csv().\n",
    "\n",
    "2.0 Descrição dos Dados:\n",
    "\n",
    "- Descrever as seguintes infos por feature: percentual de missing, valores únicos, percentual de valores únicos, tipos de dados, skew, kurtosis.                                             \n",
    "- Investigar isFraud vs isFlaggedFraud para determinar qual é a variável target.\n",
    "- Descrever a variável 'type' com relação ao target.\n",
    "- Descrever outras variáveis\n",
    " \n",
    "3.0 Limpeza de dados:\n",
    "\n",
    "- Investigar e eliminar os outliers\n",
    "- Excluir os 'types' diferentes de 'TRANSFER'e 'CASH_OUT'\n",
    "- Avaliar o tamanho do dataset e decidir sobre utilizar alguma estratégia de sampling.\n",
    " \n",
    "4.0 Feature Engineering\n",
    "\n",
    "\n",
    "\n",
    "\n",
    "\n",
    "\n",
    "Conclusões e Resultados:\n"
   ]
  },
  {
   "cell_type": "markdown",
   "metadata": {},
   "source": [
    "## 0.1 Importações de bibliotecas"
   ]
  },
  {
   "cell_type": "code",
   "execution_count": 1,
   "metadata": {
    "execution": {
     "iopub.execute_input": "2020-10-26T17:05:32.797000Z",
     "iopub.status.busy": "2020-10-26T17:05:32.796601Z",
     "iopub.status.idle": "2020-10-26T17:05:34.462134Z",
     "shell.execute_reply": "2020-10-26T17:05:34.461411Z",
     "shell.execute_reply.started": "2020-10-26T17:05:32.796900Z"
    }
   },
   "outputs": [],
   "source": [
    "# Importings\n",
    "import pandas as pd\n",
    "import numpy as np\n",
    "import time\n",
    "\n",
    "# Importings Dask test\n",
    "import dask.array as da\n",
    "import dask.dataframe as dd\n",
    "\n",
    "# Data Viz\n",
    "import seaborn as sns\n",
    "import matplotlib.pyplot as plt\n",
    "\n",
    "# General Librarys\n",
    "from MyToolBox import MyToolBox as mtb\n",
    "from IPython.display import Image\n",
    "from IPython.core.display import HTML\n",
    "\n",
    "\n",
    "from imblearn.combine import SMOTETomek\n",
    "from sklearn.preprocessing import OrdinalEncoder\n",
    "\n",
    "\n",
    "import warnings\n",
    "warnings.filterwarnings(\"ignore\")"
   ]
  },
  {
   "cell_type": "markdown",
   "metadata": {
    "execution": {
     "iopub.execute_input": "2020-10-22T20:26:26.646097Z",
     "iopub.status.busy": "2020-10-22T20:26:26.645730Z",
     "iopub.status.idle": "2020-10-22T20:26:26.650094Z",
     "shell.execute_reply": "2020-10-22T20:26:26.649143Z",
     "shell.execute_reply.started": "2020-10-22T20:26:26.646053Z"
    }
   },
   "source": [
    "## 0.1 Funções auxiliares"
   ]
  },
  {
   "cell_type": "code",
   "execution_count": 73,
   "metadata": {
    "execution": {
     "iopub.execute_input": "2020-10-26T18:20:25.100024Z",
     "iopub.status.busy": "2020-10-26T18:20:25.099763Z",
     "iopub.status.idle": "2020-10-26T18:20:25.113534Z",
     "shell.execute_reply": "2020-10-26T18:20:25.112731Z",
     "shell.execute_reply.started": "2020-10-26T18:20:25.099992Z"
    }
   },
   "outputs": [],
   "source": [
    "def balanced_target(target, dataset, hue=None):\n",
    "    \"\"\"\n",
    "    Function to check the balancing of the target variable.\n",
    "\n",
    "    :target:  An pd.Series of the target variable that will be checked.\n",
    "    :dataset: An Dataframe object. \n",
    "    \"\"\"\n",
    "    sns.set(style='darkgrid', palette='Accent')\n",
    "    ax = sns.countplot(x=target, hue=hue, data=dataset)\n",
    "    ax.figure.set_size_inches(10, 6)\n",
    "    ax.set_title('Feature Distribution', fontsize=18, loc='center')\n",
    "    ax.set_xlabel(target, fontsize=14)\n",
    "    ax.set_ylabel('Count', fontsize=14)\n",
    "    ax=ax\n",
    "\n",
    "def drop_outliers(var: str, dataset: pd.DataFrame):\n",
    "\n",
    "    # Calculando os Q1, Q3 e IQR\n",
    "    Q1 = np.quantile(dataset[var], .25)\n",
    "    Q3 = np.quantile(dataset[var], .75)\n",
    "    IQR = Q3 - Q1\n",
    "\n",
    "    # calculates the outliers boundaries through statistical relationship\n",
    "    low = Q1 - 1.5 * IQR\n",
    "    high = Q3 + 1.5 * IQR\n",
    "\n",
    "    dados_resultado = dataset.loc[(dataset[var] > low) & (dataset[var] < high),]\n",
    "\n",
    "    return dados_resultado\n",
    "\n",
    "def Myheat_map(dataset, variaveis):\n",
    "\n",
    "    df_corr = dataset[variaveis].corr()\n",
    "\n",
    "    fig, ax = plt.subplots(figsize=(16, 10))\n",
    "    # mask\n",
    "    mask = np.triu(np.ones_like(df_corr, dtype=np.bool))\n",
    "    # adjust mask and df\n",
    "    mask = mask[1:, :-1]\n",
    "    corr = df_corr.iloc[1:,:-1].copy()\n",
    "    # color map\n",
    "    cmap = sns.diverging_palette(0, 230, 90, 60, as_cmap=True)\n",
    "\n",
    "    # plot heatmap\n",
    "    sns.heatmap(corr, mask=mask, annot=True, fmt=\".2f\",\n",
    "                   linewidths=5, cmap=cmap, vmin=-1, vmax=1, \n",
    "                   cbar_kws={\"shrink\": .8}, square=True)\n",
    "    yticks = [i.upper() for i in corr.index]\n",
    "    xticks = [i.upper() for i in corr.columns]\n",
    "    plt.yticks(plt.yticks()[0], labels=yticks, rotation=0)\n",
    "    plt.xticks(plt.xticks()[0], labels=xticks, rotation=20)\n",
    "\n",
    "    # title\n",
    "    title = 'CORRELATION MATRIX\\n'\n",
    "    plt.title(title, loc='left', fontsize=18)\n",
    "    plt.show()"
   ]
  },
  {
   "cell_type": "markdown",
   "metadata": {
    "toc-hr-collapsed": true,
    "toc-nb-collapsed": true
   },
   "source": [
    "# 1.0 Coleta de Dados"
   ]
  },
  {
   "cell_type": "code",
   "execution_count": 32,
   "metadata": {
    "execution": {
     "iopub.execute_input": "2020-10-26T17:41:25.803563Z",
     "iopub.status.busy": "2020-10-26T17:41:25.803212Z",
     "iopub.status.idle": "2020-10-26T17:41:32.273277Z",
     "shell.execute_reply": "2020-10-26T17:41:32.272621Z",
     "shell.execute_reply.started": "2020-10-26T17:41:25.803525Z"
    }
   },
   "outputs": [
    {
     "name": "stdout",
     "output_type": "stream",
     "text": [
      "Quantidade de Colunas 11\n",
      "Quantidade de Observações 6362620\n"
     ]
    }
   ],
   "source": [
    "# With pandas\n",
    "train = pd.read_csv('../data/trans_fraud_data.csv')\n",
    "print(f'Quantidade de Colunas {train.shape[1]}')\n",
    "print(f'Quantidade de Observações {train.shape[0]}')"
   ]
  },
  {
   "cell_type": "markdown",
   "metadata": {
    "collapsed": "true",
    "toc-hr-collapsed": true,
    "toc-nb-collapsed": true
   },
   "source": [
    "# 2.0 Descrição dos dados"
   ]
  },
  {
   "cell_type": "markdown",
   "metadata": {},
   "source": [
    "- Nosso dataset não possui missing values, conforme Mydescribe.\n",
    "- Nosso dataset está bastante desbalanciado, 2.1 isFraud vs isFlaggedFraud.\n",
    "- A partir da análise da Skew e Kurtosis(conforme Mydescribe) podemos observar que as variáveis numericas precisaram ser transformadas. O tipo de transformação será decidido mais a frente.\n",
    "- A variável isFlaggedFraud possui somente 16 observações,as quais também estão como positivas em isFraud, podemos nos desfazer dessa variável.\n",
    "- A variável 'isFraud' é a nossa variável taret nesse problema!\n",
    "- A variável 'type' possui 5 valores únicos. 'PAYMENT','TRANSFER','DEBIT','CASH_OUT'\n",
    "- Possuímos casos de fraude somente para os tipos 'TRANSFER'e 'CASH_OUT', dessa forma podemos eliminar os outros tipos já que os mesmos só irão apresentar ao modelo exemplos de não fraude, ou seja, nosso modelo não irá conseguir modelar situações de fraude (nosso objetivo) a partir desses dados.\n",
    "- A partir do describe na seção 2.2 observamos que as variáveis 'amount' e 'step' variam por diversos niveis de grandeza desde da unidade simples até a centenas, 'step', ou a milhares 'amount'. Irei criar novas variáveis aplicando Binning e excluindo as originais tendo em vista que variáveis que ultrapassam varias ordens de grandeza são problemáticas para muitos modelos."
   ]
  },
  {
   "cell_type": "code",
   "execution_count": 6,
   "metadata": {
    "execution": {
     "iopub.execute_input": "2020-10-26T17:10:48.269532Z",
     "iopub.status.busy": "2020-10-26T17:10:48.269111Z",
     "iopub.status.idle": "2020-10-26T17:10:48.292406Z",
     "shell.execute_reply": "2020-10-26T17:10:48.291757Z",
     "shell.execute_reply.started": "2020-10-26T17:10:48.269484Z"
    }
   },
   "outputs": [
    {
     "data": {
      "text/html": [
       "<div>\n",
       "<style scoped>\n",
       "    .dataframe tbody tr th:only-of-type {\n",
       "        vertical-align: middle;\n",
       "    }\n",
       "\n",
       "    .dataframe tbody tr th {\n",
       "        vertical-align: top;\n",
       "    }\n",
       "\n",
       "    .dataframe thead th {\n",
       "        text-align: right;\n",
       "    }\n",
       "</style>\n",
       "<table border=\"1\" class=\"dataframe\">\n",
       "  <thead>\n",
       "    <tr style=\"text-align: right;\">\n",
       "      <th></th>\n",
       "      <th>step</th>\n",
       "      <th>type</th>\n",
       "      <th>amount</th>\n",
       "      <th>nameOrig</th>\n",
       "      <th>oldbalanceOrg</th>\n",
       "      <th>newbalanceOrig</th>\n",
       "      <th>nameDest</th>\n",
       "      <th>oldbalanceDest</th>\n",
       "      <th>newbalanceDest</th>\n",
       "      <th>isFraud</th>\n",
       "      <th>isFlaggedFraud</th>\n",
       "    </tr>\n",
       "  </thead>\n",
       "  <tbody>\n",
       "    <tr>\n",
       "      <th>0</th>\n",
       "      <td>1</td>\n",
       "      <td>PAYMENT</td>\n",
       "      <td>9839.64</td>\n",
       "      <td>C1231006815</td>\n",
       "      <td>170136.0</td>\n",
       "      <td>160296.36</td>\n",
       "      <td>M1979787155</td>\n",
       "      <td>0.0</td>\n",
       "      <td>0.0</td>\n",
       "      <td>0</td>\n",
       "      <td>0</td>\n",
       "    </tr>\n",
       "    <tr>\n",
       "      <th>1</th>\n",
       "      <td>1</td>\n",
       "      <td>PAYMENT</td>\n",
       "      <td>1864.28</td>\n",
       "      <td>C1666544295</td>\n",
       "      <td>21249.0</td>\n",
       "      <td>19384.72</td>\n",
       "      <td>M2044282225</td>\n",
       "      <td>0.0</td>\n",
       "      <td>0.0</td>\n",
       "      <td>0</td>\n",
       "      <td>0</td>\n",
       "    </tr>\n",
       "    <tr>\n",
       "      <th>2</th>\n",
       "      <td>1</td>\n",
       "      <td>TRANSFER</td>\n",
       "      <td>181.00</td>\n",
       "      <td>C1305486145</td>\n",
       "      <td>181.0</td>\n",
       "      <td>0.00</td>\n",
       "      <td>C553264065</td>\n",
       "      <td>0.0</td>\n",
       "      <td>0.0</td>\n",
       "      <td>1</td>\n",
       "      <td>0</td>\n",
       "    </tr>\n",
       "    <tr>\n",
       "      <th>3</th>\n",
       "      <td>1</td>\n",
       "      <td>CASH_OUT</td>\n",
       "      <td>181.00</td>\n",
       "      <td>C840083671</td>\n",
       "      <td>181.0</td>\n",
       "      <td>0.00</td>\n",
       "      <td>C38997010</td>\n",
       "      <td>21182.0</td>\n",
       "      <td>0.0</td>\n",
       "      <td>1</td>\n",
       "      <td>0</td>\n",
       "    </tr>\n",
       "    <tr>\n",
       "      <th>4</th>\n",
       "      <td>1</td>\n",
       "      <td>PAYMENT</td>\n",
       "      <td>11668.14</td>\n",
       "      <td>C2048537720</td>\n",
       "      <td>41554.0</td>\n",
       "      <td>29885.86</td>\n",
       "      <td>M1230701703</td>\n",
       "      <td>0.0</td>\n",
       "      <td>0.0</td>\n",
       "      <td>0</td>\n",
       "      <td>0</td>\n",
       "    </tr>\n",
       "  </tbody>\n",
       "</table>\n",
       "</div>"
      ],
      "text/plain": [
       "   step      type    amount     nameOrig  oldbalanceOrg  newbalanceOrig  \\\n",
       "0     1   PAYMENT   9839.64  C1231006815       170136.0       160296.36   \n",
       "1     1   PAYMENT   1864.28  C1666544295        21249.0        19384.72   \n",
       "2     1  TRANSFER    181.00  C1305486145          181.0            0.00   \n",
       "3     1  CASH_OUT    181.00   C840083671          181.0            0.00   \n",
       "4     1   PAYMENT  11668.14  C2048537720        41554.0        29885.86   \n",
       "\n",
       "      nameDest  oldbalanceDest  newbalanceDest  isFraud  isFlaggedFraud  \n",
       "0  M1979787155             0.0             0.0        0               0  \n",
       "1  M2044282225             0.0             0.0        0               0  \n",
       "2   C553264065             0.0             0.0        1               0  \n",
       "3    C38997010         21182.0             0.0        1               0  \n",
       "4  M1230701703             0.0             0.0        0               0  "
      ]
     },
     "execution_count": 6,
     "metadata": {},
     "output_type": "execute_result"
    }
   ],
   "source": [
    "# Checando os primeiros registros\n",
    "train.head()"
   ]
  },
  {
   "cell_type": "code",
   "execution_count": 7,
   "metadata": {
    "execution": {
     "iopub.execute_input": "2020-10-26T17:10:49.896839Z",
     "iopub.status.busy": "2020-10-26T17:10:49.896395Z",
     "iopub.status.idle": "2020-10-26T17:11:05.715078Z",
     "shell.execute_reply": "2020-10-26T17:11:05.714255Z",
     "shell.execute_reply.started": "2020-10-26T17:10:49.896790Z"
    }
   },
   "outputs": [
    {
     "data": {
      "text/html": [
       "<div>\n",
       "<style scoped>\n",
       "    .dataframe tbody tr th:only-of-type {\n",
       "        vertical-align: middle;\n",
       "    }\n",
       "\n",
       "    .dataframe tbody tr th {\n",
       "        vertical-align: top;\n",
       "    }\n",
       "\n",
       "    .dataframe thead th {\n",
       "        text-align: right;\n",
       "    }\n",
       "</style>\n",
       "<table border=\"1\" class=\"dataframe\">\n",
       "  <thead>\n",
       "    <tr style=\"text-align: right;\">\n",
       "      <th></th>\n",
       "      <th>missingPerc</th>\n",
       "      <th>uniques</th>\n",
       "      <th>%uniquePerc</th>\n",
       "      <th>data_types</th>\n",
       "      <th>skew</th>\n",
       "      <th>kurtosis</th>\n",
       "    </tr>\n",
       "  </thead>\n",
       "  <tbody>\n",
       "    <tr>\n",
       "      <th>amount</th>\n",
       "      <td>0.0</td>\n",
       "      <td>5316900</td>\n",
       "      <td>83.564632</td>\n",
       "      <td>float64</td>\n",
       "      <td>30.993949</td>\n",
       "      <td>1797.956705</td>\n",
       "    </tr>\n",
       "    <tr>\n",
       "      <th>isFlaggedFraud</th>\n",
       "      <td>0.0</td>\n",
       "      <td>2</td>\n",
       "      <td>0.000031</td>\n",
       "      <td>int64</td>\n",
       "      <td>630.603629</td>\n",
       "      <td>397659.062500</td>\n",
       "    </tr>\n",
       "    <tr>\n",
       "      <th>isFraud</th>\n",
       "      <td>0.0</td>\n",
       "      <td>2</td>\n",
       "      <td>0.000031</td>\n",
       "      <td>int64</td>\n",
       "      <td>27.779538</td>\n",
       "      <td>769.702982</td>\n",
       "    </tr>\n",
       "    <tr>\n",
       "      <th>nameDest</th>\n",
       "      <td>0.0</td>\n",
       "      <td>2722362</td>\n",
       "      <td>42.786808</td>\n",
       "      <td>object</td>\n",
       "      <td>NaN</td>\n",
       "      <td>NaN</td>\n",
       "    </tr>\n",
       "    <tr>\n",
       "      <th>nameOrig</th>\n",
       "      <td>0.0</td>\n",
       "      <td>6353307</td>\n",
       "      <td>99.853629</td>\n",
       "      <td>object</td>\n",
       "      <td>NaN</td>\n",
       "      <td>NaN</td>\n",
       "    </tr>\n",
       "    <tr>\n",
       "      <th>newbalanceDest</th>\n",
       "      <td>0.0</td>\n",
       "      <td>3555499</td>\n",
       "      <td>55.881052</td>\n",
       "      <td>float64</td>\n",
       "      <td>19.352302</td>\n",
       "      <td>862.156508</td>\n",
       "    </tr>\n",
       "    <tr>\n",
       "      <th>newbalanceOrig</th>\n",
       "      <td>0.0</td>\n",
       "      <td>2682586</td>\n",
       "      <td>42.161657</td>\n",
       "      <td>float64</td>\n",
       "      <td>5.176884</td>\n",
       "      <td>32.066985</td>\n",
       "    </tr>\n",
       "    <tr>\n",
       "      <th>oldbalanceDest</th>\n",
       "      <td>0.0</td>\n",
       "      <td>3614697</td>\n",
       "      <td>56.811455</td>\n",
       "      <td>float64</td>\n",
       "      <td>19.921758</td>\n",
       "      <td>948.674125</td>\n",
       "    </tr>\n",
       "    <tr>\n",
       "      <th>oldbalanceOrg</th>\n",
       "      <td>0.0</td>\n",
       "      <td>1845844</td>\n",
       "      <td>29.010753</td>\n",
       "      <td>float64</td>\n",
       "      <td>5.249136</td>\n",
       "      <td>32.964879</td>\n",
       "    </tr>\n",
       "    <tr>\n",
       "      <th>step</th>\n",
       "      <td>0.0</td>\n",
       "      <td>743</td>\n",
       "      <td>0.011678</td>\n",
       "      <td>int64</td>\n",
       "      <td>0.375177</td>\n",
       "      <td>0.329071</td>\n",
       "    </tr>\n",
       "    <tr>\n",
       "      <th>type</th>\n",
       "      <td>0.0</td>\n",
       "      <td>5</td>\n",
       "      <td>0.000079</td>\n",
       "      <td>object</td>\n",
       "      <td>NaN</td>\n",
       "      <td>NaN</td>\n",
       "    </tr>\n",
       "  </tbody>\n",
       "</table>\n",
       "</div>"
      ],
      "text/plain": [
       "                missingPerc  uniques  %uniquePerc data_types        skew  \\\n",
       "amount                  0.0  5316900    83.564632    float64   30.993949   \n",
       "isFlaggedFraud          0.0        2     0.000031      int64  630.603629   \n",
       "isFraud                 0.0        2     0.000031      int64   27.779538   \n",
       "nameDest                0.0  2722362    42.786808     object         NaN   \n",
       "nameOrig                0.0  6353307    99.853629     object         NaN   \n",
       "newbalanceDest          0.0  3555499    55.881052    float64   19.352302   \n",
       "newbalanceOrig          0.0  2682586    42.161657    float64    5.176884   \n",
       "oldbalanceDest          0.0  3614697    56.811455    float64   19.921758   \n",
       "oldbalanceOrg           0.0  1845844    29.010753    float64    5.249136   \n",
       "step                    0.0      743     0.011678      int64    0.375177   \n",
       "type                    0.0        5     0.000079     object         NaN   \n",
       "\n",
       "                     kurtosis  \n",
       "amount            1797.956705  \n",
       "isFlaggedFraud  397659.062500  \n",
       "isFraud            769.702982  \n",
       "nameDest                  NaN  \n",
       "nameOrig                  NaN  \n",
       "newbalanceDest     862.156508  \n",
       "newbalanceOrig      32.066985  \n",
       "oldbalanceDest     948.674125  \n",
       "oldbalanceOrg       32.964879  \n",
       "step                 0.329071  \n",
       "type                      NaN  "
      ]
     },
     "execution_count": 7,
     "metadata": {},
     "output_type": "execute_result"
    }
   ],
   "source": [
    "# Mydescribe\n",
    "pd.DataFrame({'missingPerc': train.isna().mean(),\n",
    "              'uniques': train.nunique(),\n",
    "              '%uniquePerc': (train.nunique()/train.shape[0])*100,\n",
    "              'data_types': train.dtypes,\n",
    "              'skew': train.skew(),\n",
    "              'kurtosis': train.kurt()\n",
    "               })"
   ]
  },
  {
   "cell_type": "markdown",
   "metadata": {},
   "source": [
    "## 2.1 isFraud vs isFlaggedFraud"
   ]
  },
  {
   "cell_type": "code",
   "execution_count": 8,
   "metadata": {
    "execution": {
     "iopub.execute_input": "2020-10-26T17:11:11.713577Z",
     "iopub.status.busy": "2020-10-26T17:11:11.713205Z",
     "iopub.status.idle": "2020-10-26T17:11:12.469863Z",
     "shell.execute_reply": "2020-10-26T17:11:12.469226Z",
     "shell.execute_reply.started": "2020-10-26T17:11:11.713531Z"
    }
   },
   "outputs": [
    {
     "name": "stdout",
     "output_type": "stream",
     "text": [
      "Quantidade de eventos positivos - isFraud- 8213\n",
      "Percentual de eventos positivos - isFraud- 0.12908204481801522\n",
      "\n",
      "Quantidade de eventos positivos - isFlaggedFraud- 16\n",
      "Percentual de eventos positivos - isFlaggedFraud- 0.12908204481801522\n",
      "\n"
     ]
    },
    {
     "data": {
      "image/png": "[encoded data removed]",
      "text/plain": [
       "<Figure size 720x432 with 2 Axes>"
      ]
     },
     "metadata": {
      "needs_background": "light"
     },
     "output_type": "display_data"
    }
   ],
   "source": [
    "quant = train['isFraud'].sum()\n",
    "perc = (quant/train.shape[0])*100\n",
    "print(f'Quantidade de eventos positivos - isFraud- {quant}')\n",
    "print(f'Percentual de eventos positivos - isFraud- {perc}\\n')\n",
    "\n",
    "quant1 = train['isFlaggedFraud'].sum()\n",
    "perc1 = (quant/train.shape[0])*100\n",
    "print(f'Quantidade de eventos positivos - isFlaggedFraud- {quant1}')\n",
    "print(f'Percentual de eventos positivos - isFlaggedFraud- {perc1}\\n')\n",
    "\n",
    "\n",
    "# Plots\n",
    "plt.subplot(1, 2, 1)\n",
    "balanced_target('isFraud', dataset=train)\n",
    "\n",
    "plt.subplot(1, 2, 2)\n",
    "balanced_target('isFlaggedFraud', dataset=train)"
   ]
  },
  {
   "cell_type": "code",
   "execution_count": 9,
   "metadata": {
    "execution": {
     "iopub.execute_input": "2020-10-26T17:11:12.471049Z",
     "iopub.status.busy": "2020-10-26T17:11:12.470876Z",
     "iopub.status.idle": "2020-10-26T17:11:12.496386Z",
     "shell.execute_reply": "2020-10-26T17:11:12.495764Z",
     "shell.execute_reply.started": "2020-10-26T17:11:12.471027Z"
    }
   },
   "outputs": [
    {
     "data": {
      "text/html": [
       "<div>\n",
       "<style scoped>\n",
       "    .dataframe tbody tr th:only-of-type {\n",
       "        vertical-align: middle;\n",
       "    }\n",
       "\n",
       "    .dataframe tbody tr th {\n",
       "        vertical-align: top;\n",
       "    }\n",
       "\n",
       "    .dataframe thead th {\n",
       "        text-align: right;\n",
       "    }\n",
       "</style>\n",
       "<table border=\"1\" class=\"dataframe\">\n",
       "  <thead>\n",
       "    <tr style=\"text-align: right;\">\n",
       "      <th></th>\n",
       "      <th>step</th>\n",
       "      <th>type</th>\n",
       "      <th>amount</th>\n",
       "      <th>nameOrig</th>\n",
       "      <th>oldbalanceOrg</th>\n",
       "      <th>newbalanceOrig</th>\n",
       "      <th>nameDest</th>\n",
       "      <th>oldbalanceDest</th>\n",
       "      <th>newbalanceDest</th>\n",
       "      <th>isFraud</th>\n",
       "      <th>isFlaggedFraud</th>\n",
       "    </tr>\n",
       "  </thead>\n",
       "  <tbody>\n",
       "    <tr>\n",
       "      <th>2736446</th>\n",
       "      <td>212</td>\n",
       "      <td>TRANSFER</td>\n",
       "      <td>4953893.08</td>\n",
       "      <td>C728984460</td>\n",
       "      <td>4953893.08</td>\n",
       "      <td>4953893.08</td>\n",
       "      <td>C639921569</td>\n",
       "      <td>0.0</td>\n",
       "      <td>0.0</td>\n",
       "      <td>1</td>\n",
       "      <td>1</td>\n",
       "    </tr>\n",
       "    <tr>\n",
       "      <th>3247297</th>\n",
       "      <td>250</td>\n",
       "      <td>TRANSFER</td>\n",
       "      <td>1343002.08</td>\n",
       "      <td>C1100582606</td>\n",
       "      <td>1343002.08</td>\n",
       "      <td>1343002.08</td>\n",
       "      <td>C1147517658</td>\n",
       "      <td>0.0</td>\n",
       "      <td>0.0</td>\n",
       "      <td>1</td>\n",
       "      <td>1</td>\n",
       "    </tr>\n",
       "    <tr>\n",
       "      <th>3760288</th>\n",
       "      <td>279</td>\n",
       "      <td>TRANSFER</td>\n",
       "      <td>536624.41</td>\n",
       "      <td>C1035541766</td>\n",
       "      <td>536624.41</td>\n",
       "      <td>536624.41</td>\n",
       "      <td>C1100697970</td>\n",
       "      <td>0.0</td>\n",
       "      <td>0.0</td>\n",
       "      <td>1</td>\n",
       "      <td>1</td>\n",
       "    </tr>\n",
       "    <tr>\n",
       "      <th>5563713</th>\n",
       "      <td>387</td>\n",
       "      <td>TRANSFER</td>\n",
       "      <td>4892193.09</td>\n",
       "      <td>C908544136</td>\n",
       "      <td>4892193.09</td>\n",
       "      <td>4892193.09</td>\n",
       "      <td>C891140444</td>\n",
       "      <td>0.0</td>\n",
       "      <td>0.0</td>\n",
       "      <td>1</td>\n",
       "      <td>1</td>\n",
       "    </tr>\n",
       "    <tr>\n",
       "      <th>5996407</th>\n",
       "      <td>425</td>\n",
       "      <td>TRANSFER</td>\n",
       "      <td>10000000.00</td>\n",
       "      <td>C689608084</td>\n",
       "      <td>19585040.37</td>\n",
       "      <td>19585040.37</td>\n",
       "      <td>C1392803603</td>\n",
       "      <td>0.0</td>\n",
       "      <td>0.0</td>\n",
       "      <td>1</td>\n",
       "      <td>1</td>\n",
       "    </tr>\n",
       "    <tr>\n",
       "      <th>5996409</th>\n",
       "      <td>425</td>\n",
       "      <td>TRANSFER</td>\n",
       "      <td>9585040.37</td>\n",
       "      <td>C452586515</td>\n",
       "      <td>19585040.37</td>\n",
       "      <td>19585040.37</td>\n",
       "      <td>C1109166882</td>\n",
       "      <td>0.0</td>\n",
       "      <td>0.0</td>\n",
       "      <td>1</td>\n",
       "      <td>1</td>\n",
       "    </tr>\n",
       "    <tr>\n",
       "      <th>6168499</th>\n",
       "      <td>554</td>\n",
       "      <td>TRANSFER</td>\n",
       "      <td>3576297.10</td>\n",
       "      <td>C193696150</td>\n",
       "      <td>3576297.10</td>\n",
       "      <td>3576297.10</td>\n",
       "      <td>C484597480</td>\n",
       "      <td>0.0</td>\n",
       "      <td>0.0</td>\n",
       "      <td>1</td>\n",
       "      <td>1</td>\n",
       "    </tr>\n",
       "    <tr>\n",
       "      <th>6205439</th>\n",
       "      <td>586</td>\n",
       "      <td>TRANSFER</td>\n",
       "      <td>353874.22</td>\n",
       "      <td>C1684585475</td>\n",
       "      <td>353874.22</td>\n",
       "      <td>353874.22</td>\n",
       "      <td>C1770418982</td>\n",
       "      <td>0.0</td>\n",
       "      <td>0.0</td>\n",
       "      <td>1</td>\n",
       "      <td>1</td>\n",
       "    </tr>\n",
       "    <tr>\n",
       "      <th>6266413</th>\n",
       "      <td>617</td>\n",
       "      <td>TRANSFER</td>\n",
       "      <td>2542664.27</td>\n",
       "      <td>C786455622</td>\n",
       "      <td>2542664.27</td>\n",
       "      <td>2542664.27</td>\n",
       "      <td>C661958277</td>\n",
       "      <td>0.0</td>\n",
       "      <td>0.0</td>\n",
       "      <td>1</td>\n",
       "      <td>1</td>\n",
       "    </tr>\n",
       "    <tr>\n",
       "      <th>6281482</th>\n",
       "      <td>646</td>\n",
       "      <td>TRANSFER</td>\n",
       "      <td>10000000.00</td>\n",
       "      <td>C19004745</td>\n",
       "      <td>10399045.08</td>\n",
       "      <td>10399045.08</td>\n",
       "      <td>C1806199534</td>\n",
       "      <td>0.0</td>\n",
       "      <td>0.0</td>\n",
       "      <td>1</td>\n",
       "      <td>1</td>\n",
       "    </tr>\n",
       "    <tr>\n",
       "      <th>6281484</th>\n",
       "      <td>646</td>\n",
       "      <td>TRANSFER</td>\n",
       "      <td>399045.08</td>\n",
       "      <td>C724693370</td>\n",
       "      <td>10399045.08</td>\n",
       "      <td>10399045.08</td>\n",
       "      <td>C1909486199</td>\n",
       "      <td>0.0</td>\n",
       "      <td>0.0</td>\n",
       "      <td>1</td>\n",
       "      <td>1</td>\n",
       "    </tr>\n",
       "    <tr>\n",
       "      <th>6296014</th>\n",
       "      <td>671</td>\n",
       "      <td>TRANSFER</td>\n",
       "      <td>3441041.46</td>\n",
       "      <td>C917414431</td>\n",
       "      <td>3441041.46</td>\n",
       "      <td>3441041.46</td>\n",
       "      <td>C1082139865</td>\n",
       "      <td>0.0</td>\n",
       "      <td>0.0</td>\n",
       "      <td>1</td>\n",
       "      <td>1</td>\n",
       "    </tr>\n",
       "    <tr>\n",
       "      <th>6351225</th>\n",
       "      <td>702</td>\n",
       "      <td>TRANSFER</td>\n",
       "      <td>3171085.59</td>\n",
       "      <td>C1892216157</td>\n",
       "      <td>3171085.59</td>\n",
       "      <td>3171085.59</td>\n",
       "      <td>C1308068787</td>\n",
       "      <td>0.0</td>\n",
       "      <td>0.0</td>\n",
       "      <td>1</td>\n",
       "      <td>1</td>\n",
       "    </tr>\n",
       "    <tr>\n",
       "      <th>6362460</th>\n",
       "      <td>730</td>\n",
       "      <td>TRANSFER</td>\n",
       "      <td>10000000.00</td>\n",
       "      <td>C2140038573</td>\n",
       "      <td>17316255.05</td>\n",
       "      <td>17316255.05</td>\n",
       "      <td>C1395467927</td>\n",
       "      <td>0.0</td>\n",
       "      <td>0.0</td>\n",
       "      <td>1</td>\n",
       "      <td>1</td>\n",
       "    </tr>\n",
       "    <tr>\n",
       "      <th>6362462</th>\n",
       "      <td>730</td>\n",
       "      <td>TRANSFER</td>\n",
       "      <td>7316255.05</td>\n",
       "      <td>C1869569059</td>\n",
       "      <td>17316255.05</td>\n",
       "      <td>17316255.05</td>\n",
       "      <td>C1861208726</td>\n",
       "      <td>0.0</td>\n",
       "      <td>0.0</td>\n",
       "      <td>1</td>\n",
       "      <td>1</td>\n",
       "    </tr>\n",
       "    <tr>\n",
       "      <th>6362584</th>\n",
       "      <td>741</td>\n",
       "      <td>TRANSFER</td>\n",
       "      <td>5674547.89</td>\n",
       "      <td>C992223106</td>\n",
       "      <td>5674547.89</td>\n",
       "      <td>5674547.89</td>\n",
       "      <td>C1366804249</td>\n",
       "      <td>0.0</td>\n",
       "      <td>0.0</td>\n",
       "      <td>1</td>\n",
       "      <td>1</td>\n",
       "    </tr>\n",
       "  </tbody>\n",
       "</table>\n",
       "</div>"
      ],
      "text/plain": [
       "         step      type       amount     nameOrig  oldbalanceOrg  \\\n",
       "2736446   212  TRANSFER   4953893.08   C728984460     4953893.08   \n",
       "3247297   250  TRANSFER   1343002.08  C1100582606     1343002.08   \n",
       "3760288   279  TRANSFER    536624.41  C1035541766      536624.41   \n",
       "5563713   387  TRANSFER   4892193.09   C908544136     4892193.09   \n",
       "5996407   425  TRANSFER  10000000.00   C689608084    19585040.37   \n",
       "5996409   425  TRANSFER   9585040.37   C452586515    19585040.37   \n",
       "6168499   554  TRANSFER   3576297.10   C193696150     3576297.10   \n",
       "6205439   586  TRANSFER    353874.22  C1684585475      353874.22   \n",
       "6266413   617  TRANSFER   2542664.27   C786455622     2542664.27   \n",
       "6281482   646  TRANSFER  10000000.00    C19004745    10399045.08   \n",
       "6281484   646  TRANSFER    399045.08   C724693370    10399045.08   \n",
       "6296014   671  TRANSFER   3441041.46   C917414431     3441041.46   \n",
       "6351225   702  TRANSFER   3171085.59  C1892216157     3171085.59   \n",
       "6362460   730  TRANSFER  10000000.00  C2140038573    17316255.05   \n",
       "6362462   730  TRANSFER   7316255.05  C1869569059    17316255.05   \n",
       "6362584   741  TRANSFER   5674547.89   C992223106     5674547.89   \n",
       "\n",
       "         newbalanceOrig     nameDest  oldbalanceDest  newbalanceDest  isFraud  \\\n",
       "2736446      4953893.08   C639921569             0.0             0.0        1   \n",
       "3247297      1343002.08  C1147517658             0.0             0.0        1   \n",
       "3760288       536624.41  C1100697970             0.0             0.0        1   \n",
       "5563713      4892193.09   C891140444             0.0             0.0        1   \n",
       "5996407     19585040.37  C1392803603             0.0             0.0        1   \n",
       "5996409     19585040.37  C1109166882             0.0             0.0        1   \n",
       "6168499      3576297.10   C484597480             0.0             0.0        1   \n",
       "6205439       353874.22  C1770418982             0.0             0.0        1   \n",
       "6266413      2542664.27   C661958277             0.0             0.0        1   \n",
       "6281482     10399045.08  C1806199534             0.0             0.0        1   \n",
       "6281484     10399045.08  C1909486199             0.0             0.0        1   \n",
       "6296014      3441041.46  C1082139865             0.0             0.0        1   \n",
       "6351225      3171085.59  C1308068787             0.0             0.0        1   \n",
       "6362460     17316255.05  C1395467927             0.0             0.0        1   \n",
       "6362462     17316255.05  C1861208726             0.0             0.0        1   \n",
       "6362584      5674547.89  C1366804249             0.0             0.0        1   \n",
       "\n",
       "         isFlaggedFraud  \n",
       "2736446               1  \n",
       "3247297               1  \n",
       "3760288               1  \n",
       "5563713               1  \n",
       "5996407               1  \n",
       "5996409               1  \n",
       "6168499               1  \n",
       "6205439               1  \n",
       "6266413               1  \n",
       "6281482               1  \n",
       "6281484               1  \n",
       "6296014               1  \n",
       "6351225               1  \n",
       "6362460               1  \n",
       "6362462               1  \n",
       "6362584               1  "
      ]
     },
     "execution_count": 9,
     "metadata": {},
     "output_type": "execute_result"
    }
   ],
   "source": [
    "dadosTemp = train.loc[train['isFlaggedFraud']==1,]\n",
    "dadosTemp"
   ]
  },
  {
   "cell_type": "markdown",
   "metadata": {},
   "source": [
    "## 2.2 Descrição variável 'type'"
   ]
  },
  {
   "cell_type": "code",
   "execution_count": 10,
   "metadata": {
    "execution": {
     "iopub.execute_input": "2020-10-26T17:11:12.497718Z",
     "iopub.status.busy": "2020-10-26T17:11:12.497531Z",
     "iopub.status.idle": "2020-10-26T17:11:12.892661Z",
     "shell.execute_reply": "2020-10-26T17:11:12.891936Z",
     "shell.execute_reply.started": "2020-10-26T17:11:12.497695Z"
    }
   },
   "outputs": [
    {
     "name": "stdout",
     "output_type": "stream",
     "text": [
      "Valores únicos de type são ['PAYMENT' 'TRANSFER' 'CASH_OUT' 'DEBIT' 'CASH_IN']\n",
      "\n"
     ]
    },
    {
     "data": {
      "image/png": "[encoded data removed]",
      "text/plain": [
       "<Figure size 720x432 with 1 Axes>"
      ]
     },
     "metadata": {},
     "output_type": "display_data"
    }
   ],
   "source": [
    "# Quantidade Fraud\n",
    "data_temp = train.loc[train['isFraud'] == 1,]\n",
    "\n",
    "uniq = train['type'].unique()\n",
    "print(f'Valores únicos de type são {uniq}\\n')\n",
    "balanced_target('type', dataset=data_temp)"
   ]
  },
  {
   "cell_type": "markdown",
   "metadata": {},
   "source": [
    "## 2.2 Outras Variáveis"
   ]
  },
  {
   "cell_type": "code",
   "execution_count": 11,
   "metadata": {
    "execution": {
     "iopub.execute_input": "2020-10-26T17:11:12.893873Z",
     "iopub.status.busy": "2020-10-26T17:11:12.893701Z",
     "iopub.status.idle": "2020-10-26T17:11:14.247700Z",
     "shell.execute_reply": "2020-10-26T17:11:14.246982Z",
     "shell.execute_reply.started": "2020-10-26T17:11:12.893856Z"
    }
   },
   "outputs": [
    {
     "data": {
      "text/html": [
       "<div>\n",
       "<style scoped>\n",
       "    .dataframe tbody tr th:only-of-type {\n",
       "        vertical-align: middle;\n",
       "    }\n",
       "\n",
       "    .dataframe tbody tr th {\n",
       "        vertical-align: top;\n",
       "    }\n",
       "\n",
       "    .dataframe thead th {\n",
       "        text-align: right;\n",
       "    }\n",
       "</style>\n",
       "<table border=\"1\" class=\"dataframe\">\n",
       "  <thead>\n",
       "    <tr style=\"text-align: right;\">\n",
       "      <th></th>\n",
       "      <th>count</th>\n",
       "      <th>mean</th>\n",
       "      <th>std</th>\n",
       "      <th>min</th>\n",
       "      <th>25%</th>\n",
       "      <th>50%</th>\n",
       "      <th>75%</th>\n",
       "      <th>max</th>\n",
       "    </tr>\n",
       "  </thead>\n",
       "  <tbody>\n",
       "    <tr>\n",
       "      <th>amount</th>\n",
       "      <td>6362620.0</td>\n",
       "      <td>1.798619e+05</td>\n",
       "      <td>6.038582e+05</td>\n",
       "      <td>0.0</td>\n",
       "      <td>13389.57</td>\n",
       "      <td>74871.940</td>\n",
       "      <td>2.087215e+05</td>\n",
       "      <td>9.244552e+07</td>\n",
       "    </tr>\n",
       "    <tr>\n",
       "      <th>step</th>\n",
       "      <td>6362620.0</td>\n",
       "      <td>2.433972e+02</td>\n",
       "      <td>1.423320e+02</td>\n",
       "      <td>1.0</td>\n",
       "      <td>156.00</td>\n",
       "      <td>239.000</td>\n",
       "      <td>3.350000e+02</td>\n",
       "      <td>7.430000e+02</td>\n",
       "    </tr>\n",
       "    <tr>\n",
       "      <th>oldbalanceOrg</th>\n",
       "      <td>6362620.0</td>\n",
       "      <td>8.338831e+05</td>\n",
       "      <td>2.888243e+06</td>\n",
       "      <td>0.0</td>\n",
       "      <td>0.00</td>\n",
       "      <td>14208.000</td>\n",
       "      <td>1.073152e+05</td>\n",
       "      <td>5.958504e+07</td>\n",
       "    </tr>\n",
       "    <tr>\n",
       "      <th>newbalanceOrig</th>\n",
       "      <td>6362620.0</td>\n",
       "      <td>8.551137e+05</td>\n",
       "      <td>2.924049e+06</td>\n",
       "      <td>0.0</td>\n",
       "      <td>0.00</td>\n",
       "      <td>0.000</td>\n",
       "      <td>1.442584e+05</td>\n",
       "      <td>4.958504e+07</td>\n",
       "    </tr>\n",
       "    <tr>\n",
       "      <th>oldbalanceDest</th>\n",
       "      <td>6362620.0</td>\n",
       "      <td>1.100702e+06</td>\n",
       "      <td>3.399180e+06</td>\n",
       "      <td>0.0</td>\n",
       "      <td>0.00</td>\n",
       "      <td>132705.665</td>\n",
       "      <td>9.430367e+05</td>\n",
       "      <td>3.560159e+08</td>\n",
       "    </tr>\n",
       "    <tr>\n",
       "      <th>newbalanceDest</th>\n",
       "      <td>6362620.0</td>\n",
       "      <td>1.224996e+06</td>\n",
       "      <td>3.674129e+06</td>\n",
       "      <td>0.0</td>\n",
       "      <td>0.00</td>\n",
       "      <td>214661.440</td>\n",
       "      <td>1.111909e+06</td>\n",
       "      <td>3.561793e+08</td>\n",
       "    </tr>\n",
       "  </tbody>\n",
       "</table>\n",
       "</div>"
      ],
      "text/plain": [
       "                    count          mean           std  min       25%  \\\n",
       "amount          6362620.0  1.798619e+05  6.038582e+05  0.0  13389.57   \n",
       "step            6362620.0  2.433972e+02  1.423320e+02  1.0    156.00   \n",
       "oldbalanceOrg   6362620.0  8.338831e+05  2.888243e+06  0.0      0.00   \n",
       "newbalanceOrig  6362620.0  8.551137e+05  2.924049e+06  0.0      0.00   \n",
       "oldbalanceDest  6362620.0  1.100702e+06  3.399180e+06  0.0      0.00   \n",
       "newbalanceDest  6362620.0  1.224996e+06  3.674129e+06  0.0      0.00   \n",
       "\n",
       "                       50%           75%           max  \n",
       "amount           74871.940  2.087215e+05  9.244552e+07  \n",
       "step               239.000  3.350000e+02  7.430000e+02  \n",
       "oldbalanceOrg    14208.000  1.073152e+05  5.958504e+07  \n",
       "newbalanceOrig       0.000  1.442584e+05  4.958504e+07  \n",
       "oldbalanceDest  132705.665  9.430367e+05  3.560159e+08  \n",
       "newbalanceDest  214661.440  1.111909e+06  3.561793e+08  "
      ]
     },
     "execution_count": 11,
     "metadata": {},
     "output_type": "execute_result"
    }
   ],
   "source": [
    "# Describe\n",
    "variables = ['amount','step', 'oldbalanceOrg', 'newbalanceOrig', 'oldbalanceDest', 'newbalanceDest']\n",
    "train[variables].describe().T"
   ]
  },
  {
   "cell_type": "markdown",
   "metadata": {},
   "source": [
    "### 2.2.1 Analisando 'Amount', 'oldBalanceDest', 'newBalanceDest', 'oldBalanceOrig', 'newBalanceOrig'"
   ]
  },
  {
   "cell_type": "code",
   "execution_count": 12,
   "metadata": {
    "execution": {
     "iopub.execute_input": "2020-10-26T17:11:14.999458Z",
     "iopub.status.busy": "2020-10-26T17:11:14.999141Z",
     "iopub.status.idle": "2020-10-26T17:11:15.238577Z",
     "shell.execute_reply": "2020-10-26T17:11:15.237692Z",
     "shell.execute_reply.started": "2020-10-26T17:11:14.999423Z"
    }
   },
   "outputs": [
    {
     "name": "stdout",
     "output_type": "stream",
     "text": [
      "O percentual de casos onde o amount é diferente de 0 com oldbalanceDest e newbalanceDest iguais 36.0%\n"
     ]
    }
   ],
   "source": [
    "# Percentual de operações amount != de zero oldBalanceDest e newBalanceDest são iguais a 0\n",
    "quant_dest = train.loc[(train['amount'] != 0) & (train['oldbalanceDest'] == 0) & (train['newbalanceDest'] == 0), ]\n",
    "\n",
    "perc_quant_dest = round(quant_dest.shape[0]/train.shape[0], 2)*100\n",
    "print(f'O percentual de casos onde o amount é diferente de 0 com oldbalanceDest e newbalanceDest iguais {perc_quant_dest}%')"
   ]
  },
  {
   "cell_type": "code",
   "execution_count": 13,
   "metadata": {
    "execution": {
     "iopub.execute_input": "2020-10-26T17:11:15.266211Z",
     "iopub.status.busy": "2020-10-26T17:11:15.265985Z",
     "iopub.status.idle": "2020-10-26T17:11:15.484083Z",
     "shell.execute_reply": "2020-10-26T17:11:15.483366Z",
     "shell.execute_reply.started": "2020-10-26T17:11:15.266188Z"
    }
   },
   "outputs": [
    {
     "name": "stdout",
     "output_type": "stream",
     "text": [
      "O percentual de casos onde o amount é diferente de 0 com oldbalanceDest e newbalanceDest iguais 33.0%\n"
     ]
    }
   ],
   "source": [
    "# Percentual de operações amount != de zero oldBalanceOrig e newBalanceOrig são iguais a 0\n",
    "\n",
    "quant_orig = train.loc[(train['amount'] != 0) & (train['oldbalanceOrg'] == 0) & (train['newbalanceOrig'] == 0), ]\n",
    "\n",
    "perc_quant_orig = round(quant_orig.shape[0]/train.shape[0], 2)*100\n",
    "print(f'O percentual de casos onde o amount é diferente de 0 com oldbalanceDest e newbalanceDest iguais {perc_quant_orig}%')"
   ]
  },
  {
   "cell_type": "markdown",
   "metadata": {
    "toc-hr-collapsed": true,
    "toc-nb-collapsed": true
   },
   "source": [
    "# 3.0 Limpeza de dados"
   ]
  },
  {
   "cell_type": "markdown",
   "metadata": {},
   "source": [
    "- Conforme observado na etapa de descrição dos dados iremos eliminar a variável 'isFlaggedFraud', pois possui apenas 16 observações positivas sendo que as mesmas também são positivas para a variável 'isFraud'\n",
    "- Conforme observado na etapa de descrição dos dados iremos eliminar as observações com 'type' diferente de 'TRANSFER' e 'CASH_OUT'\n",
    "- Investigar e eliminar os outliers"
   ]
  },
  {
   "cell_type": "markdown",
   "metadata": {},
   "source": [
    "## 3.1 Eliminando a variável 'isFlaggedFraud' e os 'types' PAYMENT, CASH_IN, DEBIT"
   ]
  },
  {
   "cell_type": "code",
   "execution_count": 33,
   "metadata": {
    "execution": {
     "iopub.execute_input": "2020-10-26T17:41:33.008815Z",
     "iopub.status.busy": "2020-10-26T17:41:33.008405Z",
     "iopub.status.idle": "2020-10-26T17:41:35.373573Z",
     "shell.execute_reply": "2020-10-26T17:41:35.372921Z",
     "shell.execute_reply.started": "2020-10-26T17:41:33.008769Z"
    }
   },
   "outputs": [],
   "source": [
    "# 'isFlaggedFraud'\n",
    "train.drop('isFlaggedFraud', inplace=True, axis=1)\n",
    "\n",
    "# PAYMENT, CASH_IN, DEBIT\n",
    "index = train.loc[(train['type'] != 'TRANSFER') & (train['type'] != 'CASH_OUT'), ].index\n",
    "train.drop(index, inplace=True, axis=0)"
   ]
  },
  {
   "cell_type": "markdown",
   "metadata": {
    "execution": {
     "iopub.execute_input": "2020-10-24T17:16:52.967202Z",
     "iopub.status.busy": "2020-10-24T17:16:52.966713Z",
     "iopub.status.idle": "2020-10-24T17:16:52.971875Z",
     "shell.execute_reply": "2020-10-24T17:16:52.970545Z",
     "shell.execute_reply.started": "2020-10-24T17:16:52.967139Z"
    }
   },
   "source": [
    "## 3.2 Eliminando Outliers"
   ]
  },
  {
   "cell_type": "markdown",
   "metadata": {},
   "source": [
    "### 3.2.1 Com as classes positivas"
   ]
  },
  {
   "cell_type": "code",
   "execution_count": 34,
   "metadata": {
    "execution": {
     "iopub.execute_input": "2020-10-26T17:41:35.374470Z",
     "iopub.status.busy": "2020-10-26T17:41:35.374348Z",
     "iopub.status.idle": "2020-10-26T17:41:39.211037Z",
     "shell.execute_reply": "2020-10-26T17:41:39.210489Z",
     "shell.execute_reply.started": "2020-10-26T17:41:35.374454Z"
    }
   },
   "outputs": [
    {
     "data": {
      "image/png": "[encoded data removed]",
      "text/plain": [
       "<Figure size 1296x720 with 6 Axes>"
      ]
     },
     "metadata": {},
     "output_type": "display_data"
    }
   ],
   "source": [
    "# Investigando Outliers\n",
    "explorer = mtb.EDA(train)\n",
    "explorer.multi_boxplots(['amount', 'step','oldbalanceOrg','newbalanceOrig','oldbalanceDest','newbalanceDest'])"
   ]
  },
  {
   "cell_type": "code",
   "execution_count": 35,
   "metadata": {
    "execution": {
     "iopub.execute_input": "2020-10-26T17:41:39.212110Z",
     "iopub.status.busy": "2020-10-26T17:41:39.211986Z",
     "iopub.status.idle": "2020-10-26T17:41:39.748937Z",
     "shell.execute_reply": "2020-10-26T17:41:39.748371Z",
     "shell.execute_reply.started": "2020-10-26T17:41:39.212094Z"
    }
   },
   "outputs": [
    {
     "data": {
      "text/plain": [
       "(2185708, 10)"
      ]
     },
     "execution_count": 35,
     "metadata": {},
     "output_type": "execute_result"
    }
   ],
   "source": [
    "# Eliminando os Outliers\n",
    "treino = drop_outliers('amount', train)\n",
    "treino = drop_outliers('oldbalanceOrg', treino)\n",
    "treino.shape"
   ]
  },
  {
   "cell_type": "code",
   "execution_count": 36,
   "metadata": {
    "execution": {
     "iopub.execute_input": "2020-10-26T17:41:39.749909Z",
     "iopub.status.busy": "2020-10-26T17:41:39.749780Z",
     "iopub.status.idle": "2020-10-26T17:41:42.223922Z",
     "shell.execute_reply": "2020-10-26T17:41:42.223306Z",
     "shell.execute_reply.started": "2020-10-26T17:41:39.749889Z"
    }
   },
   "outputs": [
    {
     "data": {
      "image/png": "[encoded data removed]",
      "text/plain": [
       "<Figure size 1296x720 with 6 Axes>"
      ]
     },
     "metadata": {},
     "output_type": "display_data"
    }
   ],
   "source": [
    "explorer1 = mtb.EDA(treino)\n",
    "explorer1.multi_boxplots(['amount', 'step','oldbalanceOrg','newbalanceOrig','oldbalanceDest','newbalanceDest'])"
   ]
  },
  {
   "cell_type": "code",
   "execution_count": 37,
   "metadata": {
    "execution": {
     "iopub.execute_input": "2020-10-26T17:41:42.224621Z",
     "iopub.status.busy": "2020-10-26T17:41:42.224502Z",
     "iopub.status.idle": "2020-10-26T17:41:42.233619Z",
     "shell.execute_reply": "2020-10-26T17:41:42.232819Z",
     "shell.execute_reply.started": "2020-10-26T17:41:42.224605Z"
    }
   },
   "outputs": [
    {
     "name": "stdout",
     "output_type": "stream",
     "text": [
      "Quantidade de Classes Positivas: 8213 \n"
     ]
    }
   ],
   "source": [
    "post = train.loc[train['isFraud']==1,].shape[0]\n",
    "print(f'Quantidade de Classes Positivas: {post} ')"
   ]
  },
  {
   "cell_type": "code",
   "execution_count": 38,
   "metadata": {
    "execution": {
     "iopub.execute_input": "2020-10-26T17:41:42.234578Z",
     "iopub.status.busy": "2020-10-26T17:41:42.234401Z",
     "iopub.status.idle": "2020-10-26T17:41:42.464252Z",
     "shell.execute_reply": "2020-10-26T17:41:42.463587Z",
     "shell.execute_reply.started": "2020-10-26T17:41:42.234555Z"
    }
   },
   "outputs": [
    {
     "name": "stdout",
     "output_type": "stream",
     "text": [
      "Quantidade de Classes Positivas: 1457 \n"
     ]
    }
   ],
   "source": [
    "post = treino.loc[train['isFraud']==1,].shape[0]\n",
    "print(f'Quantidade de Classes Positivas: {post} ')"
   ]
  },
  {
   "cell_type": "markdown",
   "metadata": {},
   "source": [
    "### 3.2.2 Sem Classe Positiva"
   ]
  },
  {
   "cell_type": "code",
   "execution_count": 39,
   "metadata": {
    "execution": {
     "iopub.execute_input": "2020-10-26T17:41:42.465201Z",
     "iopub.status.busy": "2020-10-26T17:41:42.465016Z",
     "iopub.status.idle": "2020-10-26T17:41:42.769451Z",
     "shell.execute_reply": "2020-10-26T17:41:42.768812Z",
     "shell.execute_reply.started": "2020-10-26T17:41:42.465183Z"
    }
   },
   "outputs": [],
   "source": [
    "# Separando as observações com classe positiva\n",
    "train_pos = train.loc[train['isFraud']==1,]\n",
    "train_neg = train.loc[train['isFraud']==0,]"
   ]
  },
  {
   "cell_type": "code",
   "execution_count": 40,
   "metadata": {
    "execution": {
     "iopub.execute_input": "2020-10-26T17:41:42.770682Z",
     "iopub.status.busy": "2020-10-26T17:41:42.770559Z",
     "iopub.status.idle": "2020-10-26T17:41:46.390776Z",
     "shell.execute_reply": "2020-10-26T17:41:46.390204Z",
     "shell.execute_reply.started": "2020-10-26T17:41:42.770666Z"
    }
   },
   "outputs": [
    {
     "data": {
      "image/png": "[encoded data removed]",
      "text/plain": [
       "<Figure size 1296x720 with 6 Axes>"
      ]
     },
     "metadata": {},
     "output_type": "display_data"
    }
   ],
   "source": [
    "# Investigando Outliers\n",
    "explorer = mtb.EDA(train_neg)\n",
    "explorer.multi_boxplots(['amount', 'step','oldbalanceOrg','newbalanceOrig','oldbalanceDest','newbalanceDest'])"
   ]
  },
  {
   "cell_type": "code",
   "execution_count": 41,
   "metadata": {
    "execution": {
     "iopub.execute_input": "2020-10-26T17:41:46.391567Z",
     "iopub.status.busy": "2020-10-26T17:41:46.391445Z",
     "iopub.status.idle": "2020-10-26T17:41:47.744738Z",
     "shell.execute_reply": "2020-10-26T17:41:47.744243Z",
     "shell.execute_reply.started": "2020-10-26T17:41:46.391551Z"
    }
   },
   "outputs": [
    {
     "data": {
      "text/plain": [
       "(2487056, 10)"
      ]
     },
     "execution_count": 41,
     "metadata": {},
     "output_type": "execute_result"
    }
   ],
   "source": [
    "# Eliminando os Outliers\n",
    "\n",
    "for var in ['amount', 'step', 'oldbalanceOrg', 'newbalanceOrig', 'oldbalanceDest', 'newbalanceDest']:\n",
    "    treino = drop_outliers(var, train_neg)\n",
    "\n",
    "treino.shape"
   ]
  },
  {
   "cell_type": "code",
   "execution_count": 42,
   "metadata": {
    "execution": {
     "iopub.execute_input": "2020-10-26T17:41:47.745454Z",
     "iopub.status.busy": "2020-10-26T17:41:47.745338Z",
     "iopub.status.idle": "2020-10-26T17:41:50.763348Z",
     "shell.execute_reply": "2020-10-26T17:41:50.762782Z",
     "shell.execute_reply.started": "2020-10-26T17:41:47.745439Z"
    }
   },
   "outputs": [
    {
     "data": {
      "image/png": "[encoded data removed]",
      "text/plain": [
       "<Figure size 1296x720 with 6 Axes>"
      ]
     },
     "metadata": {},
     "output_type": "display_data"
    }
   ],
   "source": [
    "explorer1 = mtb.EDA(treino)\n",
    "explorer1.multi_boxplots(['amount', 'step','oldbalanceOrg','newbalanceOrig','oldbalanceDest','newbalanceDest'])"
   ]
  },
  {
   "cell_type": "code",
   "execution_count": 43,
   "metadata": {
    "execution": {
     "iopub.execute_input": "2020-10-26T17:41:50.764099Z",
     "iopub.status.busy": "2020-10-26T17:41:50.763981Z",
     "iopub.status.idle": "2020-10-26T17:41:51.084899Z",
     "shell.execute_reply": "2020-10-26T17:41:51.084385Z",
     "shell.execute_reply.started": "2020-10-26T17:41:50.764083Z"
    }
   },
   "outputs": [
    {
     "data": {
      "text/html": [
       "<div>\n",
       "<style scoped>\n",
       "    .dataframe tbody tr th:only-of-type {\n",
       "        vertical-align: middle;\n",
       "    }\n",
       "\n",
       "    .dataframe tbody tr th {\n",
       "        vertical-align: top;\n",
       "    }\n",
       "\n",
       "    .dataframe thead th {\n",
       "        text-align: right;\n",
       "    }\n",
       "</style>\n",
       "<table border=\"1\" class=\"dataframe\">\n",
       "  <thead>\n",
       "    <tr style=\"text-align: right;\">\n",
       "      <th></th>\n",
       "      <th>step</th>\n",
       "      <th>type</th>\n",
       "      <th>amount</th>\n",
       "      <th>nameOrig</th>\n",
       "      <th>oldbalanceOrg</th>\n",
       "      <th>newbalanceOrig</th>\n",
       "      <th>nameDest</th>\n",
       "      <th>oldbalanceDest</th>\n",
       "      <th>newbalanceDest</th>\n",
       "      <th>isFraud</th>\n",
       "    </tr>\n",
       "  </thead>\n",
       "  <tbody>\n",
       "    <tr>\n",
       "      <th>2</th>\n",
       "      <td>1</td>\n",
       "      <td>TRANSFER</td>\n",
       "      <td>181.0</td>\n",
       "      <td>C1305486145</td>\n",
       "      <td>181.0</td>\n",
       "      <td>0.0</td>\n",
       "      <td>C553264065</td>\n",
       "      <td>0.0</td>\n",
       "      <td>0.0</td>\n",
       "      <td>1</td>\n",
       "    </tr>\n",
       "    <tr>\n",
       "      <th>3</th>\n",
       "      <td>1</td>\n",
       "      <td>CASH_OUT</td>\n",
       "      <td>181.0</td>\n",
       "      <td>C840083671</td>\n",
       "      <td>181.0</td>\n",
       "      <td>0.0</td>\n",
       "      <td>C38997010</td>\n",
       "      <td>21182.0</td>\n",
       "      <td>0.0</td>\n",
       "      <td>1</td>\n",
       "    </tr>\n",
       "    <tr>\n",
       "      <th>251</th>\n",
       "      <td>1</td>\n",
       "      <td>TRANSFER</td>\n",
       "      <td>2806.0</td>\n",
       "      <td>C1420196421</td>\n",
       "      <td>2806.0</td>\n",
       "      <td>0.0</td>\n",
       "      <td>C972765878</td>\n",
       "      <td>0.0</td>\n",
       "      <td>0.0</td>\n",
       "      <td>1</td>\n",
       "    </tr>\n",
       "    <tr>\n",
       "      <th>252</th>\n",
       "      <td>1</td>\n",
       "      <td>CASH_OUT</td>\n",
       "      <td>2806.0</td>\n",
       "      <td>C2101527076</td>\n",
       "      <td>2806.0</td>\n",
       "      <td>0.0</td>\n",
       "      <td>C1007251739</td>\n",
       "      <td>26202.0</td>\n",
       "      <td>0.0</td>\n",
       "      <td>1</td>\n",
       "    </tr>\n",
       "    <tr>\n",
       "      <th>680</th>\n",
       "      <td>1</td>\n",
       "      <td>TRANSFER</td>\n",
       "      <td>20128.0</td>\n",
       "      <td>C137533655</td>\n",
       "      <td>20128.0</td>\n",
       "      <td>0.0</td>\n",
       "      <td>C1848415041</td>\n",
       "      <td>0.0</td>\n",
       "      <td>0.0</td>\n",
       "      <td>1</td>\n",
       "    </tr>\n",
       "  </tbody>\n",
       "</table>\n",
       "</div>"
      ],
      "text/plain": [
       "     step      type   amount     nameOrig  oldbalanceOrg  newbalanceOrig  \\\n",
       "2       1  TRANSFER    181.0  C1305486145          181.0             0.0   \n",
       "3       1  CASH_OUT    181.0   C840083671          181.0             0.0   \n",
       "251     1  TRANSFER   2806.0  C1420196421         2806.0             0.0   \n",
       "252     1  CASH_OUT   2806.0  C2101527076         2806.0             0.0   \n",
       "680     1  TRANSFER  20128.0   C137533655        20128.0             0.0   \n",
       "\n",
       "        nameDest  oldbalanceDest  newbalanceDest  isFraud  \n",
       "2     C553264065             0.0             0.0        1  \n",
       "3      C38997010         21182.0             0.0        1  \n",
       "251   C972765878             0.0             0.0        1  \n",
       "252  C1007251739         26202.0             0.0        1  \n",
       "680  C1848415041             0.0             0.0        1  "
      ]
     },
     "execution_count": 43,
     "metadata": {},
     "output_type": "execute_result"
    }
   ],
   "source": [
    "# Unindo classe negativa e positiva\n",
    "\n",
    "treino = pd.concat([train_pos, treino], axis=0)\n",
    "treino.head()"
   ]
  },
  {
   "cell_type": "markdown",
   "metadata": {},
   "source": [
    "# 4.0 Feature Engineering"
   ]
  },
  {
   "cell_type": "markdown",
   "metadata": {},
   "source": [
    "- Criar a variável type_dest e excluir nameOrig e nameDest. Pois essas variáveis não iram trazer muita infomação.\n",
    "- Criar a variável erro_transaction, esperase que 'amount' - (oldbalanceOrg - newbalanceOrig) seja igual a zero talvez erros maiores podem levar o modelo entender o evento de Fraude. \n",
    "- Criar variável por iteração 'amount' / 'step' = 'amount_step', o relacionamento do valor da trasnção por unidade de tempo pode nos ajudar a modelar o evento\n",
    "- Binning 'amount', variáveis que passam por varios níveis de grandeza (dezenas, centenas, milhares) podem ser prejudicias para modelos de ML.\n",
    "- Binning 'step', variáveis que passam por varios níveis de grandeza (dezenas, centenas, milhares) podem ser prejudicias para modelos de ML."
   ]
  },
  {
   "cell_type": "code",
   "execution_count": 61,
   "metadata": {
    "execution": {
     "iopub.execute_input": "2020-10-26T18:03:11.268871Z",
     "iopub.status.busy": "2020-10-26T18:03:11.268520Z",
     "iopub.status.idle": "2020-10-26T18:03:12.365637Z",
     "shell.execute_reply": "2020-10-26T18:03:12.364735Z",
     "shell.execute_reply.started": "2020-10-26T18:03:11.268831Z"
    }
   },
   "outputs": [],
   "source": [
    "# dest_type; 1 - Merchant e 0-Customer e Dropping 'nameOrig', 'nameDest'\n",
    "treino['dest_type'] = treino['nameDest'].apply(lambda x: 1 if x[0] == 'M' else 0)\n",
    "\n",
    "\n",
    "# error_transaction\n",
    "treino['error_transaction'] = treino['amount'] - (treino['oldbalanceOrg'] - treino['newbalanceOrig'])\n",
    "\n",
    "# amount/step\n",
    "treino['amount_step'] = treino['amount']/treino['step']\n",
    "\n",
    "# Binning 'amount'\n",
    "treino['amount_bin'] = pd.qcut(treino['amount'], q=5)\n",
    "#treino['amount_bin'] = np.floor(np.log10(treino['amount']))\n",
    "\n",
    "# Binning 'step'\n",
    "treino['step_bin'] = pd.qcut(treino['step'], q=5)\n",
    "#treino['step_bin'] = np.floor(np.log10(treino['step']))\n",
    "\n",
    "# Binning 'oldbalanceOrg'\n",
    "#treino['oldbalanceOrg_bin'] = pd.qcut(treino['oldbalanceOrg'], q=5)\n",
    "#treino['oldbalanceOrg_bin'] = np.floor(np.log10(treino['oldbalanceOrg']))\n",
    "\n",
    "# Binning 'newbalanceOrig'\n",
    "#treino['newbalanceOrig_bin'] = pd.qcut(treino['newbalanceOrig'], q=5)\n",
    "#treino['newbalanceOrig_bin'] = np.floor(np.log10(treino['newbalanceOrig']))\n",
    "\n",
    "# Binning 'oldbalanceDest'\n",
    "#treino['oldbalanceDest_bin'] = pd.qcut(treino['oldbalanceDest'], q=5)\n",
    "#treino['oldbalanceDest_bin'] = np.floor(np.log10(treino['oldbalanceDest']))\n",
    "\n",
    "# Binning 'newbalanceDest'\n",
    "#treino['newbalanceDest_bin'] = pd.qcut(treino['newbalanceDest'], q=5)\n",
    "#treino['newbalanceDest_bin'] = np.floor(np.log10(treino['newbalanceDest']))"
   ]
  },
  {
   "cell_type": "code",
   "execution_count": 62,
   "metadata": {
    "execution": {
     "iopub.execute_input": "2020-10-26T18:03:14.562956Z",
     "iopub.status.busy": "2020-10-26T18:03:14.562615Z",
     "iopub.status.idle": "2020-10-26T18:03:14.631448Z",
     "shell.execute_reply": "2020-10-26T18:03:14.630436Z",
     "shell.execute_reply.started": "2020-10-26T18:03:14.562918Z"
    }
   },
   "outputs": [
    {
     "data": {
      "text/html": [
       "<div>\n",
       "<style scoped>\n",
       "    .dataframe tbody tr th:only-of-type {\n",
       "        vertical-align: middle;\n",
       "    }\n",
       "\n",
       "    .dataframe tbody tr th {\n",
       "        vertical-align: top;\n",
       "    }\n",
       "\n",
       "    .dataframe thead th {\n",
       "        text-align: right;\n",
       "    }\n",
       "</style>\n",
       "<table border=\"1\" class=\"dataframe\">\n",
       "  <thead>\n",
       "    <tr style=\"text-align: right;\">\n",
       "      <th></th>\n",
       "      <th>type</th>\n",
       "      <th>newbalanceOrig</th>\n",
       "      <th>oldbalanceDest</th>\n",
       "      <th>newbalanceDest</th>\n",
       "      <th>isFraud</th>\n",
       "      <th>dest_type</th>\n",
       "      <th>error_transaction</th>\n",
       "      <th>amount_step</th>\n",
       "      <th>amount_bin</th>\n",
       "      <th>step_bin</th>\n",
       "      <th>oldbalanceOrg_bin</th>\n",
       "    </tr>\n",
       "  </thead>\n",
       "  <tbody>\n",
       "    <tr>\n",
       "      <th>2</th>\n",
       "      <td>TRANSFER</td>\n",
       "      <td>0.0</td>\n",
       "      <td>0.0</td>\n",
       "      <td>0.0</td>\n",
       "      <td>1</td>\n",
       "      <td>0</td>\n",
       "      <td>0.0</td>\n",
       "      <td>181.0</td>\n",
       "      <td>(-0.001, 64276.172]</td>\n",
       "      <td>(0.999, 134.0]</td>\n",
       "      <td>2.0</td>\n",
       "    </tr>\n",
       "    <tr>\n",
       "      <th>3</th>\n",
       "      <td>CASH_OUT</td>\n",
       "      <td>0.0</td>\n",
       "      <td>21182.0</td>\n",
       "      <td>0.0</td>\n",
       "      <td>1</td>\n",
       "      <td>0</td>\n",
       "      <td>0.0</td>\n",
       "      <td>181.0</td>\n",
       "      <td>(-0.001, 64276.172]</td>\n",
       "      <td>(0.999, 134.0]</td>\n",
       "      <td>2.0</td>\n",
       "    </tr>\n",
       "    <tr>\n",
       "      <th>251</th>\n",
       "      <td>TRANSFER</td>\n",
       "      <td>0.0</td>\n",
       "      <td>0.0</td>\n",
       "      <td>0.0</td>\n",
       "      <td>1</td>\n",
       "      <td>0</td>\n",
       "      <td>0.0</td>\n",
       "      <td>2806.0</td>\n",
       "      <td>(-0.001, 64276.172]</td>\n",
       "      <td>(0.999, 134.0]</td>\n",
       "      <td>3.0</td>\n",
       "    </tr>\n",
       "    <tr>\n",
       "      <th>252</th>\n",
       "      <td>CASH_OUT</td>\n",
       "      <td>0.0</td>\n",
       "      <td>26202.0</td>\n",
       "      <td>0.0</td>\n",
       "      <td>1</td>\n",
       "      <td>0</td>\n",
       "      <td>0.0</td>\n",
       "      <td>2806.0</td>\n",
       "      <td>(-0.001, 64276.172]</td>\n",
       "      <td>(0.999, 134.0]</td>\n",
       "      <td>3.0</td>\n",
       "    </tr>\n",
       "    <tr>\n",
       "      <th>680</th>\n",
       "      <td>TRANSFER</td>\n",
       "      <td>0.0</td>\n",
       "      <td>0.0</td>\n",
       "      <td>0.0</td>\n",
       "      <td>1</td>\n",
       "      <td>0</td>\n",
       "      <td>0.0</td>\n",
       "      <td>20128.0</td>\n",
       "      <td>(-0.001, 64276.172]</td>\n",
       "      <td>(0.999, 134.0]</td>\n",
       "      <td>4.0</td>\n",
       "    </tr>\n",
       "  </tbody>\n",
       "</table>\n",
       "</div>"
      ],
      "text/plain": [
       "         type  newbalanceOrig  oldbalanceDest  newbalanceDest  isFraud  \\\n",
       "2    TRANSFER             0.0             0.0             0.0        1   \n",
       "3    CASH_OUT             0.0         21182.0             0.0        1   \n",
       "251  TRANSFER             0.0             0.0             0.0        1   \n",
       "252  CASH_OUT             0.0         26202.0             0.0        1   \n",
       "680  TRANSFER             0.0             0.0             0.0        1   \n",
       "\n",
       "     dest_type  error_transaction  amount_step           amount_bin  \\\n",
       "2            0                0.0        181.0  (-0.001, 64276.172]   \n",
       "3            0                0.0        181.0  (-0.001, 64276.172]   \n",
       "251          0                0.0       2806.0  (-0.001, 64276.172]   \n",
       "252          0                0.0       2806.0  (-0.001, 64276.172]   \n",
       "680          0                0.0      20128.0  (-0.001, 64276.172]   \n",
       "\n",
       "           step_bin  oldbalanceOrg_bin  \n",
       "2    (0.999, 134.0]                2.0  \n",
       "3    (0.999, 134.0]                2.0  \n",
       "251  (0.999, 134.0]                3.0  \n",
       "252  (0.999, 134.0]                3.0  \n",
       "680  (0.999, 134.0]                4.0  "
      ]
     },
     "execution_count": 62,
     "metadata": {},
     "output_type": "execute_result"
    }
   ],
   "source": [
    "# Dropouts depois do Feature Enginering\n",
    "treino_clean_feat = treino.drop(['nameOrig', 'nameDest', 'amount', 'step','oldbalanceOrg'], axis=1)\n",
    "treino_clean_feat.head()"
   ]
  },
  {
   "cell_type": "markdown",
   "metadata": {},
   "source": [
    "# 5.0 EDA"
   ]
  },
  {
   "cell_type": "code",
   "execution_count": 22,
   "metadata": {
    "execution": {
     "iopub.execute_input": "2020-10-22T21:44:29.274472Z",
     "iopub.status.busy": "2020-10-22T21:44:29.274099Z",
     "iopub.status.idle": "2020-10-22T21:44:29.289251Z",
     "shell.execute_reply": "2020-10-22T21:44:29.288227Z",
     "shell.execute_reply.started": "2020-10-22T21:44:29.274433Z"
    }
   },
   "outputs": [
    {
     "data": {
      "image/jpeg": "[encoded data removed]",
      "text/plain": [
       "<IPython.core.display.Image object>"
      ]
     },
     "execution_count": 22,
     "metadata": {},
     "output_type": "execute_result"
    }
   ],
   "source": [
    "Image(\"../img/map_mental.jpg\")"
   ]
  },
  {
   "cell_type": "markdown",
   "metadata": {
    "toc-hr-collapsed": true,
    "toc-nb-collapsed": true
   },
   "source": [
    "## 5.1 Análise Univariada"
   ]
  },
  {
   "cell_type": "markdown",
   "metadata": {},
   "source": [
    " - A partir da análise dos histogramas podemos notar um alto skew, na fase de pré-processamento será testado algumas soluções.\n",
    " - Não encontramos uma faixa de 'amount' que se destaque em quantidade de fraudes.\n",
    " - Não encontramos uma faixa step que se destaque em quantidade de fraudes."
   ]
  },
  {
   "cell_type": "markdown",
   "metadata": {},
   "source": [
    "### 5.1.1 Variáveis Numericas."
   ]
  },
  {
   "cell_type": "code",
   "execution_count": 46,
   "metadata": {
    "execution": {
     "iopub.execute_input": "2020-10-26T17:49:27.609367Z",
     "iopub.status.busy": "2020-10-26T17:49:27.608945Z",
     "iopub.status.idle": "2020-10-26T17:49:30.372181Z",
     "shell.execute_reply": "2020-10-26T17:49:30.371436Z",
     "shell.execute_reply.started": "2020-10-26T17:49:27.609322Z"
    }
   },
   "outputs": [
    {
     "data": {
      "image/png": "[encoded data removed]",
      "text/plain": [
       "<Figure size 1296x720 with 7 Axes>"
      ]
     },
     "metadata": {},
     "output_type": "display_data"
    }
   ],
   "source": [
    "explorer = mtb.EDA(treino)\n",
    "explorer.multi_histograms(['amount','amount_step', 'step','oldbalanceOrg','newbalanceOrig','oldbalanceDest','newbalanceDest'])"
   ]
  },
  {
   "cell_type": "markdown",
   "metadata": {
    "execution": {
     "iopub.execute_input": "2020-10-25T15:31:59.674965Z",
     "iopub.status.busy": "2020-10-25T15:31:59.674587Z",
     "iopub.status.idle": "2020-10-25T15:31:59.678738Z",
     "shell.execute_reply": "2020-10-25T15:31:59.677878Z",
     "shell.execute_reply.started": "2020-10-25T15:31:59.674924Z"
    }
   },
   "source": [
    "### 5.1.2 Faixas de Fraude 'amount_bin'."
   ]
  },
  {
   "cell_type": "code",
   "execution_count": 63,
   "metadata": {
    "execution": {
     "iopub.execute_input": "2020-10-26T18:03:21.117722Z",
     "iopub.status.busy": "2020-10-26T18:03:21.117375Z",
     "iopub.status.idle": "2020-10-26T18:03:21.260284Z",
     "shell.execute_reply": "2020-10-26T18:03:21.259566Z",
     "shell.execute_reply.started": "2020-10-26T18:03:21.117684Z"
    }
   },
   "outputs": [
    {
     "data": {
      "text/plain": [
       "<AxesSubplot:xlabel='amount_bin'>"
      ]
     },
     "execution_count": 63,
     "metadata": {},
     "output_type": "execute_result"
    },
    {
     "data": {
      "image/png": "[encoded data removed]",
      "text/plain": [
       "<Figure size 432x288 with 1 Axes>"
      ]
     },
     "metadata": {},
     "output_type": "display_data"
    }
   ],
   "source": [
    "# Amount\n",
    "obj_temp = treino.loc[treino['isFraud']==1,]\n",
    "obj_temp['counter'] = 1\n",
    "\n",
    "\n",
    "# Plot\n",
    "obj_temp.groupby('amount_bin').count()['counter'].plot(kind='bar')"
   ]
  },
  {
   "cell_type": "code",
   "execution_count": 64,
   "metadata": {
    "execution": {
     "iopub.execute_input": "2020-10-26T18:03:29.982927Z",
     "iopub.status.busy": "2020-10-26T18:03:29.982515Z",
     "iopub.status.idle": "2020-10-26T18:03:30.000260Z",
     "shell.execute_reply": "2020-10-26T18:03:29.999677Z",
     "shell.execute_reply.started": "2020-10-26T18:03:29.982882Z"
    }
   },
   "outputs": [
    {
     "data": {
      "text/plain": [
       "amount_bin\n",
       "(-0.001, 64276.172]         1254\n",
       "(64276.172, 128841.512]      831\n",
       "(128841.512, 206296.896]     708\n",
       "(206296.896, 332024.748]     792\n",
       "(332024.748, 10000000.0]    4628\n",
       "Name: counter, dtype: int64"
      ]
     },
     "execution_count": 64,
     "metadata": {},
     "output_type": "execute_result"
    }
   ],
   "source": [
    "# Tabela com a quantidade de fraudes por faixa 'amount_bin'\n",
    "obj_temp.groupby('amount_bin').count()['counter']"
   ]
  },
  {
   "cell_type": "markdown",
   "metadata": {},
   "source": [
    "### 5.1.3 Faixas de Fraude 'step_bin'."
   ]
  },
  {
   "cell_type": "code",
   "execution_count": 65,
   "metadata": {
    "execution": {
     "iopub.execute_input": "2020-10-26T18:03:42.028539Z",
     "iopub.status.busy": "2020-10-26T18:03:42.028134Z",
     "iopub.status.idle": "2020-10-26T18:03:42.159650Z",
     "shell.execute_reply": "2020-10-26T18:03:42.159080Z",
     "shell.execute_reply.started": "2020-10-26T18:03:42.028494Z"
    }
   },
   "outputs": [
    {
     "data": {
      "text/plain": [
       "<AxesSubplot:xlabel='step_bin'>"
      ]
     },
     "execution_count": 65,
     "metadata": {},
     "output_type": "execute_result"
    },
    {
     "data": {
      "image/png": "[encoded data removed]",
      "text/plain": [
       "<Figure size 432x288 with 1 Axes>"
      ]
     },
     "metadata": {},
     "output_type": "display_data"
    }
   ],
   "source": [
    "# Plot\n",
    "obj_temp.groupby('step_bin').count()['counter'].plot(kind='bar')"
   ]
  },
  {
   "cell_type": "code",
   "execution_count": 66,
   "metadata": {
    "execution": {
     "iopub.execute_input": "2020-10-26T18:03:45.083743Z",
     "iopub.status.busy": "2020-10-26T18:03:45.083341Z",
     "iopub.status.idle": "2020-10-26T18:03:45.103762Z",
     "shell.execute_reply": "2020-10-26T18:03:45.103042Z",
     "shell.execute_reply.started": "2020-10-26T18:03:45.083698Z"
    }
   },
   "outputs": [
    {
     "data": {
      "text/plain": [
       "step_bin\n",
       "(0.999, 134.0]    1538\n",
       "(134.0, 204.0]     740\n",
       "(204.0, 279.0]     893\n",
       "(279.0, 354.0]     784\n",
       "(354.0, 743.0]    4258\n",
       "Name: counter, dtype: int64"
      ]
     },
     "execution_count": 66,
     "metadata": {},
     "output_type": "execute_result"
    }
   ],
   "source": [
    "# Tabela com a quantidade de fraudes por faixa 'step_bin'\n",
    "obj_temp.groupby('step_bin').count()['counter']"
   ]
  },
  {
   "cell_type": "markdown",
   "metadata": {},
   "source": [
    "### 5.1.4 Faixas de Fraude 'oldbalanceOrg_bin'."
   ]
  },
  {
   "cell_type": "code",
   "execution_count": 67,
   "metadata": {
    "execution": {
     "iopub.execute_input": "2020-10-26T18:06:25.032740Z",
     "iopub.status.busy": "2020-10-26T18:06:25.032489Z",
     "iopub.status.idle": "2020-10-26T18:06:25.200219Z",
     "shell.execute_reply": "2020-10-26T18:06:25.199787Z",
     "shell.execute_reply.started": "2020-10-26T18:06:25.032715Z"
    }
   },
   "outputs": [
    {
     "data": {
      "text/plain": [
       "<AxesSubplot:xlabel='oldbalanceOrg_bin'>"
      ]
     },
     "execution_count": 67,
     "metadata": {},
     "output_type": "execute_result"
    },
    {
     "data": {
      "image/png": "[encoded data removed]",
      "text/plain": [
       "<Figure size 432x288 with 1 Axes>"
      ]
     },
     "metadata": {},
     "output_type": "display_data"
    }
   ],
   "source": [
    "# Plot\n",
    "obj_temp.groupby('oldbalanceOrg_bin').count()['counter'].plot(kind='bar')"
   ]
  },
  {
   "cell_type": "code",
   "execution_count": 68,
   "metadata": {
    "execution": {
     "iopub.execute_input": "2020-10-26T18:06:49.114725Z",
     "iopub.status.busy": "2020-10-26T18:06:49.114298Z",
     "iopub.status.idle": "2020-10-26T18:06:49.126673Z",
     "shell.execute_reply": "2020-10-26T18:06:49.126123Z",
     "shell.execute_reply.started": "2020-10-26T18:06:49.114677Z"
    }
   },
   "outputs": [
    {
     "data": {
      "text/plain": [
       "oldbalanceOrg_bin\n",
       "-inf      41\n",
       " 1.0       2\n",
       " 2.0      40\n",
       " 3.0     222\n",
       " 4.0    1424\n",
       " 5.0    3779\n",
       " 6.0    2415\n",
       " 7.0     290\n",
       "Name: counter, dtype: int64"
      ]
     },
     "execution_count": 68,
     "metadata": {},
     "output_type": "execute_result"
    }
   ],
   "source": [
    "# Tabela com a quantidade de fraudes por faixa 'oldbalanceOrg_bin'\n",
    "obj_temp.groupby('oldbalanceOrg_bin').count()['counter']"
   ]
  },
  {
   "cell_type": "markdown",
   "metadata": {},
   "source": [
    "## 5.2 Análise Multivariada"
   ]
  },
  {
   "cell_type": "markdown",
   "metadata": {},
   "source": [
    "### 5.2.1 Variáveis Númericas"
   ]
  },
  {
   "cell_type": "code",
   "execution_count": 74,
   "metadata": {
    "execution": {
     "iopub.execute_input": "2020-10-26T18:20:30.043653Z",
     "iopub.status.busy": "2020-10-26T18:20:30.043245Z",
     "iopub.status.idle": "2020-10-26T18:20:30.608605Z",
     "shell.execute_reply": "2020-10-26T18:20:30.607678Z",
     "shell.execute_reply.started": "2020-10-26T18:20:30.043607Z"
    }
   },
   "outputs": [
    {
     "data": {
      "image/png": "[encoded data removed]",
      "text/plain": [
       "<Figure size 1152x720 with 2 Axes>"
      ]
     },
     "metadata": {},
     "output_type": "display_data"
    }
   ],
   "source": [
    "variaveis = ['amount','amount_step', 'step','oldbalanceOrg','newbalanceOrig','oldbalanceDest','newbalanceDest']\n",
    "Myheat_map(dataset=treino, variaveis=variaveis)"
   ]
  },
  {
   "cell_type": "markdown",
   "metadata": {},
   "source": [
    "### 5.2.1 Variáveis Númericas - Target"
   ]
  },
  {
   "cell_type": "code",
   "execution_count": 75,
   "metadata": {
    "execution": {
     "iopub.execute_input": "2020-10-26T18:30:31.462392Z",
     "iopub.status.busy": "2020-10-26T18:30:31.462011Z",
     "iopub.status.idle": "2020-10-26T18:30:31.895054Z",
     "shell.execute_reply": "2020-10-26T18:30:31.894546Z",
     "shell.execute_reply.started": "2020-10-26T18:30:31.462349Z"
    }
   },
   "outputs": [
    {
     "data": {
      "text/plain": [
       "Text(0.5, 1.0, 'Pointbiserialr')"
      ]
     },
     "execution_count": 75,
     "metadata": {},
     "output_type": "execute_result"
    },
    {
     "data": {
      "image/png": "[encoded data removed]",
      "text/plain": [
       "<Figure size 432x288 with 2 Axes>"
      ]
     },
     "metadata": {},
     "output_type": "display_data"
    }
   ],
   "source": [
    "from scipy.stats import pointbiserialr\n",
    "\n",
    "# Variáveis númericas\n",
    "num_vars =  ['step', 'amount', 'oldbalanceOrg', 'newbalanceOrig', 'oldbalanceDest', 'newbalanceDest']\n",
    "\n",
    "# Correlações\n",
    "corrs = [pointbiserialr(treino['isFraud'], treino[var])[0] for var in num_vars]\n",
    "df_corr = pd.DataFrame({'isFraud': corrs}, index=num_vars)\n",
    "\n",
    "# Plot Matrix\n",
    "fig, ax = plt.subplots()\n",
    "plt.subplot(1, 2, 1)\n",
    "sns.heatmap(df_corr, annot=True, annot_kws={\"fontsize\":14}, cmap='viridis')\n",
    "plt.title(\"Pointbiserialr\")"
   ]
  },
  {
   "cell_type": "markdown",
   "metadata": {},
   "source": [
    "### 5.2.2 Variáveis Categóricas"
   ]
  },
  {
   "cell_type": "code",
   "execution_count": null,
   "metadata": {},
   "outputs": [],
   "source": []
  },
  {
   "cell_type": "code",
   "execution_count": null,
   "metadata": {},
   "outputs": [],
   "source": []
  },
  {
   "cell_type": "code",
   "execution_count": null,
   "metadata": {},
   "outputs": [],
   "source": []
  },
  {
   "cell_type": "markdown",
   "metadata": {},
   "source": [
    "## 5.3 Teste de Hiposteses"
   ]
  },
  {
   "cell_type": "markdown",
   "metadata": {},
   "source": [
    "Lista de Hipóteses!\n",
    "\n",
    "1. O montante fraudado é maior para o 'type' transfer!\n",
    "2. O percentual de error_transaction é maior que 50%!\n",
    "3. O montante fraudado é maior com o 'dest_type' Customers que Merchant!\n",
    "4. O oldbalanceOrig é sempre diferente de 0, já que se deve ter saldo para realizar uma transação!\n",
    "5. A quantidade de transações fraudulentas é maior para o tipo de Origem 'Customer'!\n",
    "6. A conta de uma transação fraudulenta 'TRANSFER' bate com a conta Origem de um CASH-OUT!\n",
    "7. A quantidade de transações fraudulentas é maior na modalidade 'TRANSFER'!"
   ]
  },
  {
   "cell_type": "markdown",
   "metadata": {},
   "source": [
    "### 5.3.1 H1 O montante fraudado é maior para o 'type' TRANSFER! [TRUE]"
   ]
  },
  {
   "cell_type": "code",
   "execution_count": 53,
   "metadata": {
    "execution": {
     "iopub.execute_input": "2020-10-25T10:59:31.727996Z",
     "iopub.status.busy": "2020-10-25T10:59:31.727594Z",
     "iopub.status.idle": "2020-10-25T10:59:31.825782Z",
     "shell.execute_reply": "2020-10-25T10:59:31.825166Z",
     "shell.execute_reply.started": "2020-10-25T10:59:31.727951Z"
    }
   },
   "outputs": [
    {
     "name": "stdout",
     "output_type": "stream",
     "text": [
      "\n",
      " Montante de observações TRANSFER: 6067213184.01\n",
      "Montante de observações CASH_OUT: 5989202243.83\n",
      "\n"
     ]
    }
   ],
   "source": [
    "dados_temp = treino.loc[train['isFraud']==1, ]\n",
    "\n",
    "AMOUNT_TRANSFER = dados_temp.loc[dados_temp['type']=='TRANSFER', 'amount'].sum()\n",
    "AMOUNT_CASH_OUT = dados_temp.loc[dados_temp['type']=='CASH_OUT', 'amount'].sum()\n",
    "\n",
    "print(f'\\n Montante de observações TRANSFER: {AMOUNT_TRANSFER}')\n",
    "print(f'Montante de observações CASH_OUT: {AMOUNT_CASH_OUT}\\n')"
   ]
  },
  {
   "cell_type": "markdown",
   "metadata": {},
   "source": [
    "### 5.3.2 H2 O percentual de error_transaction é maior que 50%[TRUE]!"
   ]
  },
  {
   "cell_type": "code",
   "execution_count": 60,
   "metadata": {
    "execution": {
     "iopub.execute_input": "2020-10-25T14:14:20.479062Z",
     "iopub.status.busy": "2020-10-25T14:14:20.478723Z",
     "iopub.status.idle": "2020-10-25T14:14:20.734002Z",
     "shell.execute_reply": "2020-10-25T14:14:20.733471Z",
     "shell.execute_reply.started": "2020-10-25T14:14:20.479023Z"
    }
   },
   "outputs": [
    {
     "name": "stdout",
     "output_type": "stream",
     "text": [
      "O percentual de transações com erro são de 94.16\n"
     ]
    }
   ],
   "source": [
    "# Erro\n",
    "erro_acima_0 = treino.loc[treino['error_transaction'] != 0, ]\n",
    "\n",
    "#Percentual do erro sobre dataset\n",
    "perc_error = round(erro_acima_0.shape[0]/treino.shape[0]*100, 2)\n",
    "print(f'O percentual de transações com erro são de {perc_error}')"
   ]
  },
  {
   "cell_type": "markdown",
   "metadata": {},
   "source": [
    "### 5.3.3 H3 O montante fraudado é maior com o 'dest_type' Customers que Merchant![TRUE]"
   ]
  },
  {
   "cell_type": "code",
   "execution_count": 55,
   "metadata": {
    "execution": {
     "iopub.execute_input": "2020-10-25T11:00:46.316471Z",
     "iopub.status.busy": "2020-10-25T11:00:46.316028Z",
     "iopub.status.idle": "2020-10-25T11:00:46.331582Z",
     "shell.execute_reply": "2020-10-25T11:00:46.330903Z",
     "shell.execute_reply.started": "2020-10-25T11:00:46.316430Z"
    }
   },
   "outputs": [
    {
     "name": "stdout",
     "output_type": "stream",
     "text": [
      "Quantidade de observações Customers: 12056415427.84\n",
      "Quantidade de observações Merchant: 0.0\n",
      "\n"
     ]
    }
   ],
   "source": [
    "dados_temp1 = treino.loc[treino['isFraud'] == 1, ['amount','dest_type']]\n",
    "\n",
    "# Montantes\n",
    "AMOUNT_CUSTOMER = round(dados_temp1.loc[dados_temp1['dest_type']==0, 'amount'].sum(),2)\n",
    "AMOUNT_MERCHANT = round(dados_temp1.loc[dados_temp1['dest_type']==1, 'amount'].sum(),2)\n",
    "\n",
    "# Report\n",
    "print(f'Quantidade de observações Customers: {AMOUNT_CUSTOMER}')\n",
    "print(f'Quantidade de observações Merchant: {AMOUNT_MERCHANT}\\n')"
   ]
  },
  {
   "cell_type": "markdown",
   "metadata": {},
   "source": [
    "### 5.3.4 H4 O oldbalanceOrig é sempre diferente de 0, já que se deve ter saldo para realizar uma transação![FALSE]"
   ]
  },
  {
   "cell_type": "code",
   "execution_count": 61,
   "metadata": {
    "execution": {
     "iopub.execute_input": "2020-10-25T14:16:21.452314Z",
     "iopub.status.busy": "2020-10-25T14:16:21.451978Z",
     "iopub.status.idle": "2020-10-25T14:16:23.397925Z",
     "shell.execute_reply": "2020-10-25T14:16:23.396987Z",
     "shell.execute_reply.started": "2020-10-25T14:16:21.452277Z"
    }
   },
   "outputs": [
    {
     "name": "stdout",
     "output_type": "stream",
     "text": [
      "O percentual de casos onde o amount é diferente de 0 com oldbalanceDest e newbalanceDest iguais 45.0%\n"
     ]
    }
   ],
   "source": [
    "# Percentual de operações amount != de zero oldBalanceOrig e newBalanceOrig são iguais a 0\n",
    "\n",
    "quant_orig = treino.loc[(train['amount'] != 0) & (treino['oldbalanceOrg'] == 0) & (treino['newbalanceOrig'] == 0), ]\n",
    "\n",
    "perc_quant_orig = round(quant_orig.shape[0]/treino.shape[0], 2)*100\n",
    "print(f'O percentual de casos onde o amount é diferente de 0 com oldbalanceDest e newbalanceDest iguais {perc_quant_orig}%')"
   ]
  },
  {
   "cell_type": "markdown",
   "metadata": {},
   "source": [
    "### 5.3.4 H5 A quantidade de transações fraudulentas é maior para o tipo de Origem 'Customer'![TRUE]"
   ]
  },
  {
   "cell_type": "code",
   "execution_count": 63,
   "metadata": {
    "execution": {
     "iopub.execute_input": "2020-10-25T14:22:52.565003Z",
     "iopub.status.busy": "2020-10-25T14:22:52.564571Z",
     "iopub.status.idle": "2020-10-25T14:22:53.650553Z",
     "shell.execute_reply": "2020-10-25T14:22:53.649989Z",
     "shell.execute_reply.started": "2020-10-25T14:22:52.564957Z"
    }
   },
   "outputs": [
    {
     "data": {
      "text/plain": [
       "array(['C'], dtype=object)"
      ]
     },
     "execution_count": 63,
     "metadata": {},
     "output_type": "execute_result"
    }
   ],
   "source": [
    "# cheando o tipo origem.\n",
    "treino['nameOrig'].str[0].unique()"
   ]
  },
  {
   "cell_type": "markdown",
   "metadata": {},
   "source": [
    "Obs: O tipo de origen 'Customer' é unico tipo de origem neste dataset!"
   ]
  },
  {
   "cell_type": "code",
   "execution_count": 62,
   "metadata": {
    "execution": {
     "iopub.execute_input": "2020-10-25T14:16:36.338310Z",
     "iopub.status.busy": "2020-10-25T14:16:36.337888Z",
     "iopub.status.idle": "2020-10-25T14:16:36.346310Z",
     "shell.execute_reply": "2020-10-25T14:16:36.345569Z",
     "shell.execute_reply.started": "2020-10-25T14:16:36.338263Z"
    }
   },
   "outputs": [
    {
     "name": "stdout",
     "output_type": "stream",
     "text": [
      "Quantidade de observações Customers: 8213\n",
      "Quantidade de observações Merchant: 0\n",
      "\n"
     ]
    }
   ],
   "source": [
    "# Montantes\n",
    "QUANT_CUSTOMER = dados_temp1.loc[dados_temp1['dest_type']==0, 'amount'].shape[0]\n",
    "QUANT_MERCHANT = dados_temp1.loc[dados_temp1['dest_type']==1, 'amount'].shape[0]\n",
    "\n",
    "# Report\n",
    "print(f'Quantidade de observações Customers: {QUANT_CUSTOMER}')\n",
    "print(f'Quantidade de observações Merchant: {QUANT_MERCHANT}\\n')"
   ]
  },
  {
   "cell_type": "markdown",
   "metadata": {},
   "source": [
    "### 5.3.6 H6 A conta de uma transação fraudulenta 'TRANSFER' bate com a conta Origem de um CASH-OUT![FALSE]"
   ]
  },
  {
   "cell_type": "code",
   "execution_count": 71,
   "metadata": {
    "execution": {
     "iopub.execute_input": "2020-10-25T14:42:08.427486Z",
     "iopub.status.busy": "2020-10-25T14:42:08.427082Z",
     "iopub.status.idle": "2020-10-25T14:42:08.693450Z",
     "shell.execute_reply": "2020-10-25T14:42:08.692727Z",
     "shell.execute_reply.started": "2020-10-25T14:42:08.427444Z"
    }
   },
   "outputs": [
    {
     "name": "stdout",
     "output_type": "stream",
     "text": [
      "Contas encontradas:0\n"
     ]
    }
   ],
   "source": [
    "CONTA_ORIG = treino.loc[(treino['isFraud']==1) & (treino['type']=='TRANSFER'), 'nameDest']\n",
    "CONTA_DEST = treino.loc[(treino['isFraud']==1) & (treino['type']=='CASH_OUT'), 'nameOrig']\n",
    "\n",
    "resultado = set(CONTA_ORIG).intersection(set(CONTA_DEST))\n",
    "print(f'Contas encontradas:{len(resultado)}')"
   ]
  },
  {
   "cell_type": "markdown",
   "metadata": {},
   "source": [
    "Nosso dataset não segue um padrão de fraude comum. de uma operação de 'TRANSFER' para uma conta fria seguida de um 'CASH_OUT'."
   ]
  },
  {
   "cell_type": "markdown",
   "metadata": {},
   "source": [
    "### 5.3.7 H7 A quantidade de transações fraudulentas é maior na modalidade 'TRANSFER'!"
   ]
  },
  {
   "cell_type": "code",
   "execution_count": 65,
   "metadata": {
    "execution": {
     "iopub.execute_input": "2020-10-25T14:24:15.740600Z",
     "iopub.status.busy": "2020-10-25T14:24:15.740198Z",
     "iopub.status.idle": "2020-10-25T14:24:17.668917Z",
     "shell.execute_reply": "2020-10-25T14:24:17.668365Z",
     "shell.execute_reply.started": "2020-10-25T14:24:15.740556Z"
    }
   },
   "outputs": [
    {
     "name": "stdout",
     "output_type": "stream",
     "text": [
      "Quantidade de observações Customers: 8213\n",
      "Quantidade de observações Merchant: 4116\n",
      "\n"
     ]
    }
   ],
   "source": [
    "# Montantes\n",
    "QUANT_TRANSFER = treino.loc[(train['isFraud']==1) & (treino['type']=='TRANSFER'), 'amount'].shape[0]\n",
    "QUANT_MERCHANT = treino.loc[(train['isFraud']==1) & (treino['type']=='CASH_OUT'), 'amount'].shape[0]\n",
    "\n",
    "# Report\n",
    "print(f'Quantidade de observações Customers: {QUANT_CUSTOMER}')\n",
    "print(f'Quantidade de observações Merchant: {QUANT_MERCHANT}\\n')"
   ]
  },
  {
   "cell_type": "markdown",
   "metadata": {
    "toc-hr-collapsed": true,
    "toc-nb-collapsed": true
   },
   "source": [
    "# 6.0 Data Preparation - Pipelines"
   ]
  },
  {
   "cell_type": "code",
   "execution_count": null,
   "metadata": {},
   "outputs": [],
   "source": []
  },
  {
   "cell_type": "markdown",
   "metadata": {
    "toc-hr-collapsed": true,
    "toc-nb-collapsed": true
   },
   "source": [
    "# 7.0 Modelagem Machine Learning / Avaliação dos Modelos"
   ]
  },
  {
   "cell_type": "code",
   "execution_count": null,
   "metadata": {},
   "outputs": [],
   "source": []
  },
  {
   "cell_type": "markdown",
   "metadata": {},
   "source": []
  }
 ],
 "metadata": {
  "kernelspec": {
   "display_name": "pas-env",
   "language": "python",
   "name": "pas-env"
  },
  "language_info": {
   "codemirror_mode": {
    "name": "ipython",
    "version": 3
   },
   "file_extension": ".py",
   "mimetype": "text/x-python",
   "name": "python",
   "nbconvert_exporter": "python",
   "pygments_lexer": "ipython3",
   "version": "3.8.5"
  },
  "toc-autonumbering": false,
  "toc-showcode": false,
  "toc-showmarkdowntxt": false,
  "toc-showtags": false
 },
 "nbformat": 4,
 "nbformat_minor": 4
}
