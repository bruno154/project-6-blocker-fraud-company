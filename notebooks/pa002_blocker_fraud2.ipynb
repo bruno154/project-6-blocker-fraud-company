{
 "cells": [
  {
   "cell_type": "markdown",
   "metadata": {
    "hide_input": false
   },
   "source": [
    "# Business Problem"
   ]
  },
  {
   "cell_type": "markdown",
   "metadata": {},
   "source": [
    "Como um Consultor de Ciência de Dados para criar um modelo de alta precisão e acurácia na detecção de fraudes de transações feitas através de dispositivos móveis.\n",
    "\n",
    "Entregáveis da consultoria:\n",
    "\n",
    "- Modelo em produção com API.\n",
    "- Relatório reportando a performance e os resultados do seu modelo em relação ao lucro e prejuízo que a empresa terá ao usar o modelo que você produziu.\n",
    "\n",
    "  No seu relatório deve conter as respostas para as seguintes perguntas:\n",
    "\n",
    " -   Qual a Precisão e Acurácia do modelo?\n",
    " -   Qual a Confiabilidade do modelo em classificar as transações como legítimas ou fraudulentas?\n",
    " -   Qual o Faturamento Esperado pela Empresa se classificarmos 100% das transações com o modelo?\n",
    " -   Qual o Prejuízo Esperado pela Empresa em caso de falha do modelo?\n",
    " -   Qual o Lucro Esperado pela Blocker Fraud Company ao utilizar o modelo?\n",
    "\n",
    "Data source: [Link](https://www.kaggle.com/ntnu-testimon/paysim1)\n",
    "\n",
    "**Index:**\n",
    "\n",
    " - 1.0 Problema de Negócio\n",
    " - 1.1 Importações de bibliotecas\n",
    " - 2.0 Coleta de Dados\n",
    " - 3.0 Descrição dos Dados\n",
    " - 4.0 Limpeza de dados\n",
    " - 5.0 Feature Engineering\n",
    " - 6.0 EDA\n",
    " - 7.0 Feature Selection\n",
    " - 8.0 Data Preparation - Pipelines\n",
    " - 9.0 Modelagem Machine Learning / Avaliação dos Modelos\n",
    " - 10.0 Interpretação do Modelo\n",
    " - 11.0 API\n",
    "\n",
    "**Estrátegia:**\n",
    "\n",
    "2.0 Coleta de Dados:\n",
    "- Coletar os dados utilizando pd.read_csv().\n",
    "\n",
    "3.0 Descrição dos Dados:\n",
    "\n",
    "- Descrever as seguintes infos por feature: percentual de missing, valores únicos, percentual de valores únicos, tipos de dados, skew, kurtosis.                                             \n",
    "- Investigar isFraud vs isFlaggedFraud para determinar qual é a variável target.\n",
    "- Descrever a variável 'type' com relação ao target.\n",
    "- Descrever outras variáveis\n",
    " \n",
    "4.0 Limpeza de dados:\n",
    "\n",
    "- Investigar e eliminar os outliers\n",
    "- Excluir os 'types' diferentes de 'TRANSFER'e 'CASH_OUT'\n",
    "- Avaliar o tamanho do dataset e decidir sobre utilizar alguma estratégia de sampling.\n",
    " \n",
    "5.0 Feature Engineering\n",
    "\n",
    "- Criar a variável type_dest a partir da primeira letra da variável nameDest. C representa 'Customer' e M representa 'Merchant'.\n",
    "\n",
    "- Criar a variável erro_transaction, espera-se que 'amount' - (oldbalanceOrg - newbalanceOrig) seja igual a zero talvez erros maiores podem levar o modelo entender o evento de Fraude. \n",
    "\n",
    "- Criar variável por iteração 'amount' / 'step' = 'amount_step', o relacionamento do valor da transação por unidade de tempo pode nos ajudar a modelar o evento.\n",
    "\n",
    "- Criar variáveis a partir do WeightOfEvidenceEncoder. WOE é uma medida do quão bem a observação suporta ou mitiga a hipostese - H0.\n",
    "  - A partir dest_type criar woe_encoded_dest_type\n",
    "  - A partir type criar woe_encoded_type\n",
    "  \n",
    "- Criar variáveis a partir do grupamento de 'type', calculando-se a média e o desvio padrão das variáveis 'amount', 'oldbalanceOrg', 'newbalanceOrig', 'oldbalanceDest', 'newbalanceDest'. Objetivo aqui é gerar sinais que ajude o modelo a separar melhor o evento de fraude das transações comuns.\n",
    "\n",
    "- Criar variáveis aplicando transformação logaritmica nas varáveis 'amount','step', 'oldbalanceOrg', 'newbalanceOrig', 'oldbalanceDest', 'newbalanceDest'. A transformação logartmica foi escolhida por ser aproriada para lidar com skew das variáveis citadas anteriormente.\n",
    "\n",
    "- Realizar o binning, utilizando a estrátegia de k-means, com o objetivo de agrupar as variáveis 'amount','step', 'oldbalanceOrg', 'newbalanceOrig', 'oldbalanceDest', 'newbalanceDest' em 5 grupos colocando os dados em uma mesma escala e a divisão em grupos irá auxiliar o modelo a aprender os eventos de fraude. \n",
    "\n",
    "6.0 EDA\n",
    "\n",
    "- Realizar análise univariada, identificar se atingimos o objetivo de diminuir a escala e tornar as distribuições mais gaussianas com relação as variáveis criadas.\n",
    "- Realizar análise Multivariada, indentificar variáveis com alta correlação entre si\n",
    "- Testar Hipóteses conforme mapa mental.\n",
    "\n",
    "7.0 Feature Selection\n",
    "\n",
    "- Aplicar BorutaShapley, utilizando valores 'shap' e um modelo com base de arvores de decisão como estimador base.\n",
    "- Aplicar BorutaShapley, testando a utilização de um modelo linear como estimador base.\n",
    "\n",
    "\n",
    "\n",
    "\n",
    "\n",
    "\n",
    "Conclusões e Resultados:\n"
   ]
  },
  {
   "cell_type": "markdown",
   "metadata": {},
   "source": [
    "##  Importações de bibliotecas"
   ]
  },
  {
   "cell_type": "code",
   "execution_count": 3,
   "metadata": {
    "ExecuteTime": {
     "end_time": "2020-11-17T23:19:28.430720Z",
     "start_time": "2020-11-17T23:19:26.504570Z"
    },
    "execution": {
     "iopub.execute_input": "2020-11-01T14:44:25.552702Z",
     "iopub.status.busy": "2020-11-01T14:44:25.552222Z",
     "iopub.status.idle": "2020-11-01T14:44:27.507926Z",
     "shell.execute_reply": "2020-11-01T14:44:27.507061Z",
     "shell.execute_reply.started": "2020-11-01T14:44:25.552581Z"
    }
   },
   "outputs": [],
   "source": [
    "# Importings\n",
    "import time\n",
    "import numpy as np\n",
    "import pandas as pd\n",
    "import MyToolBox as mtb\n",
    "\n",
    "# Importings Vaex\n",
    "import vaex\n",
    "import vaex.ml\n",
    "from vaex.ml.sklearn import Predictor, IncrementalPredictor\n",
    "\n",
    "# Data Viz\n",
    "import seaborn as sns\n",
    "import matplotlib.pyplot as plt\n",
    "\n",
    "# General Librarys\n",
    "from sklearn.svm import SVC\n",
    "from BorutaShap import BorutaShap\n",
    "from xgboost import XGBClassifier\n",
    "from imblearn.combine import SMOTETomek\n",
    "from scipy.stats import chi2_contingency\n",
    "from sklearn.ensemble import IsolationForest\n",
    "from sklearn.model_selection import train_test_split\n",
    "from sklearn.preprocessing import RobustScaler\n",
    "from sklearn.pipeline import Pipeline, FeatureUnion\n",
    "from sklearn.model_selection import cross_val_score\n",
    "from sklearn.linear_model import LogisticRegression, SGDClassifier\n",
    "from sklearn.preprocessing import OrdinalEncoder, KBinsDiscretizer\n",
    "\n",
    "\n",
    "import warnings\n",
    "warnings.filterwarnings(\"ignore\")"
   ]
  },
  {
   "cell_type": "markdown",
   "metadata": {
    "execution": {
     "iopub.execute_input": "2020-10-22T20:26:26.646097Z",
     "iopub.status.busy": "2020-10-22T20:26:26.645730Z",
     "iopub.status.idle": "2020-10-22T20:26:26.650094Z",
     "shell.execute_reply": "2020-10-22T20:26:26.649143Z",
     "shell.execute_reply.started": "2020-10-22T20:26:26.646053Z"
    }
   },
   "source": [
    "##  Funções auxiliares"
   ]
  },
  {
   "cell_type": "code",
   "execution_count": 4,
   "metadata": {
    "ExecuteTime": {
     "end_time": "2020-11-17T23:19:28.477763Z",
     "start_time": "2020-11-17T23:19:28.461299Z"
    },
    "execution": {
     "iopub.execute_input": "2020-11-01T14:44:27.509245Z",
     "iopub.status.busy": "2020-11-01T14:44:27.509072Z",
     "iopub.status.idle": "2020-11-01T14:44:27.523665Z",
     "shell.execute_reply": "2020-11-01T14:44:27.522883Z",
     "shell.execute_reply.started": "2020-11-01T14:44:27.509223Z"
    }
   },
   "outputs": [],
   "source": [
    "def balanced_target(target, dataset, hue=None):\n",
    "    \"\"\"\n",
    "    Function to check the balancing of the target variable.\n",
    "\n",
    "    :target:  An pd.Series of the target variable that will be checked.\n",
    "    :dataset: An Dataframe object.\n",
    "    \"\"\"\n",
    "    sns.set(style='darkgrid', palette='Accent')\n",
    "    ax = sns.countplot(x=target, hue=hue, data=dataset)\n",
    "    ax.figure.set_size_inches(10, 6)\n",
    "    ax.set_title('Feature Distribution', fontsize=18, loc='center')\n",
    "    ax.set_xlabel(target, fontsize=14)\n",
    "    ax.set_ylabel('Count', fontsize=14)\n",
    "    ax=ax\n",
    "\n",
    "def drop_outliers(var: str, dataset: pd.DataFrame):\n",
    "\n",
    "    # Calculando os Q1, Q3 e IQR\n",
    "    Q1 = np.quantile(dataset[var], .25)\n",
    "    Q3 = np.quantile(dataset[var], .75)\n",
    "    IQR = Q3 - Q1\n",
    "\n",
    "    # calculates the outliers boundaries through statistical relationship\n",
    "    low = Q1 - 1.5 * IQR\n",
    "    high = Q3 + 1.5 * IQR\n",
    "\n",
    "    dados_resultado = dataset.loc[(dataset[var] > low) & (dataset[var] < high),]\n",
    "\n",
    "    return dados_resultado\n",
    "\n",
    "def drop_outliers_vaex(var: str, dataset_vaex):\n",
    "\n",
    "    # Calculando os Q1, Q3 e IQR\n",
    "    Q1 = np.quantile(dataset_vaex[var].to_pandas_series(), .25)\n",
    "    Q3 = np.quantile(dataset_vaex[var].to_pandas_series(), .75)\n",
    "    IQR = Q3 - Q1\n",
    "\n",
    "    # calculates the outliers boundaries through statistical relationship\n",
    "    low = Q1 - 1.5 * IQR\n",
    "    high = Q3 + 1.5 * IQR\n",
    "\n",
    "    dados_resultado = dataset_vaex[(dataset_vaex[var] > low) & (dataset_vaex[var] < high)]\n",
    "\n",
    "    return dados_resultado\n",
    "\n",
    "\n",
    "def Myheat_map(dataset, variaveis):\n",
    "\n",
    "    df_corr = dataset[variaveis].corr()\n",
    "\n",
    "    fig, ax = plt.subplots(figsize=(16, 10))\n",
    "    # mask\n",
    "    mask = np.triu(np.ones_like(df_corr, dtype=np.bool))\n",
    "    # adjust mask and df\n",
    "    mask = mask[1:, :-1]\n",
    "    corr = df_corr.iloc[1:,:-1].copy()\n",
    "    # color map\n",
    "    cmap = sns.diverging_palette(0, 230, 90, 60, as_cmap=True)\n",
    "\n",
    "    # plot heatmap\n",
    "    sns.heatmap(corr, mask=mask, annot=True, fmt=\".2f\",\n",
    "                   linewidths=5, cmap=cmap, vmin=-1, vmax=1, \n",
    "                   cbar_kws={\"shrink\": .8}, square=True)\n",
    "    yticks = [i.upper() for i in corr.index]\n",
    "    xticks = [i.upper() for i in corr.columns]\n",
    "    plt.yticks(plt.yticks()[0], labels=yticks, rotation=0)\n",
    "    plt.xticks(plt.xticks()[0], labels=xticks, rotation=20)\n",
    "\n",
    "    # title\n",
    "    title = 'CORRELATION MATRIX\\n'\n",
    "    plt.title(title, loc='left', fontsize=18)\n",
    "    plt.show()\n",
    "\n",
    "\n",
    "def cramer_v(var_x, var_y):\n",
    "    \"\"\"\n",
    "    Function to calculate the Cramers v correlation.\n",
    "\n",
    "    \"\"\"\n",
    "    # builds contigency matrix (or confusion matrix)\n",
    "    confusion_matrix_v = pd.crosstab(var_x, var_y).values\n",
    "\n",
    "    # gets the sum of all values in the matrix\n",
    "    n = confusion_matrix_v.sum()\n",
    "\n",
    "    # gets the rows, cols\n",
    "    r, k = confusion_matrix_v.shape\n",
    "\n",
    "    # gets the chi-squared\n",
    "    chi2 = chi2_contingency(confusion_matrix_v)[0]\n",
    "\n",
    "    # makes the bias correction\n",
    "    chi2corr = max(0, chi2 - (k-1) * (r-1) / (n-1))\n",
    "    kcorr = k - (k-1) ** 2 / (n-1)\n",
    "    rcorr = r - (r-1) ** 2 / (n-1)\n",
    "\n",
    "    # returns cramér V\n",
    "    return np.sqrt((chi2corr/n) / min(kcorr-1, rcorr-1))"
   ]
  },
  {
   "cell_type": "markdown",
   "metadata": {},
   "source": [
    "#  Coleta de Dados"
   ]
  },
  {
   "cell_type": "markdown",
   "metadata": {},
   "source": [
    "## Usando o Pandas"
   ]
  },
  {
   "cell_type": "code",
   "execution_count": 5,
   "metadata": {
    "ExecuteTime": {
     "end_time": "2020-11-17T23:19:37.326199Z",
     "start_time": "2020-11-17T23:19:30.875754Z"
    },
    "execution": {
     "iopub.execute_input": "2020-11-01T14:44:28.002560Z",
     "iopub.status.busy": "2020-11-01T14:44:28.002193Z",
     "iopub.status.idle": "2020-11-01T14:44:36.312902Z",
     "shell.execute_reply": "2020-11-01T14:44:36.311954Z",
     "shell.execute_reply.started": "2020-11-01T14:44:28.002520Z"
    }
   },
   "outputs": [
    {
     "name": "stdout",
     "output_type": "stream",
     "text": [
      "Quantidade de Colunas 11\n",
      "Quantidade de Observações 6362620\n"
     ]
    }
   ],
   "source": [
    "# With pandas\n",
    "train = pd.read_csv('../data/trans_fraud_data.csv')\n",
    "print(f'Quantidade de Colunas {train.shape[1]}')\n",
    "\n",
    "print(f'Quantidade de Observações {train.shape[0]}')"
   ]
  },
  {
   "cell_type": "markdown",
   "metadata": {},
   "source": [
    "## Usando Vaex"
   ]
  },
  {
   "cell_type": "code",
   "execution_count": 6,
   "metadata": {
    "ExecuteTime": {
     "end_time": "2020-11-17T23:19:37.415289Z",
     "start_time": "2020-11-17T23:19:37.400916Z"
    }
   },
   "outputs": [
    {
     "data": {
      "text/plain": [
       "(6362620, 11)"
      ]
     },
     "execution_count": 6,
     "metadata": {},
     "output_type": "execute_result"
    }
   ],
   "source": [
    "# With Vaex\n",
    "train_vaex = vaex.from_csv('../data/trans_fraud_data.csv', convert=True)\n",
    "train_vaex.shape"
   ]
  },
  {
   "cell_type": "markdown",
   "metadata": {
    "heading_collapsed": true,
    "toc-hr-collapsed": true,
    "toc-nb-collapsed": true
   },
   "source": [
    "# Descrição dos dados"
   ]
  },
  {
   "cell_type": "markdown",
   "metadata": {
    "hidden": true
   },
   "source": [
    "- Nosso dataset não possui missing values, conforme Mydescribe.\n",
    "- Nosso dataset está bastante desbalanciado, 2.1 isFraud vs isFlaggedFraud.\n",
    "- A partir da análise da Skew e Kurtosis(conforme Mydescribe) podemos observar que as variáveis numericas precisaram ser transformadas. O tipo de transformação será decidido mais a frente.\n",
    "- A variável isFlaggedFraud possui somente 16 observações,as quais também estão como positivas em isFraud, podemos nos desfazer dessa variável.\n",
    "- A variável 'isFraud' é a nossa variável taret nesse problema!\n",
    "- A variável 'type' possui 5 valores únicos. 'PAYMENT','TRANSFER','DEBIT','CASH_OUT'\n",
    "- Possuímos casos de fraude somente para os tipos 'TRANSFER'e 'CASH_OUT', dessa forma podemos eliminar os outros tipos já que os mesmos só irão apresentar ao modelo exemplos de não fraude, ou seja, nosso modelo não irá conseguir modelar situações de fraude (nosso objetivo) a partir desses dados.\n",
    "- A partir do describe na seção 2.2 observamos que as variáveis 'amount' e 'step' variam por diversos niveis de grandeza desde da unidade simples até a centenas, 'step', ou a milhares 'amount'. Irei criar novas variáveis aplicando Binning e excluindo as originais tendo em vista que variáveis que ultrapassam varias ordens de grandeza são problemáticas para muitos modelos."
   ]
  },
  {
   "cell_type": "code",
   "execution_count": null,
   "metadata": {
    "ExecuteTime": {
     "end_time": "2020-11-17T21:15:17.504293Z",
     "start_time": "2020-11-17T21:15:17.481386Z"
    },
    "execution": {
     "iopub.execute_input": "2020-10-31T23:00:55.932435Z",
     "iopub.status.busy": "2020-10-31T23:00:55.932308Z",
     "iopub.status.idle": "2020-10-31T23:00:55.954478Z",
     "shell.execute_reply": "2020-10-31T23:00:55.953750Z",
     "shell.execute_reply.started": "2020-10-31T23:00:55.932419Z"
    },
    "hidden": true
   },
   "outputs": [],
   "source": [
    "# Checando os primeiros registros\n",
    "train.head()"
   ]
  },
  {
   "cell_type": "code",
   "execution_count": null,
   "metadata": {
    "ExecuteTime": {
     "end_time": "2020-11-17T21:15:34.281364Z",
     "start_time": "2020-11-17T21:15:18.140422Z"
    },
    "execution": {
     "iopub.execute_input": "2020-10-31T22:08:11.518185Z",
     "iopub.status.busy": "2020-10-31T22:08:11.517990Z",
     "iopub.status.idle": "2020-10-31T22:08:28.054568Z",
     "shell.execute_reply": "2020-10-31T22:08:28.053725Z",
     "shell.execute_reply.started": "2020-10-31T22:08:11.518161Z"
    },
    "hidden": true
   },
   "outputs": [],
   "source": [
    "# Mydescribe\n",
    "pd.DataFrame({'missingPerc': train.isna().mean(),\n",
    "              'uniques': train.nunique(),\n",
    "              '%uniquePerc': (train.nunique()/train.shape[0])*100,\n",
    "              'data_types': train.dtypes,\n",
    "              'skew': train.skew(),\n",
    "              'kurtosis': train.kurt()\n",
    "               })"
   ]
  },
  {
   "cell_type": "markdown",
   "metadata": {
    "hidden": true
   },
   "source": [
    "##  isFraud vs isFlaggedFraud"
   ]
  },
  {
   "cell_type": "code",
   "execution_count": null,
   "metadata": {
    "ExecuteTime": {
     "end_time": "2020-11-17T21:15:34.946685Z",
     "start_time": "2020-11-17T21:15:34.305775Z"
    },
    "execution": {
     "iopub.execute_input": "2020-10-31T22:08:28.056097Z",
     "iopub.status.busy": "2020-10-31T22:08:28.055820Z",
     "iopub.status.idle": "2020-10-31T22:08:28.849745Z",
     "shell.execute_reply": "2020-10-31T22:08:28.849208Z",
     "shell.execute_reply.started": "2020-10-31T22:08:28.056061Z"
    },
    "hidden": true
   },
   "outputs": [],
   "source": [
    "quant = train['isFraud'].sum()\n",
    "perc = (quant/train.shape[0])*100\n",
    "print(f'Quantidade de eventos positivos - isFraud- {quant}')\n",
    "print(f'Percentual de eventos positivos - isFraud- {perc}\\n')\n",
    "\n",
    "quant1 = train['isFlaggedFraud'].sum()\n",
    "perc1 = (quant/train.shape[0])*100\n",
    "print(f'Quantidade de eventos positivos - isFlaggedFraud- {quant1}')\n",
    "print(f'Percentual de eventos positivos - isFlaggedFraud- {perc1}\\n')\n",
    "\n",
    "\n",
    "# Plots\n",
    "plt.subplot(1, 2, 1)\n",
    "balanced_target('isFraud', dataset=train)\n",
    "\n",
    "plt.subplot(1, 2, 2)\n",
    "balanced_target('isFlaggedFraud', dataset=train)"
   ]
  },
  {
   "cell_type": "code",
   "execution_count": null,
   "metadata": {
    "ExecuteTime": {
     "end_time": "2020-11-17T21:15:34.993788Z",
     "start_time": "2020-11-17T21:15:34.970237Z"
    },
    "execution": {
     "iopub.execute_input": "2020-10-31T22:08:28.851563Z",
     "iopub.status.busy": "2020-10-31T22:08:28.851380Z",
     "iopub.status.idle": "2020-10-31T22:08:28.873058Z",
     "shell.execute_reply": "2020-10-31T22:08:28.872507Z",
     "shell.execute_reply.started": "2020-10-31T22:08:28.851539Z"
    },
    "hidden": true
   },
   "outputs": [],
   "source": [
    "dadosTemp = train.loc[train['isFlaggedFraud']==1,]\n",
    "dadosTemp"
   ]
  },
  {
   "cell_type": "markdown",
   "metadata": {
    "hidden": true
   },
   "source": [
    "## Descrição variável 'type'"
   ]
  },
  {
   "cell_type": "code",
   "execution_count": null,
   "metadata": {
    "ExecuteTime": {
     "end_time": "2020-11-17T21:15:35.416175Z",
     "start_time": "2020-11-17T21:15:35.023720Z"
    },
    "execution": {
     "iopub.execute_input": "2020-10-31T22:08:28.874333Z",
     "iopub.status.busy": "2020-10-31T22:08:28.874121Z",
     "iopub.status.idle": "2020-10-31T22:08:29.245574Z",
     "shell.execute_reply": "2020-10-31T22:08:29.245047Z",
     "shell.execute_reply.started": "2020-10-31T22:08:28.874313Z"
    },
    "hidden": true
   },
   "outputs": [],
   "source": [
    "# Quantidade Fraud\n",
    "data_temp = train.loc[train['isFraud'] == 1, ]\n",
    "\n",
    "uniq = train['type'].unique()\n",
    "print(f'Valores únicos de type são {uniq}\\n')\n",
    "balanced_target('type', dataset=data_temp)"
   ]
  },
  {
   "cell_type": "markdown",
   "metadata": {
    "hidden": true
   },
   "source": [
    "## Outras Variáveis"
   ]
  },
  {
   "cell_type": "code",
   "execution_count": null,
   "metadata": {
    "ExecuteTime": {
     "end_time": "2020-11-17T21:15:36.765780Z",
     "start_time": "2020-11-17T21:15:35.456246Z"
    },
    "execution": {
     "iopub.execute_input": "2020-10-31T22:08:29.246354Z",
     "iopub.status.busy": "2020-10-31T22:08:29.246235Z",
     "iopub.status.idle": "2020-10-31T22:08:30.575951Z",
     "shell.execute_reply": "2020-10-31T22:08:30.575448Z",
     "shell.execute_reply.started": "2020-10-31T22:08:29.246338Z"
    },
    "hidden": true
   },
   "outputs": [],
   "source": [
    "# Describe\n",
    "variables = ['amount','step', 'oldbalanceOrg', 'newbalanceOrig', 'oldbalanceDest', 'newbalanceDest']\n",
    "train[variables].describe().T"
   ]
  },
  {
   "cell_type": "markdown",
   "metadata": {
    "hidden": true
   },
   "source": [
    "###  Analisando 'Amount', 'oldBalanceDest', 'newBalanceDest', 'oldBalanceOrig', 'newBalanceOrig'"
   ]
  },
  {
   "cell_type": "code",
   "execution_count": null,
   "metadata": {
    "ExecuteTime": {
     "end_time": "2020-11-17T21:15:37.053476Z",
     "start_time": "2020-11-17T21:15:36.808713Z"
    },
    "execution": {
     "iopub.execute_input": "2020-10-31T22:08:30.576691Z",
     "iopub.status.busy": "2020-10-31T22:08:30.576574Z",
     "iopub.status.idle": "2020-10-31T22:08:30.824675Z",
     "shell.execute_reply": "2020-10-31T22:08:30.824031Z",
     "shell.execute_reply.started": "2020-10-31T22:08:30.576676Z"
    },
    "hidden": true
   },
   "outputs": [],
   "source": [
    "# Percentual de operações amount != de zero oldBalanceDest e newBalanceDest são iguais a 0\n",
    "quant_dest = train.loc[(train['amount'] != 0) & (train['oldbalanceDest'] == 0) & (train['newbalanceDest'] == 0), ]\n",
    "\n",
    "perc_quant_dest = round(quant_dest.shape[0]/train.shape[0], 2)*100\n",
    "print(f'O percentual de casos onde o amount é diferente de 0 com oldbalanceDest e newbalanceDest iguais {perc_quant_dest}%')"
   ]
  },
  {
   "cell_type": "code",
   "execution_count": null,
   "metadata": {
    "ExecuteTime": {
     "end_time": "2020-11-17T21:15:37.329036Z",
     "start_time": "2020-11-17T21:15:37.107492Z"
    },
    "execution": {
     "iopub.execute_input": "2020-10-31T22:08:30.825891Z",
     "iopub.status.busy": "2020-10-31T22:08:30.825683Z",
     "iopub.status.idle": "2020-10-31T22:08:31.054669Z",
     "shell.execute_reply": "2020-10-31T22:08:31.054143Z",
     "shell.execute_reply.started": "2020-10-31T22:08:30.825866Z"
    },
    "hidden": true
   },
   "outputs": [],
   "source": [
    "# Percentual de operações amount != de zero oldBalanceOrig e newBalanceOrig são iguais a 0\n",
    "\n",
    "quant_orig = train.loc[(train['amount'] != 0) & (train['oldbalanceOrg'] == 0) & (train['newbalanceOrig'] == 0), ]\n",
    "\n",
    "perc_quant_orig = round(quant_orig.shape[0]/train.shape[0], 2)*100\n",
    "print(f'O percentual de casos onde o amount é diferente de 0 com oldbalanceDest e newbalanceDest iguais {perc_quant_orig}%')"
   ]
  },
  {
   "cell_type": "markdown",
   "metadata": {},
   "source": [
    "# Limpeza de dados"
   ]
  },
  {
   "cell_type": "markdown",
   "metadata": {},
   "source": [
    "- Conforme observado na etapa de descrição dos dados iremos eliminar a variável 'isFlaggedFraud', pois possui apenas 16 observações positivas sendo que as mesmas também são positivas para a variável 'isFraud'\n",
    "- Conforme observado na etapa de descrição dos dados iremos eliminar as observações com 'type' diferente de 'TRANSFER' e 'CASH_OUT'\n",
    "- Investigar e eliminar os outliers"
   ]
  },
  {
   "cell_type": "markdown",
   "metadata": {},
   "source": [
    "## Eliminando a variável 'isFlaggedFraud' e os 'types' PAYMENT, CASH_IN, DEBIT"
   ]
  },
  {
   "cell_type": "code",
   "execution_count": null,
   "metadata": {
    "ExecuteTime": {
     "end_time": "2020-11-17T23:14:41.644724Z",
     "start_time": "2020-11-17T23:14:40.176282Z"
    },
    "execution": {
     "iopub.execute_input": "2020-11-01T14:44:36.314725Z",
     "iopub.status.busy": "2020-11-01T14:44:36.314421Z",
     "iopub.status.idle": "2020-11-01T14:44:38.545828Z",
     "shell.execute_reply": "2020-11-01T14:44:38.545101Z",
     "shell.execute_reply.started": "2020-11-01T14:44:36.314689Z"
    }
   },
   "outputs": [],
   "source": [
    "# Pandas\n",
    "\n",
    "# 'isFlaggedFraud'\n",
    "train.drop('isFlaggedFraud', inplace=True, axis=1)\n",
    "\n",
    "# PAYMENT, CASH_IN, DEBIT\n",
    "train = train.loc[(train['type'] == 'TRANSFER') | (train['type'] == 'CASH_OUT'), ]"
   ]
  },
  {
   "cell_type": "code",
   "execution_count": null,
   "metadata": {
    "ExecuteTime": {
     "end_time": "2020-11-17T23:14:41.790563Z",
     "start_time": "2020-11-17T23:14:41.741104Z"
    }
   },
   "outputs": [],
   "source": [
    "# Vaex\n",
    "\n",
    "# 'isFlaggedFraud'\n",
    "train_vaex.drop('isFlaggedFraud', inplace=True, check=False)\n",
    "\n",
    "# PAYMENT, CASH_IN, DEBIT\n",
    "train_vaex = train_vaex[(train_vaex['type'] == 'TRANSFER') | (train_vaex['type'] == 'CASH_OUT')]\n",
    "train_vaex.shape"
   ]
  },
  {
   "cell_type": "markdown",
   "metadata": {
    "execution": {
     "iopub.execute_input": "2020-10-24T17:16:52.967202Z",
     "iopub.status.busy": "2020-10-24T17:16:52.966713Z",
     "iopub.status.idle": "2020-10-24T17:16:52.971875Z",
     "shell.execute_reply": "2020-10-24T17:16:52.970545Z",
     "shell.execute_reply.started": "2020-10-24T17:16:52.967139Z"
    }
   },
   "source": [
    "## Eliminando Outliers"
   ]
  },
  {
   "cell_type": "markdown",
   "metadata": {
    "heading_collapsed": true
   },
   "source": [
    "### Com as classes positivas"
   ]
  },
  {
   "cell_type": "code",
   "execution_count": null,
   "metadata": {
    "ExecuteTime": {
     "end_time": "2020-11-17T21:25:00.309098Z",
     "start_time": "2020-11-17T21:24:56.688447Z"
    },
    "execution": {
     "iopub.execute_input": "2020-11-01T14:44:38.547097Z",
     "iopub.status.busy": "2020-11-01T14:44:38.546931Z",
     "iopub.status.idle": "2020-11-01T14:44:42.251883Z",
     "shell.execute_reply": "2020-11-01T14:44:42.251258Z",
     "shell.execute_reply.started": "2020-11-01T14:44:38.547076Z"
    },
    "hidden": true
   },
   "outputs": [],
   "source": [
    "# Pandas\n",
    "# Investigando Outliers\n",
    "explorer = mtb.EDA(train)\n",
    "explorer.multi_boxplots(['amount', 'step','oldbalanceOrg','newbalanceOrig','oldbalanceDest','newbalanceDest'])"
   ]
  },
  {
   "cell_type": "code",
   "execution_count": null,
   "metadata": {
    "ExecuteTime": {
     "end_time": "2020-11-17T21:25:01.023620Z",
     "start_time": "2020-11-17T21:25:00.490999Z"
    },
    "execution": {
     "iopub.execute_input": "2020-11-01T14:44:42.252849Z",
     "iopub.status.busy": "2020-11-01T14:44:42.252711Z",
     "iopub.status.idle": "2020-11-01T14:44:42.735625Z",
     "shell.execute_reply": "2020-11-01T14:44:42.735009Z",
     "shell.execute_reply.started": "2020-11-01T14:44:42.252832Z"
    },
    "hidden": true
   },
   "outputs": [],
   "source": [
    "# Pandas\n",
    "\n",
    "# Eliminando os Outliers\n",
    "treino = drop_outliers('amount', train)\n",
    "treino = drop_outliers('oldbalanceOrg', treino)\n",
    "treino.shape"
   ]
  },
  {
   "cell_type": "code",
   "execution_count": null,
   "metadata": {
    "ExecuteTime": {
     "end_time": "2020-11-17T21:25:01.434035Z",
     "start_time": "2020-11-17T21:25:01.225309Z"
    },
    "hidden": true
   },
   "outputs": [],
   "source": [
    "# Vaex\n",
    "\n",
    "# Eliminando os Outliers\n",
    "treino_vaex = drop_outliers_vaex('amount', train_vaex)\n",
    "treino_vaex = drop_outliers_vaex('oldbalanceOrg',treino_vaex)\n",
    "treino_vaex.shape"
   ]
  },
  {
   "cell_type": "code",
   "execution_count": null,
   "metadata": {
    "ExecuteTime": {
     "end_time": "2020-11-17T21:25:04.044373Z",
     "start_time": "2020-11-17T21:25:01.770833Z"
    },
    "execution": {
     "iopub.execute_input": "2020-11-01T14:44:42.736272Z",
     "iopub.status.busy": "2020-11-01T14:44:42.736154Z",
     "iopub.status.idle": "2020-11-01T14:44:44.951059Z",
     "shell.execute_reply": "2020-11-01T14:44:44.950335Z",
     "shell.execute_reply.started": "2020-11-01T14:44:42.736256Z"
    },
    "hidden": true
   },
   "outputs": [],
   "source": [
    "# Checando as distribuições após da eliminação de outliers\n",
    "explorer1 = mtb.EDA(treino)\n",
    "explorer1.multi_boxplots(['amount', 'step','oldbalanceOrg','newbalanceOrig','oldbalanceDest','newbalanceDest'])"
   ]
  },
  {
   "cell_type": "code",
   "execution_count": null,
   "metadata": {
    "ExecuteTime": {
     "end_time": "2020-11-17T21:25:12.219346Z",
     "start_time": "2020-11-17T21:25:12.206134Z"
    },
    "execution": {
     "iopub.execute_input": "2020-11-01T14:44:44.951820Z",
     "iopub.status.busy": "2020-11-01T14:44:44.951705Z",
     "iopub.status.idle": "2020-11-01T14:44:44.961922Z",
     "shell.execute_reply": "2020-11-01T14:44:44.961069Z",
     "shell.execute_reply.started": "2020-11-01T14:44:44.951805Z"
    },
    "hidden": true
   },
   "outputs": [],
   "source": [
    "# Quantidade de observações positivas antes da limpeza de outliers.\n",
    "post = train.loc[train['isFraud']==1,].shape[0]\n",
    "print(f'Quantidade de Classes Positivas: {post} ')"
   ]
  },
  {
   "cell_type": "code",
   "execution_count": null,
   "metadata": {
    "ExecuteTime": {
     "end_time": "2020-11-17T21:25:12.794341Z",
     "start_time": "2020-11-17T21:25:12.578726Z"
    },
    "execution": {
     "iopub.execute_input": "2020-11-01T14:44:44.963029Z",
     "iopub.status.busy": "2020-11-01T14:44:44.962847Z",
     "iopub.status.idle": "2020-11-01T14:44:45.218448Z",
     "shell.execute_reply": "2020-11-01T14:44:45.217556Z",
     "shell.execute_reply.started": "2020-11-01T14:44:44.962998Z"
    },
    "hidden": true
   },
   "outputs": [],
   "source": [
    "# Quantidade de obervações positivas antes depois limpeza de outliers.\n",
    "post = treino.loc[train['isFraud']==1,].shape[0]\n",
    "print(f'Quantidade de Classes Positivas: {post} ')"
   ]
  },
  {
   "cell_type": "markdown",
   "metadata": {
    "hidden": true
   },
   "source": [
    "Estamos perdendo muitas observações positivas que já são raras neste dataset. Vamos eliminar os outliers somente das observações negativas ('isFraud'=0)"
   ]
  },
  {
   "cell_type": "markdown",
   "metadata": {},
   "source": [
    "###  Sem Classe Positiva"
   ]
  },
  {
   "cell_type": "code",
   "execution_count": 1,
   "metadata": {
    "ExecuteTime": {
     "end_time": "2020-11-17T23:19:19.018695Z",
     "start_time": "2020-11-17T23:19:18.937213Z"
    },
    "execution": {
     "iopub.execute_input": "2020-11-01T14:44:45.220330Z",
     "iopub.status.busy": "2020-11-01T14:44:45.220161Z",
     "iopub.status.idle": "2020-11-01T14:44:45.427901Z",
     "shell.execute_reply": "2020-11-01T14:44:45.427292Z",
     "shell.execute_reply.started": "2020-11-01T14:44:45.220308Z"
    }
   },
   "outputs": [
    {
     "ename": "NameError",
     "evalue": "name 'train' is not defined",
     "output_type": "error",
     "traceback": [
      "\u001b[0;31m---------------------------------------------------------------------------\u001b[0m",
      "\u001b[0;31mNameError\u001b[0m                                 Traceback (most recent call last)",
      "\u001b[0;32m<ipython-input-1-73936cff482c>\u001b[0m in \u001b[0;36m<module>\u001b[0;34m\u001b[0m\n\u001b[1;32m      1\u001b[0m \u001b[0;31m# Separando as observações com classe positiva\u001b[0m\u001b[0;34m\u001b[0m\u001b[0;34m\u001b[0m\u001b[0;34m\u001b[0m\u001b[0m\n\u001b[0;32m----> 2\u001b[0;31m \u001b[0mtrain_pos\u001b[0m \u001b[0;34m=\u001b[0m \u001b[0mtrain\u001b[0m\u001b[0;34m.\u001b[0m\u001b[0mloc\u001b[0m\u001b[0;34m[\u001b[0m\u001b[0mtrain\u001b[0m\u001b[0;34m[\u001b[0m\u001b[0;34m'isFraud'\u001b[0m\u001b[0;34m]\u001b[0m\u001b[0;34m==\u001b[0m\u001b[0;36m1\u001b[0m\u001b[0;34m,\u001b[0m\u001b[0;34m]\u001b[0m\u001b[0;34m\u001b[0m\u001b[0;34m\u001b[0m\u001b[0m\n\u001b[0m\u001b[1;32m      3\u001b[0m \u001b[0mtrain_neg\u001b[0m \u001b[0;34m=\u001b[0m \u001b[0mtrain\u001b[0m\u001b[0;34m.\u001b[0m\u001b[0mloc\u001b[0m\u001b[0;34m[\u001b[0m\u001b[0mtrain\u001b[0m\u001b[0;34m[\u001b[0m\u001b[0;34m'isFraud'\u001b[0m\u001b[0;34m]\u001b[0m\u001b[0;34m==\u001b[0m\u001b[0;36m0\u001b[0m\u001b[0;34m,\u001b[0m\u001b[0;34m]\u001b[0m\u001b[0;34m\u001b[0m\u001b[0;34m\u001b[0m\u001b[0m\n",
      "\u001b[0;31mNameError\u001b[0m: name 'train' is not defined"
     ]
    }
   ],
   "source": [
    "# Separando as observações com classe positiva\n",
    "train_pos = train.loc[train['isFraud']==1,]\n",
    "train_neg = train.loc[train['isFraud']==0,]"
   ]
  },
  {
   "cell_type": "code",
   "execution_count": 2,
   "metadata": {
    "ExecuteTime": {
     "end_time": "2020-11-17T23:19:19.264361Z",
     "start_time": "2020-11-17T23:19:19.255368Z"
    },
    "execution": {
     "iopub.execute_input": "2020-11-01T14:44:45.428851Z",
     "iopub.status.busy": "2020-11-01T14:44:45.428723Z",
     "iopub.status.idle": "2020-11-01T14:44:48.833186Z",
     "shell.execute_reply": "2020-11-01T14:44:48.832327Z",
     "shell.execute_reply.started": "2020-11-01T14:44:45.428835Z"
    }
   },
   "outputs": [
    {
     "ename": "NameError",
     "evalue": "name 'mtb' is not defined",
     "output_type": "error",
     "traceback": [
      "\u001b[0;31m---------------------------------------------------------------------------\u001b[0m",
      "\u001b[0;31mNameError\u001b[0m                                 Traceback (most recent call last)",
      "\u001b[0;32m<ipython-input-2-cf291d78ca51>\u001b[0m in \u001b[0;36m<module>\u001b[0;34m\u001b[0m\n\u001b[1;32m      1\u001b[0m \u001b[0;31m# Investigando Outliers\u001b[0m\u001b[0;34m\u001b[0m\u001b[0;34m\u001b[0m\u001b[0;34m\u001b[0m\u001b[0m\n\u001b[0;32m----> 2\u001b[0;31m \u001b[0mexplorer\u001b[0m \u001b[0;34m=\u001b[0m \u001b[0mmtb\u001b[0m\u001b[0;34m.\u001b[0m\u001b[0mEDA\u001b[0m\u001b[0;34m(\u001b[0m\u001b[0mtrain_neg\u001b[0m\u001b[0;34m)\u001b[0m\u001b[0;34m\u001b[0m\u001b[0;34m\u001b[0m\u001b[0m\n\u001b[0m\u001b[1;32m      3\u001b[0m \u001b[0mexplorer\u001b[0m\u001b[0;34m.\u001b[0m\u001b[0mmulti_boxplots\u001b[0m\u001b[0;34m(\u001b[0m\u001b[0;34m[\u001b[0m\u001b[0;34m'amount'\u001b[0m\u001b[0;34m,\u001b[0m \u001b[0;34m'step'\u001b[0m\u001b[0;34m,\u001b[0m\u001b[0;34m'oldbalanceOrg'\u001b[0m\u001b[0;34m,\u001b[0m\u001b[0;34m'newbalanceOrig'\u001b[0m\u001b[0;34m,\u001b[0m\u001b[0;34m'oldbalanceDest'\u001b[0m\u001b[0;34m,\u001b[0m\u001b[0;34m'newbalanceDest'\u001b[0m\u001b[0;34m]\u001b[0m\u001b[0;34m)\u001b[0m\u001b[0;34m\u001b[0m\u001b[0;34m\u001b[0m\u001b[0m\n",
      "\u001b[0;31mNameError\u001b[0m: name 'mtb' is not defined"
     ]
    }
   ],
   "source": [
    "# Investigando Outliers\n",
    "explorer = mtb.EDA(train_neg)\n",
    "explorer.multi_boxplots(['amount', 'step','oldbalanceOrg','newbalanceOrig','oldbalanceDest','newbalanceDest'])"
   ]
  },
  {
   "cell_type": "code",
   "execution_count": null,
   "metadata": {
    "ExecuteTime": {
     "end_time": "2020-11-17T21:25:30.049093Z",
     "start_time": "2020-11-17T21:25:27.203539Z"
    },
    "execution": {
     "iopub.execute_input": "2020-11-01T14:44:48.834027Z",
     "iopub.status.busy": "2020-11-01T14:44:48.833852Z",
     "iopub.status.idle": "2020-11-01T14:44:50.220971Z",
     "shell.execute_reply": "2020-11-01T14:44:50.220457Z",
     "shell.execute_reply.started": "2020-11-01T14:44:48.834005Z"
    }
   },
   "outputs": [],
   "source": [
    "# Eliminando os Outliers - Pandas\n",
    "\n",
    "# Passada 1\n",
    "for var in ['amount', 'step', 'oldbalanceOrg', 'newbalanceOrig', 'oldbalanceDest', 'newbalanceDest']:\n",
    "    treino = drop_outliers(var, train_neg)\n",
    "\n",
    "# Passada 2\n",
    "for var in ['amount', 'step', 'oldbalanceOrg', 'newbalanceOrig', 'oldbalanceDest', 'newbalanceDest']:\n",
    "    treino1 = drop_outliers(var, treino)\n",
    "\n",
    "treino1.shape"
   ]
  },
  {
   "cell_type": "code",
   "execution_count": null,
   "metadata": {
    "ExecuteTime": {
     "end_time": "2020-11-17T21:25:31.493238Z",
     "start_time": "2020-11-17T21:25:30.437147Z"
    }
   },
   "outputs": [],
   "source": [
    "# Eliminando os Outliers - Vaex\n",
    "\n",
    "# Separando as observações com classe positiva\n",
    "train_pos_vaex = train_vaex[train_vaex['isFraud']==1]\n",
    "train_neg_vaex = train_vaex[train_vaex['isFraud']==0]\n",
    "\n",
    "# Passada 1\n",
    "for var in ['amount', 'step', 'oldbalanceOrg', 'newbalanceOrig', 'oldbalanceDest', 'newbalanceDest']:\n",
    "    treino_vaex = drop_outliers_vaex(var, train_neg_vaex)\n",
    "\n",
    "# Passada 2 \n",
    "for var in ['amount', 'step', 'oldbalanceOrg', 'newbalanceOrig', 'oldbalanceDest', 'newbalanceDest']:  \n",
    "    treino_vaex1 = drop_outliers_vaex(var, treino_vaex)\n",
    "\n",
    "treino_vaex1.shape"
   ]
  },
  {
   "cell_type": "code",
   "execution_count": null,
   "metadata": {
    "ExecuteTime": {
     "end_time": "2020-11-17T21:25:34.983905Z",
     "start_time": "2020-11-17T21:25:32.251776Z"
    },
    "execution": {
     "iopub.execute_input": "2020-11-01T14:44:50.221687Z",
     "iopub.status.busy": "2020-11-01T14:44:50.221572Z",
     "iopub.status.idle": "2020-11-01T14:44:53.077101Z",
     "shell.execute_reply": "2020-11-01T14:44:53.076517Z",
     "shell.execute_reply.started": "2020-11-01T14:44:50.221671Z"
    }
   },
   "outputs": [],
   "source": [
    "explorer1 = mtb.EDA(treino1)\n",
    "explorer1.multi_boxplots(['amount', 'step','oldbalanceOrg','newbalanceOrig','oldbalanceDest','newbalanceDest'])"
   ]
  },
  {
   "cell_type": "code",
   "execution_count": null,
   "metadata": {
    "ExecuteTime": {
     "end_time": "2020-11-17T21:25:36.242663Z",
     "start_time": "2020-11-17T21:25:35.797979Z"
    },
    "execution": {
     "iopub.execute_input": "2020-11-01T14:44:53.077791Z",
     "iopub.status.busy": "2020-11-01T14:44:53.077675Z",
     "iopub.status.idle": "2020-11-01T14:44:53.377160Z",
     "shell.execute_reply": "2020-11-01T14:44:53.376499Z",
     "shell.execute_reply.started": "2020-11-01T14:44:53.077775Z"
    }
   },
   "outputs": [],
   "source": [
    "# Unindo classe negativa e positiva - Vaex\n",
    "dataset = vaex.concat([train_pos_vaex, treino_vaex1])\n",
    "\n",
    "# Unindo classe negativa e positiva - Pandas\n",
    "dataset_pd = pd.concat([train_pos, treino1], axis=0)"
   ]
  },
  {
   "cell_type": "markdown",
   "metadata": {},
   "source": [
    "# Feature Engineering"
   ]
  },
  {
   "cell_type": "markdown",
   "metadata": {},
   "source": [
    "- Criar a variável type_dest a partir da primeira letra da variável nameDest. C representa 'Customer' e M representa 'Merchant'.\n",
    "\n",
    "- Criar a variável erro_transaction, espera-se que 'amount' - (oldbalanceOrg - newbalanceOrig) seja igual a zero talvez erros maiores podem levar o modelo entender o evento de Fraude. \n",
    "\n",
    "- Criar variável por iteração 'amount' / 'step' = 'amount_step', o relacionamento do valor da transação por unidade de tempo pode nos ajudar a modelar o evento.\n",
    "\n",
    "- Criar variáveis a partir do WeightOfEvidenceEncoder. WOE é uma medida do quão bem a observação suporta ou mitiga a hipostese - H0.\n",
    "  - A partir dest_type criar woe_encoded_dest_type\n",
    "  - A partir type criar woe_encoded_type\n",
    "  \n",
    "- Criar variáveis a partir do grupamento de 'type', calculando-se a média e o desvio padrão das variáveis 'amount', 'oldbalanceOrg', 'newbalanceOrig', 'oldbalanceDest', 'newbalanceDest'. Objetivo aqui é gerar sinais que ajude o modelo a separar melhor o evento de fraude das transações comuns.\n",
    "\n",
    "- Criar variáveis aplicando transformação logaritmica nas varáveis 'amount','step', 'oldbalanceOrg', 'newbalanceOrig', 'oldbalanceDest', 'newbalanceDest'. A transformação logartmica foi escolhida por ser aproriada para lidar com skew das variáveis citadas anteriormente.\n",
    "\n",
    "- Realizar o binning, utilizando a estrátegia de k-means, com o objetivo de agrupar as variáveis 'amount','step', 'oldbalanceOrg', 'newbalanceOrig', 'oldbalanceDest', 'newbalanceDest' em 5 grupos colocando os dados em uma mesma escala e a divisão em grupos irá auxiliar o modelo a aprender os eventos de fraude. "
   ]
  },
  {
   "cell_type": "code",
   "execution_count": null,
   "metadata": {
    "ExecuteTime": {
     "end_time": "2020-11-17T21:33:40.901792Z",
     "start_time": "2020-11-17T21:33:39.606812Z"
    }
   },
   "outputs": [],
   "source": [
    "# Splinting entre dados de treino e teste\n",
    "Xtrain_pd = dataset_pd.sample(2119065)\n",
    "Xtest_pd = dataset_pd.sample(235452)"
   ]
  },
  {
   "cell_type": "code",
   "execution_count": null,
   "metadata": {
    "ExecuteTime": {
     "end_time": "2020-11-17T21:34:02.932533Z",
     "start_time": "2020-11-17T21:33:41.871876Z"
    },
    "execution": {
     "iopub.execute_input": "2020-11-01T14:44:53.501992Z",
     "iopub.status.busy": "2020-11-01T14:44:53.501744Z",
     "iopub.status.idle": "2020-11-01T14:45:08.197084Z",
     "shell.execute_reply": "2020-11-01T14:45:08.196633Z",
     "shell.execute_reply.started": "2020-11-01T14:44:53.501959Z"
    },
    "hide_input": false
   },
   "outputs": [],
   "source": [
    "# dest_type; 1 - Merchant e 0-Customer e Dropping 'nameOrig', 'nameDest'\n",
    "Xtrain_pd['dest_type'] = Xtrain_pd['nameDest'].apply(lambda x: 1 if x[0] == 'M' else 0)\n",
    "Xtest_pd['dest_type'] = Xtest_pd['nameDest'].apply(lambda x: 1 if x[0] == 'M' else 0)\n",
    "\n",
    "# error_transaction\n",
    "Xtrain_pd['error_transaction'] = Xtrain_pd['amount'] - (Xtrain_pd['oldbalanceOrg'] - Xtrain_pd['newbalanceOrig'])\n",
    "Xtest_pd['error_transaction'] = Xtest_pd['amount'] - (Xtest_pd['oldbalanceOrg'] - Xtest_pd['newbalanceOrig'])\n",
    "\n",
    "# amount/step\n",
    "Xtrain_pd['amount_step'] = Xtrain_pd['amount']/Xtrain_pd['step']\n",
    "Xtest_pd['amount_step'] = Xtest_pd['amount']/Xtest_pd['step']\n",
    "\n",
    "# GroupBy('amount') over Type\n",
    "group_train = Xtrain_pd.groupby('type').agg({'amount':['mean','std']}).reset_index()\n",
    "Xtrain_pd = Xtrain_pd.merge(group_train, left_on='type', right_on='type')\n",
    "\n",
    "group_test = Xtest_pd.groupby('type').agg({'amount':['mean','std']}).reset_index()\n",
    "Xtest_pd = Xtest_pd.merge(group_test, left_on='type', right_on='type')\n",
    "\n",
    "# GroupBy('oldbalanceOrg') over Type\n",
    "group_train1 = Xtrain_pd.groupby('type').agg({'oldbalanceOrg':['mean','std']}).reset_index()\n",
    "Xtrain_pd = Xtrain_pd.merge(group_train1, left_on='type', right_on='type')\n",
    "\n",
    "group_test1 = Xtest_pd.groupby('type').agg({'oldbalanceOrg':['mean','std']}).reset_index()\n",
    "Xtest_pd = Xtest_pd.merge(group_test1, left_on='type', right_on='type')\n",
    "\n",
    "# GroupBy('newbalanceOrig') over Type\n",
    "group_train2 = Xtrain_pd.groupby('type').agg({'newbalanceOrig':['mean','std']}).reset_index()\n",
    "Xtrain_pd = Xtrain_pd.merge(group_train2, left_on='type', right_on='type')\n",
    "\n",
    "group_test2 = Xtest_pd.groupby('type').agg({'newbalanceOrig':['mean','std']}).reset_index()\n",
    "Xtest_pd = Xtest_pd.merge(group_test2, left_on='type', right_on='type')\n",
    "\n",
    "# GroupBy('oldbalanceDest') over Type\n",
    "group_train3 = Xtrain_pd.groupby('type').agg({'oldbalanceDest':['mean','std']}).reset_index()\n",
    "Xtrain_pd = Xtrain_pd.merge(group_train3, left_on='type', right_on='type')\n",
    "\n",
    "group_test3 = Xtest_pd.groupby('type').agg({'oldbalanceDest':['mean','std']}).reset_index()\n",
    "Xtest_pd = Xtest_pd.merge(group_test3, left_on='type', right_on='type')\n",
    "\n",
    "# GroupBy('newbalanceDest') over Type\n",
    "group_train4 = Xtrain_pd.groupby('type').agg({'newbalanceDest':['mean','std']}).reset_index()\n",
    "Xtrain_pd = Xtrain_pd.merge(group_train4, left_on='type', right_on='type')\n",
    "\n",
    "group_test4 = Xtest_pd.groupby('type').agg({'newbalanceDest':['mean','std']}).reset_index()\n",
    "Xtest_pd = Xtest_pd.merge(group_test4, left_on='type', right_on='type')\n",
    "\n",
    "# Binning 'amount'\n",
    "Xtrain_pd['amount_bin_log'] = np.floor(np.log10(Xtrain_pd['amount']))\n",
    "Xtrain_pd['amount_bin_log'] = Xtrain_pd['amount_bin_log'].apply(lambda x: 0 if x == -np.inf else x)\n",
    "Xtrain_pd['amount_kbins_kmeans'] = KBinsDiscretizer(n_bins=5, encode='ordinal', strategy='kmeans').fit_transform(np.array(Xtrain_pd['amount']).reshape(-1,1))\n",
    "\n",
    "Xtest_pd['amount_bin_log'] = np.floor(np.log10(Xtest_pd['amount']))\n",
    "Xtest_pd['amount_bin_log'] = Xtest_pd['amount_bin_log'].apply(lambda x: 0 if x == -np.inf else x)\n",
    "Xtest_pd['amount_kbins_kmeans'] = KBinsDiscretizer(n_bins=5, encode='ordinal', strategy='kmeans').fit_transform(np.array(Xtest_pd['amount']).reshape(-1,1))\n",
    "\n",
    "# Binning 'step'\n",
    "Xtrain_pd['step_bin_log'] = np.floor(np.log10(Xtrain_pd['step']))\n",
    "Xtrain_pd['step_bin_log'] = Xtrain_pd['step_bin_log'].apply(lambda x: 0 if x == -np.inf else x)\n",
    "Xtrain_pd['step_kbins_kmeans'] = KBinsDiscretizer(n_bins=5, encode='ordinal', strategy='kmeans').fit_transform(np.array(Xtrain_pd['step']).reshape(-1,1))\n",
    "\n",
    "Xtest_pd['step_bin_log'] = np.floor(np.log10(Xtest_pd['step']))\n",
    "Xtest_pd['step_bin_log'] = Xtest_pd['step_bin_log'].apply(lambda x: 0 if x == -np.inf else x)\n",
    "Xtest_pd['step_kbins_kmeans'] = KBinsDiscretizer(n_bins=5, encode='ordinal', strategy='kmeans').fit_transform(np.array(Xtest_pd['step']).reshape(-1,1))\n",
    "\n",
    "# Binning 'oldbalanceOrg'\n",
    "Xtrain_pd['oldbalanceOrg_bin_log'] = np.floor(np.log10(Xtrain_pd['oldbalanceOrg']))\n",
    "Xtrain_pd['oldbalanceOrg_bin_log'] = Xtrain_pd['oldbalanceOrg_bin_log'].apply(lambda x: 0 if x == -np.inf else x)\n",
    "Xtrain_pd['oldbalanceOrg_kbins_kmeans'] = KBinsDiscretizer(n_bins=5, encode='ordinal', strategy='kmeans').fit_transform(np.array(Xtrain_pd['oldbalanceOrg']).reshape(-1,1))\n",
    "\n",
    "Xtest_pd['oldbalanceOrg_bin_log'] = np.floor(np.log10(Xtest_pd['oldbalanceOrg']))\n",
    "Xtest_pd['oldbalanceOrg_bin_log'] = Xtest_pd['oldbalanceOrg_bin_log'].apply(lambda x: 0 if x == -np.inf else x)\n",
    "Xtest_pd['oldbalanceOrg_kbins_kmeans'] = KBinsDiscretizer(n_bins=5, encode='ordinal', strategy='kmeans').fit_transform(np.array(Xtest_pd['oldbalanceOrg']).reshape(-1,1))\n",
    "\n",
    "# Binning 'newbalanceOrig'\n",
    "Xtrain_pd['newbalanceOrig_bin_log'] = np.floor(np.log10(Xtrain_pd['newbalanceOrig']))\n",
    "Xtrain_pd['newbalanceOrig_bin_log'] = Xtrain_pd['newbalanceOrig_bin_log'].apply(lambda x: 0 if x == -np.inf else x)\n",
    "Xtrain_pd['newbalanceOrig_kbins_kmeans'] = KBinsDiscretizer(n_bins=5, encode='ordinal', strategy='kmeans').fit_transform(np.array(Xtrain_pd['newbalanceOrig']).reshape(-1,1))\n",
    "\n",
    "Xtest_pd['newbalanceOrig_bin_log'] = np.floor(np.log10(Xtest_pd['newbalanceOrig']))\n",
    "Xtest_pd['newbalanceOrig_bin_log'] = Xtest_pd['newbalanceOrig_bin_log'].apply(lambda x: 0 if x == -np.inf else x)\n",
    "Xtest_pd['newbalanceOrig_kbins_kmeans'] = KBinsDiscretizer(n_bins=5, encode='ordinal', strategy='kmeans').fit_transform(np.array(Xtest_pd['newbalanceOrig']).reshape(-1,1))\n",
    "\n",
    "# Binning 'oldbalanceDest'\n",
    "Xtrain_pd['oldbalanceDest_bin_log'] = np.floor(np.log10(Xtrain_pd['oldbalanceDest']))\n",
    "Xtrain_pd['oldbalanceDest_bin_log'] = Xtrain_pd['oldbalanceDest_bin_log'].apply(lambda x: 0 if x == -np.inf else x)\n",
    "Xtrain_pd['oldbalanceDest_kbins_kmeans'] = KBinsDiscretizer(n_bins=5, encode='ordinal', strategy='kmeans').fit_transform(np.array(Xtrain_pd['oldbalanceDest']).reshape(-1,1))\n",
    "\n",
    "Xtest_pd['oldbalanceDest_bin_log'] = np.floor(np.log10(Xtest_pd['oldbalanceDest']))\n",
    "Xtest_pd['oldbalanceDest_bin_log'] = Xtest_pd['oldbalanceDest_bin_log'].apply(lambda x: 0 if x == -np.inf else x)\n",
    "Xtest_pd['oldbalanceDest_kbins_kmeans'] = KBinsDiscretizer(n_bins=5, encode='ordinal', strategy='kmeans').fit_transform(np.array(Xtest_pd['oldbalanceDest']).reshape(-1,1))\n",
    "\n",
    "# Binning 'newbalanceDest'\n",
    "Xtrain_pd['newbalanceDest_bin_log'] = np.floor(np.log10(Xtrain_pd['newbalanceDest']))\n",
    "Xtrain_pd['newbalanceDest_bin_log'] = Xtrain_pd['newbalanceDest_bin_log'].apply(lambda x: 0 if x == -np.inf else x)\n",
    "Xtrain_pd['newbalanceDest_kbins_kmeans'] = KBinsDiscretizer(n_bins=5, encode='ordinal', strategy='kmeans').fit_transform(np.array(Xtrain_pd['newbalanceDest']).reshape(-1,1))\n",
    "\n",
    "Xtest_pd['newbalanceDest_bin_log'] = np.floor(np.log10(Xtest_pd['newbalanceDest']))\n",
    "Xtest_pd['newbalanceDest_bin_log'] = Xtest_pd['newbalanceDest_bin_log'].apply(lambda x: 0 if x == -np.inf else x)\n",
    "Xtest_pd['newbalanceDest_kbins_kmeans'] = KBinsDiscretizer(n_bins=5, encode='ordinal', strategy='kmeans').fit_transform(np.array(Xtest_pd['newbalanceDest']).reshape(-1,1))\n",
    "\n",
    "# Droping nameOrig e nameDest\n",
    "Xtrain_pd.drop(['nameOrig','nameDest'], inplace=True, axis=1)\n",
    "Xtest_pd.drop(['nameOrig','nameDest'], inplace=True, axis=1)\n",
    "\n",
    "# Encoding 'Type'\n",
    "Xtrain_pd['type'] = Xtrain_pd['type'].apply(lambda x: 1 if x == 'TRANSFER' else 0)\n",
    "Xtest_pd['type'] = Xtest_pd['type'].apply(lambda x: 1 if x == 'TRANSFER' else 0)\n",
    "\n",
    "# convertendo para vaex dataframe\n",
    "dataset_train = vaex.from_pandas(df=Xtrain_pd)\n",
    "dataset_test = vaex.from_pandas(df=Xtest_pd)\n",
    "\n",
    "# Woe\n",
    "\n",
    "# Type\n",
    "dataset_train = vaex.ml.WeightOfEvidenceEncoder(target='isFraud', features = ['type']).fit_transform(dataset_train)\n",
    "dataset_test = vaex.ml.WeightOfEvidenceEncoder(target='isFraud', features = ['type']).fit_transform(dataset_test)"
   ]
  },
  {
   "cell_type": "code",
   "execution_count": null,
   "metadata": {
    "ExecuteTime": {
     "end_time": "2020-11-17T21:34:06.091457Z",
     "start_time": "2020-11-17T21:34:05.528597Z"
    }
   },
   "outputs": [],
   "source": [
    "# salvando os dados - CHECKPOINT\n",
    "dataset_train.export_hdf5('../data/dataset_trainv1.hdf5')\n",
    "dataset_test.export_hdf5('../data/dataset_testv1.hdf5')"
   ]
  },
  {
   "cell_type": "markdown",
   "metadata": {},
   "source": [
    "# Balanciamento do Dataset"
   ]
  },
  {
   "cell_type": "code",
   "execution_count": null,
   "metadata": {
    "ExecuteTime": {
     "end_time": "2020-11-17T23:14:11.256377Z",
     "start_time": "2020-11-17T23:14:09.330250Z"
    }
   },
   "outputs": [],
   "source": [
    "dataset_test"
   ]
  },
  {
   "cell_type": "code",
   "execution_count": null,
   "metadata": {
    "ExecuteTime": {
     "end_time": "2020-11-17T21:34:20.021827Z",
     "start_time": "2020-11-17T21:34:19.805506Z"
    }
   },
   "outputs": [],
   "source": [
    "train = pd.DataFrame(dataset_train.columns)\n",
    "train['woe_encoded_type'] = dataset_train['woe_encoded_type'].values\n",
    "test = pd.DataFrame(dataset_test.columns)"
   ]
  },
  {
   "cell_type": "code",
   "execution_count": null,
   "metadata": {
    "ExecuteTime": {
     "end_time": "2020-11-17T22:26:07.814177Z",
     "start_time": "2020-11-17T21:35:02.143206Z"
    }
   },
   "outputs": [],
   "source": [
    "# SMOTE + TOMEKLINK\n",
    "X = train.drop('isFraud', axis=1)\n",
    "y = train['isFraud']\n",
    "\n",
    "smt = SMOTETomek(sampling_strategy='minority' ,random_state=42)\n",
    "Xres, yres = smt.fit_resample(X, y)\n",
    "train = pd.concat([Xres, yres], axis=1)"
   ]
  },
  {
   "cell_type": "code",
   "execution_count": null,
   "metadata": {
    "ExecuteTime": {
     "end_time": "2020-11-17T22:35:58.276009Z",
     "start_time": "2020-11-17T22:33:30.037154Z"
    }
   },
   "outputs": [],
   "source": [
    "# Salvando, pois o processo de balanciamento leva aprox 1h.\n",
    "train.to_csv('../data/train_balanced.csv')"
   ]
  },
  {
   "cell_type": "code",
   "execution_count": null,
   "metadata": {
    "ExecuteTime": {
     "end_time": "2020-11-17T22:35:59.487213Z",
     "start_time": "2020-11-17T22:35:59.461836Z"
    }
   },
   "outputs": [],
   "source": [
    "train['isFraud'].value_counts()"
   ]
  },
  {
   "cell_type": "code",
   "execution_count": null,
   "metadata": {
    "ExecuteTime": {
     "end_time": "2020-11-17T23:02:56.044460Z",
     "start_time": "2020-11-17T23:02:45.486159Z"
    }
   },
   "outputs": [],
   "source": [
    "# Carregando os dados balanceados\n",
    "train = pd.read_csv('../data/train_balanced.csv')\n",
    "train.drop('Unnamed: 0', inplace=True, axis=1)"
   ]
  },
  {
   "cell_type": "markdown",
   "metadata": {
    "heading_collapsed": true
   },
   "source": [
    "# EDA"
   ]
  },
  {
   "cell_type": "markdown",
   "metadata": {
    "hidden": true
   },
   "source": [
    "##  Análise Univariada"
   ]
  },
  {
   "cell_type": "markdown",
   "metadata": {
    "hidden": true
   },
   "source": [
    " - A partir da análise dos histogramas podemos notar um alto skew, na fase de pré-processamento será testado algumas soluções.(RobustScaler, possivelmente)\n",
    " - Também podemos notar que as variáveis criadas via Binning com transformação de log possuem um shape mais proxima de uma distribuição Gaussiana.\n",
    " - Também encontramos um padrão interessante, parece haver um acumulo de casos de Fraude em transações de maior montante financeiro. Tanto com relação a variável 'amount' quanto as variáveis de Old e New balances.\n",
    " - A partir da análise Multivariada, correlação de pearson (Númericas x Númericas) observamos que oldbalanceOrg e newbalanceOrg são altamente correlacionadas, assim como, oldbalanceDest e newbalanceDest, iremos eliminar uma variável balance de destino e uma de origem. A variável error_trasaction também esta apresentando grande correlação com a variável amount por isso iremos elimana-la também. A correlação entre as variáveis orignais e suas versões logaritimicas não passou de 0.70 manteremos elas para a etapa de Feature Selection. \n",
    " - Ainda conforme análise Multivariada, correlação de cramer v (Categóricas x Categóricas) observamos que as variáveis oldbalanceOrg_kbins_kmeans, newbalanceOrig_kbins_kmeans, oldbalanceDest_kbins_kmeans possuiam alta correlação por essa razão seram eliminadas."
   ]
  },
  {
   "cell_type": "markdown",
   "metadata": {
    "hidden": true
   },
   "source": [
    "### Variáveis Numericas."
   ]
  },
  {
   "cell_type": "code",
   "execution_count": null,
   "metadata": {
    "ExecuteTime": {
     "end_time": "2020-11-17T13:29:01.350730Z",
     "start_time": "2020-11-17T13:27:29.977673Z"
    },
    "hidden": true
   },
   "outputs": [],
   "source": [
    "variables = dataset_train.get_column_names(regex='scaled*') + \\\n",
    "            dataset_train.get_column_names(regex='.*_kmeans')+ \\\n",
    "            dataset_train.get_column_names(regex='.*_log')+ \\\n",
    "            ['type']\n",
    "\n",
    "n=1\n",
    "plt.figure(figsize=(24, 16))\n",
    "for column in Xtrain_pd[variables].columns:\n",
    "    plt.subplot(5, 5, n)\n",
    "    _ = sns.distplot(Xtrain_pd[column])\n",
    "    n += 1\n",
    "    \n",
    "plt.subplots_adjust(hspace=0.3)\n",
    "\n",
    "plt.show()"
   ]
  },
  {
   "cell_type": "code",
   "execution_count": null,
   "metadata": {
    "ExecuteTime": {
     "end_time": "2020-11-17T13:30:28.969351Z",
     "start_time": "2020-11-17T13:30:28.252703Z"
    },
    "execution": {
     "iopub.execute_input": "2020-10-30T17:19:05.256377Z",
     "iopub.status.busy": "2020-10-30T17:19:05.256033Z",
     "iopub.status.idle": "2020-10-30T17:19:06.043225Z",
     "shell.execute_reply": "2020-10-30T17:19:06.042671Z",
     "shell.execute_reply.started": "2020-10-30T17:19:05.256340Z"
    },
    "hidden": true
   },
   "outputs": [],
   "source": [
    "# objeto temporario\n",
    "all_data = Xtrain_pd.copy()\n",
    "\n",
    "# amount\n",
    "all_data['amount_bin'] = pd.qcut(all_data['amount'], q=10)\n",
    "\n",
    "# step\n",
    "all_data['step_bin'] = pd.qcut(all_data['step'], q=10)\n",
    "\n",
    "# oldbalanceOrg'\n",
    "all_data['oldbalanceOrg_bin'] = pd.qcut(all_data['oldbalanceOrg'], q=10, duplicates='drop')\n",
    "\n",
    "# newbalanceOrig\n",
    "all_data['newbalanceOrig_bin'] = pd.qcut(all_data['newbalanceOrig'], q=10, duplicates='drop')\n",
    "\n",
    "obj_temp = all_data.loc[all_data['isFraud']==1, ]\n",
    "obj_temp['counter'] = 1"
   ]
  },
  {
   "cell_type": "markdown",
   "metadata": {
    "execution": {
     "iopub.execute_input": "2020-10-25T15:31:59.674965Z",
     "iopub.status.busy": "2020-10-25T15:31:59.674587Z",
     "iopub.status.idle": "2020-10-25T15:31:59.678738Z",
     "shell.execute_reply": "2020-10-25T15:31:59.677878Z",
     "shell.execute_reply.started": "2020-10-25T15:31:59.674924Z"
    },
    "hidden": true
   },
   "source": [
    "### Faixas de Fraude 'amount_bin'."
   ]
  },
  {
   "cell_type": "code",
   "execution_count": null,
   "metadata": {
    "ExecuteTime": {
     "end_time": "2020-11-17T13:30:33.645254Z",
     "start_time": "2020-11-17T13:30:33.437646Z"
    },
    "execution": {
     "iopub.execute_input": "2020-10-30T17:19:08.124727Z",
     "iopub.status.busy": "2020-10-30T17:19:08.124354Z",
     "iopub.status.idle": "2020-10-30T17:19:08.285150Z",
     "shell.execute_reply": "2020-10-30T17:19:08.284780Z",
     "shell.execute_reply.started": "2020-10-30T17:19:08.124687Z"
    },
    "hidden": true
   },
   "outputs": [],
   "source": [
    "# Plot 'amount'\n",
    "obj_temp.groupby('amount_bin').count()['counter'].plot(kind='bar')"
   ]
  },
  {
   "cell_type": "code",
   "execution_count": null,
   "metadata": {
    "ExecuteTime": {
     "end_time": "2020-11-17T13:30:38.254081Z",
     "start_time": "2020-11-17T13:30:38.243818Z"
    },
    "execution": {
     "iopub.execute_input": "2020-10-30T17:19:08.359220Z",
     "iopub.status.busy": "2020-10-30T17:19:08.358854Z",
     "iopub.status.idle": "2020-10-30T17:19:08.377414Z",
     "shell.execute_reply": "2020-10-30T17:19:08.376916Z",
     "shell.execute_reply.started": "2020-10-30T17:19:08.359181Z"
    },
    "hidden": true
   },
   "outputs": [],
   "source": [
    "# Tabela com a quantidade de fraudes por faixa 'amount_bin'\n",
    "obj_temp.groupby('amount_bin').count()['counter']"
   ]
  },
  {
   "cell_type": "markdown",
   "metadata": {
    "hidden": true
   },
   "source": [
    "### Faixas de Fraude 'step_bin'."
   ]
  },
  {
   "cell_type": "code",
   "execution_count": null,
   "metadata": {
    "ExecuteTime": {
     "end_time": "2020-11-17T13:30:43.036542Z",
     "start_time": "2020-11-17T13:30:42.860811Z"
    },
    "execution": {
     "iopub.execute_input": "2020-10-30T17:19:09.419815Z",
     "iopub.status.busy": "2020-10-30T17:19:09.419433Z",
     "iopub.status.idle": "2020-10-30T17:19:09.558881Z",
     "shell.execute_reply": "2020-10-30T17:19:09.558458Z",
     "shell.execute_reply.started": "2020-10-30T17:19:09.419774Z"
    },
    "hidden": true
   },
   "outputs": [],
   "source": [
    "# Plot\n",
    "obj_temp.groupby('step_bin').count()['counter'].plot(kind='bar')"
   ]
  },
  {
   "cell_type": "code",
   "execution_count": null,
   "metadata": {
    "ExecuteTime": {
     "end_time": "2020-11-17T13:30:47.701863Z",
     "start_time": "2020-11-17T13:30:47.690795Z"
    },
    "execution": {
     "iopub.execute_input": "2020-10-30T17:19:09.729169Z",
     "iopub.status.busy": "2020-10-30T17:19:09.728735Z",
     "iopub.status.idle": "2020-10-30T17:19:09.743629Z",
     "shell.execute_reply": "2020-10-30T17:19:09.743072Z",
     "shell.execute_reply.started": "2020-10-30T17:19:09.729128Z"
    },
    "hidden": true
   },
   "outputs": [],
   "source": [
    "# Tabela com a quantidade de fraudes por faixa 'step_bin'\n",
    "obj_temp.groupby('step_bin').count()['counter']"
   ]
  },
  {
   "cell_type": "markdown",
   "metadata": {
    "hidden": true
   },
   "source": [
    "### Faixas de Fraude 'oldbalanceOrg_bin'."
   ]
  },
  {
   "cell_type": "code",
   "execution_count": null,
   "metadata": {
    "ExecuteTime": {
     "end_time": "2020-11-17T13:30:52.457262Z",
     "start_time": "2020-11-17T13:30:52.305684Z"
    },
    "execution": {
     "iopub.execute_input": "2020-10-30T17:19:10.526413Z",
     "iopub.status.busy": "2020-10-30T17:19:10.526013Z",
     "iopub.status.idle": "2020-10-30T17:19:10.649784Z",
     "shell.execute_reply": "2020-10-30T17:19:10.649267Z",
     "shell.execute_reply.started": "2020-10-30T17:19:10.526369Z"
    },
    "hidden": true
   },
   "outputs": [],
   "source": [
    "# Plot\n",
    "obj_temp.groupby('oldbalanceOrg_bin').count()['counter'].plot(kind='bar')"
   ]
  },
  {
   "cell_type": "code",
   "execution_count": null,
   "metadata": {
    "ExecuteTime": {
     "end_time": "2020-11-17T13:30:57.158826Z",
     "start_time": "2020-11-17T13:30:57.149162Z"
    },
    "execution": {
     "iopub.execute_input": "2020-10-30T17:19:10.840712Z",
     "iopub.status.busy": "2020-10-30T17:19:10.840274Z",
     "iopub.status.idle": "2020-10-30T17:19:10.855343Z",
     "shell.execute_reply": "2020-10-30T17:19:10.854600Z",
     "shell.execute_reply.started": "2020-10-30T17:19:10.840663Z"
    },
    "hidden": true
   },
   "outputs": [],
   "source": [
    "# Tabela com a quantidade de fraudes por faixa 'oldbalanceOrg_bin'\n",
    "obj_temp.groupby('oldbalanceOrg_bin').count()['counter']"
   ]
  },
  {
   "cell_type": "markdown",
   "metadata": {
    "hidden": true
   },
   "source": [
    "###  Faixas de Fraude 'newbalanceOrig_bin'."
   ]
  },
  {
   "cell_type": "code",
   "execution_count": null,
   "metadata": {
    "ExecuteTime": {
     "end_time": "2020-11-17T13:31:01.931133Z",
     "start_time": "2020-11-17T13:31:01.810684Z"
    },
    "execution": {
     "iopub.execute_input": "2020-10-30T17:19:11.734149Z",
     "iopub.status.busy": "2020-10-30T17:19:11.733568Z",
     "iopub.status.idle": "2020-10-30T17:19:11.989611Z",
     "shell.execute_reply": "2020-10-30T17:19:11.989046Z",
     "shell.execute_reply.started": "2020-10-30T17:19:11.734065Z"
    },
    "hidden": true
   },
   "outputs": [],
   "source": [
    "# Tabela com a quantidade de fraudes por faixa 'oldbalanceOrg_bin'\n",
    "obj_temp.groupby('newbalanceOrig_bin').count()['counter'].plot(kind='bar')"
   ]
  },
  {
   "cell_type": "code",
   "execution_count": null,
   "metadata": {
    "ExecuteTime": {
     "end_time": "2020-11-17T13:31:06.424794Z",
     "start_time": "2020-11-17T13:31:06.414379Z"
    },
    "execution": {
     "iopub.execute_input": "2020-10-30T17:19:12.031284Z",
     "iopub.status.busy": "2020-10-30T17:19:12.030882Z",
     "iopub.status.idle": "2020-10-30T17:19:12.048452Z",
     "shell.execute_reply": "2020-10-30T17:19:12.047911Z",
     "shell.execute_reply.started": "2020-10-30T17:19:12.031238Z"
    },
    "hidden": true
   },
   "outputs": [],
   "source": [
    "# Tabela com a quantidade de fraudes por faixa 'oldbalanceOrg_bin'\n",
    "obj_temp.groupby('newbalanceOrig_bin').count()['counter']"
   ]
  },
  {
   "cell_type": "markdown",
   "metadata": {
    "hidden": true
   },
   "source": [
    "## Análise Multivariada"
   ]
  },
  {
   "cell_type": "markdown",
   "metadata": {
    "heading_collapsed": true,
    "hidden": true
   },
   "source": [
    "###  Variáveis Númericas"
   ]
  },
  {
   "cell_type": "code",
   "execution_count": null,
   "metadata": {
    "ExecuteTime": {
     "end_time": "2020-11-17T13:31:26.247148Z",
     "start_time": "2020-11-17T13:31:24.228860Z"
    },
    "execution": {
     "iopub.execute_input": "2020-10-31T14:43:30.270187Z",
     "iopub.status.busy": "2020-10-31T14:43:30.269845Z",
     "iopub.status.idle": "2020-10-31T14:43:30.896075Z",
     "shell.execute_reply": "2020-10-31T14:43:30.895552Z",
     "shell.execute_reply.started": "2020-10-31T14:43:30.270152Z"
    },
    "hidden": true
   },
   "outputs": [],
   "source": [
    "# Correlação de Pearson.\n",
    "variaveis = ['amount',\n",
    "             'error_transaction',\n",
    "             'amount_step', \n",
    "             'step',\n",
    "             'oldbalanceOrg',\n",
    "             'newbalanceOrig',\n",
    "             'oldbalanceDest',\n",
    "             'newbalanceDest',\n",
    "             'amount_bin_log',\n",
    "             'step_bin_log',\n",
    "             'oldbalanceOrg_bin_log',\n",
    "             'oldbalanceDest_bin_log',\n",
    "             'newbalanceOrig_bin_log',\n",
    "             'newbalanceDest_bin_log']\n",
    "\n",
    "Myheat_map(dataset=train, variaveis=variaveis)"
   ]
  },
  {
   "cell_type": "markdown",
   "metadata": {
    "heading_collapsed": true,
    "hidden": true
   },
   "source": [
    "###  Variáveis Númericas - Eliminando as variáveis com alta correlação"
   ]
  },
  {
   "cell_type": "code",
   "execution_count": null,
   "metadata": {
    "ExecuteTime": {
     "end_time": "2020-11-17T13:31:36.618449Z",
     "start_time": "2020-11-17T13:31:35.235177Z"
    },
    "execution": {
     "iopub.execute_input": "2020-10-30T17:43:31.514139Z",
     "iopub.status.busy": "2020-10-30T17:43:31.513515Z",
     "iopub.status.idle": "2020-10-30T17:43:31.980381Z",
     "shell.execute_reply": "2020-10-30T17:43:31.979818Z",
     "shell.execute_reply.started": "2020-10-30T17:43:31.514090Z"
    },
    "hidden": true
   },
   "outputs": [],
   "source": [
    "# Correlação de Pearson.\n",
    "variaveis = ['amount',\n",
    "             'amount_step', \n",
    "             'step',\n",
    "             'oldbalanceOrg',\n",
    "             'newbalanceDest',\n",
    "             'amount_bin_log',\n",
    "             'step_bin_log',\n",
    "             'oldbalanceOrg_bin_log',\n",
    "             'oldbalanceDest_bin_log',\n",
    "             'newbalanceOrig_bin_log',\n",
    "             'newbalanceDest_bin_log']\n",
    "\n",
    "Myheat_map(dataset=train, variaveis=variaveis)"
   ]
  },
  {
   "cell_type": "markdown",
   "metadata": {
    "heading_collapsed": true,
    "hidden": true
   },
   "source": [
    "###  Variáveis Númericas - Target"
   ]
  },
  {
   "cell_type": "code",
   "execution_count": null,
   "metadata": {
    "ExecuteTime": {
     "end_time": "2020-11-17T13:31:48.206130Z",
     "start_time": "2020-11-17T13:31:47.125156Z"
    },
    "execution": {
     "iopub.execute_input": "2020-10-31T14:49:35.294297Z",
     "iopub.status.busy": "2020-10-31T14:49:35.293950Z",
     "iopub.status.idle": "2020-10-31T14:49:35.932734Z",
     "shell.execute_reply": "2020-10-31T14:49:35.932075Z",
     "shell.execute_reply.started": "2020-10-31T14:49:35.294256Z"
    },
    "hidden": true
   },
   "outputs": [],
   "source": [
    "from scipy.stats import pointbiserialr\n",
    "\n",
    "# Variáveis númericas\n",
    "num_vars =  ['amount',\n",
    "             'error_transaction',\n",
    "             'amount_step', \n",
    "             'step',\n",
    "             'oldbalanceOrg',\n",
    "             'newbalanceOrig',\n",
    "             'oldbalanceDest',\n",
    "             'newbalanceDest',\n",
    "             'amount_bin_log',\n",
    "             'step_bin_log',\n",
    "             'oldbalanceOrg_bin_log',\n",
    "             'oldbalanceDest_bin_log',\n",
    "             'newbalanceOrig_bin_log',\n",
    "             'newbalanceDest_bin_log']\n",
    "\n",
    "# Correlações\n",
    "corrs = [pointbiserialr(train['isFraud'], train[var])[0] for var in num_vars]\n",
    "df_corr = pd.DataFrame({'isFraud': corrs}, index=num_vars)\n",
    "\n",
    "# Plot Matrix\n",
    "fig, ax = plt.subplots()\n",
    "plt.subplot(1, 2, 1)\n",
    "sns.heatmap(df_corr, annot=True, annot_kws={\"fontsize\":14}, cmap='viridis')\n",
    "plt.title(\"Pointbiserialr\")"
   ]
  },
  {
   "cell_type": "markdown",
   "metadata": {
    "heading_collapsed": true,
    "hidden": true
   },
   "source": [
    "###  Variáveis Categóricas - Cramers v"
   ]
  },
  {
   "cell_type": "code",
   "execution_count": null,
   "metadata": {
    "ExecuteTime": {
     "end_time": "2020-11-17T13:32:50.379386Z",
     "start_time": "2020-11-17T13:31:56.276901Z"
    },
    "execution": {
     "iopub.execute_input": "2020-10-31T16:35:35.541649Z",
     "iopub.status.busy": "2020-10-31T16:35:35.541248Z",
     "iopub.status.idle": "2020-10-31T16:42:48.132984Z",
     "shell.execute_reply": "2020-10-31T16:42:48.132246Z",
     "shell.execute_reply.started": "2020-10-31T16:35:35.541604Z"
    },
    "hidden": true
   },
   "outputs": [],
   "source": [
    "# Variáveis Categoricas\n",
    "cols = [\n",
    "        'type',\n",
    "        'amount_kbins_kmeans',\n",
    "        'step_kbins_kmeans',\n",
    "        'oldbalanceOrg_kbins_kmeans',\n",
    "        'newbalanceOrig_kbins_kmeans',\n",
    "        'oldbalanceDest_kbins_kmeans',\n",
    "        'newbalanceDest_kbins_kmeans',\n",
    "        'isFraud'\n",
    "        ]\n",
    "\n",
    "# Sample pois nosso Dataset é muito grande\n",
    "treino_sample = train.sample(5000)\n",
    "\n",
    "# alterando o tipo de dados para 'category'\n",
    "for col in cols:\n",
    "    treino_sample[col] = treino_sample[col].astype('category')\n",
    "\n",
    "# Dicionario para registro das correlações\n",
    "dict = {\n",
    "        'type': [],\n",
    "        'amount_kbins_kmeans': [],\n",
    "        'step_kbins_kmeans': [],\n",
    "        'oldbalanceOrg_kbins_kmeans': [],\n",
    "        'newbalanceOrig_kbins_kmeans': [],\n",
    "        'oldbalanceDest_kbins_kmeans': [],\n",
    "        'newbalanceDest_kbins_kmeans': [],\n",
    "        'isFraud': []\n",
    "        }\n",
    "\n",
    "\n",
    "for col in cols:\n",
    "    for col1 in cols:\n",
    "        corr = cramer_v(treino_sample[col], treino_sample[col1])\n",
    "        dict[col].append(corr)"
   ]
  },
  {
   "cell_type": "code",
   "execution_count": null,
   "metadata": {
    "ExecuteTime": {
     "end_time": "2020-11-17T13:34:05.352376Z",
     "start_time": "2020-11-17T13:34:05.346411Z"
    },
    "execution": {
     "iopub.execute_input": "2020-10-31T16:42:48.134012Z",
     "iopub.status.busy": "2020-10-31T16:42:48.133845Z",
     "iopub.status.idle": "2020-10-31T16:42:48.139725Z",
     "shell.execute_reply": "2020-10-31T16:42:48.138952Z",
     "shell.execute_reply.started": "2020-10-31T16:42:48.133988Z"
    },
    "hidden": true
   },
   "outputs": [],
   "source": [
    "# Matriz de Correlação\n",
    "df_cramer = pd.DataFrame(dict)\n",
    "df_cramer = df_cramer.set_index(df_cramer.columns)"
   ]
  },
  {
   "cell_type": "code",
   "execution_count": null,
   "metadata": {
    "ExecuteTime": {
     "end_time": "2020-11-17T13:34:10.677895Z",
     "start_time": "2020-11-17T13:34:10.327279Z"
    },
    "execution": {
     "iopub.execute_input": "2020-10-31T16:42:48.141266Z",
     "iopub.status.busy": "2020-10-31T16:42:48.141078Z",
     "iopub.status.idle": "2020-10-31T16:42:48.938778Z",
     "shell.execute_reply": "2020-10-31T16:42:48.938253Z",
     "shell.execute_reply.started": "2020-10-31T16:42:48.141242Z"
    },
    "hidden": true
   },
   "outputs": [],
   "source": [
    "# HeatMap\n",
    "\n",
    "fig, ax = plt.subplots()\n",
    "ax.figure.set_size_inches(16, 6)\n",
    "\n",
    "mask = np.triu(np.ones_like(df_cramer, dtype=np.bool))\n",
    "sns.heatmap(df_cramer, mask=mask, linewidths=.5, annot=True, annot_kws={\"fontsize\":14}, cmap='viridis')\n",
    "plt.title(\"Cramér V\")"
   ]
  },
  {
   "cell_type": "markdown",
   "metadata": {
    "heading_collapsed": true,
    "hidden": true
   },
   "source": [
    "###  Variáveis Categóricas - Cramers v"
   ]
  },
  {
   "cell_type": "code",
   "execution_count": null,
   "metadata": {
    "ExecuteTime": {
     "end_time": "2020-11-17T13:42:45.868090Z",
     "start_time": "2020-11-17T13:41:53.548416Z"
    },
    "execution": {
     "iopub.execute_input": "2020-10-30T17:44:28.039412Z",
     "iopub.status.busy": "2020-10-30T17:44:28.038836Z",
     "iopub.status.idle": "2020-10-30T17:44:30.356836Z",
     "shell.execute_reply": "2020-10-30T17:44:30.356188Z",
     "shell.execute_reply.started": "2020-10-30T17:44:28.039368Z"
    },
    "hidden": true
   },
   "outputs": [],
   "source": [
    "# Variáveis Categoricas, eliminando oldbalanceOrg_kbins_kmeans, newbalanceOrig_kbins_kmeans, oldbalanceDest_kbins_kmeans\n",
    "cols = [\n",
    "        'type',\n",
    "        'amount_kbins_kmeans',\n",
    "        'step_kbins_kmeans',\n",
    "        'newbalanceDest_kbins_kmeans',\n",
    "        'isFraud'\n",
    "        ]\n",
    "\n",
    "# Sample pois nosso Dataset é muito grande\n",
    "treino_sample = train.sample(5000)\n",
    "\n",
    "# alterando o tipo de dados para 'category'\n",
    "for col in cols:\n",
    "    treino_sample[col] = treino_sample[col].astype('category')\n",
    "\n",
    "# Dicionario para registro das correlações\n",
    "dictt = {\n",
    "        'type': [],\n",
    "        'amount_kbins_kmeans': [],\n",
    "        'step_kbins_kmeans': [],\n",
    "        'newbalanceDest_kbins_kmeans': [],\n",
    "        'isFraud': []\n",
    "        }\n",
    "\n",
    "\n",
    "for col in cols:\n",
    "    for col1 in cols:\n",
    "        corr = cramer_v(treino_sample[col], treino_sample[col1])\n",
    "        dictt[col].append(corr)\n",
    "\n",
    "# Matriz de Correlação\n",
    "df_cramer1 = pd.DataFrame(dictt)\n",
    "df_cramer1 = df_cramer1.set_index(df_cramer1.columns)\n",
    "\n",
    "# HeatMap\n",
    "\n",
    "fig, ax = plt.subplots()\n",
    "ax.figure.set_size_inches(16, 6)\n",
    "\n",
    "mask = np.triu(np.ones_like(df_cramer1, dtype=np.bool))\n",
    "sns.heatmap(df_cramer1, mask=mask, linewidths=.5, annot=True, annot_kws={\"fontsize\":14}, cmap='viridis')\n",
    "plt.title(\"Cramér V\")"
   ]
  },
  {
   "cell_type": "markdown",
   "metadata": {
    "heading_collapsed": true,
    "hidden": true
   },
   "source": [
    "## Teste de Hiposteses"
   ]
  },
  {
   "cell_type": "code",
   "execution_count": null,
   "metadata": {
    "ExecuteTime": {
     "end_time": "2020-11-17T13:42:50.620602Z",
     "start_time": "2020-11-17T13:42:50.543740Z"
    },
    "execution": {
     "iopub.execute_input": "2020-10-30T17:57:17.727432Z",
     "iopub.status.busy": "2020-10-30T17:57:17.726832Z",
     "iopub.status.idle": "2020-10-30T17:57:17.737156Z",
     "shell.execute_reply": "2020-10-30T17:57:17.736426Z",
     "shell.execute_reply.started": "2020-10-30T17:57:17.727364Z"
    },
    "hidden": true
   },
   "outputs": [],
   "source": [
    "from PIL import Image\n",
    "Image.open(\"../img/map_mental.jpg\")"
   ]
  },
  {
   "cell_type": "markdown",
   "metadata": {
    "hidden": true
   },
   "source": [
    "Lista de Hipóteses!\n",
    "\n",
    "1. O montante fraudado é maior para o 'type' transfer!\n",
    "2. O percentual de error_transaction é maior que 50%!\n",
    "3. O montante fraudado é maior com o 'dest_type' Customers que Merchant!\n",
    "4. O oldbalanceOrig é sempre diferente de 0, já que se deve ter saldo para realizar uma transação!\n",
    "5. A quantidade de transações fraudulentas é maior para o tipo de Origem 'Customer'!\n",
    "6. A conta de uma transação fraudulenta 'TRANSFER' bate com a conta Origem de um CASH-OUT!\n",
    "7. A quantidade de transações fraudulentas é maior na modalidade 'TRANSFER'!"
   ]
  },
  {
   "cell_type": "code",
   "execution_count": null,
   "metadata": {
    "ExecuteTime": {
     "end_time": "2020-11-17T13:44:32.488213Z",
     "start_time": "2020-11-17T13:44:32.473368Z"
    },
    "execution": {
     "iopub.execute_input": "2020-10-30T17:57:21.081709Z",
     "iopub.status.busy": "2020-10-30T17:57:21.080757Z",
     "iopub.status.idle": "2020-10-30T17:57:21.636470Z",
     "shell.execute_reply": "2020-10-30T17:57:21.633931Z",
     "shell.execute_reply.started": "2020-10-30T17:57:21.081657Z"
    },
    "hidden": true
   },
   "outputs": [],
   "source": [
    "dados_temp = dataset_pd.loc[dataset_pd['isFraud']==1, ]\n",
    "\n",
    "AMOUNT_TRANSFER = dados_temp.loc[dados_temp['type']== 'TRANSFER', 'amount'].sum()\n",
    "AMOUNT_CASH_OUT = dados_temp.loc[dados_temp['type']== 'CASH_OUT', 'amount'].sum()\n",
    "\n",
    "print(f'\\n Montante de observações TRANSFER: {AMOUNT_TRANSFER}')\n",
    "print(f'Montante de observações CASH_OUT: {AMOUNT_CASH_OUT}\\n')"
   ]
  },
  {
   "cell_type": "markdown",
   "metadata": {
    "hidden": true
   },
   "source": [
    "###  H2 O percentual de error_transaction é maior que 50%[TRUE]!"
   ]
  },
  {
   "cell_type": "code",
   "execution_count": null,
   "metadata": {
    "ExecuteTime": {
     "end_time": "2020-11-17T13:44:37.548597Z",
     "start_time": "2020-11-17T13:44:37.389732Z"
    },
    "execution": {
     "iopub.execute_input": "2020-10-30T17:57:23.720600Z",
     "iopub.status.busy": "2020-10-30T17:57:23.719649Z",
     "iopub.status.idle": "2020-10-30T17:57:24.023612Z",
     "shell.execute_reply": "2020-10-30T17:57:24.022276Z",
     "shell.execute_reply.started": "2020-10-30T17:57:23.720535Z"
    },
    "hidden": true
   },
   "outputs": [],
   "source": [
    "# Erro\n",
    "erro_acima_0 = train.loc[train['error_transaction'] != 0, ]\n",
    "\n",
    "#Percentual do erro sobre dataset\n",
    "perc_error = round(erro_acima_0.shape[0]/treino.shape[0]*100, 2)\n",
    "print(f'O percentual de transações com erro são de {perc_error}')"
   ]
  },
  {
   "cell_type": "markdown",
   "metadata": {
    "hidden": true
   },
   "source": [
    "###  H3 O montante fraudado é maior com o 'dest_type' Customers que Merchant![TRUE]"
   ]
  },
  {
   "cell_type": "code",
   "execution_count": null,
   "metadata": {
    "ExecuteTime": {
     "end_time": "2020-11-17T13:44:43.311848Z",
     "start_time": "2020-11-17T13:44:43.114948Z"
    },
    "execution": {
     "iopub.execute_input": "2020-10-30T17:58:12.506110Z",
     "iopub.status.busy": "2020-10-30T17:58:12.505622Z",
     "iopub.status.idle": "2020-10-30T17:58:12.520291Z",
     "shell.execute_reply": "2020-10-30T17:58:12.519755Z",
     "shell.execute_reply.started": "2020-10-30T17:58:12.506068Z"
    },
    "hidden": true
   },
   "outputs": [],
   "source": [
    "dados_temp1 = train.loc[train['isFraud'] == 1, ['amount','dest_type']]\n",
    "\n",
    "# Montantes\n",
    "AMOUNT_CUSTOMER = round(dados_temp1.loc[dados_temp1['dest_type']==0, 'amount'].sum(),2)\n",
    "AMOUNT_MERCHANT = round(dados_temp1.loc[dados_temp1['dest_type']==1, 'amount'].sum(),2)\n",
    "\n",
    "# Report\n",
    "print(f'Quantidade de observações Customers: {AMOUNT_CUSTOMER}')\n",
    "print(f'Quantidade de observações Merchant: {AMOUNT_MERCHANT}\\n')"
   ]
  },
  {
   "cell_type": "markdown",
   "metadata": {
    "hidden": true
   },
   "source": [
    "### H4 O  amount != de zero oldBalanceOrig e newBalanceOrig são iguais a 0![TRUE]"
   ]
  },
  {
   "cell_type": "code",
   "execution_count": null,
   "metadata": {
    "ExecuteTime": {
     "end_time": "2020-11-17T13:44:53.623804Z",
     "start_time": "2020-11-17T13:44:48.713150Z"
    },
    "execution": {
     "iopub.execute_input": "2020-10-30T17:58:42.046840Z",
     "iopub.status.busy": "2020-10-30T17:58:42.046416Z",
     "iopub.status.idle": "2020-10-30T17:58:44.398157Z",
     "shell.execute_reply": "2020-10-30T17:58:44.396766Z",
     "shell.execute_reply.started": "2020-10-30T17:58:42.046797Z"
    },
    "hidden": true
   },
   "outputs": [],
   "source": [
    "# Percentual de operações amount != de zero oldBalanceOrig e newBalanceOrig são iguais a 0\n",
    "\n",
    "quant_orig = train.loc[(dataset_pd['amount'] != 0) & (train['oldbalanceOrg'] == 0) & (train['newbalanceOrig'] == 0), ]\n",
    "\n",
    "perc_quant_orig = round(quant_orig.shape[0]/train.shape[0], 2)*100\n",
    "print(f'O percentual de casos onde o amount é diferente de 0 com oldbalanceDest e newbalanceDest iguais {perc_quant_orig}%')"
   ]
  },
  {
   "cell_type": "markdown",
   "metadata": {
    "hidden": true
   },
   "source": [
    "###  H5 A quantidade de transações fraudulentas é maior para o tipo de Origem 'Customer'![TRUE]"
   ]
  },
  {
   "cell_type": "code",
   "execution_count": null,
   "metadata": {
    "ExecuteTime": {
     "end_time": "2020-11-17T13:45:08.579456Z",
     "start_time": "2020-11-17T13:45:07.315207Z"
    },
    "execution": {
     "iopub.execute_input": "2020-10-30T17:59:32.160931Z",
     "iopub.status.busy": "2020-10-30T17:59:32.159909Z",
     "iopub.status.idle": "2020-10-30T17:59:33.466874Z",
     "shell.execute_reply": "2020-10-30T17:59:33.466311Z",
     "shell.execute_reply.started": "2020-10-30T17:59:32.160889Z"
    },
    "hidden": true
   },
   "outputs": [],
   "source": [
    "# cheando o tipo origem.\n",
    "dataset_pd['nameOrig'].str[0].unique()"
   ]
  },
  {
   "cell_type": "markdown",
   "metadata": {
    "hidden": true
   },
   "source": [
    "Obs: O tipo de origen 'Customer' é unico tipo de origem neste dataset!"
   ]
  },
  {
   "cell_type": "code",
   "execution_count": null,
   "metadata": {
    "ExecuteTime": {
     "end_time": "2020-11-17T13:45:14.037818Z",
     "start_time": "2020-11-17T13:45:14.008304Z"
    },
    "execution": {
     "iopub.execute_input": "2020-10-30T17:59:43.813110Z",
     "iopub.status.busy": "2020-10-30T17:59:43.811781Z",
     "iopub.status.idle": "2020-10-30T17:59:43.823058Z",
     "shell.execute_reply": "2020-10-30T17:59:43.822325Z",
     "shell.execute_reply.started": "2020-10-30T17:59:43.813035Z"
    },
    "hidden": true
   },
   "outputs": [],
   "source": [
    "# Montantes\n",
    "QUANT_CUSTOMER = dados_temp1.loc[dados_temp1['dest_type']==0, 'amount'].shape[0]\n",
    "QUANT_MERCHANT = dados_temp1.loc[dados_temp1['dest_type']==1, 'amount'].shape[0]\n",
    "\n",
    "# Report\n",
    "print(f'Quantidade de observações Customers: {QUANT_CUSTOMER}')\n",
    "print(f'Quantidade de observações Merchant: {QUANT_MERCHANT}\\n')"
   ]
  },
  {
   "cell_type": "markdown",
   "metadata": {
    "hidden": true
   },
   "source": [
    "### H6 A conta de uma transação fraudulenta 'TRANSFER' bate com a conta Origem de um CASH-OUT![FALSE]"
   ]
  },
  {
   "cell_type": "code",
   "execution_count": null,
   "metadata": {
    "ExecuteTime": {
     "end_time": "2020-11-17T13:45:21.626099Z",
     "start_time": "2020-11-17T13:45:19.444484Z"
    },
    "execution": {
     "iopub.execute_input": "2020-10-30T17:59:45.086691Z",
     "iopub.status.busy": "2020-10-30T17:59:45.086254Z",
     "iopub.status.idle": "2020-10-30T17:59:45.352743Z",
     "shell.execute_reply": "2020-10-30T17:59:45.351424Z",
     "shell.execute_reply.started": "2020-10-30T17:59:45.086648Z"
    },
    "hidden": true
   },
   "outputs": [],
   "source": [
    "CONTA_ORIG = dataset_pd.loc[(treino1['isFraud']==1) & (dataset_pd['type']=='TRANSFER'), 'nameDest']\n",
    "CONTA_DEST = dataset_pd.loc[(treino1['isFraud']==1) & (dataset_pd['type']=='CASH_OUT'), 'nameOrig']\n",
    "\n",
    "resultado = set(CONTA_ORIG).intersection(set(CONTA_DEST))\n",
    "print(f'Contas encontradas:{len(resultado)}')"
   ]
  },
  {
   "cell_type": "markdown",
   "metadata": {
    "hidden": true
   },
   "source": [
    "Nosso dataset não segue um padrão de fraude comum. de uma operação de 'TRANSFER' para uma conta fria seguida de um 'CASH_OUT'."
   ]
  },
  {
   "cell_type": "markdown",
   "metadata": {
    "hidden": true
   },
   "source": [
    "###  H7 A quantidade de transações fraudulentas é maior na modalidade 'TRANSFER'!"
   ]
  },
  {
   "cell_type": "code",
   "execution_count": null,
   "metadata": {
    "ExecuteTime": {
     "end_time": "2020-11-17T13:45:27.349644Z",
     "start_time": "2020-11-17T13:45:27.055542Z"
    },
    "execution": {
     "iopub.execute_input": "2020-10-30T17:59:46.986254Z",
     "iopub.status.busy": "2020-10-30T17:59:46.985770Z",
     "iopub.status.idle": "2020-10-30T17:59:49.174759Z",
     "shell.execute_reply": "2020-10-30T17:59:49.173976Z",
     "shell.execute_reply.started": "2020-10-30T17:59:46.986213Z"
    },
    "hidden": true
   },
   "outputs": [],
   "source": [
    "# Montantes\n",
    "QUANT_TRANSFER = dataset_pd.loc[(dataset_pd['isFraud']==1) & (dataset_pd['type']==1), 'amount'].shape[0]\n",
    "QUANT_MERCHANT = dataset_pd.loc[(dataset_pd['isFraud']==1) & (dataset_pd['type']==0), 'amount'].shape[0]\n",
    "\n",
    "# Report\n",
    "print(f'Quantidade de observações Customers: {QUANT_CUSTOMER}')\n",
    "print(f'Quantidade de observações Merchant: {QUANT_MERCHANT}\\n')"
   ]
  },
  {
   "cell_type": "markdown",
   "metadata": {
    "heading_collapsed": true
   },
   "source": [
    "#  Feature Selection - TODO"
   ]
  },
  {
   "cell_type": "code",
   "execution_count": null,
   "metadata": {
    "ExecuteTime": {
     "end_time": "2020-11-17T20:20:00.918973Z",
     "start_time": "2020-11-17T20:20:00.187034Z"
    },
    "hidden": true
   },
   "outputs": [],
   "source": [
    "# Sampling data para seleção de features.\n",
    "sampled_train = train.sample(2000000)\n",
    "\n",
    "sampled_train['isFraud'].value_counts()"
   ]
  },
  {
   "cell_type": "code",
   "execution_count": null,
   "metadata": {
    "ExecuteTime": {
     "start_time": "2020-11-17T20:20:02.865Z"
    },
    "execution": {
     "iopub.execute_input": "2020-10-31T17:14:41.330726Z",
     "iopub.status.busy": "2020-10-31T17:14:41.330331Z",
     "iopub.status.idle": "2020-10-31T17:48:21.513225Z",
     "shell.execute_reply": "2020-10-31T17:48:21.512637Z",
     "shell.execute_reply.started": "2020-10-31T17:14:41.330682Z"
    },
    "hidden": true
   },
   "outputs": [],
   "source": [
    "from sklearn.preprocessing import PowerTransformer\n",
    "\n",
    "# Variaveis que não foram elimiandas durante anlise multivariada\n",
    "variaveis = dataset_train.column_names[0:33]\n",
    "sampled_train.columns = dataset_train.column_names[0:33]\n",
    "\n",
    "# Data\n",
    "y = sampled_train['isFraud']\n",
    "X = sampled_train[variaveis].drop('isFraud', axis=1)\n",
    "\n",
    "model = XGBClassifier()\n",
    "\n",
    "# Scalling\n",
    "colunas = ['step',\n",
    "         'amount',\n",
    "         'oldbalanceOrg',\n",
    "         'newbalanceOrig',\n",
    "         'oldbalanceDest',\n",
    "         'newbalanceDest',\n",
    "         'error_transaction',\n",
    "         'amount_step',\n",
    "         'amountmean',\n",
    "         'amountstd',\n",
    "         'oldbalanceOrgmean',\n",
    "         'oldbalanceOrgstd',\n",
    "         'newbalanceOrigmean',\n",
    "         'newbalanceOrigstd',\n",
    "         'oldbalanceDestmean',\n",
    "         'oldbalanceDeststd',\n",
    "         'newbalanceDestmean',\n",
    "         'newbalanceDeststd',\n",
    "         'amount_bin_log',\n",
    "         'step_bin_log',\n",
    "         'oldbalanceOrg_bin_log',\n",
    "         'newbalanceOrig_bin_log',\n",
    "         'oldbalanceDest_bin_log',\n",
    "         'newbalanceDest_bin_log']\n",
    "\n",
    "power = PowerTransformer(method='yeo-johnson', standardize=True)\n",
    "for col in colunas:\n",
    "    X[col] = power.fit_transform(np.array(X[col]).reshape(-1,1))\n",
    "\n",
    "# Selecionador de Features\n",
    "Feature_Selector = BorutaShap(model=model,\n",
    "                              importance_measure='shap',\n",
    "                              classification=True, )\n",
    "\n",
    "Feature_Selector.fit(X=X,y=y, n_trials=10, random_state=1)"
   ]
  },
  {
   "cell_type": "markdown",
   "metadata": {
    "toc-hr-collapsed": true,
    "toc-nb-collapsed": true
   },
   "source": [
    "# Modelagem Machine Learning / Avaliação dos Modelos"
   ]
  },
  {
   "cell_type": "markdown",
   "metadata": {},
   "source": [
    "- Pipeline 1 - StandardScaler() nas variáveis numericas sem considerar feature selection.\n",
    "- Pipeline 2 - StandardScaler() nas variáveis numericas somente com as variáveis selecionadas"
   ]
  },
  {
   "cell_type": "markdown",
   "metadata": {},
   "source": [
    "## Pipeline-1 - SGDC com Log loss"
   ]
  },
  {
   "cell_type": "markdown",
   "metadata": {
    "ExecuteTime": {
     "end_time": "2020-11-14T22:43:30.920116Z",
     "start_time": "2020-11-14T22:43:30.917363Z"
    }
   },
   "source": [
    "### Pipeline1 - Arrumando os Dados"
   ]
  },
  {
   "cell_type": "code",
   "execution_count": null,
   "metadata": {
    "ExecuteTime": {
     "end_time": "2020-11-17T23:12:29.459606Z",
     "start_time": "2020-11-17T23:12:29.452941Z"
    }
   },
   "outputs": [],
   "source": [
    "# Transformando dados balanciados em vaex.dataframes\n",
    "dataset_train = vaex.from_pandas(df=train)"
   ]
  },
  {
   "cell_type": "code",
   "execution_count": null,
   "metadata": {
    "ExecuteTime": {
     "end_time": "2020-11-17T23:12:36.146859Z",
     "start_time": "2020-11-17T23:12:34.682243Z"
    }
   },
   "outputs": [],
   "source": [
    "# Threading option.\n",
    "vaex.multithreading.thread_count_default = 16\n",
    "\n",
    "# Definindo as features para a transformação\n",
    "features = ['step', \n",
    "            'amount', \n",
    "            'oldbalanceOrg',\n",
    "            'newbalanceOrig',\n",
    "            'oldbalanceDest',\n",
    "            'newbalanceDest', \n",
    "            'error_transaction',\n",
    "            'amount_step',\n",
    "            'amountmean',\n",
    "            'amountstd',\n",
    "            'oldbalanceOrgmean',\n",
    "            'oldbalanceOrgstd',\n",
    "            'newbalanceOrigmean',\n",
    "            'newbalanceOrigstd',\n",
    "            'oldbalanceDestmean',\n",
    "            'oldbalanceDeststd',\n",
    "            'newbalanceDestmean',\n",
    "            'newbalanceDeststd',\n",
    "            'amount_bin_log',\n",
    "            'step_bin_log',\n",
    "            'oldbalanceOrg_bin_log',\n",
    "            'newbalanceOrig_bin_log',\n",
    "            'oldbalanceDest_bin_log',\n",
    "            'newbalanceDest_bin_log',\n",
    "            'woe_encoded_type']\n",
    "\n",
    "# Scaler.\n",
    "scaler = vaex.ml.StandardScaler(features=features, prefix='scaled_')\n",
    "\n",
    "# Transformando os dados de treino.\n",
    "scaler.fit(dataset_train)\n",
    "df_train = scaler.transform(dataset_train)\n",
    "\n",
    "# Transformando os dados de teste.\n",
    "#df_test_scaled = scaler.transform(df_test)\n",
    "\n",
    "# Features de treino\n",
    "features_train = df_train.get_column_names(regex='scaled*') + \\\n",
    "                 df_train.get_column_names(regex='.*_kmeans')+ \\\n",
    "                 ['type']"
   ]
  },
  {
   "cell_type": "code",
   "execution_count": null,
   "metadata": {
    "ExecuteTime": {
     "end_time": "2020-11-17T23:13:02.232539Z",
     "start_time": "2020-11-17T23:12:59.341566Z"
    },
    "execution": {
     "iopub.execute_input": "2020-11-01T14:45:46.428471Z",
     "iopub.status.busy": "2020-11-01T14:45:46.428079Z",
     "iopub.status.idle": "2020-11-01T14:45:46.454621Z",
     "shell.execute_reply": "2020-11-01T14:45:46.453901Z",
     "shell.execute_reply.started": "2020-11-01T14:45:46.428429Z"
    }
   },
   "outputs": [],
   "source": [
    "# Definindo o modelo\n",
    "model = SGDClassifier(loss='log', \n",
    "                      eta0=0.001, \n",
    "                      learning_rate='constant',\n",
    "                      random_state=42)\n",
    "\n",
    "# Treinamento Incremental\n",
    "vaex_model_log = IncrementalPredictor(features=features_train, \n",
    "                                      target='isFraud', \n",
    "                                      model=model,\n",
    "                                      batch_size=1_000_00,\n",
    "                                      partial_fit_kwargs={'classes':[0,1]},\n",
    "                                      num_epochs=1,\n",
    "                                      shuffle=False,\n",
    "                                      prediction_name='prediction')\n",
    "\n",
    "vaex_model_log.fit(df=df_train, progress='widget')\n",
    "\n",
    "# Previsões sobre os dados de treino\n",
    "df_train = vaex_model_log.transform(df_train)\n",
    "df_train['isFraud', 'prediction']"
   ]
  },
  {
   "cell_type": "code",
   "execution_count": null,
   "metadata": {
    "ExecuteTime": {
     "end_time": "2020-11-17T23:13:49.914851Z",
     "start_time": "2020-11-17T23:13:47.981021Z"
    }
   },
   "outputs": [],
   "source": [
    "dataset_test"
   ]
  },
  {
   "cell_type": "code",
   "execution_count": null,
   "metadata": {
    "ExecuteTime": {
     "end_time": "2020-11-17T23:13:18.476532Z",
     "start_time": "2020-11-17T23:13:17.721911Z"
    }
   },
   "outputs": [],
   "source": [
    "# Previsões em dados de teste\n",
    "\n",
    "# Salvando o state dos dados de treino\n",
    "state = df_train.state_get()\n",
    "\n",
    "# Passando o state para os dados de teste\n",
    "dataset_test.state_set(state)\n",
    "\n",
    "# Prevendo os valores futuros\n",
    "df_test = vaex_model_log.transform(dataset_test)\n",
    "\n",
    "# checkando os dados de teste\n",
    "df_test.head()[features_train + ['prediction']]"
   ]
  },
  {
   "cell_type": "markdown",
   "metadata": {},
   "source": [
    "## Pipeline-1 - SGDC com Perceptron loss"
   ]
  },
  {
   "cell_type": "code",
   "execution_count": null,
   "metadata": {
    "ExecuteTime": {
     "end_time": "2020-11-15T08:55:58.879785Z",
     "start_time": "2020-11-15T08:55:57.880021Z"
    }
   },
   "outputs": [],
   "source": [
    "# Definindo o modelo\n",
    "model = SGDClassifier(loss='perceptron', \n",
    "                      eta0=0.001, \n",
    "                      learning_rate='constant',\n",
    "                      random_state=42)\n",
    "\n",
    "# Treinamento Incremental\n",
    "vaex_model_perc = IncrementalPredictor(features=features_train, \n",
    "                                  target='isFraud', \n",
    "                                  model=model,\n",
    "                                  batch_size=1_000_00,\n",
    "                                  partial_fit_kwargs={'classes':[0,1]},\n",
    "                                  num_epochs=1,\n",
    "                                  shuffle=False,\n",
    "                                  prediction_name='prediction')\n",
    "\n",
    "vaex_model_perc.fit(df=df_train_scaled, progress='widget')\n",
    "\n",
    "# Previsões sobre os dados de teste\n",
    "df_test_scaled = df_test_scaled[features_train]\n",
    "df_perc = vaex_model_perc.transform(df_test_scaled)\n",
    "df_perc"
   ]
  },
  {
   "cell_type": "markdown",
   "metadata": {},
   "source": [
    "## Pipeline-1 -  Xgboost"
   ]
  },
  {
   "cell_type": "code",
   "execution_count": null,
   "metadata": {
    "ExecuteTime": {
     "end_time": "2020-11-15T08:57:02.276085Z",
     "start_time": "2020-11-15T08:56:47.539187Z"
    }
   },
   "outputs": [],
   "source": [
    "from vaex.ml.xgboost import XGBoostModel\n",
    "\n",
    "# Sampling\n",
    "dataset = dataset.sample(1000000)\n",
    "\n",
    "# Spliting dados em treino e teste\n",
    "df_train, df_test = dataset.ml.train_test_split(test_size=0.1, verbose=False)\n",
    "\n",
    "# Scaler.\n",
    "scaler = vaex.ml.StandardScaler(features=features, prefix='scaled_')\n",
    "\n",
    "# Transformando os dados de treino.\n",
    "scaler.fit(df_train)\n",
    "df_train_scaled = scaler.transform(df_train)\n",
    "\n",
    "# Transformando os dados de teste.\n",
    "df_test_scaled = scaler.transform(df_test)\n",
    "\n",
    "# Features para treinamento\n",
    "features_train = df_train_scaled.get_column_names(regex='scaled*') + \\\n",
    "                 df_train_scaled.get_column_names(regex='.*_kmeans')+ \\\n",
    "                 ['type']\n",
    "\n",
    "# Grid de Parametros\n",
    "params = {'learning_rate': 0.01,\n",
    "          'max_depth': 5,\n",
    "          'objective': 'binary:hinge',\n",
    "          'eval_metric': 'auc',\n",
    "          'subsample': 1,\n",
    "          'random_state': 42,\n",
    "          'n_jobs': -1}\n",
    "\n",
    "# Intanciando e treinando o modelo\n",
    "booster = XGBoostModel(features=features_train, \n",
    "                       target='isFraud', \n",
    "                       num_boost_round=500,\n",
    "                       params=params)\n",
    "\n",
    "booster.fit(df=df_train_scaled, \n",
    "            evals=[(df_train_scaled, 'train'),(df_test_scaled, 'test')], \n",
    "            early_stopping_rounds=5)\n",
    "\n",
    "# Gerando as Previsões\n",
    "df_test_scaled = df_test_scaled[features_train]\n",
    "dataset_test = booster.transform(df_test_scaled)\n",
    "dataset_test"
   ]
  },
  {
   "cell_type": "markdown",
   "metadata": {},
   "source": [
    "## Pipelines-2 - SGDC com Log Loss"
   ]
  },
  {
   "cell_type": "code",
   "execution_count": null,
   "metadata": {},
   "outputs": [],
   "source": []
  },
  {
   "cell_type": "markdown",
   "metadata": {},
   "source": [
    "## Pipelines-2 - SGDC com Perceptron Loss"
   ]
  },
  {
   "cell_type": "code",
   "execution_count": null,
   "metadata": {},
   "outputs": [],
   "source": []
  },
  {
   "cell_type": "markdown",
   "metadata": {},
   "source": [
    "## Pipeline-2 -  Xgboost"
   ]
  },
  {
   "cell_type": "code",
   "execution_count": null,
   "metadata": {},
   "outputs": [],
   "source": []
  },
  {
   "cell_type": "code",
   "execution_count": null,
   "metadata": {
    "execution": {
     "iopub.execute_input": "2020-10-31T23:03:53.414431Z",
     "iopub.status.busy": "2020-10-31T23:03:53.414006Z"
    }
   },
   "outputs": [],
   "source": [
    "# Features - variáveis numericas escolhidas pelo BorutaShap.\n",
    "# features = ['step',\n",
    "#             'oldbalanceOrg', \n",
    "#             'newbalanceOrig_bin_log', \n",
    "#             'newbalanceDest',\n",
    "#             'amount_step', \n",
    "#             'amount',\n",
    "#             'oldbalanceDest_bin_log'\n",
    "#             ]"
   ]
  },
  {
   "cell_type": "code",
   "execution_count": null,
   "metadata": {},
   "outputs": [],
   "source": []
  },
  {
   "cell_type": "code",
   "execution_count": null,
   "metadata": {},
   "outputs": [],
   "source": []
  },
  {
   "cell_type": "code",
   "execution_count": null,
   "metadata": {},
   "outputs": [],
   "source": []
  },
  {
   "cell_type": "code",
   "execution_count": null,
   "metadata": {
    "toc-hr-collapsed": true,
    "toc-nb-collapsed": true
   },
   "outputs": [],
   "source": []
  },
  {
   "cell_type": "code",
   "execution_count": null,
   "metadata": {},
   "outputs": [],
   "source": []
  },
  {
   "cell_type": "code",
   "execution_count": null,
   "metadata": {},
   "outputs": [],
   "source": []
  }
 ],
 "metadata": {
  "kernelspec": {
   "display_name": "project-block-fraud (3.8.6)",
   "language": "python",
   "name": "project-block-fraud-38"
  },
  "language_info": {
   "codemirror_mode": {
    "name": "ipython",
    "version": 3
   },
   "file_extension": ".py",
   "mimetype": "text/x-python",
   "name": "python",
   "nbconvert_exporter": "python",
   "pygments_lexer": "ipython3",
   "version": "3.8.6"
  },
  "toc": {
   "base_numbering": 1,
   "nav_menu": {},
   "number_sections": true,
   "sideBar": true,
   "skip_h1_title": false,
   "title_cell": "Table of Contents",
   "title_sidebar": "Contents",
   "toc_cell": false,
   "toc_position": {},
   "toc_section_display": true,
   "toc_window_display": false
  },
  "toc-autonumbering": false,
  "toc-showcode": false,
  "toc-showmarkdowntxt": false,
  "toc-showtags": false,
  "varInspector": {
   "cols": {
    "lenName": 16,
    "lenType": 16,
    "lenVar": 40
   },
   "kernels_config": {
    "python": {
     "delete_cmd_postfix": "",
     "delete_cmd_prefix": "del ",
     "library": "var_list.py",
     "varRefreshCmd": "print(var_dic_list())"
    },
    "r": {
     "delete_cmd_postfix": ") ",
     "delete_cmd_prefix": "rm(",
     "library": "var_list.r",
     "varRefreshCmd": "cat(var_dic_list()) "
    }
   },
   "position": {
    "height": "738.85px",
    "left": "1549px",
    "right": "20px",
    "top": "120px",
    "width": "350px"
   },
   "types_to_exclude": [
    "module",
    "function",
    "builtin_function_or_method",
    "instance",
    "_Feature"
   ],
   "window_display": false
  }
 },
 "nbformat": 4,
 "nbformat_minor": 4
}
