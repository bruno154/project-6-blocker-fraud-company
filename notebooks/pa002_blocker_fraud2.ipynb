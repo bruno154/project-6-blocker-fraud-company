{
 "cells": [
  {
   "cell_type": "markdown",
   "metadata": {
    "hide_input": false
   },
   "source": [
    "# Business Problem"
   ]
  },
  {
   "cell_type": "markdown",
   "metadata": {},
   "source": [
    "Como um Consultor de Ciência de Dados para criar um modelo de alta precisão e acurácia na detecção de fraudes de transações feitas através de dispositivos móveis.\n",
    "\n",
    "Entregáveis da consultoria:\n",
    "\n",
    "- Modelo em produção com API.\n",
    "- Relatório reportando a performance e os resultados do seu modelo em relação ao lucro e prejuízo que a empresa terá ao usar o modelo que você produziu.\n",
    "\n",
    "  No seu relatório deve conter as respostas para as seguintes perguntas:\n",
    "\n",
    " -   Qual a Precisão e Acurácia do modelo?\n",
    " -   Qual a Confiabilidade do modelo em classificar as transações como legítimas ou fraudulentas?\n",
    " -   Qual o Faturamento Esperado pela Empresa se classificarmos 100% das transações com o modelo?\n",
    " -   Qual o Prejuízo Esperado pela Empresa em caso de falha do modelo?\n",
    " -   Qual o Lucro Esperado pela Blocker Fraud Company ao utilizar o modelo?\n",
    "\n",
    "Data source: [Link](https://www.kaggle.com/ntnu-testimon/paysim1)\n",
    "\n",
    "**Index:**\n",
    "\n",
    " - 0.0 Problema de Negócio\n",
    " - 0.1 Importações de bibliotecas\n",
    " - 1.0 Coleta de Dados\n",
    " - 2.0 Descrição dos Dados\n",
    " - 3.0 Limpeza de dados\n",
    " - 4.0 Feature Engineering\n",
    " - 5.0 EDA\n",
    " - 6.0 Feature Selection\n",
    " - 7.0 Data Preparation - Pipelines\n",
    " - 8.0 Modelagem Machine Learning / Avaliação dos Modelos\n",
    " - 9.0 Interpretação do Modelo\n",
    " - 10.0 API\n",
    "\n",
    "**Estrátegia:**\n",
    "\n",
    "1.0 Coleta de Dados:\n",
    "- Coletar os dados utilizando pd.read_csv().\n",
    "\n",
    "2.0 Descrição dos Dados:\n",
    "\n",
    "- Descrever as seguintes infos por feature: percentual de missing, valores únicos, percentual de valores únicos, tipos de dados, skew, kurtosis.                                             \n",
    "- Investigar isFraud vs isFlaggedFraud para determinar qual é a variável target.\n",
    "- Descrever a variável 'type' com relação ao target.\n",
    "- Descrever outras variáveis\n",
    " \n",
    "3.0 Limpeza de dados:\n",
    "\n",
    "- Investigar e eliminar os outliers\n",
    "- Excluir os 'types' diferentes de 'TRANSFER'e 'CASH_OUT'\n",
    "- Avaliar o tamanho do dataset e decidir sobre utilizar alguma estratégia de sampling.\n",
    " \n",
    "4.0 Feature Engineering\n",
    "\n",
    "- Criar a variável type_dest a partir da primeira letra da variável nameDest. C representa 'Customer' e M representa 'Merchant'.\n",
    "- Criar a variável erro_transaction, espera-se que 'amount' - (oldbalanceOrg - newbalanceOrig) seja igual a zero talvez erros maiores podem levar o modelo entender o evento de Fraude.\n",
    "- Criar variável por iteração 'amount' / 'step' = 'amount_step', o relacionamento do valor da trasnção por unidade de tempo pode nos ajudar a modelar o evento.\n",
    "-  Binning/Discretizing 'amount','step','oldbalanceOrg','newbalanceOrig','oldbalanceDest','newbalanceDest', variáveis que passam por varios níveis de grandeza (dezenas, centenas, milhares) podem ser prejudicias para modelos de ML.\n",
    "       - Binning com base na transformação log10 que deixara mais gaussiana as distribuições onde agruparemos os pontos da distribuição em bins(tratando a escala).\n",
    "       - Discretizing com base na classe KBinsDiscretizer, estrátegia kmeans, os pontos de daods serão agrupados em 10 grupos com base na distancia euclidiana utilizando o algaritmo kmeans. Tratando assim a escala dos dados.\n",
    "\n",
    "5.0 EDA\n",
    "\n",
    "- Realizar análise univariada, identificar se atingimos o objetivo de diminuir a escala e tornar as distribuições mais gaussianas com relação as variáveis criadas.\n",
    "- Realizar análise Multivariada, indentificar variáveis com alta correlação entre si\n",
    "- Testar Hipóteses conforme mapa mental.\n",
    "\n",
    "6.0 Feature Selection\n",
    "\n",
    "- Aplicar BorutaShapley\n",
    "\n",
    "\n",
    "\n",
    "\n",
    "\n",
    "\n",
    "Conclusões e Resultados:\n"
   ]
  },
  {
   "cell_type": "markdown",
   "metadata": {},
   "source": [
    "##  Importações de bibliotecas"
   ]
  },
  {
   "cell_type": "code",
   "execution_count": null,
   "metadata": {
    "ExecuteTime": {
     "end_time": "2020-11-08T22:53:32.435285Z",
     "start_time": "2020-11-08T22:53:30.789587Z"
    },
    "execution": {
     "iopub.execute_input": "2020-11-01T14:44:25.552702Z",
     "iopub.status.busy": "2020-11-01T14:44:25.552222Z",
     "iopub.status.idle": "2020-11-01T14:44:27.507926Z",
     "shell.execute_reply": "2020-11-01T14:44:27.507061Z",
     "shell.execute_reply.started": "2020-11-01T14:44:25.552581Z"
    }
   },
   "outputs": [],
   "source": [
    "# Importings\n",
    "import pandas as pd\n",
    "import numpy as np\n",
    "import time\n",
    "\n",
    "# Importings Vaex\n",
    "import vaex\n",
    "import vaex.ml\n",
    "\n",
    "# Data Viz\n",
    "import seaborn as sns\n",
    "import matplotlib.pyplot as plt\n",
    "\n",
    "# General Librarys\n",
    "from MyToolBox import MyToolBox as mtb\n",
    "from scipy.stats import chi2_contingency\n",
    "\n",
    "from sklearn.svm import SVC\n",
    "from sklearn.pipeline import Pipeline, FeatureUnion\n",
    "from sklearn.preprocessing import RobustScaler\n",
    "from sklearn.model_selection import cross_val_score\n",
    "from sklearn.linear_model import LogisticRegression\n",
    "from sklearn.ensemble import IsolationForest\n",
    "import lightgbm as lgb\n",
    "\n",
    "\n",
    "from imblearn.combine import SMOTETomek\n",
    "from sklearn.preprocessing import OrdinalEncoder, KBinsDiscretizer\n",
    "\n",
    "\n",
    "import warnings\n",
    "warnings.filterwarnings(\"ignore\")"
   ]
  },
  {
   "cell_type": "markdown",
   "metadata": {
    "execution": {
     "iopub.execute_input": "2020-10-22T20:26:26.646097Z",
     "iopub.status.busy": "2020-10-22T20:26:26.645730Z",
     "iopub.status.idle": "2020-10-22T20:26:26.650094Z",
     "shell.execute_reply": "2020-10-22T20:26:26.649143Z",
     "shell.execute_reply.started": "2020-10-22T20:26:26.646053Z"
    }
   },
   "source": [
    "##  Funções auxiliares"
   ]
  },
  {
   "cell_type": "code",
   "execution_count": null,
   "metadata": {
    "ExecuteTime": {
     "end_time": "2020-11-08T22:53:32.649589Z",
     "start_time": "2020-11-08T22:53:32.629688Z"
    },
    "execution": {
     "iopub.execute_input": "2020-11-01T14:44:27.509245Z",
     "iopub.status.busy": "2020-11-01T14:44:27.509072Z",
     "iopub.status.idle": "2020-11-01T14:44:27.523665Z",
     "shell.execute_reply": "2020-11-01T14:44:27.522883Z",
     "shell.execute_reply.started": "2020-11-01T14:44:27.509223Z"
    }
   },
   "outputs": [],
   "source": [
    "def balanced_target(target, dataset, hue=None):\n",
    "    \"\"\"\n",
    "    Function to check the balancing of the target variable.\n",
    "\n",
    "    :target:  An pd.Series of the target variable that will be checked.\n",
    "    :dataset: An Dataframe object.\n",
    "    \"\"\"\n",
    "    sns.set(style='darkgrid', palette='Accent')\n",
    "    ax = sns.countplot(x=target, hue=hue, data=dataset)\n",
    "    ax.figure.set_size_inches(10, 6)\n",
    "    ax.set_title('Feature Distribution', fontsize=18, loc='center')\n",
    "    ax.set_xlabel(target, fontsize=14)\n",
    "    ax.set_ylabel('Count', fontsize=14)\n",
    "    ax=ax\n",
    "\n",
    "def drop_outliers(var: str, dataset: pd.DataFrame):\n",
    "\n",
    "    # Calculando os Q1, Q3 e IQR\n",
    "    Q1 = np.quantile(dataset[var], .25)\n",
    "    Q3 = np.quantile(dataset[var], .75)\n",
    "    IQR = Q3 - Q1\n",
    "\n",
    "    # calculates the outliers boundaries through statistical relationship\n",
    "    low = Q1 - 1.5 * IQR\n",
    "    high = Q3 + 1.5 * IQR\n",
    "\n",
    "    dados_resultado = dataset.loc[(dataset[var] > low) & (dataset[var] < high),]\n",
    "\n",
    "    return dados_resultado\n",
    "\n",
    "def drop_outliers_vaex(var: str, dataset_vaex):\n",
    "\n",
    "    # Calculando os Q1, Q3 e IQR\n",
    "    Q1 = np.quantile(dataset_vaex[var].to_pandas_series(), .25)\n",
    "    Q3 = np.quantile(dataset_vaex[var].to_pandas_series(), .75)\n",
    "    IQR = Q3 - Q1\n",
    "\n",
    "    # calculates the outliers boundaries through statistical relationship\n",
    "    low = Q1 - 1.5 * IQR\n",
    "    high = Q3 + 1.5 * IQR\n",
    "\n",
    "    dados_resultado = dataset_vaex[(dataset_vaex[var] > low) & (dataset_vaex[var] < high)]\n",
    "\n",
    "    return dados_resultado\n",
    "\n",
    "\n",
    "def Myheat_map(dataset, variaveis):\n",
    "\n",
    "    df_corr = dataset[variaveis].corr()\n",
    "\n",
    "    fig, ax = plt.subplots(figsize=(16, 10))\n",
    "    # mask\n",
    "    mask = np.triu(np.ones_like(df_corr, dtype=np.bool))\n",
    "    # adjust mask and df\n",
    "    mask = mask[1:, :-1]\n",
    "    corr = df_corr.iloc[1:,:-1].copy()\n",
    "    # color map\n",
    "    cmap = sns.diverging_palette(0, 230, 90, 60, as_cmap=True)\n",
    "\n",
    "    # plot heatmap\n",
    "    sns.heatmap(corr, mask=mask, annot=True, fmt=\".2f\",\n",
    "                   linewidths=5, cmap=cmap, vmin=-1, vmax=1, \n",
    "                   cbar_kws={\"shrink\": .8}, square=True)\n",
    "    yticks = [i.upper() for i in corr.index]\n",
    "    xticks = [i.upper() for i in corr.columns]\n",
    "    plt.yticks(plt.yticks()[0], labels=yticks, rotation=0)\n",
    "    plt.xticks(plt.xticks()[0], labels=xticks, rotation=20)\n",
    "\n",
    "    # title\n",
    "    title = 'CORRELATION MATRIX\\n'\n",
    "    plt.title(title, loc='left', fontsize=18)\n",
    "    plt.show()\n",
    "\n",
    "\n",
    "def cramer_v(var_x, var_y):\n",
    "    \"\"\"\n",
    "    Function to calculate the Cramers v correlation.\n",
    "\n",
    "    \"\"\"\n",
    "    # builds contigency matrix (or confusion matrix)\n",
    "    confusion_matrix_v = pd.crosstab(var_x, var_y).values\n",
    "\n",
    "    # gets the sum of all values in the matrix\n",
    "    n = confusion_matrix_v.sum()\n",
    "\n",
    "    # gets the rows, cols\n",
    "    r, k = confusion_matrix_v.shape\n",
    "\n",
    "    # gets the chi-squared\n",
    "    chi2 = chi2_contingency(confusion_matrix_v)[0]\n",
    "\n",
    "    # makes the bias correction\n",
    "    chi2corr = max(0, chi2 - (k-1) * (r-1) / (n-1))\n",
    "    kcorr = k - (k-1) ** 2 / (n-1)\n",
    "    rcorr = r - (r-1) ** 2 / (n-1)\n",
    "\n",
    "    # returns cramér V\n",
    "    return np.sqrt((chi2corr/n) / min(kcorr-1, rcorr-1))\n"
   ]
  },
  {
   "cell_type": "markdown",
   "metadata": {},
   "source": [
    "#  Coleta de Dados"
   ]
  },
  {
   "cell_type": "markdown",
   "metadata": {},
   "source": [
    "## Usando o Pandas"
   ]
  },
  {
   "cell_type": "code",
   "execution_count": null,
   "metadata": {
    "ExecuteTime": {
     "end_time": "2020-11-08T22:53:39.427011Z",
     "start_time": "2020-11-08T22:53:32.835719Z"
    },
    "execution": {
     "iopub.execute_input": "2020-11-01T14:44:28.002560Z",
     "iopub.status.busy": "2020-11-01T14:44:28.002193Z",
     "iopub.status.idle": "2020-11-01T14:44:36.312902Z",
     "shell.execute_reply": "2020-11-01T14:44:36.311954Z",
     "shell.execute_reply.started": "2020-11-01T14:44:28.002520Z"
    }
   },
   "outputs": [],
   "source": [
    "# With pandas\n",
    "train = pd.read_csv('../data/trans_fraud_data.csv')\n",
    "print(f'Quantidade de Colunas {train.shape[1]}')\n",
    "\n",
    "print(f'Quantidade de Observações {train.shape[0]}')"
   ]
  },
  {
   "cell_type": "markdown",
   "metadata": {},
   "source": [
    "## Usando Vaex"
   ]
  },
  {
   "cell_type": "code",
   "execution_count": null,
   "metadata": {
    "ExecuteTime": {
     "end_time": "2020-11-08T22:53:40.720077Z",
     "start_time": "2020-11-08T22:53:40.704847Z"
    }
   },
   "outputs": [],
   "source": [
    "# With Vaex\n",
    "train_vaex = vaex.from_csv('../data/trans_fraud_data.csv', convert=True)\n",
    "train_vaex.shape"
   ]
  },
  {
   "cell_type": "markdown",
   "metadata": {
    "heading_collapsed": true,
    "toc-hr-collapsed": true,
    "toc-nb-collapsed": true
   },
   "source": [
    "# Descrição dos dados"
   ]
  },
  {
   "cell_type": "markdown",
   "metadata": {
    "hidden": true
   },
   "source": [
    "- Nosso dataset não possui missing values, conforme Mydescribe.\n",
    "- Nosso dataset está bastante desbalanciado, 2.1 isFraud vs isFlaggedFraud.\n",
    "- A partir da análise da Skew e Kurtosis(conforme Mydescribe) podemos observar que as variáveis numericas precisaram ser transformadas. O tipo de transformação será decidido mais a frente.\n",
    "- A variável isFlaggedFraud possui somente 16 observações,as quais também estão como positivas em isFraud, podemos nos desfazer dessa variável.\n",
    "- A variável 'isFraud' é a nossa variável taret nesse problema!\n",
    "- A variável 'type' possui 5 valores únicos. 'PAYMENT','TRANSFER','DEBIT','CASH_OUT'\n",
    "- Possuímos casos de fraude somente para os tipos 'TRANSFER'e 'CASH_OUT', dessa forma podemos eliminar os outros tipos já que os mesmos só irão apresentar ao modelo exemplos de não fraude, ou seja, nosso modelo não irá conseguir modelar situações de fraude (nosso objetivo) a partir desses dados.\n",
    "- A partir do describe na seção 2.2 observamos que as variáveis 'amount' e 'step' variam por diversos niveis de grandeza desde da unidade simples até a centenas, 'step', ou a milhares 'amount'. Irei criar novas variáveis aplicando Binning e excluindo as originais tendo em vista que variáveis que ultrapassam varias ordens de grandeza são problemáticas para muitos modelos."
   ]
  },
  {
   "cell_type": "code",
   "execution_count": null,
   "metadata": {
    "ExecuteTime": {
     "end_time": "2020-11-05T20:57:28.446927Z",
     "start_time": "2020-11-05T20:57:28.386241Z"
    },
    "execution": {
     "iopub.execute_input": "2020-10-31T23:00:55.932435Z",
     "iopub.status.busy": "2020-10-31T23:00:55.932308Z",
     "iopub.status.idle": "2020-10-31T23:00:55.954478Z",
     "shell.execute_reply": "2020-10-31T23:00:55.953750Z",
     "shell.execute_reply.started": "2020-10-31T23:00:55.932419Z"
    },
    "hidden": true
   },
   "outputs": [],
   "source": [
    "# Checando os primeiros registros\n",
    "train.head()"
   ]
  },
  {
   "cell_type": "code",
   "execution_count": null,
   "metadata": {
    "execution": {
     "iopub.execute_input": "2020-10-31T22:08:11.518185Z",
     "iopub.status.busy": "2020-10-31T22:08:11.517990Z",
     "iopub.status.idle": "2020-10-31T22:08:28.054568Z",
     "shell.execute_reply": "2020-10-31T22:08:28.053725Z",
     "shell.execute_reply.started": "2020-10-31T22:08:11.518161Z"
    },
    "hidden": true
   },
   "outputs": [],
   "source": [
    "# Mydescribe\n",
    "pd.DataFrame({'missingPerc': train.isna().mean(),\n",
    "              'uniques': train.nunique(),\n",
    "              '%uniquePerc': (train.nunique()/train.shape[0])*100,\n",
    "              'data_types': train.dtypes,\n",
    "              'skew': train.skew(),\n",
    "              'kurtosis': train.kurt()\n",
    "               })"
   ]
  },
  {
   "cell_type": "markdown",
   "metadata": {
    "hidden": true
   },
   "source": [
    "##  isFraud vs isFlaggedFraud"
   ]
  },
  {
   "cell_type": "code",
   "execution_count": null,
   "metadata": {
    "execution": {
     "iopub.execute_input": "2020-10-31T22:08:28.056097Z",
     "iopub.status.busy": "2020-10-31T22:08:28.055820Z",
     "iopub.status.idle": "2020-10-31T22:08:28.849745Z",
     "shell.execute_reply": "2020-10-31T22:08:28.849208Z",
     "shell.execute_reply.started": "2020-10-31T22:08:28.056061Z"
    },
    "hidden": true
   },
   "outputs": [],
   "source": [
    "quant = train['isFraud'].sum()\n",
    "perc = (quant/train.shape[0])*100\n",
    "print(f'Quantidade de eventos positivos - isFraud- {quant}')\n",
    "print(f'Percentual de eventos positivos - isFraud- {perc}\\n')\n",
    "\n",
    "quant1 = train['isFlaggedFraud'].sum()\n",
    "perc1 = (quant/train.shape[0])*100\n",
    "print(f'Quantidade de eventos positivos - isFlaggedFraud- {quant1}')\n",
    "print(f'Percentual de eventos positivos - isFlaggedFraud- {perc1}\\n')\n",
    "\n",
    "\n",
    "# Plots\n",
    "plt.subplot(1, 2, 1)\n",
    "balanced_target('isFraud', dataset=train)\n",
    "\n",
    "plt.subplot(1, 2, 2)\n",
    "balanced_target('isFlaggedFraud', dataset=train)"
   ]
  },
  {
   "cell_type": "code",
   "execution_count": null,
   "metadata": {
    "execution": {
     "iopub.execute_input": "2020-10-31T22:08:28.851563Z",
     "iopub.status.busy": "2020-10-31T22:08:28.851380Z",
     "iopub.status.idle": "2020-10-31T22:08:28.873058Z",
     "shell.execute_reply": "2020-10-31T22:08:28.872507Z",
     "shell.execute_reply.started": "2020-10-31T22:08:28.851539Z"
    },
    "hidden": true
   },
   "outputs": [],
   "source": [
    "dadosTemp = train.loc[train['isFlaggedFraud']==1,]\n",
    "dadosTemp"
   ]
  },
  {
   "cell_type": "markdown",
   "metadata": {
    "hidden": true
   },
   "source": [
    "## Descrição variável 'type'"
   ]
  },
  {
   "cell_type": "code",
   "execution_count": null,
   "metadata": {
    "execution": {
     "iopub.execute_input": "2020-10-31T22:08:28.874333Z",
     "iopub.status.busy": "2020-10-31T22:08:28.874121Z",
     "iopub.status.idle": "2020-10-31T22:08:29.245574Z",
     "shell.execute_reply": "2020-10-31T22:08:29.245047Z",
     "shell.execute_reply.started": "2020-10-31T22:08:28.874313Z"
    },
    "hidden": true
   },
   "outputs": [],
   "source": [
    "# Quantidade Fraud\n",
    "data_temp = train.loc[train['isFraud'] == 1, ]\n",
    "\n",
    "uniq = train['type'].unique()\n",
    "print(f'Valores únicos de type são {uniq}\\n')\n",
    "balanced_target('type', dataset=data_temp)"
   ]
  },
  {
   "cell_type": "markdown",
   "metadata": {
    "hidden": true
   },
   "source": [
    "## Outras Variáveis"
   ]
  },
  {
   "cell_type": "code",
   "execution_count": null,
   "metadata": {
    "execution": {
     "iopub.execute_input": "2020-10-31T22:08:29.246354Z",
     "iopub.status.busy": "2020-10-31T22:08:29.246235Z",
     "iopub.status.idle": "2020-10-31T22:08:30.575951Z",
     "shell.execute_reply": "2020-10-31T22:08:30.575448Z",
     "shell.execute_reply.started": "2020-10-31T22:08:29.246338Z"
    },
    "hidden": true
   },
   "outputs": [],
   "source": [
    "# Describe\n",
    "variables = ['amount','step', 'oldbalanceOrg', 'newbalanceOrig', 'oldbalanceDest', 'newbalanceDest']\n",
    "train[variables].describe().T"
   ]
  },
  {
   "cell_type": "markdown",
   "metadata": {
    "hidden": true
   },
   "source": [
    "###  Analisando 'Amount', 'oldBalanceDest', 'newBalanceDest', 'oldBalanceOrig', 'newBalanceOrig'"
   ]
  },
  {
   "cell_type": "code",
   "execution_count": null,
   "metadata": {
    "execution": {
     "iopub.execute_input": "2020-10-31T22:08:30.576691Z",
     "iopub.status.busy": "2020-10-31T22:08:30.576574Z",
     "iopub.status.idle": "2020-10-31T22:08:30.824675Z",
     "shell.execute_reply": "2020-10-31T22:08:30.824031Z",
     "shell.execute_reply.started": "2020-10-31T22:08:30.576676Z"
    },
    "hidden": true
   },
   "outputs": [],
   "source": [
    "# Percentual de operações amount != de zero oldBalanceDest e newBalanceDest são iguais a 0\n",
    "quant_dest = train.loc[(train['amount'] != 0) & (train['oldbalanceDest'] == 0) & (train['newbalanceDest'] == 0), ]\n",
    "\n",
    "perc_quant_dest = round(quant_dest.shape[0]/train.shape[0], 2)*100\n",
    "print(f'O percentual de casos onde o amount é diferente de 0 com oldbalanceDest e newbalanceDest iguais {perc_quant_dest}%')"
   ]
  },
  {
   "cell_type": "code",
   "execution_count": null,
   "metadata": {
    "execution": {
     "iopub.execute_input": "2020-10-31T22:08:30.825891Z",
     "iopub.status.busy": "2020-10-31T22:08:30.825683Z",
     "iopub.status.idle": "2020-10-31T22:08:31.054669Z",
     "shell.execute_reply": "2020-10-31T22:08:31.054143Z",
     "shell.execute_reply.started": "2020-10-31T22:08:30.825866Z"
    },
    "hidden": true
   },
   "outputs": [],
   "source": [
    "# Percentual de operações amount != de zero oldBalanceOrig e newBalanceOrig são iguais a 0\n",
    "\n",
    "quant_orig = train.loc[(train['amount'] != 0) & (train['oldbalanceOrg'] == 0) & (train['newbalanceOrig'] == 0), ]\n",
    "\n",
    "perc_quant_orig = round(quant_orig.shape[0]/train.shape[0], 2)*100\n",
    "print(f'O percentual de casos onde o amount é diferente de 0 com oldbalanceDest e newbalanceDest iguais {perc_quant_orig}%')"
   ]
  },
  {
   "cell_type": "markdown",
   "metadata": {},
   "source": [
    "# Limpeza de dados"
   ]
  },
  {
   "cell_type": "markdown",
   "metadata": {},
   "source": [
    "- Conforme observado na etapa de descrição dos dados iremos eliminar a variável 'isFlaggedFraud', pois possui apenas 16 observações positivas sendo que as mesmas também são positivas para a variável 'isFraud'\n",
    "- Conforme observado na etapa de descrição dos dados iremos eliminar as observações com 'type' diferente de 'TRANSFER' e 'CASH_OUT'\n",
    "- Investigar e eliminar os outliers"
   ]
  },
  {
   "cell_type": "markdown",
   "metadata": {},
   "source": [
    "## Eliminando a variável 'isFlaggedFraud' e os 'types' PAYMENT, CASH_IN, DEBIT"
   ]
  },
  {
   "cell_type": "code",
   "execution_count": null,
   "metadata": {
    "ExecuteTime": {
     "end_time": "2020-11-08T22:53:45.358640Z",
     "start_time": "2020-11-08T22:53:44.121276Z"
    },
    "execution": {
     "iopub.execute_input": "2020-11-01T14:44:36.314725Z",
     "iopub.status.busy": "2020-11-01T14:44:36.314421Z",
     "iopub.status.idle": "2020-11-01T14:44:38.545828Z",
     "shell.execute_reply": "2020-11-01T14:44:38.545101Z",
     "shell.execute_reply.started": "2020-11-01T14:44:36.314689Z"
    }
   },
   "outputs": [],
   "source": [
    "# Pandas\n",
    "\n",
    "# 'isFlaggedFraud'\n",
    "train.drop('isFlaggedFraud', inplace=True, axis=1)\n",
    "\n",
    "# PAYMENT, CASH_IN, DEBIT\n",
    "train = train.loc[(train['type'] == 'TRANSFER') | (train['type'] == 'CASH_OUT'), ]"
   ]
  },
  {
   "cell_type": "code",
   "execution_count": null,
   "metadata": {
    "ExecuteTime": {
     "end_time": "2020-11-08T22:53:46.165621Z",
     "start_time": "2020-11-08T22:53:46.113714Z"
    }
   },
   "outputs": [],
   "source": [
    "# Vaex\n",
    "\n",
    "# 'isFlaggedFraud'\n",
    "train_vaex.drop('isFlaggedFraud', inplace=True, check=False)\n",
    "\n",
    "# PAYMENT, CASH_IN, DEBIT\n",
    "train_vaex = train_vaex[(train_vaex['type'] == 'TRANSFER') | (train_vaex['type'] == 'CASH_OUT')]\n",
    "train_vaex.shape"
   ]
  },
  {
   "cell_type": "markdown",
   "metadata": {
    "execution": {
     "iopub.execute_input": "2020-10-24T17:16:52.967202Z",
     "iopub.status.busy": "2020-10-24T17:16:52.966713Z",
     "iopub.status.idle": "2020-10-24T17:16:52.971875Z",
     "shell.execute_reply": "2020-10-24T17:16:52.970545Z",
     "shell.execute_reply.started": "2020-10-24T17:16:52.967139Z"
    }
   },
   "source": [
    "## Eliminando Outliers"
   ]
  },
  {
   "cell_type": "markdown",
   "metadata": {
    "heading_collapsed": true
   },
   "source": [
    "### Com as classes positivas"
   ]
  },
  {
   "cell_type": "code",
   "execution_count": null,
   "metadata": {
    "ExecuteTime": {
     "end_time": "2020-11-07T17:31:18.877527Z",
     "start_time": "2020-11-07T17:31:15.381907Z"
    },
    "execution": {
     "iopub.execute_input": "2020-11-01T14:44:38.547097Z",
     "iopub.status.busy": "2020-11-01T14:44:38.546931Z",
     "iopub.status.idle": "2020-11-01T14:44:42.251883Z",
     "shell.execute_reply": "2020-11-01T14:44:42.251258Z",
     "shell.execute_reply.started": "2020-11-01T14:44:38.547076Z"
    },
    "hidden": true
   },
   "outputs": [],
   "source": [
    "# Pandas\n",
    "# Investigando Outliers\n",
    "explorer = mtb.EDA(train)\n",
    "explorer.multi_boxplots(['amount', 'step','oldbalanceOrg','newbalanceOrig','oldbalanceDest','newbalanceDest'])"
   ]
  },
  {
   "cell_type": "code",
   "execution_count": null,
   "metadata": {
    "ExecuteTime": {
     "end_time": "2020-11-07T17:31:21.200218Z",
     "start_time": "2020-11-07T17:31:20.702455Z"
    },
    "execution": {
     "iopub.execute_input": "2020-11-01T14:44:42.252849Z",
     "iopub.status.busy": "2020-11-01T14:44:42.252711Z",
     "iopub.status.idle": "2020-11-01T14:44:42.735625Z",
     "shell.execute_reply": "2020-11-01T14:44:42.735009Z",
     "shell.execute_reply.started": "2020-11-01T14:44:42.252832Z"
    },
    "hidden": true
   },
   "outputs": [],
   "source": [
    "# Pandas\n",
    "\n",
    "# Eliminando os Outliers\n",
    "treino = drop_outliers('amount', train)\n",
    "treino = drop_outliers('oldbalanceOrg', treino)\n",
    "treino.shape"
   ]
  },
  {
   "cell_type": "code",
   "execution_count": null,
   "metadata": {
    "ExecuteTime": {
     "end_time": "2020-11-07T17:31:21.795716Z",
     "start_time": "2020-11-07T17:31:21.432232Z"
    },
    "hidden": true
   },
   "outputs": [],
   "source": [
    "# Vaex\n",
    "\n",
    "# Eliminando os Outliers\n",
    "treino_vaex = drop_outliers_vaex('amount', train_vaex)\n",
    "treino_vaex = drop_outliers_vaex('oldbalanceOrg',treino_vaex)\n",
    "treino_vaex.shape"
   ]
  },
  {
   "cell_type": "code",
   "execution_count": null,
   "metadata": {
    "ExecuteTime": {
     "end_time": "2020-11-07T17:31:32.106255Z",
     "start_time": "2020-11-07T17:31:29.874901Z"
    },
    "execution": {
     "iopub.execute_input": "2020-11-01T14:44:42.736272Z",
     "iopub.status.busy": "2020-11-01T14:44:42.736154Z",
     "iopub.status.idle": "2020-11-01T14:44:44.951059Z",
     "shell.execute_reply": "2020-11-01T14:44:44.950335Z",
     "shell.execute_reply.started": "2020-11-01T14:44:42.736256Z"
    },
    "hidden": true
   },
   "outputs": [],
   "source": [
    "# Checando as distribuições após da eliminação de outliers\n",
    "explorer1 = mtb.EDA(treino)\n",
    "explorer1.multi_boxplots(['amount', 'step','oldbalanceOrg','newbalanceOrig','oldbalanceDest','newbalanceDest'])"
   ]
  },
  {
   "cell_type": "code",
   "execution_count": null,
   "metadata": {
    "ExecuteTime": {
     "end_time": "2020-11-07T17:31:32.463196Z",
     "start_time": "2020-11-07T17:31:32.451448Z"
    },
    "execution": {
     "iopub.execute_input": "2020-11-01T14:44:44.951820Z",
     "iopub.status.busy": "2020-11-01T14:44:44.951705Z",
     "iopub.status.idle": "2020-11-01T14:44:44.961922Z",
     "shell.execute_reply": "2020-11-01T14:44:44.961069Z",
     "shell.execute_reply.started": "2020-11-01T14:44:44.951805Z"
    },
    "hidden": true
   },
   "outputs": [],
   "source": [
    "# Quantidade de observações positivas antes da limpeza de outliers.\n",
    "post = train.loc[train['isFraud']==1,].shape[0]\n",
    "print(f'Quantidade de Classes Positivas: {post} ')"
   ]
  },
  {
   "cell_type": "code",
   "execution_count": null,
   "metadata": {
    "ExecuteTime": {
     "end_time": "2020-11-07T17:31:33.042675Z",
     "start_time": "2020-11-07T17:31:32.811730Z"
    },
    "execution": {
     "iopub.execute_input": "2020-11-01T14:44:44.963029Z",
     "iopub.status.busy": "2020-11-01T14:44:44.962847Z",
     "iopub.status.idle": "2020-11-01T14:44:45.218448Z",
     "shell.execute_reply": "2020-11-01T14:44:45.217556Z",
     "shell.execute_reply.started": "2020-11-01T14:44:44.962998Z"
    },
    "hidden": true
   },
   "outputs": [],
   "source": [
    "# Quantidade de obervações positivas antes depois limpeza de outliers.\n",
    "post = treino.loc[train['isFraud']==1,].shape[0]\n",
    "print(f'Quantidade de Classes Positivas: {post} ')"
   ]
  },
  {
   "cell_type": "markdown",
   "metadata": {
    "hidden": true
   },
   "source": [
    "Estamos perdendo muitas observações positivas que já são raras neste dataset. Vamos eliminar os outliers somente das observações negativas ('isFraud'=0)"
   ]
  },
  {
   "cell_type": "markdown",
   "metadata": {},
   "source": [
    "###  Sem Classe Positiva"
   ]
  },
  {
   "cell_type": "code",
   "execution_count": null,
   "metadata": {
    "ExecuteTime": {
     "end_time": "2020-11-08T22:53:49.644359Z",
     "start_time": "2020-11-08T22:53:49.433570Z"
    },
    "execution": {
     "iopub.execute_input": "2020-11-01T14:44:45.220330Z",
     "iopub.status.busy": "2020-11-01T14:44:45.220161Z",
     "iopub.status.idle": "2020-11-01T14:44:45.427901Z",
     "shell.execute_reply": "2020-11-01T14:44:45.427292Z",
     "shell.execute_reply.started": "2020-11-01T14:44:45.220308Z"
    }
   },
   "outputs": [],
   "source": [
    "# Separando as observações com classe positiva\n",
    "train_pos = train.loc[train['isFraud']==1,]\n",
    "train_neg = train.loc[train['isFraud']==0,]"
   ]
  },
  {
   "cell_type": "code",
   "execution_count": null,
   "metadata": {
    "ExecuteTime": {
     "end_time": "2020-11-08T22:53:56.766736Z",
     "start_time": "2020-11-08T22:53:53.271218Z"
    },
    "execution": {
     "iopub.execute_input": "2020-11-01T14:44:45.428851Z",
     "iopub.status.busy": "2020-11-01T14:44:45.428723Z",
     "iopub.status.idle": "2020-11-01T14:44:48.833186Z",
     "shell.execute_reply": "2020-11-01T14:44:48.832327Z",
     "shell.execute_reply.started": "2020-11-01T14:44:45.428835Z"
    }
   },
   "outputs": [],
   "source": [
    "# Investigando Outliers\n",
    "explorer = mtb.EDA(train_neg)\n",
    "explorer.multi_boxplots(['amount', 'step','oldbalanceOrg','newbalanceOrig','oldbalanceDest','newbalanceDest'])"
   ]
  },
  {
   "cell_type": "code",
   "execution_count": null,
   "metadata": {
    "ExecuteTime": {
     "end_time": "2020-11-08T22:54:03.143646Z",
     "start_time": "2020-11-08T22:54:00.476610Z"
    },
    "execution": {
     "iopub.execute_input": "2020-11-01T14:44:48.834027Z",
     "iopub.status.busy": "2020-11-01T14:44:48.833852Z",
     "iopub.status.idle": "2020-11-01T14:44:50.220971Z",
     "shell.execute_reply": "2020-11-01T14:44:50.220457Z",
     "shell.execute_reply.started": "2020-11-01T14:44:48.834005Z"
    }
   },
   "outputs": [],
   "source": [
    "# Eliminando os Outliers - Pandas\n",
    "\n",
    "# Passada 1\n",
    "for var in ['amount', 'step', 'oldbalanceOrg', 'newbalanceOrig', 'oldbalanceDest', 'newbalanceDest']:\n",
    "    treino = drop_outliers(var, train_neg)\n",
    "\n",
    "# Passada 2\n",
    "for var in ['amount', 'step', 'oldbalanceOrg', 'newbalanceOrig', 'oldbalanceDest', 'newbalanceDest']:\n",
    "    treino1 = drop_outliers(var, treino)\n",
    "\n",
    "treino1.shape"
   ]
  },
  {
   "cell_type": "code",
   "execution_count": null,
   "metadata": {
    "ExecuteTime": {
     "end_time": "2020-11-08T22:54:08.448779Z",
     "start_time": "2020-11-08T22:54:07.433982Z"
    }
   },
   "outputs": [],
   "source": [
    "# Eliminando os Outliers - Vaex\n",
    "\n",
    "# Separando as observações com classe positiva\n",
    "train_pos_vaex = train_vaex[train_vaex['isFraud']==1]\n",
    "train_neg_vaex = train_vaex[train_vaex['isFraud']==0]\n",
    "\n",
    "# Passada 1\n",
    "for var in ['amount', 'step', 'oldbalanceOrg', 'newbalanceOrig', 'oldbalanceDest', 'newbalanceDest']:\n",
    "    treino_vaex = drop_outliers_vaex(var, train_neg_vaex)\n",
    "\n",
    "# Passada 2 \n",
    "for var in ['amount', 'step', 'oldbalanceOrg', 'newbalanceOrig', 'oldbalanceDest', 'newbalanceDest']:  \n",
    "    treino_vaex1 = drop_outliers_vaex(var, treino_vaex)\n",
    "\n",
    "treino_vaex1.shape"
   ]
  },
  {
   "cell_type": "code",
   "execution_count": null,
   "metadata": {
    "ExecuteTime": {
     "end_time": "2020-11-08T22:54:25.080723Z",
     "start_time": "2020-11-08T22:54:22.689146Z"
    },
    "execution": {
     "iopub.execute_input": "2020-11-01T14:44:50.221687Z",
     "iopub.status.busy": "2020-11-01T14:44:50.221572Z",
     "iopub.status.idle": "2020-11-01T14:44:53.077101Z",
     "shell.execute_reply": "2020-11-01T14:44:53.076517Z",
     "shell.execute_reply.started": "2020-11-01T14:44:50.221671Z"
    }
   },
   "outputs": [],
   "source": [
    "explorer1 = mtb.EDA(treino1)\n",
    "explorer1.multi_boxplots(['amount', 'step','oldbalanceOrg','newbalanceOrig','oldbalanceDest','newbalanceDest'])"
   ]
  },
  {
   "cell_type": "code",
   "execution_count": null,
   "metadata": {
    "ExecuteTime": {
     "end_time": "2020-11-08T22:54:57.523730Z",
     "start_time": "2020-11-08T22:54:57.049591Z"
    },
    "execution": {
     "iopub.execute_input": "2020-11-01T14:44:53.077791Z",
     "iopub.status.busy": "2020-11-01T14:44:53.077675Z",
     "iopub.status.idle": "2020-11-01T14:44:53.377160Z",
     "shell.execute_reply": "2020-11-01T14:44:53.376499Z",
     "shell.execute_reply.started": "2020-11-01T14:44:53.077775Z"
    }
   },
   "outputs": [],
   "source": [
    "# Unindo classe negativa e positiva - Vaex\n",
    "dataset = vaex.concat([train_pos_vaex, treino_vaex1])\n",
    "\n",
    "# Unindo classe negativa e positiva - Pandas\n",
    "dataset_pd = pd.concat([train_pos, treino1], axis=0)"
   ]
  },
  {
   "cell_type": "markdown",
   "metadata": {},
   "source": [
    "# Feature Engineering"
   ]
  },
  {
   "cell_type": "markdown",
   "metadata": {},
   "source": [
    "- Criar a variável type_dest a partir da primeira letra da variável nameDest. C representa 'Customer' e M representa 'Merchant'.\n",
    "- Criar a variável erro_transaction, espera-se que 'amount' - (oldbalanceOrg - newbalanceOrig) seja igual a zero talvez erros maiores podem levar o modelo entender o evento de Fraude. \n",
    "- Criar variável por iteração 'amount' / 'step' = 'amount_step', o relacionamento do valor da trasnção por unidade de tempo pode nos ajudar a modelar o evento.\n",
    "- Criar variáveis a partir do WeightOfEvidenceEncoder.\n",
    "  - dest_type:\n",
    "  - type:"
   ]
  },
  {
   "cell_type": "code",
   "execution_count": null,
   "metadata": {
    "ExecuteTime": {
     "end_time": "2020-11-08T22:56:51.612191Z",
     "start_time": "2020-11-08T22:56:51.575835Z"
    }
   },
   "outputs": [],
   "source": [
    "pd.set_option('MAX_COLUMNS',None)\n",
    "dataset_pd"
   ]
  },
  {
   "cell_type": "code",
   "execution_count": null,
   "metadata": {
    "ExecuteTime": {
     "end_time": "2020-11-08T22:56:02.835684Z",
     "start_time": "2020-11-08T22:55:40.492129Z"
    },
    "execution": {
     "iopub.execute_input": "2020-11-01T14:44:53.501992Z",
     "iopub.status.busy": "2020-11-01T14:44:53.501744Z",
     "iopub.status.idle": "2020-11-01T14:45:08.197084Z",
     "shell.execute_reply": "2020-11-01T14:45:08.196633Z",
     "shell.execute_reply.started": "2020-11-01T14:44:53.501959Z"
    },
    "hide_input": false
   },
   "outputs": [],
   "source": [
    "# dest_type; 1 - Merchant e 0-Customer e Dropping 'nameOrig', 'nameDest'\n",
    "dataset_pd['dest_type'] = dataset_pd['nameDest'].apply(lambda x: 1 if x[0] == 'M' else 0)\n",
    "\n",
    "# error_transaction\n",
    "dataset_pd['error_transaction'] = dataset_pd['amount'] - (dataset_pd['oldbalanceOrg'] - dataset_pd['newbalanceOrig'])\n",
    "\n",
    "# amount/step\n",
    "dataset_pd['amount_step'] = dataset_pd['amount']/dataset_pd['step']\n",
    "\n",
    "# GroupBy('amount') over Type\n",
    "group = dataset_pd.groupby('type').agg({'amount':['mean','std']})\n",
    "dataset_pd = dataset_pd.merge(group, left_on='type', right_on='type')\n",
    "dataset_pd.rename({\"(amount, mean)\":\"amount_mean\",\n",
    "                                                                              \"(amount, std)\":\"amount_std\"})\n",
    "\n",
    "# GroupBy('oldbalanceOrg') over Type\n",
    "group1 = dataset_pd.groupby('type').agg({'oldbalanceOrg':['mean','std']})\n",
    "dataset_pd = dataset_pd.merge(group1, left_on='type', right_on='type')\n",
    "\n",
    "# GroupBy('newbalanceOrig') over Type\n",
    "group2 = dataset_pd.groupby('type').agg({'newbalanceOrig':['mean','std']})\n",
    "dataset_pd = dataset_pd.merge(group2, left_on='type', right_on='type')\n",
    "\n",
    "# GroupBy('oldbalanceDest') over Type\n",
    "group3 = dataset_pd.groupby('type').agg({'oldbalanceDest':['mean','std']})\n",
    "dataset_pd = dataset_pd.merge(group3, left_on='type', right_on='type')\n",
    "\n",
    "# GroupBy('newbalanceDest') over Type\n",
    "group4 = dataset_pd.groupby('type').agg({'newbalanceDest':['mean','std']})\n",
    "dataset_pd = dataset_pd.merge(group4, left_on='type', right_on='type')\n",
    "\n",
    "# Binning 'amount'\n",
    "dataset_pd['amount_bin_log'] = np.floor(np.log10(dataset_pd['amount']))\n",
    "dataset_pd['amount_bin_log'] = dataset_pd['amount_bin_log'].apply(lambda x: 0 if x == -np.inf else x)\n",
    "dataset_pd['amount_kbins_kmeans'] = KBinsDiscretizer(n_bins=5, encode='ordinal', strategy='kmeans').fit_transform(np.array(dataset_pd['amount']).reshape(-1,1))\n",
    "\n",
    "# Binning 'step'\n",
    "dataset_pd['step_bin_log'] = np.floor(np.log10(dataset_pd['step']))\n",
    "dataset_pd['step_bin_log'] = dataset_pd['step_bin_log'].apply(lambda x: 0 if x == -np.inf else x)\n",
    "dataset_pd['step_kbins_kmeans'] = KBinsDiscretizer(n_bins=5, encode='ordinal', strategy='kmeans').fit_transform(np.array(dataset_pd['step']).reshape(-1,1))\n",
    "\n",
    "# Binning 'oldbalanceOrg'\n",
    "dataset_pd['oldbalanceOrg_bin_log'] = np.floor(np.log10(dataset_pd['oldbalanceOrg']))\n",
    "dataset_pd['oldbalanceOrg_bin_log'] = dataset_pd['oldbalanceOrg_bin_log'].apply(lambda x: 0 if x == -np.inf else x)\n",
    "dataset_pd['oldbalanceOrg_kbins_kmeans'] = KBinsDiscretizer(n_bins=5, encode='ordinal', strategy='kmeans').fit_transform(np.array(dataset_pd['oldbalanceOrg']).reshape(-1,1))\n",
    "\n",
    "# Binning 'newbalanceOrig'\n",
    "dataset_pd['newbalanceOrig_bin_log'] = np.floor(np.log10(dataset_pd['newbalanceOrig']))\n",
    "dataset_pd['newbalanceOrig_bin_log'] = dataset_pd['newbalanceOrig_bin_log'].apply(lambda x: 0 if x == -np.inf else x)\n",
    "dataset_pd['newbalanceOrig_kbins_kmeans'] = KBinsDiscretizer(n_bins=5, encode='ordinal', strategy='kmeans').fit_transform(np.array(dataset_pd['newbalanceOrig']).reshape(-1,1))\n",
    "\n",
    "# Binning 'oldbalanceDest'\n",
    "dataset_pd['oldbalanceDest_bin_log'] = np.floor(np.log10(dataset_pd['oldbalanceDest']))\n",
    "dataset_pd['oldbalanceDest_bin_log'] = dataset_pd['oldbalanceDest_bin_log'].apply(lambda x: 0 if x == -np.inf else x)\n",
    "dataset_pd['oldbalanceDest_kbins_kmeans'] = KBinsDiscretizer(n_bins=5, encode='ordinal', strategy='kmeans').fit_transform(np.array(dataset_pd['oldbalanceDest']).reshape(-1,1))\n",
    "\n",
    "# Binning 'newbalanceDest'\n",
    "dataset_pd['newbalanceDest_bin_log'] = np.floor(np.log10(dataset_pd['newbalanceDest']))\n",
    "dataset_pd['newbalanceDest_bin_log'] = dataset_pd['newbalanceDest_bin_log'].apply(lambda x: 0 if x == -np.inf else x)\n",
    "dataset_pd['newbalanceDest_kbins_kmeans'] = KBinsDiscretizer(n_bins=5, encode='ordinal', strategy='kmeans').fit_transform(np.array(dataset_pd['newbalanceDest']).reshape(-1,1))\n",
    "\n",
    "# Droping nameOrig e nameDest\n",
    "dataset_pd.drop(['nameOrig','nameDest'], inplace=True, axis=1)\n",
    "\n",
    "\n",
    "# Encoding 'Type'\n",
    "dataset_pd['type'] = dataset_pd['type'].apply(lambda x: 1 if x == 'TRANSFER' else 0)\n",
    "\n",
    "# convertendo para vaex dataframe\n",
    "dataset = vaex.from_pandas(df=dataset_pd)\n",
    "\n",
    "# Woe\n",
    "# dest_type\n",
    "dataset = vaex.ml.WeightOfEvidenceEncoder(target='isFraud', features = ['dest_type']).fit_transform(dataset)\n",
    "\n",
    "# Type\n",
    "dataset = vaex.ml.WeightOfEvidenceEncoder(target='isFraud', features = ['type']).fit_transform(dataset)"
   ]
  },
  {
   "cell_type": "code",
   "execution_count": null,
   "metadata": {
    "ExecuteTime": {
     "end_time": "2020-11-08T22:20:55.284168Z",
     "start_time": "2020-11-08T22:20:54.772893Z"
    }
   },
   "outputs": [],
   "source": [
    "# salvando os dados - CHECKPOINT\n",
    "dataset.export_hdf5('../data/dataset_v1.hdf5')"
   ]
  },
  {
   "cell_type": "markdown",
   "metadata": {},
   "source": [
    "# EDA"
   ]
  },
  {
   "cell_type": "markdown",
   "metadata": {},
   "source": [
    "##  Análise Univariada"
   ]
  },
  {
   "cell_type": "markdown",
   "metadata": {},
   "source": [
    " - A partir da análise dos histogramas podemos notar um alto skew, na fase de pré-processamento será testado algumas soluções.(RobustScaler, possivelmente)\n",
    " - Também podemos notar que as variáveis criadas via Binning com transformação de log possuem um shape mais proxima de uma distribuição Gaussiana.\n",
    " - Também encontramos um padrão interessante, parece haver um acumulo de casos de Fraude em transações de maior montante financeiro.\n",
    " - A partir da análise Multivariada, correlação de pearson (Númericas x Númericas) observamos que oldbalanceOrg e newbalanceOrg são altamente correlacionadas, assim como, oldbalanceDest e newbalanceDest, iremos eliminar uma variável balance de destino e uma de origem. A variável error_trasaction também esta apresentando grande correlação com a variável amount por isso iremos elimana-la também.\n",
    " - Ainda conforme analise Multivariada, correlação de cramer v (Categóricas x Categóricas) observamos que as variáveis 'nameDest', 'step_bin_log', 'oldbalanceOrg_kbins_kmeans', 'newbalanceOrig_bin_log', 'newbalanceDest_kbins_kmeans', 'oldbalanceDest_kbins_kmeans' possuiam alta correlação por essa razão seram eliminadas."
   ]
  },
  {
   "cell_type": "markdown",
   "metadata": {},
   "source": [
    "### Variáveis Numericas."
   ]
  },
  {
   "cell_type": "code",
   "execution_count": null,
   "metadata": {
    "ExecuteTime": {
     "end_time": "2020-11-08T22:11:11.539306Z",
     "start_time": "2020-11-08T22:11:09.477903Z"
    },
    "execution": {
     "iopub.execute_input": "2020-10-30T17:17:08.687666Z",
     "iopub.status.busy": "2020-10-30T17:17:08.687248Z",
     "iopub.status.idle": "2020-10-30T17:17:08.692461Z",
     "shell.execute_reply": "2020-10-30T17:17:08.691408Z",
     "shell.execute_reply.started": "2020-10-30T17:17:08.687619Z"
    }
   },
   "outputs": [],
   "source": [
    "#pip install ../dist/MyToolBox-0.0.1.tar.gz"
   ]
  },
  {
   "cell_type": "code",
   "execution_count": null,
   "metadata": {
    "ExecuteTime": {
     "end_time": "2020-11-08T22:32:13.706947Z",
     "start_time": "2020-11-08T22:32:01.937459Z"
    }
   },
   "outputs": [],
   "source": [
    "variables = ['amount',\n",
    "           'error_transaction',\n",
    "           'amount_step',\n",
    "           'step',\n",
    "           'oldbalanceOrg',\n",
    "           'newbalanceOrig',\n",
    "           'oldbalanceDest',\n",
    "           'newbalanceDest',\n",
    "           'amount_bin_log',\n",
    "           'step_bin_log',\n",
    "           'oldbalanceOrg_bin_log',\n",
    "           'newbalanceOrig_bin_log',\n",
    "           'oldbalanceDest_bin_log',\n",
    "           'newbalanceDest_bin_log',\n",
    "           'amount_kbins_kmeans',\n",
    "           'step_kbins_kmeans',\n",
    "           'oldbalanceOrg_kbins_kmeans',\n",
    "           'newbalanceOrig_kbins_kmeans',\n",
    "           'oldbalanceDest_kbins_kmeans',\n",
    "           'newbalanceDest_kbins_kmeans'\n",
    "           ]\n",
    "\n",
    "n=1\n",
    "plt.figure(figsize=(24, 16))\n",
    "for column in dataset_pd[variables].columns:\n",
    "    plt.subplot(5, 5, n)\n",
    "    _ = sns.distplot(dataset_pd[column])\n",
    "    n += 1\n",
    "    \n",
    "plt.subplots_adjust(hspace=0.3)\n",
    "\n",
    "plt.show()"
   ]
  },
  {
   "cell_type": "code",
   "execution_count": null,
   "metadata": {
    "ExecuteTime": {
     "end_time": "2020-11-08T22:33:50.415988Z",
     "start_time": "2020-11-08T22:33:49.710930Z"
    },
    "execution": {
     "iopub.execute_input": "2020-10-30T17:19:05.256377Z",
     "iopub.status.busy": "2020-10-30T17:19:05.256033Z",
     "iopub.status.idle": "2020-10-30T17:19:06.043225Z",
     "shell.execute_reply": "2020-10-30T17:19:06.042671Z",
     "shell.execute_reply.started": "2020-10-30T17:19:05.256340Z"
    }
   },
   "outputs": [],
   "source": [
    "# objeto temporario\n",
    "all_data = dataset_pd.copy()\n",
    "\n",
    "# amount\n",
    "all_data['amount_bin'] = pd.qcut(all_data['amount'], q=10)\n",
    "\n",
    "# step\n",
    "all_data['step_bin'] = pd.qcut(all_data['step'], q=10)\n",
    "\n",
    "# oldbalanceOrg'\n",
    "all_data['oldbalanceOrg_bin'] = pd.qcut(all_data['oldbalanceOrg'], q=10, duplicates='drop')\n",
    "\n",
    "# newbalanceOrig\n",
    "all_data['newbalanceOrig_bin'] = pd.qcut(all_data['newbalanceOrig'], q=10, duplicates='drop')\n",
    "\n",
    "obj_temp = all_data.loc[all_data['isFraud']==1, ]\n",
    "obj_temp['counter'] = 1"
   ]
  },
  {
   "cell_type": "markdown",
   "metadata": {
    "execution": {
     "iopub.execute_input": "2020-10-25T15:31:59.674965Z",
     "iopub.status.busy": "2020-10-25T15:31:59.674587Z",
     "iopub.status.idle": "2020-10-25T15:31:59.678738Z",
     "shell.execute_reply": "2020-10-25T15:31:59.677878Z",
     "shell.execute_reply.started": "2020-10-25T15:31:59.674924Z"
    }
   },
   "source": [
    "### Faixas de Fraude 'amount_bin'."
   ]
  },
  {
   "cell_type": "code",
   "execution_count": null,
   "metadata": {
    "ExecuteTime": {
     "end_time": "2020-11-08T22:34:18.726105Z",
     "start_time": "2020-11-08T22:34:18.578683Z"
    },
    "execution": {
     "iopub.execute_input": "2020-10-30T17:19:08.124727Z",
     "iopub.status.busy": "2020-10-30T17:19:08.124354Z",
     "iopub.status.idle": "2020-10-30T17:19:08.285150Z",
     "shell.execute_reply": "2020-10-30T17:19:08.284780Z",
     "shell.execute_reply.started": "2020-10-30T17:19:08.124687Z"
    }
   },
   "outputs": [],
   "source": [
    "# Plot 'amount'\n",
    "obj_temp.groupby('amount_bin').count()['counter'].plot(kind='bar')"
   ]
  },
  {
   "cell_type": "code",
   "execution_count": null,
   "metadata": {
    "ExecuteTime": {
     "end_time": "2020-11-08T22:35:51.177677Z",
     "start_time": "2020-11-08T22:35:51.159281Z"
    },
    "execution": {
     "iopub.execute_input": "2020-10-30T17:19:08.359220Z",
     "iopub.status.busy": "2020-10-30T17:19:08.358854Z",
     "iopub.status.idle": "2020-10-30T17:19:08.377414Z",
     "shell.execute_reply": "2020-10-30T17:19:08.376916Z",
     "shell.execute_reply.started": "2020-10-30T17:19:08.359181Z"
    }
   },
   "outputs": [],
   "source": [
    "# Tabela com a quantidade de fraudes por faixa 'amount_bin'\n",
    "obj_temp.groupby('amount_bin').count()['counter']"
   ]
  },
  {
   "cell_type": "markdown",
   "metadata": {},
   "source": [
    "### Faixas de Fraude 'step_bin'."
   ]
  },
  {
   "cell_type": "code",
   "execution_count": null,
   "metadata": {
    "ExecuteTime": {
     "end_time": "2020-11-08T22:36:20.374057Z",
     "start_time": "2020-11-08T22:36:20.238032Z"
    },
    "execution": {
     "iopub.execute_input": "2020-10-30T17:19:09.419815Z",
     "iopub.status.busy": "2020-10-30T17:19:09.419433Z",
     "iopub.status.idle": "2020-10-30T17:19:09.558881Z",
     "shell.execute_reply": "2020-10-30T17:19:09.558458Z",
     "shell.execute_reply.started": "2020-10-30T17:19:09.419774Z"
    }
   },
   "outputs": [],
   "source": [
    "# Plot\n",
    "obj_temp.groupby('step_bin').count()['counter'].plot(kind='bar')"
   ]
  },
  {
   "cell_type": "code",
   "execution_count": null,
   "metadata": {
    "ExecuteTime": {
     "end_time": "2020-11-08T22:36:48.769867Z",
     "start_time": "2020-11-08T22:36:48.759570Z"
    },
    "execution": {
     "iopub.execute_input": "2020-10-30T17:19:09.729169Z",
     "iopub.status.busy": "2020-10-30T17:19:09.728735Z",
     "iopub.status.idle": "2020-10-30T17:19:09.743629Z",
     "shell.execute_reply": "2020-10-30T17:19:09.743072Z",
     "shell.execute_reply.started": "2020-10-30T17:19:09.729128Z"
    }
   },
   "outputs": [],
   "source": [
    "# Tabela com a quantidade de fraudes por faixa 'step_bin'\n",
    "obj_temp.groupby('step_bin').count()['counter']"
   ]
  },
  {
   "cell_type": "markdown",
   "metadata": {},
   "source": [
    "### Faixas de Fraude 'oldbalanceOrg_bin'."
   ]
  },
  {
   "cell_type": "code",
   "execution_count": null,
   "metadata": {
    "ExecuteTime": {
     "end_time": "2020-11-08T22:41:32.685726Z",
     "start_time": "2020-11-08T22:41:32.562689Z"
    },
    "execution": {
     "iopub.execute_input": "2020-10-30T17:19:10.526413Z",
     "iopub.status.busy": "2020-10-30T17:19:10.526013Z",
     "iopub.status.idle": "2020-10-30T17:19:10.649784Z",
     "shell.execute_reply": "2020-10-30T17:19:10.649267Z",
     "shell.execute_reply.started": "2020-10-30T17:19:10.526369Z"
    }
   },
   "outputs": [],
   "source": [
    "# Plot\n",
    "obj_temp.groupby('oldbalanceOrg_bin').count()['counter'].plot(kind='bar')"
   ]
  },
  {
   "cell_type": "code",
   "execution_count": null,
   "metadata": {
    "ExecuteTime": {
     "end_time": "2020-11-08T22:42:02.104763Z",
     "start_time": "2020-11-08T22:42:02.095257Z"
    },
    "execution": {
     "iopub.execute_input": "2020-10-30T17:19:10.840712Z",
     "iopub.status.busy": "2020-10-30T17:19:10.840274Z",
     "iopub.status.idle": "2020-10-30T17:19:10.855343Z",
     "shell.execute_reply": "2020-10-30T17:19:10.854600Z",
     "shell.execute_reply.started": "2020-10-30T17:19:10.840663Z"
    }
   },
   "outputs": [],
   "source": [
    "# Tabela com a quantidade de fraudes por faixa 'oldbalanceOrg_bin'\n",
    "obj_temp.groupby('oldbalanceOrg_bin').count()['counter']"
   ]
  },
  {
   "cell_type": "markdown",
   "metadata": {},
   "source": [
    "###  Faixas de Fraude 'newbalanceOrig_bin'."
   ]
  },
  {
   "cell_type": "code",
   "execution_count": null,
   "metadata": {
    "ExecuteTime": {
     "end_time": "2020-11-08T22:43:02.321408Z",
     "start_time": "2020-11-08T22:43:02.206917Z"
    },
    "execution": {
     "iopub.execute_input": "2020-10-30T17:19:11.734149Z",
     "iopub.status.busy": "2020-10-30T17:19:11.733568Z",
     "iopub.status.idle": "2020-10-30T17:19:11.989611Z",
     "shell.execute_reply": "2020-10-30T17:19:11.989046Z",
     "shell.execute_reply.started": "2020-10-30T17:19:11.734065Z"
    }
   },
   "outputs": [],
   "source": [
    "# Tabela com a quantidade de fraudes por faixa 'oldbalanceOrg_bin'\n",
    "obj_temp.groupby('newbalanceOrig_bin').count()['counter'].plot(kind='bar')"
   ]
  },
  {
   "cell_type": "code",
   "execution_count": null,
   "metadata": {
    "ExecuteTime": {
     "end_time": "2020-11-08T22:43:31.073899Z",
     "start_time": "2020-11-08T22:43:31.060241Z"
    },
    "execution": {
     "iopub.execute_input": "2020-10-30T17:19:12.031284Z",
     "iopub.status.busy": "2020-10-30T17:19:12.030882Z",
     "iopub.status.idle": "2020-10-30T17:19:12.048452Z",
     "shell.execute_reply": "2020-10-30T17:19:12.047911Z",
     "shell.execute_reply.started": "2020-10-30T17:19:12.031238Z"
    }
   },
   "outputs": [],
   "source": [
    "# Tabela com a quantidade de fraudes por faixa 'oldbalanceOrg_bin'\n",
    "obj_temp.groupby('newbalanceOrig_bin').count()['counter']"
   ]
  },
  {
   "cell_type": "markdown",
   "metadata": {},
   "source": [
    "## Análise Multivariada"
   ]
  },
  {
   "cell_type": "markdown",
   "metadata": {},
   "source": [
    "###  Variáveis Númericas"
   ]
  },
  {
   "cell_type": "code",
   "execution_count": null,
   "metadata": {
    "ExecuteTime": {
     "end_time": "2020-11-08T22:44:19.928945Z",
     "start_time": "2020-11-08T22:44:19.341022Z"
    },
    "execution": {
     "iopub.execute_input": "2020-10-31T14:43:30.270187Z",
     "iopub.status.busy": "2020-10-31T14:43:30.269845Z",
     "iopub.status.idle": "2020-10-31T14:43:30.896075Z",
     "shell.execute_reply": "2020-10-31T14:43:30.895552Z",
     "shell.execute_reply.started": "2020-10-31T14:43:30.270152Z"
    }
   },
   "outputs": [],
   "source": [
    "# Correlação de Pearson.\n",
    "variaveis = ['amount',\n",
    "             'error_transaction',\n",
    "             'amount_step', \n",
    "             'step',\n",
    "             'oldbalanceOrg',\n",
    "             'newbalanceOrig',\n",
    "             'oldbalanceDest',\n",
    "             'newbalanceDest']\n",
    "\n",
    "Myheat_map(dataset=dataset_pd, variaveis=variaveis)"
   ]
  },
  {
   "cell_type": "markdown",
   "metadata": {},
   "source": [
    "###  Variáveis Númericas - Eliminando as vairáveis com alta correlação"
   ]
  },
  {
   "cell_type": "code",
   "execution_count": null,
   "metadata": {
    "ExecuteTime": {
     "end_time": "2020-11-08T22:45:44.754370Z",
     "start_time": "2020-11-08T22:45:44.441134Z"
    },
    "execution": {
     "iopub.execute_input": "2020-10-30T17:43:31.514139Z",
     "iopub.status.busy": "2020-10-30T17:43:31.513515Z",
     "iopub.status.idle": "2020-10-30T17:43:31.980381Z",
     "shell.execute_reply": "2020-10-30T17:43:31.979818Z",
     "shell.execute_reply.started": "2020-10-30T17:43:31.514090Z"
    }
   },
   "outputs": [],
   "source": [
    "# Correlação de Pearson.\n",
    "variaveis = ['amount','amount_step', 'step','oldbalanceOrg','newbalanceDest']\n",
    "Myheat_map(dataset=dataset_pd, variaveis=variaveis)"
   ]
  },
  {
   "cell_type": "markdown",
   "metadata": {},
   "source": [
    "###  Variáveis Númericas - Target"
   ]
  },
  {
   "cell_type": "code",
   "execution_count": null,
   "metadata": {
    "ExecuteTime": {
     "end_time": "2020-11-08T22:46:12.591783Z",
     "start_time": "2020-11-08T22:46:11.947347Z"
    },
    "execution": {
     "iopub.execute_input": "2020-10-31T14:49:35.294297Z",
     "iopub.status.busy": "2020-10-31T14:49:35.293950Z",
     "iopub.status.idle": "2020-10-31T14:49:35.932734Z",
     "shell.execute_reply": "2020-10-31T14:49:35.932075Z",
     "shell.execute_reply.started": "2020-10-31T14:49:35.294256Z"
    }
   },
   "outputs": [],
   "source": [
    "from scipy.stats import pointbiserialr\n",
    "\n",
    "# Variáveis númericas\n",
    "num_vars =  ['step', 'amount', 'error_transaction', 'oldbalanceOrg', 'newbalanceOrig', 'oldbalanceDest', 'newbalanceDest']\n",
    "\n",
    "# Correlações\n",
    "corrs = [pointbiserialr(dataset_pd['isFraud'], dataset_pd[var])[0] for var in num_vars]\n",
    "df_corr = pd.DataFrame({'isFraud': corrs}, index=num_vars)\n",
    "\n",
    "# Plot Matrix\n",
    "fig, ax = plt.subplots()\n",
    "plt.subplot(1, 2, 1)\n",
    "sns.heatmap(df_corr, annot=True, annot_kws={\"fontsize\":14}, cmap='viridis')\n",
    "plt.title(\"Pointbiserialr\")"
   ]
  },
  {
   "cell_type": "markdown",
   "metadata": {},
   "source": [
    "###  Variáveis Categóricas - Cramers v"
   ]
  },
  {
   "cell_type": "code",
   "execution_count": null,
   "metadata": {
    "ExecuteTime": {
     "end_time": "2020-11-08T22:46:42.371403Z",
     "start_time": "2020-11-08T22:46:40.298168Z"
    },
    "execution": {
     "iopub.execute_input": "2020-10-31T16:35:35.541649Z",
     "iopub.status.busy": "2020-10-31T16:35:35.541248Z",
     "iopub.status.idle": "2020-10-31T16:42:48.132984Z",
     "shell.execute_reply": "2020-10-31T16:42:48.132246Z",
     "shell.execute_reply.started": "2020-10-31T16:35:35.541604Z"
    }
   },
   "outputs": [],
   "source": [
    "# Variáveis Categoricas\n",
    "cols = ['type','amount_bin_log', 'amount_kbins_kmeans', 'step_bin_log','step_kbins_kmeans', 'oldbalanceOrg_bin_log', 'oldbalanceOrg_kbins_kmeans',\n",
    "'newbalanceOrig_bin_log', 'newbalanceOrig_kbins_kmeans', 'oldbalanceDest_bin_log', 'oldbalanceDest_kbins_kmeans', 'newbalanceDest_bin_log', 'newbalanceDest_kbins_kmeans','isFraud']\n",
    "\n",
    "# Sample pois nosso Dataset é muito grande\n",
    "treino_sample = dataset_pd.sample(5000)\n",
    "\n",
    "# alterando o tipo de dados para 'category'\n",
    "for col in cols:\n",
    "    treino_sample[col] = treino_sample[col].astype('category')\n",
    "\n",
    "# Dicionario para registro das correlações\n",
    "dict = {'type': [],\n",
    "        'amount_bin_log': [],\n",
    "        'amount_kbins_kmeans': [],\n",
    "        'step_bin_log': [],\n",
    "        'step_kbins_kmeans': [],\n",
    "        'oldbalanceOrg_bin_log': [],\n",
    "        'oldbalanceOrg_kbins_kmeans': [],\n",
    "        'newbalanceOrig_bin_log': [],\n",
    "        'newbalanceOrig_kbins_kmeans': [],\n",
    "        'oldbalanceDest_bin_log': [],\n",
    "        'oldbalanceDest_kbins_kmeans': [],\n",
    "        'newbalanceDest_bin_log': [],\n",
    "        'newbalanceDest_kbins_kmeans': [],\n",
    "        'isFraud': []}\n",
    "\n",
    "\n",
    "for col in cols:\n",
    "    for col1 in cols:\n",
    "        corr = cramer_v(treino_sample[col], treino_sample[col1])\n",
    "        dict[col].append(corr)"
   ]
  },
  {
   "cell_type": "code",
   "execution_count": null,
   "metadata": {
    "ExecuteTime": {
     "end_time": "2020-11-08T22:47:10.884411Z",
     "start_time": "2020-11-08T22:47:10.880468Z"
    },
    "execution": {
     "iopub.execute_input": "2020-10-31T16:42:48.134012Z",
     "iopub.status.busy": "2020-10-31T16:42:48.133845Z",
     "iopub.status.idle": "2020-10-31T16:42:48.139725Z",
     "shell.execute_reply": "2020-10-31T16:42:48.138952Z",
     "shell.execute_reply.started": "2020-10-31T16:42:48.133988Z"
    }
   },
   "outputs": [],
   "source": [
    "# Matriz de Correlação\n",
    "df_cramer = pd.DataFrame(dict)\n",
    "df_cramer = df_cramer.set_index(df_cramer.columns)"
   ]
  },
  {
   "cell_type": "code",
   "execution_count": null,
   "metadata": {
    "ExecuteTime": {
     "end_time": "2020-11-08T22:47:39.505291Z",
     "start_time": "2020-11-08T22:47:38.893977Z"
    },
    "execution": {
     "iopub.execute_input": "2020-10-31T16:42:48.141266Z",
     "iopub.status.busy": "2020-10-31T16:42:48.141078Z",
     "iopub.status.idle": "2020-10-31T16:42:48.938778Z",
     "shell.execute_reply": "2020-10-31T16:42:48.938253Z",
     "shell.execute_reply.started": "2020-10-31T16:42:48.141242Z"
    }
   },
   "outputs": [],
   "source": [
    "# HeatMap\n",
    "\n",
    "fig, ax = plt.subplots()\n",
    "ax.figure.set_size_inches(16, 6)\n",
    "\n",
    "mask = np.triu(np.ones_like(df_cramer, dtype=np.bool))\n",
    "sns.heatmap(df_cramer, mask=mask, linewidths=.5, annot=True, annot_kws={\"fontsize\":14}, cmap='viridis')\n",
    "plt.title(\"Cramér V\")"
   ]
  },
  {
   "cell_type": "markdown",
   "metadata": {},
   "source": [
    "###  Variáveis Categóricas - Cramers v"
   ]
  },
  {
   "cell_type": "code",
   "execution_count": null,
   "metadata": {
    "ExecuteTime": {
     "end_time": "2020-11-08T22:48:09.311104Z",
     "start_time": "2020-11-08T22:48:07.986168Z"
    },
    "execution": {
     "iopub.execute_input": "2020-10-30T17:44:28.039412Z",
     "iopub.status.busy": "2020-10-30T17:44:28.038836Z",
     "iopub.status.idle": "2020-10-30T17:44:30.356836Z",
     "shell.execute_reply": "2020-10-30T17:44:30.356188Z",
     "shell.execute_reply.started": "2020-10-30T17:44:28.039368Z"
    }
   },
   "outputs": [],
   "source": [
    "# Variáveis Categoricas, eliminando 'nameDest', 'step_bin_log', 'oldbalanceOrg_kbins_kmeans', 'newbalanceOrig_bin_log', 'newbalanceDest_kbins_kmeans', 'oldbalanceDest_kbins_kmeans'\n",
    "cols = ['type','amount_bin_log', 'amount_kbins_kmeans','step_kbins_kmeans', 'oldbalanceOrg_bin_log', 'newbalanceOrig_kbins_kmeans', 'oldbalanceDest_bin_log', 'newbalanceDest_bin_log','isFraud']\n",
    "\n",
    "# Sample pois nosso Dataset é muito grande\n",
    "treino_sample = dataset_pd.sample(5000)\n",
    "\n",
    "# alterando o tipo de dados para 'category'\n",
    "for col in cols:\n",
    "    treino_sample[col] = treino_sample[col].astype('category')\n",
    "\n",
    "# Dicionario para registro das correlações\n",
    "dict1 = {'type': [],\n",
    "        'amount_bin_log': [],\n",
    "        'amount_kbins_kmeans': [],\n",
    "        'step_kbins_kmeans': [],\n",
    "        'oldbalanceOrg_bin_log': [],\n",
    "        'newbalanceOrig_kbins_kmeans': [],\n",
    "        'oldbalanceDest_bin_log': [],\n",
    "        'newbalanceDest_bin_log': [],\n",
    "        'isFraud': []}\n",
    "\n",
    "\n",
    "for col in cols:\n",
    "    for col1 in cols:\n",
    "        corr = cramer_v(treino_sample[col], treino_sample[col1])\n",
    "        dict1[col].append(corr)\n",
    "\n",
    "# Matriz de Correlação\n",
    "df_cramer1 = pd.DataFrame(dict1)\n",
    "df_cramer1 = df_cramer1.set_index(df_cramer1.columns)\n",
    "\n",
    "# HeatMap\n",
    "\n",
    "fig, ax = plt.subplots()\n",
    "ax.figure.set_size_inches(16, 6)\n",
    "\n",
    "mask = np.triu(np.ones_like(df_cramer1, dtype=np.bool))\n",
    "sns.heatmap(df_cramer1, mask=mask, linewidths=.5, annot=True, annot_kws={\"fontsize\":14}, cmap='viridis')\n",
    "plt.title(\"Cramér V\")"
   ]
  },
  {
   "cell_type": "markdown",
   "metadata": {
    "heading_collapsed": true
   },
   "source": [
    "## Teste de Hiposteses"
   ]
  },
  {
   "cell_type": "code",
   "execution_count": null,
   "metadata": {
    "ExecuteTime": {
     "end_time": "2020-11-08T22:10:25.285208Z",
     "start_time": "2020-11-08T22:10:25.217754Z"
    },
    "execution": {
     "iopub.execute_input": "2020-10-30T17:57:17.727432Z",
     "iopub.status.busy": "2020-10-30T17:57:17.726832Z",
     "iopub.status.idle": "2020-10-30T17:57:17.737156Z",
     "shell.execute_reply": "2020-10-30T17:57:17.736426Z",
     "shell.execute_reply.started": "2020-10-30T17:57:17.727364Z"
    },
    "hidden": true
   },
   "outputs": [],
   "source": [
    "from PIL import Image\n",
    "Image.open(\"../img/map_mental.jpg\")"
   ]
  },
  {
   "cell_type": "markdown",
   "metadata": {
    "hidden": true
   },
   "source": [
    "Lista de Hipóteses!\n",
    "\n",
    "1. O montante fraudado é maior para o 'type' transfer!\n",
    "2. O percentual de error_transaction é maior que 50%!\n",
    "3. O montante fraudado é maior com o 'dest_type' Customers que Merchant!\n",
    "4. O oldbalanceOrig é sempre diferente de 0, já que se deve ter saldo para realizar uma transação!\n",
    "5. A quantidade de transações fraudulentas é maior para o tipo de Origem 'Customer'!\n",
    "6. A conta de uma transação fraudulenta 'TRANSFER' bate com a conta Origem de um CASH-OUT!\n",
    "7. A quantidade de transações fraudulentas é maior na modalidade 'TRANSFER'!"
   ]
  },
  {
   "cell_type": "markdown",
   "metadata": {
    "hidden": true
   },
   "source": [
    "###  H1 O montante fraudado é maior para o 'type' TRANSFER! [TRUE]"
   ]
  },
  {
   "cell_type": "code",
   "execution_count": null,
   "metadata": {
    "ExecuteTime": {
     "end_time": "2020-11-08T21:51:21.871314Z",
     "start_time": "2020-11-08T21:51:21.861344Z"
    },
    "execution": {
     "iopub.execute_input": "2020-10-30T17:57:21.081709Z",
     "iopub.status.busy": "2020-10-30T17:57:21.080757Z",
     "iopub.status.idle": "2020-10-30T17:57:21.636470Z",
     "shell.execute_reply": "2020-10-30T17:57:21.633931Z",
     "shell.execute_reply.started": "2020-10-30T17:57:21.081657Z"
    },
    "hidden": true
   },
   "outputs": [],
   "source": [
    "dados_temp = dataset_pd.loc[dataset_pd['isFraud']==1, ]\n",
    "\n",
    "AMOUNT_TRANSFER = dados_temp.loc[dados_temp['type']== 1, 'amount'].sum()\n",
    "AMOUNT_CASH_OUT = dados_temp.loc[dados_temp['type']== 0, 'amount'].sum()\n",
    "\n",
    "print(f'\\n Montante de observações TRANSFER: {AMOUNT_TRANSFER}')\n",
    "print(f'Montante de observações CASH_OUT: {AMOUNT_CASH_OUT}\\n')"
   ]
  },
  {
   "cell_type": "markdown",
   "metadata": {
    "hidden": true
   },
   "source": [
    "###  H2 O percentual de error_transaction é maior que 50%[TRUE]!"
   ]
  },
  {
   "cell_type": "code",
   "execution_count": null,
   "metadata": {
    "ExecuteTime": {
     "end_time": "2020-11-08T21:51:50.315256Z",
     "start_time": "2020-11-08T21:51:50.139478Z"
    },
    "execution": {
     "iopub.execute_input": "2020-10-30T17:57:23.720600Z",
     "iopub.status.busy": "2020-10-30T17:57:23.719649Z",
     "iopub.status.idle": "2020-10-30T17:57:24.023612Z",
     "shell.execute_reply": "2020-10-30T17:57:24.022276Z",
     "shell.execute_reply.started": "2020-10-30T17:57:23.720535Z"
    },
    "hidden": true
   },
   "outputs": [],
   "source": [
    "# Erro\n",
    "erro_acima_0 = dataset_pd.loc[dataset_pd['error_transaction'] != 0, ]\n",
    "\n",
    "#Percentual do erro sobre dataset\n",
    "perc_error = round(erro_acima_0.shape[0]/treino.shape[0]*100, 2)\n",
    "print(f'O percentual de transações com erro são de {perc_error}')"
   ]
  },
  {
   "cell_type": "markdown",
   "metadata": {
    "hidden": true
   },
   "source": [
    "###  H3 O montante fraudado é maior com o 'dest_type' Customers que Merchant![TRUE]"
   ]
  },
  {
   "cell_type": "code",
   "execution_count": null,
   "metadata": {
    "ExecuteTime": {
     "end_time": "2020-11-08T21:53:25.192457Z",
     "start_time": "2020-11-08T21:53:25.175833Z"
    },
    "execution": {
     "iopub.execute_input": "2020-10-30T17:58:12.506110Z",
     "iopub.status.busy": "2020-10-30T17:58:12.505622Z",
     "iopub.status.idle": "2020-10-30T17:58:12.520291Z",
     "shell.execute_reply": "2020-10-30T17:58:12.519755Z",
     "shell.execute_reply.started": "2020-10-30T17:58:12.506068Z"
    },
    "hidden": true
   },
   "outputs": [],
   "source": [
    "dados_temp1 = dataset_pd.loc[dataset_pd['isFraud'] == 1, ['amount','dest_type']]\n",
    "\n",
    "# Montantes\n",
    "AMOUNT_CUSTOMER = round(dados_temp1.loc[dados_temp1['dest_type']==0, 'amount'].sum(),2)\n",
    "AMOUNT_MERCHANT = round(dados_temp1.loc[dados_temp1['dest_type']==1, 'amount'].sum(),2)\n",
    "\n",
    "# Report\n",
    "print(f'Quantidade de observações Customers: {AMOUNT_CUSTOMER}')\n",
    "print(f'Quantidade de observações Merchant: {AMOUNT_MERCHANT}\\n')"
   ]
  },
  {
   "cell_type": "markdown",
   "metadata": {
    "hidden": true
   },
   "source": [
    "### H4 O oldbalanceOrig é sempre diferente de 0, já que se deve ter saldo para realizar uma transação![FALSE]"
   ]
  },
  {
   "cell_type": "code",
   "execution_count": null,
   "metadata": {
    "ExecuteTime": {
     "end_time": "2020-11-08T21:55:08.612485Z",
     "start_time": "2020-11-08T21:55:08.488947Z"
    },
    "execution": {
     "iopub.execute_input": "2020-10-30T17:58:42.046840Z",
     "iopub.status.busy": "2020-10-30T17:58:42.046416Z",
     "iopub.status.idle": "2020-10-30T17:58:44.398157Z",
     "shell.execute_reply": "2020-10-30T17:58:44.396766Z",
     "shell.execute_reply.started": "2020-10-30T17:58:42.046797Z"
    },
    "hidden": true
   },
   "outputs": [],
   "source": [
    "# Percentual de operações amount != de zero oldBalanceOrig e newBalanceOrig são iguais a 0\n",
    "\n",
    "quant_orig = dataset_pd.loc[(dataset_pd['amount'] != 0) & (dataset_pd['oldbalanceOrg'] == 0) & (dataset_pd['newbalanceOrig'] == 0), ]\n",
    "\n",
    "perc_quant_orig = round(quant_orig.shape[0]/dataset_pd.shape[0], 2)*100\n",
    "print(f'O percentual de casos onde o amount é diferente de 0 com oldbalanceDest e newbalanceDest iguais {perc_quant_orig}%')"
   ]
  },
  {
   "cell_type": "markdown",
   "metadata": {
    "hidden": true
   },
   "source": [
    "###  H5 A quantidade de transações fraudulentas é maior para o tipo de Origem 'Customer'![TRUE]"
   ]
  },
  {
   "cell_type": "code",
   "execution_count": null,
   "metadata": {
    "ExecuteTime": {
     "end_time": "2020-11-08T21:55:47.807691Z",
     "start_time": "2020-11-08T21:55:46.750997Z"
    },
    "execution": {
     "iopub.execute_input": "2020-10-30T17:59:32.160931Z",
     "iopub.status.busy": "2020-10-30T17:59:32.159909Z",
     "iopub.status.idle": "2020-10-30T17:59:33.466874Z",
     "shell.execute_reply": "2020-10-30T17:59:33.466311Z",
     "shell.execute_reply.started": "2020-10-30T17:59:32.160889Z"
    },
    "hidden": true
   },
   "outputs": [],
   "source": [
    "# cheando o tipo origem.\n",
    "treino['nameOrig'].str[0].unique()"
   ]
  },
  {
   "cell_type": "markdown",
   "metadata": {
    "hidden": true
   },
   "source": [
    "Obs: O tipo de origen 'Customer' é unico tipo de origem neste dataset!"
   ]
  },
  {
   "cell_type": "code",
   "execution_count": null,
   "metadata": {
    "ExecuteTime": {
     "end_time": "2020-11-08T21:59:33.558324Z",
     "start_time": "2020-11-08T21:59:33.547773Z"
    },
    "execution": {
     "iopub.execute_input": "2020-10-30T17:59:43.813110Z",
     "iopub.status.busy": "2020-10-30T17:59:43.811781Z",
     "iopub.status.idle": "2020-10-30T17:59:43.823058Z",
     "shell.execute_reply": "2020-10-30T17:59:43.822325Z",
     "shell.execute_reply.started": "2020-10-30T17:59:43.813035Z"
    },
    "hidden": true
   },
   "outputs": [],
   "source": [
    "# Montantes\n",
    "QUANT_CUSTOMER = dados_temp1.loc[dados_temp1['dest_type']==0, 'amount'].shape[0]\n",
    "QUANT_MERCHANT = dados_temp1.loc[dados_temp1['dest_type']==1, 'amount'].shape[0]\n",
    "\n",
    "# Report\n",
    "print(f'Quantidade de observações Customers: {QUANT_CUSTOMER}')\n",
    "print(f'Quantidade de observações Merchant: {QUANT_MERCHANT}\\n')"
   ]
  },
  {
   "cell_type": "markdown",
   "metadata": {
    "hidden": true
   },
   "source": [
    "### H6 A conta de uma transação fraudulenta 'TRANSFER' bate com a conta Origem de um CASH-OUT![FALSE]"
   ]
  },
  {
   "cell_type": "code",
   "execution_count": null,
   "metadata": {
    "ExecuteTime": {
     "end_time": "2020-11-08T22:04:02.709646Z",
     "start_time": "2020-11-08T22:04:02.494839Z"
    },
    "execution": {
     "iopub.execute_input": "2020-10-30T17:59:45.086691Z",
     "iopub.status.busy": "2020-10-30T17:59:45.086254Z",
     "iopub.status.idle": "2020-10-30T17:59:45.352743Z",
     "shell.execute_reply": "2020-10-30T17:59:45.351424Z",
     "shell.execute_reply.started": "2020-10-30T17:59:45.086648Z"
    },
    "hidden": true
   },
   "outputs": [],
   "source": [
    "CONTA_ORIG = treino1.loc[(treino1['isFraud']==1) & (treino1['type']=='TRANSFER'), 'nameDest']\n",
    "CONTA_DEST = treino1.loc[(treino1['isFraud']==1) & (treino1['type']=='CASH_OUT'), 'nameOrig']\n",
    "\n",
    "resultado = set(CONTA_ORIG).intersection(set(CONTA_DEST))\n",
    "print(f'Contas encontradas:{len(resultado)}')"
   ]
  },
  {
   "cell_type": "markdown",
   "metadata": {
    "hidden": true
   },
   "source": [
    "Nosso dataset não segue um padrão de fraude comum. de uma operação de 'TRANSFER' para uma conta fria seguida de um 'CASH_OUT'."
   ]
  },
  {
   "cell_type": "markdown",
   "metadata": {
    "hidden": true
   },
   "source": [
    "###  H7 A quantidade de transações fraudulentas é maior na modalidade 'TRANSFER'!"
   ]
  },
  {
   "cell_type": "code",
   "execution_count": null,
   "metadata": {
    "ExecuteTime": {
     "end_time": "2020-11-08T22:05:18.541781Z",
     "start_time": "2020-11-08T22:05:18.525929Z"
    },
    "execution": {
     "iopub.execute_input": "2020-10-30T17:59:46.986254Z",
     "iopub.status.busy": "2020-10-30T17:59:46.985770Z",
     "iopub.status.idle": "2020-10-30T17:59:49.174759Z",
     "shell.execute_reply": "2020-10-30T17:59:49.173976Z",
     "shell.execute_reply.started": "2020-10-30T17:59:46.986213Z"
    },
    "hidden": true
   },
   "outputs": [],
   "source": [
    "# Montantes\n",
    "QUANT_TRANSFER = dataset_pd.loc[(dataset_pd['isFraud']==1) & (dataset_pd['type']==1), 'amount'].shape[0]\n",
    "QUANT_MERCHANT = dataset_pd.loc[(dataset_pd['isFraud']==1) & (dataset_pd['type']==0), 'amount'].shape[0]\n",
    "\n",
    "# Report\n",
    "print(f'Quantidade de observações Customers: {QUANT_CUSTOMER}')\n",
    "print(f'Quantidade de observações Merchant: {QUANT_MERCHANT}\\n')"
   ]
  },
  {
   "cell_type": "markdown",
   "metadata": {
    "heading_collapsed": true
   },
   "source": [
    "#  Feature Selection"
   ]
  },
  {
   "cell_type": "code",
   "execution_count": null,
   "metadata": {
    "execution": {
     "iopub.execute_input": "2020-10-30T18:46:21.140791Z",
     "iopub.status.busy": "2020-10-30T18:46:21.140398Z",
     "iopub.status.idle": "2020-10-30T18:46:21.258948Z",
     "shell.execute_reply": "2020-10-30T18:46:21.258072Z",
     "shell.execute_reply.started": "2020-10-30T18:46:21.140746Z"
    },
    "hidden": true
   },
   "outputs": [],
   "source": [
    "treino[variaveis].head()"
   ]
  },
  {
   "cell_type": "code",
   "execution_count": null,
   "metadata": {
    "execution": {
     "iopub.execute_input": "2020-10-31T17:14:41.330726Z",
     "iopub.status.busy": "2020-10-31T17:14:41.330331Z",
     "iopub.status.idle": "2020-10-31T17:48:21.513225Z",
     "shell.execute_reply": "2020-10-31T17:48:21.512637Z",
     "shell.execute_reply.started": "2020-10-31T17:14:41.330682Z"
    },
    "hidden": true
   },
   "outputs": [],
   "source": [
    "from BorutaShap import BorutaShap\n",
    "from xgboost import XGBClassifier\n",
    "from sklearn.preprocessing import RobustScaler \n",
    "\n",
    "# Variaveis que não foram elimiandas durante anlise multivariada\n",
    "variaveis = [\n",
    "             'amount',\n",
    "             'amount_step',\n",
    "             'step',\n",
    "             'oldbalanceOrg',\n",
    "             'newbalanceDest',\n",
    "             'type',\n",
    "             'dest_type',\n",
    "             'amount_bin_log',\n",
    "             'amount_kbins_kmeans',\n",
    "             'step_kbins_kmeans',\n",
    "             'oldbalanceOrg_bin_log',\n",
    "             'newbalanceOrig_kbins_kmeans',\n",
    "             'oldbalanceDest_bin_log',\n",
    "             'newbalanceDest_bin_log',\n",
    "             'isFraud'\n",
    "             ]\n",
    "\n",
    "# Scaler\n",
    "scaler = RobustScaler()\n",
    "\n",
    "\n",
    "# Data\n",
    "y = treino['isFraud']\n",
    "X = treino[variaveis].drop('isFraud', axis=1)\n",
    "X['type'] = X['type'].apply(lambda x: 1 if x == 'TRANSFER' else 0)\n",
    "X['amount_step'] = scaler.fit_transform(np.array(X['amount_step']).reshape(-1,1))\n",
    "X['oldbalanceOrg'] = scaler.fit_transform(np.array(X['oldbalanceOrg']).reshape(-1,1))\n",
    "X['step'] = scaler.fit_transform(np.array(X['step']).reshape(-1,1))\n",
    "X['newbalanceDest'] = scaler.fit_transform(np.array(X['newbalanceDest']).reshape(-1,1))\n",
    "X['amount'] = scaler.fit_transform(np.array(X['amount']).reshape(-1,1))\n",
    "\n",
    "# Xgboost\n",
    "model = XGBClassifier()\n",
    "\n",
    "# Selecionador de Features\n",
    "Feature_Selector = BorutaShap(model=model,\n",
    "                              importance_measure='shap',\n",
    "                              classification=False, )\n",
    "\n",
    "Feature_Selector.fit(X=X,y=y, n_trials=10, random_state=0)"
   ]
  },
  {
   "cell_type": "code",
   "execution_count": null,
   "metadata": {
    "execution": {
     "iopub.execute_input": "2020-10-31T17:54:38.700567Z",
     "iopub.status.busy": "2020-10-31T17:54:38.700307Z",
     "iopub.status.idle": "2020-10-31T17:54:38.828333Z",
     "shell.execute_reply": "2020-10-31T17:54:38.827699Z",
     "shell.execute_reply.started": "2020-10-31T17:54:38.700539Z"
    },
    "hidden": true
   },
   "outputs": [],
   "source": [
    "subset = Feature_Selector.Subset()\n",
    "subset.head()"
   ]
  },
  {
   "cell_type": "markdown",
   "metadata": {
    "heading_collapsed": true,
    "toc-hr-collapsed": true,
    "toc-nb-collapsed": true
   },
   "source": [
    "# Data Preparation - Pipelines"
   ]
  },
  {
   "cell_type": "markdown",
   "metadata": {
    "hidden": true
   },
   "source": [
    "- Pipeline 1 - RobustScaler() nas variáveis numericas sem considerar feature selection.\n",
    "- Pipeline 2 - Somente com as variáveis criadas utilizando a transformações log e discretirzação(_kmeans) (_log , _kmeans).\n",
    "- Pipeline 3 - Somente com as variáveis selecionadas no processo de Feature Selection."
   ]
  },
  {
   "cell_type": "markdown",
   "metadata": {
    "heading_collapsed": true,
    "hidden": true
   },
   "source": [
    "## Transformers"
   ]
  },
  {
   "cell_type": "code",
   "execution_count": null,
   "metadata": {
    "ExecuteTime": {
     "end_time": "2020-11-01T18:09:08.949238Z",
     "start_time": "2020-11-01T18:09:08.926739Z"
    },
    "execution": {
     "iopub.execute_input": "2020-11-01T14:45:46.428471Z",
     "iopub.status.busy": "2020-11-01T14:45:46.428079Z",
     "iopub.status.idle": "2020-11-01T14:45:46.454621Z",
     "shell.execute_reply": "2020-11-01T14:45:46.453901Z",
     "shell.execute_reply.started": "2020-11-01T14:45:46.428429Z"
    },
    "hidden": true
   },
   "outputs": [],
   "source": [
    "from sklearn.base import BaseEstimator, TransformerMixin\n",
    "\n",
    "class MyFeatureFilter(BaseEstimator, TransformerMixin):\n",
    "\n",
    "    def __init__(self, variaveis):\n",
    "        self.variaveis = variaveis\n",
    "\n",
    "    def fit(self, X, y=None):\n",
    "        return self\n",
    "\n",
    "    def transform(self, X, y=None):\n",
    "        Xtemp = X.copy()\n",
    "        return Xtemp[self.variaveis]\n",
    "\n",
    "class MyRobustScalerTransformer(BaseEstimator, TransformerMixin):\n",
    "\n",
    "    def __init__(self):\n",
    "        pass\n",
    "\n",
    "    def fit(self, X, y=None):\n",
    "        return self\n",
    "\n",
    "    def transform(self, X, y=None):\n",
    "\n",
    "        Xtemp = X.copy()\n",
    "\n",
    "        scaler = RobustScaler()\n",
    "        Xscaled = scaler.fit_transform(Xtemp)\n",
    "        Xtemp = pd.DataFrame(Xscaled, columns=Xtemp.columns.to_list())\n",
    "\n",
    "        return Xtemp\n",
    "\n",
    "class FeatureEngineeringTransformer(BaseEstimator, TransformerMixin):\n",
    "\n",
    "    def __init__(self):\n",
    "        pass\n",
    "\n",
    "    def fit(self, X, y=None):\n",
    "        return self\n",
    "\n",
    "    def transform(self, X, y=None):\n",
    "\n",
    "        Xtemp = X.copy()\n",
    "\n",
    "        # type\n",
    "        Xtemp['type'] = Xtemp['type'].apply(lambda x: 1 if x == 'TRANSFER' else 0)\n",
    "\n",
    "        # dest_type; 1 - Merchant e 0-Customer e Dropping 'nameOrig', 'nameDest'\n",
    "        Xtemp['dest_type'] = Xtemp['nameDest'].apply(lambda x: 1 if x[0] == 'M' else 0)\n",
    "\n",
    "        # error_transaction\n",
    "        Xtemp['error_transaction'] = Xtemp['amount'] - (Xtemp['oldbalanceOrg'] - Xtemp['newbalanceOrig'])\n",
    "\n",
    "        # amount/step\n",
    "        Xtemp['amount_step'] = Xtemp['amount']/Xtemp['step']\n",
    "\n",
    "        # Binning 'amount'\n",
    "        Xtemp['amount_bin_log'] = np.floor(np.log10(Xtemp['amount']))\n",
    "        Xtemp['amount_bin_log'] = Xtemp['amount_bin_log'].apply(lambda x: 0 if x == -np.inf else x)\n",
    "        Xtemp['amount_kbins_kmeans'] = KBinsDiscretizer(n_bins=5, encode='ordinal', strategy='kmeans').fit_transform(np.array(Xtemp['amount']).reshape(-1,1))\n",
    "\n",
    "        # Binning 'step'\n",
    "        Xtemp['step_bin_log'] = np.floor(np.log10(treino['step']))\n",
    "        Xtemp['step_bin_log'] = Xtemp['step_bin_log'].apply(lambda x: 0 if x == -np.inf else x)\n",
    "        Xtemp['step_kbins_kmeans'] = KBinsDiscretizer(n_bins=5, encode='ordinal', strategy='kmeans').fit_transform(np.array(Xtemp['step']).reshape(-1,1))\n",
    "\n",
    "        # Binning 'oldbalanceOrg'\n",
    "        Xtemp['oldbalanceOrg_bin_log'] = np.floor(np.log10(Xtemp['oldbalanceOrg']))\n",
    "        Xtemp['oldbalanceOrg_bin_log'] = Xtemp['oldbalanceOrg_bin_log'].apply(lambda x: 0 if x == -np.inf else x)\n",
    "        Xtemp['oldbalanceOrg_kbins_kmeans'] = KBinsDiscretizer(n_bins=5, encode='ordinal', strategy='kmeans').fit_transform(np.array(Xtemp['oldbalanceOrg']).reshape(-1,1))\n",
    "\n",
    "        # Binning 'newbalanceOrig'\n",
    "        Xtemp['newbalanceOrig_bin_log'] = np.floor(np.log10(Xtemp['newbalanceOrig']))\n",
    "        Xtemp['newbalanceOrig_bin_log'] = Xtemp['newbalanceOrig_bin_log'].apply(lambda x: 0 if x == -np.inf else x)\n",
    "        Xtemp['newbalanceOrig_kbins_kmeans'] = KBinsDiscretizer(n_bins=5, encode='ordinal', strategy='kmeans').fit_transform(np.array(Xtemp['newbalanceOrig']).reshape(-1,1))\n",
    "\n",
    "        # Binning 'oldbalanceDest'\n",
    "        Xtemp['oldbalanceDest_bin_log'] = np.floor(np.log10(Xtemp['oldbalanceDest']))\n",
    "        Xtemp['oldbalanceDest_bin_log'] = Xtemp['oldbalanceDest_bin_log'].apply(lambda x: 0 if x == -np.inf else x)\n",
    "        Xtemp['oldbalanceDest_kbins_kmeans'] = KBinsDiscretizer(n_bins=5, encode='ordinal', strategy='kmeans').fit_transform(np.array(Xtemp['oldbalanceDest']).reshape(-1,1))\n",
    "\n",
    "        # Binning 'newbalanceDest'\n",
    "        Xtemp['newbalanceDest_bin_log'] = np.floor(np.log10(Xtemp['newbalanceDest']))\n",
    "        Xtemp['newbalanceDest_bin_log'] = Xtemp['newbalanceDest_bin_log'].apply(lambda x: 0 if x == -np.inf else x)\n",
    "        Xtemp['newbalanceDest_kbins_kmeans'] = KBinsDiscretizer(n_bins=5, encode='ordinal', strategy='kmeans').fit_transform(np.array(Xtemp['newbalanceDest']).reshape(-1,1))\n",
    "\n",
    "        return Xtemp"
   ]
  },
  {
   "cell_type": "markdown",
   "metadata": {
    "heading_collapsed": true,
    "hidden": true
   },
   "source": [
    "## Pipelines"
   ]
  },
  {
   "cell_type": "markdown",
   "metadata": {
    "hidden": true
   },
   "source": [
    "### Pipeline_1"
   ]
  },
  {
   "cell_type": "code",
   "execution_count": null,
   "metadata": {
    "execution": {
     "iopub.execute_input": "2020-10-31T23:03:53.414431Z",
     "iopub.status.busy": "2020-10-31T23:03:53.414006Z"
    },
    "hidden": true
   },
   "outputs": [],
   "source": [
    "# Transformador de feature eng.\n",
    "transf_feat = FeatureEngineeringTransformer()\n",
    "\n",
    "# Montando Pipeline_1\n",
    "y = dataset['isFraud'].sample(5000)\n",
    "X = dataset.drop('isFraud', axis=1)\n",
    "X_ = transf_feat.fit_transform(X)\n",
    "X_ = X_.sample(5000)\n",
    "\n",
    "# Listando variaveis numericas\n",
    "numerical_vars = ['step',\n",
    "                  'amount',\n",
    "                  'oldbalanceOrg',\n",
    "                  'newbalanceOrig',\n",
    "                  'oldbalanceDest',\n",
    "                  'newbalanceDest',\n",
    "                  'error_transaction',\n",
    "                  'amount_step']\n",
    "\n",
    "categorical_vars = ['type',\n",
    "                    'dest_type',\n",
    "                    'amount_bin_log',\n",
    "                    'amount_kbins_kmeans',\n",
    "                    'step_bin_log',\n",
    "                    'step_kbins_kmeans',\n",
    "                    'oldbalanceOrg_bin_log',\n",
    "                    'oldbalanceOrg_kbins_kmeans',\n",
    "                    'newbalanceOrig_bin_log',\n",
    "                    'newbalanceOrig_kbins_kmeans',\n",
    "                    'oldbalanceDest_bin_log',\n",
    "                    'oldbalanceDest_kbins_kmeans',\n",
    "                    'newbalanceDest_bin_log',\n",
    "                    'newbalanceDest_kbins_kmeans']\n",
    "\n",
    "\n",
    "\n",
    "# Pipeline Numerico\n",
    "pipeline_numerical = Pipeline(steps = [('filter', MyFeatureFilter(numerical_vars)),\n",
    "                                       ('scaler', RobustScaler())])\n",
    "\n",
    "pipeline_categorico = Pipeline(steps=[('filter', MyFeatureFilter(categorical_vars))])\n",
    "\n",
    "# Pre_processing Pipeline\n",
    "pre_processing_pipeline_1 = FeatureUnion([(\"num\", pipeline_numerical),\n",
    "                                          (\"cat\", pipeline_categorico)])\n",
    "\n",
    "\n",
    "# Modelos\n",
    "models = [('lr',LogisticRegression()),\n",
    "          ('svm',SVC()),\n",
    "          ('if',IsolationForest()),\n",
    "          ('lgb',lgb.LGBMClassifier())]\n",
    "\n",
    "resultados = {'LR': [],\n",
    "              'SVM': [],\n",
    "              'IsolationForest': [],\n",
    "              'LGBM': []}\n",
    "\n",
    "\n",
    "# Testando o Pipeline_1\n",
    "for name, model in models:\n",
    "\n",
    "    # cross-validação\n",
    "    cv = 5\n",
    "\n",
    "    # Pipeline Full\n",
    "    full_pipeline_1 = Pipeline(steps=[(\"pre_process\", pre_processing_pipeline_1),\n",
    "                                      (\"model\", model)])\n",
    "\n",
    "    resultado = cross_val_score(estimator=full_pipeline_1,\n",
    "                                X=X_,\n",
    "                                y=y,\n",
    "                                scoring='accuracy',\n",
    "                                cv=cv,\n",
    "                                n_jobs=-1)\n",
    "\n",
    "    if name == 'lr':\n",
    "        resultados['LR'].append(np.mean(resultado))\n",
    "    elif name == 'svm':\n",
    "        resultados['SVM'].append(np.mean(resultado))\n",
    "    elif name == 'if':\n",
    "        resultados['IsolationForest'].append(np.mean(resultado))\n",
    "    elif name == 'lgb':\n",
    "        resultados['LGBM'].append(np.mean(resultado))\n",
    "\n",
    "# Painel\n",
    "resultados_df = pd.DataFrame(resultados)\n",
    "resultados_df"
   ]
  },
  {
   "cell_type": "code",
   "execution_count": null,
   "metadata": {
    "hidden": true
   },
   "outputs": [],
   "source": []
  },
  {
   "cell_type": "code",
   "execution_count": null,
   "metadata": {
    "hidden": true
   },
   "outputs": [],
   "source": []
  },
  {
   "cell_type": "code",
   "execution_count": null,
   "metadata": {
    "hidden": true
   },
   "outputs": [],
   "source": []
  },
  {
   "cell_type": "markdown",
   "metadata": {
    "heading_collapsed": true,
    "toc-hr-collapsed": true,
    "toc-nb-collapsed": true
   },
   "source": [
    "# Modelagem Machine Learning / Avaliação dos Modelos"
   ]
  },
  {
   "cell_type": "code",
   "execution_count": null,
   "metadata": {
    "hidden": true
   },
   "outputs": [],
   "source": []
  },
  {
   "cell_type": "markdown",
   "metadata": {
    "hidden": true
   },
   "source": []
  }
 ],
 "metadata": {
  "kernelspec": {
   "display_name": "Python 3.8.5 64-bit ('ds-env-38': conda)",
   "language": "python",
   "name": "python38564bitdsenv38conda722c4cc438f64e4fbfc5a822577f30b3"
  },
  "language_info": {
   "codemirror_mode": {
    "name": "ipython",
    "version": 3
   },
   "file_extension": ".py",
   "mimetype": "text/x-python",
   "name": "python",
   "nbconvert_exporter": "python",
   "pygments_lexer": "ipython3",
   "version": "3.8.5"
  },
  "toc": {
   "base_numbering": 1,
   "nav_menu": {},
   "number_sections": true,
   "sideBar": true,
   "skip_h1_title": false,
   "title_cell": "Table of Contents",
   "title_sidebar": "Contents",
   "toc_cell": false,
   "toc_position": {},
   "toc_section_display": true,
   "toc_window_display": false
  },
  "toc-autonumbering": false,
  "toc-showcode": false,
  "toc-showmarkdowntxt": false,
  "toc-showtags": false,
  "varInspector": {
   "cols": {
    "lenName": 16,
    "lenType": 16,
    "lenVar": 40
   },
   "kernels_config": {
    "python": {
     "delete_cmd_postfix": "",
     "delete_cmd_prefix": "del ",
     "library": "var_list.py",
     "varRefreshCmd": "print(var_dic_list())"
    },
    "r": {
     "delete_cmd_postfix": ") ",
     "delete_cmd_prefix": "rm(",
     "library": "var_list.r",
     "varRefreshCmd": "cat(var_dic_list()) "
    }
   },
   "types_to_exclude": [
    "module",
    "function",
    "builtin_function_or_method",
    "instance",
    "_Feature"
   ],
   "window_display": false
  }
 },
 "nbformat": 4,
 "nbformat_minor": 4
}
