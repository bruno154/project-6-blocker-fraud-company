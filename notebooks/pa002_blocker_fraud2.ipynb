{
 "cells": [
  {
   "cell_type": "markdown",
   "metadata": {
    "hide_input": false
   },
   "source": [
    "# Business Problem"
   ]
  },
  {
   "cell_type": "markdown",
   "metadata": {},
   "source": [
    "Como um Consultor de Ciência de Dados para criar um modelo de alta precisão e acurácia na detecção de fraudes de transações feitas através de dispositivos móveis.\n",
    "\n",
    "Entregáveis da consultoria:\n",
    "\n",
    "- Modelo em produção com API.\n",
    "- Relatório reportando a performance e os resultados do seu modelo em relação ao lucro e prejuízo que a empresa terá ao usar o modelo que você produziu.\n",
    "\n",
    "  No seu relatório deve conter as respostas para as seguintes perguntas:\n",
    "\n",
    " -   Qual a Precisão e Acurácia do modelo?\n",
    " -   Qual a Confiabilidade do modelo em classificar as transações como legítimas ou fraudulentas?\n",
    " -   Qual o Faturamento Esperado pela Empresa se classificarmos 100% das transações com o modelo?\n",
    " -   Qual o Prejuízo Esperado pela Empresa em caso de falha do modelo?\n",
    " -   Qual o Lucro Esperado pela Blocker Fraud Company ao utilizar o modelo?\n",
    "\n",
    "Data source: [Link](https://www.kaggle.com/ntnu-testimon/paysim1)\n",
    "\n",
    "**Index:**\n",
    "\n",
    " - 1.0 Problema de Negócio\n",
    " - 1.1 Importações de bibliotecas\n",
    " - 2.0 Coleta de Dados\n",
    " - 3.0 Descrição dos Dados\n",
    " - 4.0 Limpeza de dados\n",
    " - 5.0 Feature Engineering\n",
    " - 6.0 EDA\n",
    " - 7.0 Feature Selection\n",
    " - 8.0 Data Preparation - Pipelines\n",
    " - 9.0 Modelagem Machine Learning / Avaliação dos Modelos\n",
    " - 10.0 Interpretação do Modelo\n",
    " - 11.0 API\n",
    "\n",
    "**Estrátegia:**\n",
    "\n",
    "2.0 Coleta de Dados:\n",
    "- Coletar os dados utilizando pd.read_csv().\n",
    "\n",
    "3.0 Descrição dos Dados:\n",
    "\n",
    "- Descrever as seguintes infos por feature: percentual de missing, valores únicos, percentual de valores únicos, tipos de dados, skew, kurtosis.                                             \n",
    "- Investigar isFraud vs isFlaggedFraud para determinar qual é a variável target.\n",
    "- Descrever a variável 'type' com relação ao target.\n",
    "- Descrever outras variáveis\n",
    " \n",
    "4.0 Limpeza de dados:\n",
    "\n",
    "- Investigar e eliminar os outliers\n",
    "- Excluir os 'types' diferentes de 'TRANSFER'e 'CASH_OUT'\n",
    "- Avaliar o tamanho do dataset e decidir sobre utilizar alguma estratégia de sampling.\n",
    " \n",
    "5.0 Feature Engineering\n",
    "\n",
    "- Criar a variável type_dest a partir da primeira letra da variável nameDest. C representa 'Customer' e M representa 'Merchant'.\n",
    "\n",
    "- Criar a variável erro_transaction, espera-se que 'amount' - (oldbalanceOrg - newbalanceOrig) seja igual a zero talvez erros maiores podem levar o modelo entender o evento de Fraude. \n",
    "\n",
    "- Criar variável por iteração 'amount' / 'step' = 'amount_step', o relacionamento do valor da transação por unidade de tempo pode nos ajudar a modelar o evento.\n",
    "\n",
    "- Criar variáveis a partir do WeightOfEvidenceEncoder. WOE é uma medida do quão bem a observação suporta ou mitiga a hipostese - H0.\n",
    "  - A partir dest_type criar woe_encoded_dest_type\n",
    "  - A partir type criar woe_encoded_type\n",
    "  \n",
    "- Criar variáveis a partir do grupamento de 'type', calculando-se a média e o desvio padrão das variáveis 'amount', 'oldbalanceOrg', 'newbalanceOrig', 'oldbalanceDest', 'newbalanceDest'. Objetivo aqui é gerar sinais que ajude o modelo a separar melhor o evento de fraude das transações comuns.\n",
    "\n",
    "- Criar variáveis aplicando transformação logaritmica nas varáveis 'amount','step', 'oldbalanceOrg', 'newbalanceOrig', 'oldbalanceDest', 'newbalanceDest'. A transformação logartmica foi escolhida por ser aproriada para lidar com skew das variáveis citadas anteriormente.\n",
    "\n",
    "- Realizar o binning, utilizando a estrátegia de k-means, com o objetivo de agrupar as variáveis 'amount','step', 'oldbalanceOrg', 'newbalanceOrig', 'oldbalanceDest', 'newbalanceDest' em 5 grupos colocando os dados em uma mesma escala e a divisão em grupos irá auxiliar o modelo a aprender os eventos de fraude. \n",
    "\n",
    "6.0 EDA\n",
    "\n",
    "- Realizar análise univariada, identificar se atingimos o objetivo de diminuir a escala e tornar as distribuições mais gaussianas com relação as variáveis criadas.\n",
    "- Realizar análise Multivariada, indentificar variáveis com alta correlação entre si\n",
    "- Testar Hipóteses conforme mapa mental.\n",
    "\n",
    "7.0 Feature Selection\n",
    "\n",
    "- Aplicar BorutaShapley, utilizando valores 'shap' e um modelo com base de arvores de decisão como estimador base.\n",
    "- Aplicar BorutaShapley, testando a utilização de um modelo linear como estimador base.\n",
    "\n",
    "\n",
    "\n",
    "\n",
    "\n",
    "\n",
    "Conclusões e Resultados:\n"
   ]
  },
  {
   "cell_type": "markdown",
   "metadata": {},
   "source": [
    "##  Importações de bibliotecas"
   ]
  },
  {
   "cell_type": "code",
   "execution_count": 2,
   "metadata": {
    "ExecuteTime": {
     "end_time": "2020-11-15T18:53:06.552541Z",
     "start_time": "2020-11-15T18:53:05.521980Z"
    },
    "execution": {
     "iopub.execute_input": "2020-11-01T14:44:25.552702Z",
     "iopub.status.busy": "2020-11-01T14:44:25.552222Z",
     "iopub.status.idle": "2020-11-01T14:44:27.507926Z",
     "shell.execute_reply": "2020-11-01T14:44:27.507061Z",
     "shell.execute_reply.started": "2020-11-01T14:44:25.552581Z"
    }
   },
   "outputs": [],
   "source": [
    "# Importings\n",
    "import time\n",
    "import numpy as np\n",
    "import pandas as pd\n",
    "import MyToolBox as mtb\n",
    "import CustomTransformers as ctf\n",
    "\n",
    "# Importings Vaex\n",
    "import vaex\n",
    "import vaex.ml\n",
    "from vaex.ml.sklearn import Predictor, IncrementalPredictor\n",
    "\n",
    "# Data Viz\n",
    "import seaborn as sns\n",
    "import matplotlib.pyplot as plt\n",
    "\n",
    "# General Librarys\n",
    "from sklearn.svm import SVC\n",
    "from BorutaShap import BorutaShap\n",
    "from xgboost import XGBClassifier\n",
    "from imblearn.combine import SMOTETomek\n",
    "from scipy.stats import chi2_contingency\n",
    "from sklearn.ensemble import IsolationForest\n",
    "from sklearn.model_selection import train_test_split\n",
    "from sklearn.preprocessing import RobustScaler\n",
    "from sklearn.pipeline import Pipeline, FeatureUnion\n",
    "from sklearn.model_selection import cross_val_score\n",
    "from sklearn.linear_model import LogisticRegression, SGDClassifier\n",
    "from sklearn.preprocessing import OrdinalEncoder, KBinsDiscretizer\n",
    "\n",
    "\n",
    "import warnings\n",
    "warnings.filterwarnings(\"ignore\")"
   ]
  },
  {
   "cell_type": "markdown",
   "metadata": {
    "execution": {
     "iopub.execute_input": "2020-10-22T20:26:26.646097Z",
     "iopub.status.busy": "2020-10-22T20:26:26.645730Z",
     "iopub.status.idle": "2020-10-22T20:26:26.650094Z",
     "shell.execute_reply": "2020-10-22T20:26:26.649143Z",
     "shell.execute_reply.started": "2020-10-22T20:26:26.646053Z"
    },
    "heading_collapsed": true
   },
   "source": [
    "##  Funções auxiliares"
   ]
  },
  {
   "cell_type": "code",
   "execution_count": 3,
   "metadata": {
    "ExecuteTime": {
     "end_time": "2020-11-15T18:53:08.727467Z",
     "start_time": "2020-11-15T18:53:08.704639Z"
    },
    "execution": {
     "iopub.execute_input": "2020-11-01T14:44:27.509245Z",
     "iopub.status.busy": "2020-11-01T14:44:27.509072Z",
     "iopub.status.idle": "2020-11-01T14:44:27.523665Z",
     "shell.execute_reply": "2020-11-01T14:44:27.522883Z",
     "shell.execute_reply.started": "2020-11-01T14:44:27.509223Z"
    },
    "hidden": true
   },
   "outputs": [],
   "source": [
    "def balanced_target(target, dataset, hue=None):\n",
    "    \"\"\"\n",
    "    Function to check the balancing of the target variable.\n",
    "\n",
    "    :target:  An pd.Series of the target variable that will be checked.\n",
    "    :dataset: An Dataframe object.\n",
    "    \"\"\"\n",
    "    sns.set(style='darkgrid', palette='Accent')\n",
    "    ax = sns.countplot(x=target, hue=hue, data=dataset)\n",
    "    ax.figure.set_size_inches(10, 6)\n",
    "    ax.set_title('Feature Distribution', fontsize=18, loc='center')\n",
    "    ax.set_xlabel(target, fontsize=14)\n",
    "    ax.set_ylabel('Count', fontsize=14)\n",
    "    ax=ax\n",
    "\n",
    "def drop_outliers(var: str, dataset: pd.DataFrame):\n",
    "\n",
    "    # Calculando os Q1, Q3 e IQR\n",
    "    Q1 = np.quantile(dataset[var], .25)\n",
    "    Q3 = np.quantile(dataset[var], .75)\n",
    "    IQR = Q3 - Q1\n",
    "\n",
    "    # calculates the outliers boundaries through statistical relationship\n",
    "    low = Q1 - 1.5 * IQR\n",
    "    high = Q3 + 1.5 * IQR\n",
    "\n",
    "    dados_resultado = dataset.loc[(dataset[var] > low) & (dataset[var] < high),]\n",
    "\n",
    "    return dados_resultado\n",
    "\n",
    "def drop_outliers_vaex(var: str, dataset_vaex):\n",
    "\n",
    "    # Calculando os Q1, Q3 e IQR\n",
    "    Q1 = np.quantile(dataset_vaex[var].to_pandas_series(), .25)\n",
    "    Q3 = np.quantile(dataset_vaex[var].to_pandas_series(), .75)\n",
    "    IQR = Q3 - Q1\n",
    "\n",
    "    # calculates the outliers boundaries through statistical relationship\n",
    "    low = Q1 - 1.5 * IQR\n",
    "    high = Q3 + 1.5 * IQR\n",
    "\n",
    "    dados_resultado = dataset_vaex[(dataset_vaex[var] > low) & (dataset_vaex[var] < high)]\n",
    "\n",
    "    return dados_resultado\n",
    "\n",
    "\n",
    "def Myheat_map(dataset, variaveis):\n",
    "\n",
    "    df_corr = dataset[variaveis].corr()\n",
    "\n",
    "    fig, ax = plt.subplots(figsize=(16, 10))\n",
    "    # mask\n",
    "    mask = np.triu(np.ones_like(df_corr, dtype=np.bool))\n",
    "    # adjust mask and df\n",
    "    mask = mask[1:, :-1]\n",
    "    corr = df_corr.iloc[1:,:-1].copy()\n",
    "    # color map\n",
    "    cmap = sns.diverging_palette(0, 230, 90, 60, as_cmap=True)\n",
    "\n",
    "    # plot heatmap\n",
    "    sns.heatmap(corr, mask=mask, annot=True, fmt=\".2f\",\n",
    "                   linewidths=5, cmap=cmap, vmin=-1, vmax=1, \n",
    "                   cbar_kws={\"shrink\": .8}, square=True)\n",
    "    yticks = [i.upper() for i in corr.index]\n",
    "    xticks = [i.upper() for i in corr.columns]\n",
    "    plt.yticks(plt.yticks()[0], labels=yticks, rotation=0)\n",
    "    plt.xticks(plt.xticks()[0], labels=xticks, rotation=20)\n",
    "\n",
    "    # title\n",
    "    title = 'CORRELATION MATRIX\\n'\n",
    "    plt.title(title, loc='left', fontsize=18)\n",
    "    plt.show()\n",
    "\n",
    "\n",
    "def cramer_v(var_x, var_y):\n",
    "    \"\"\"\n",
    "    Function to calculate the Cramers v correlation.\n",
    "\n",
    "    \"\"\"\n",
    "    # builds contigency matrix (or confusion matrix)\n",
    "    confusion_matrix_v = pd.crosstab(var_x, var_y).values\n",
    "\n",
    "    # gets the sum of all values in the matrix\n",
    "    n = confusion_matrix_v.sum()\n",
    "\n",
    "    # gets the rows, cols\n",
    "    r, k = confusion_matrix_v.shape\n",
    "\n",
    "    # gets the chi-squared\n",
    "    chi2 = chi2_contingency(confusion_matrix_v)[0]\n",
    "\n",
    "    # makes the bias correction\n",
    "    chi2corr = max(0, chi2 - (k-1) * (r-1) / (n-1))\n",
    "    kcorr = k - (k-1) ** 2 / (n-1)\n",
    "    rcorr = r - (r-1) ** 2 / (n-1)\n",
    "\n",
    "    # returns cramér V\n",
    "    return np.sqrt((chi2corr/n) / min(kcorr-1, rcorr-1))"
   ]
  },
  {
   "cell_type": "markdown",
   "metadata": {},
   "source": [
    "#  Coleta de Dados"
   ]
  },
  {
   "cell_type": "markdown",
   "metadata": {},
   "source": [
    "## Usando o Pandas"
   ]
  },
  {
   "cell_type": "code",
   "execution_count": 4,
   "metadata": {
    "ExecuteTime": {
     "end_time": "2020-11-15T18:53:22.223857Z",
     "start_time": "2020-11-15T18:53:14.193438Z"
    },
    "execution": {
     "iopub.execute_input": "2020-11-01T14:44:28.002560Z",
     "iopub.status.busy": "2020-11-01T14:44:28.002193Z",
     "iopub.status.idle": "2020-11-01T14:44:36.312902Z",
     "shell.execute_reply": "2020-11-01T14:44:36.311954Z",
     "shell.execute_reply.started": "2020-11-01T14:44:28.002520Z"
    }
   },
   "outputs": [
    {
     "name": "stdout",
     "output_type": "stream",
     "text": [
      "Quantidade de Colunas 11\n",
      "Quantidade de Observações 6362620\n"
     ]
    }
   ],
   "source": [
    "# With pandas\n",
    "train = pd.read_csv('../data/trans_fraud_data.csv')\n",
    "print(f'Quantidade de Colunas {train.shape[1]}')\n",
    "\n",
    "print(f'Quantidade de Observações {train.shape[0]}')"
   ]
  },
  {
   "cell_type": "markdown",
   "metadata": {},
   "source": [
    "## Usando Vaex"
   ]
  },
  {
   "cell_type": "code",
   "execution_count": 5,
   "metadata": {
    "ExecuteTime": {
     "end_time": "2020-11-15T18:53:22.694732Z",
     "start_time": "2020-11-15T18:53:22.669027Z"
    }
   },
   "outputs": [
    {
     "data": {
      "text/plain": [
       "(6362620, 11)"
      ]
     },
     "execution_count": 5,
     "metadata": {},
     "output_type": "execute_result"
    }
   ],
   "source": [
    "# With Vaex\n",
    "train_vaex = vaex.from_csv('../data/trans_fraud_data.csv', convert=True)\n",
    "train_vaex.shape"
   ]
  },
  {
   "cell_type": "markdown",
   "metadata": {
    "heading_collapsed": true,
    "toc-hr-collapsed": true,
    "toc-nb-collapsed": true
   },
   "source": [
    "# Descrição dos dados"
   ]
  },
  {
   "cell_type": "markdown",
   "metadata": {
    "hidden": true
   },
   "source": [
    "- Nosso dataset não possui missing values, conforme Mydescribe.\n",
    "- Nosso dataset está bastante desbalanciado, 2.1 isFraud vs isFlaggedFraud.\n",
    "- A partir da análise da Skew e Kurtosis(conforme Mydescribe) podemos observar que as variáveis numericas precisaram ser transformadas. O tipo de transformação será decidido mais a frente.\n",
    "- A variável isFlaggedFraud possui somente 16 observações,as quais também estão como positivas em isFraud, podemos nos desfazer dessa variável.\n",
    "- A variável 'isFraud' é a nossa variável taret nesse problema!\n",
    "- A variável 'type' possui 5 valores únicos. 'PAYMENT','TRANSFER','DEBIT','CASH_OUT'\n",
    "- Possuímos casos de fraude somente para os tipos 'TRANSFER'e 'CASH_OUT', dessa forma podemos eliminar os outros tipos já que os mesmos só irão apresentar ao modelo exemplos de não fraude, ou seja, nosso modelo não irá conseguir modelar situações de fraude (nosso objetivo) a partir desses dados.\n",
    "- A partir do describe na seção 2.2 observamos que as variáveis 'amount' e 'step' variam por diversos niveis de grandeza desde da unidade simples até a centenas, 'step', ou a milhares 'amount'. Irei criar novas variáveis aplicando Binning e excluindo as originais tendo em vista que variáveis que ultrapassam varias ordens de grandeza são problemáticas para muitos modelos."
   ]
  },
  {
   "cell_type": "code",
   "execution_count": null,
   "metadata": {
    "ExecuteTime": {
     "end_time": "2020-11-12T09:05:45.492162Z",
     "start_time": "2020-11-12T09:05:45.472672Z"
    },
    "execution": {
     "iopub.execute_input": "2020-10-31T23:00:55.932435Z",
     "iopub.status.busy": "2020-10-31T23:00:55.932308Z",
     "iopub.status.idle": "2020-10-31T23:00:55.954478Z",
     "shell.execute_reply": "2020-10-31T23:00:55.953750Z",
     "shell.execute_reply.started": "2020-10-31T23:00:55.932419Z"
    },
    "hidden": true
   },
   "outputs": [],
   "source": [
    "# Checando os primeiros registros\n",
    "train.head()"
   ]
  },
  {
   "cell_type": "code",
   "execution_count": null,
   "metadata": {
    "ExecuteTime": {
     "end_time": "2020-11-12T09:06:07.838178Z",
     "start_time": "2020-11-12T09:05:51.445496Z"
    },
    "execution": {
     "iopub.execute_input": "2020-10-31T22:08:11.518185Z",
     "iopub.status.busy": "2020-10-31T22:08:11.517990Z",
     "iopub.status.idle": "2020-10-31T22:08:28.054568Z",
     "shell.execute_reply": "2020-10-31T22:08:28.053725Z",
     "shell.execute_reply.started": "2020-10-31T22:08:11.518161Z"
    },
    "hidden": true
   },
   "outputs": [],
   "source": [
    "# Mydescribe\n",
    "pd.DataFrame({'missingPerc': train.isna().mean(),\n",
    "              'uniques': train.nunique(),\n",
    "              '%uniquePerc': (train.nunique()/train.shape[0])*100,\n",
    "              'data_types': train.dtypes,\n",
    "              'skew': train.skew(),\n",
    "              'kurtosis': train.kurt()\n",
    "               })"
   ]
  },
  {
   "cell_type": "markdown",
   "metadata": {
    "hidden": true
   },
   "source": [
    "##  isFraud vs isFlaggedFraud"
   ]
  },
  {
   "cell_type": "code",
   "execution_count": null,
   "metadata": {
    "ExecuteTime": {
     "end_time": "2020-11-12T09:06:58.063352Z",
     "start_time": "2020-11-12T09:06:57.435464Z"
    },
    "execution": {
     "iopub.execute_input": "2020-10-31T22:08:28.056097Z",
     "iopub.status.busy": "2020-10-31T22:08:28.055820Z",
     "iopub.status.idle": "2020-10-31T22:08:28.849745Z",
     "shell.execute_reply": "2020-10-31T22:08:28.849208Z",
     "shell.execute_reply.started": "2020-10-31T22:08:28.056061Z"
    },
    "hidden": true
   },
   "outputs": [],
   "source": [
    "quant = train['isFraud'].sum()\n",
    "perc = (quant/train.shape[0])*100\n",
    "print(f'Quantidade de eventos positivos - isFraud- {quant}')\n",
    "print(f'Percentual de eventos positivos - isFraud- {perc}\\n')\n",
    "\n",
    "quant1 = train['isFlaggedFraud'].sum()\n",
    "perc1 = (quant/train.shape[0])*100\n",
    "print(f'Quantidade de eventos positivos - isFlaggedFraud- {quant1}')\n",
    "print(f'Percentual de eventos positivos - isFlaggedFraud- {perc1}\\n')\n",
    "\n",
    "\n",
    "# Plots\n",
    "plt.subplot(1, 2, 1)\n",
    "balanced_target('isFraud', dataset=train)\n",
    "\n",
    "plt.subplot(1, 2, 2)\n",
    "balanced_target('isFlaggedFraud', dataset=train)"
   ]
  },
  {
   "cell_type": "code",
   "execution_count": null,
   "metadata": {
    "ExecuteTime": {
     "end_time": "2020-11-12T09:06:59.278102Z",
     "start_time": "2020-11-12T09:06:59.207159Z"
    },
    "execution": {
     "iopub.execute_input": "2020-10-31T22:08:28.851563Z",
     "iopub.status.busy": "2020-10-31T22:08:28.851380Z",
     "iopub.status.idle": "2020-10-31T22:08:28.873058Z",
     "shell.execute_reply": "2020-10-31T22:08:28.872507Z",
     "shell.execute_reply.started": "2020-10-31T22:08:28.851539Z"
    },
    "hidden": true
   },
   "outputs": [],
   "source": [
    "dadosTemp = train.loc[train['isFlaggedFraud']==1,]\n",
    "dadosTemp"
   ]
  },
  {
   "cell_type": "markdown",
   "metadata": {
    "hidden": true
   },
   "source": [
    "## Descrição variável 'type'"
   ]
  },
  {
   "cell_type": "code",
   "execution_count": null,
   "metadata": {
    "ExecuteTime": {
     "end_time": "2020-11-12T09:07:04.593083Z",
     "start_time": "2020-11-12T09:07:04.244408Z"
    },
    "execution": {
     "iopub.execute_input": "2020-10-31T22:08:28.874333Z",
     "iopub.status.busy": "2020-10-31T22:08:28.874121Z",
     "iopub.status.idle": "2020-10-31T22:08:29.245574Z",
     "shell.execute_reply": "2020-10-31T22:08:29.245047Z",
     "shell.execute_reply.started": "2020-10-31T22:08:28.874313Z"
    },
    "hidden": true
   },
   "outputs": [],
   "source": [
    "# Quantidade Fraud\n",
    "data_temp = train.loc[train['isFraud'] == 1, ]\n",
    "\n",
    "uniq = train['type'].unique()\n",
    "print(f'Valores únicos de type são {uniq}\\n')\n",
    "balanced_target('type', dataset=data_temp)"
   ]
  },
  {
   "cell_type": "markdown",
   "metadata": {
    "hidden": true
   },
   "source": [
    "## Outras Variáveis"
   ]
  },
  {
   "cell_type": "code",
   "execution_count": null,
   "metadata": {
    "ExecuteTime": {
     "end_time": "2020-11-12T09:07:09.963049Z",
     "start_time": "2020-11-12T09:07:08.568942Z"
    },
    "execution": {
     "iopub.execute_input": "2020-10-31T22:08:29.246354Z",
     "iopub.status.busy": "2020-10-31T22:08:29.246235Z",
     "iopub.status.idle": "2020-10-31T22:08:30.575951Z",
     "shell.execute_reply": "2020-10-31T22:08:30.575448Z",
     "shell.execute_reply.started": "2020-10-31T22:08:29.246338Z"
    },
    "hidden": true
   },
   "outputs": [],
   "source": [
    "# Describe\n",
    "variables = ['amount','step', 'oldbalanceOrg', 'newbalanceOrig', 'oldbalanceDest', 'newbalanceDest']\n",
    "train[variables].describe().T"
   ]
  },
  {
   "cell_type": "markdown",
   "metadata": {
    "hidden": true
   },
   "source": [
    "###  Analisando 'Amount', 'oldBalanceDest', 'newBalanceDest', 'oldBalanceOrig', 'newBalanceOrig'"
   ]
  },
  {
   "cell_type": "code",
   "execution_count": null,
   "metadata": {
    "ExecuteTime": {
     "end_time": "2020-11-12T09:07:11.931294Z",
     "start_time": "2020-11-12T09:07:11.695034Z"
    },
    "execution": {
     "iopub.execute_input": "2020-10-31T22:08:30.576691Z",
     "iopub.status.busy": "2020-10-31T22:08:30.576574Z",
     "iopub.status.idle": "2020-10-31T22:08:30.824675Z",
     "shell.execute_reply": "2020-10-31T22:08:30.824031Z",
     "shell.execute_reply.started": "2020-10-31T22:08:30.576676Z"
    },
    "hidden": true
   },
   "outputs": [],
   "source": [
    "# Percentual de operações amount != de zero oldBalanceDest e newBalanceDest são iguais a 0\n",
    "quant_dest = train.loc[(train['amount'] != 0) & (train['oldbalanceDest'] == 0) & (train['newbalanceDest'] == 0), ]\n",
    "\n",
    "perc_quant_dest = round(quant_dest.shape[0]/train.shape[0], 2)*100\n",
    "print(f'O percentual de casos onde o amount é diferente de 0 com oldbalanceDest e newbalanceDest iguais {perc_quant_dest}%')"
   ]
  },
  {
   "cell_type": "code",
   "execution_count": null,
   "metadata": {
    "ExecuteTime": {
     "end_time": "2020-11-12T09:07:12.980731Z",
     "start_time": "2020-11-12T09:07:12.763866Z"
    },
    "execution": {
     "iopub.execute_input": "2020-10-31T22:08:30.825891Z",
     "iopub.status.busy": "2020-10-31T22:08:30.825683Z",
     "iopub.status.idle": "2020-10-31T22:08:31.054669Z",
     "shell.execute_reply": "2020-10-31T22:08:31.054143Z",
     "shell.execute_reply.started": "2020-10-31T22:08:30.825866Z"
    },
    "hidden": true
   },
   "outputs": [],
   "source": [
    "# Percentual de operações amount != de zero oldBalanceOrig e newBalanceOrig são iguais a 0\n",
    "\n",
    "quant_orig = train.loc[(train['amount'] != 0) & (train['oldbalanceOrg'] == 0) & (train['newbalanceOrig'] == 0), ]\n",
    "\n",
    "perc_quant_orig = round(quant_orig.shape[0]/train.shape[0], 2)*100\n",
    "print(f'O percentual de casos onde o amount é diferente de 0 com oldbalanceDest e newbalanceDest iguais {perc_quant_orig}%')"
   ]
  },
  {
   "cell_type": "markdown",
   "metadata": {},
   "source": [
    "# Limpeza de dados"
   ]
  },
  {
   "cell_type": "markdown",
   "metadata": {},
   "source": [
    "- Conforme observado na etapa de descrição dos dados iremos eliminar a variável 'isFlaggedFraud', pois possui apenas 16 observações positivas sendo que as mesmas também são positivas para a variável 'isFraud'\n",
    "- Conforme observado na etapa de descrição dos dados iremos eliminar as observações com 'type' diferente de 'TRANSFER' e 'CASH_OUT'\n",
    "- Investigar e eliminar os outliers"
   ]
  },
  {
   "cell_type": "markdown",
   "metadata": {},
   "source": [
    "## Eliminando a variável 'isFlaggedFraud' e os 'types' PAYMENT, CASH_IN, DEBIT"
   ]
  },
  {
   "cell_type": "code",
   "execution_count": 6,
   "metadata": {
    "ExecuteTime": {
     "end_time": "2020-11-15T18:53:30.653921Z",
     "start_time": "2020-11-15T18:53:29.151560Z"
    },
    "execution": {
     "iopub.execute_input": "2020-11-01T14:44:36.314725Z",
     "iopub.status.busy": "2020-11-01T14:44:36.314421Z",
     "iopub.status.idle": "2020-11-01T14:44:38.545828Z",
     "shell.execute_reply": "2020-11-01T14:44:38.545101Z",
     "shell.execute_reply.started": "2020-11-01T14:44:36.314689Z"
    }
   },
   "outputs": [],
   "source": [
    "# Pandas\n",
    "\n",
    "# 'isFlaggedFraud'\n",
    "train.drop('isFlaggedFraud', inplace=True, axis=1)\n",
    "\n",
    "# PAYMENT, CASH_IN, DEBIT\n",
    "train = train.loc[(train['type'] == 'TRANSFER') | (train['type'] == 'CASH_OUT'), ]"
   ]
  },
  {
   "cell_type": "code",
   "execution_count": 7,
   "metadata": {
    "ExecuteTime": {
     "end_time": "2020-11-15T18:53:31.804053Z",
     "start_time": "2020-11-15T18:53:31.634704Z"
    }
   },
   "outputs": [
    {
     "data": {
      "text/plain": [
       "(2770409, 10)"
      ]
     },
     "execution_count": 7,
     "metadata": {},
     "output_type": "execute_result"
    }
   ],
   "source": [
    "# Vaex\n",
    "\n",
    "# 'isFlaggedFraud'\n",
    "train_vaex.drop('isFlaggedFraud', inplace=True, check=False)\n",
    "\n",
    "# PAYMENT, CASH_IN, DEBIT\n",
    "train_vaex = train_vaex[(train_vaex['type'] == 'TRANSFER') | (train_vaex['type'] == 'CASH_OUT')]\n",
    "train_vaex.shape"
   ]
  },
  {
   "cell_type": "markdown",
   "metadata": {
    "execution": {
     "iopub.execute_input": "2020-10-24T17:16:52.967202Z",
     "iopub.status.busy": "2020-10-24T17:16:52.966713Z",
     "iopub.status.idle": "2020-10-24T17:16:52.971875Z",
     "shell.execute_reply": "2020-10-24T17:16:52.970545Z",
     "shell.execute_reply.started": "2020-10-24T17:16:52.967139Z"
    }
   },
   "source": [
    "## Eliminando Outliers"
   ]
  },
  {
   "cell_type": "markdown",
   "metadata": {
    "heading_collapsed": true
   },
   "source": [
    "### Com as classes positivas"
   ]
  },
  {
   "cell_type": "code",
   "execution_count": null,
   "metadata": {
    "ExecuteTime": {
     "end_time": "2020-11-12T00:11:04.159566Z",
     "start_time": "2020-11-12T00:11:00.810304Z"
    },
    "execution": {
     "iopub.execute_input": "2020-11-01T14:44:38.547097Z",
     "iopub.status.busy": "2020-11-01T14:44:38.546931Z",
     "iopub.status.idle": "2020-11-01T14:44:42.251883Z",
     "shell.execute_reply": "2020-11-01T14:44:42.251258Z",
     "shell.execute_reply.started": "2020-11-01T14:44:38.547076Z"
    },
    "hidden": true
   },
   "outputs": [],
   "source": [
    "# Pandas\n",
    "# Investigando Outliers\n",
    "explorer = mtb.EDA(train)\n",
    "explorer.multi_boxplots(['amount', 'step','oldbalanceOrg','newbalanceOrig','oldbalanceDest','newbalanceDest'])"
   ]
  },
  {
   "cell_type": "code",
   "execution_count": null,
   "metadata": {
    "ExecuteTime": {
     "end_time": "2020-11-12T00:11:06.631132Z",
     "start_time": "2020-11-12T00:11:06.097770Z"
    },
    "execution": {
     "iopub.execute_input": "2020-11-01T14:44:42.252849Z",
     "iopub.status.busy": "2020-11-01T14:44:42.252711Z",
     "iopub.status.idle": "2020-11-01T14:44:42.735625Z",
     "shell.execute_reply": "2020-11-01T14:44:42.735009Z",
     "shell.execute_reply.started": "2020-11-01T14:44:42.252832Z"
    },
    "hidden": true
   },
   "outputs": [],
   "source": [
    "# Pandas\n",
    "\n",
    "# Eliminando os Outliers\n",
    "treino = drop_outliers('amount', train)\n",
    "treino = drop_outliers('oldbalanceOrg', treino)\n",
    "treino.shape"
   ]
  },
  {
   "cell_type": "code",
   "execution_count": null,
   "metadata": {
    "ExecuteTime": {
     "end_time": "2020-11-12T00:11:08.974222Z",
     "start_time": "2020-11-12T00:11:08.797520Z"
    },
    "hidden": true
   },
   "outputs": [],
   "source": [
    "# Vaex\n",
    "\n",
    "# Eliminando os Outliers\n",
    "treino_vaex = drop_outliers_vaex('amount', train_vaex)\n",
    "treino_vaex = drop_outliers_vaex('oldbalanceOrg',treino_vaex)\n",
    "treino_vaex.shape"
   ]
  },
  {
   "cell_type": "code",
   "execution_count": null,
   "metadata": {
    "ExecuteTime": {
     "end_time": "2020-11-12T00:11:13.085836Z",
     "start_time": "2020-11-12T00:11:10.911733Z"
    },
    "execution": {
     "iopub.execute_input": "2020-11-01T14:44:42.736272Z",
     "iopub.status.busy": "2020-11-01T14:44:42.736154Z",
     "iopub.status.idle": "2020-11-01T14:44:44.951059Z",
     "shell.execute_reply": "2020-11-01T14:44:44.950335Z",
     "shell.execute_reply.started": "2020-11-01T14:44:42.736256Z"
    },
    "hidden": true
   },
   "outputs": [],
   "source": [
    "# Checando as distribuições após da eliminação de outliers\n",
    "explorer1 = mtb.EDA(treino)\n",
    "explorer1.multi_boxplots(['amount', 'step','oldbalanceOrg','newbalanceOrig','oldbalanceDest','newbalanceDest'])"
   ]
  },
  {
   "cell_type": "code",
   "execution_count": null,
   "metadata": {
    "ExecuteTime": {
     "end_time": "2020-11-12T00:13:06.183444Z",
     "start_time": "2020-11-12T00:13:06.172068Z"
    },
    "execution": {
     "iopub.execute_input": "2020-11-01T14:44:44.951820Z",
     "iopub.status.busy": "2020-11-01T14:44:44.951705Z",
     "iopub.status.idle": "2020-11-01T14:44:44.961922Z",
     "shell.execute_reply": "2020-11-01T14:44:44.961069Z",
     "shell.execute_reply.started": "2020-11-01T14:44:44.951805Z"
    },
    "hidden": true
   },
   "outputs": [],
   "source": [
    "# Quantidade de observações positivas antes da limpeza de outliers.\n",
    "post = train.loc[train['isFraud']==1,].shape[0]\n",
    "print(f'Quantidade de Classes Positivas: {post} ')"
   ]
  },
  {
   "cell_type": "code",
   "execution_count": null,
   "metadata": {
    "ExecuteTime": {
     "end_time": "2020-11-12T00:13:08.342068Z",
     "start_time": "2020-11-12T00:13:08.237113Z"
    },
    "execution": {
     "iopub.execute_input": "2020-11-01T14:44:44.963029Z",
     "iopub.status.busy": "2020-11-01T14:44:44.962847Z",
     "iopub.status.idle": "2020-11-01T14:44:45.218448Z",
     "shell.execute_reply": "2020-11-01T14:44:45.217556Z",
     "shell.execute_reply.started": "2020-11-01T14:44:44.962998Z"
    },
    "hidden": true
   },
   "outputs": [],
   "source": [
    "# Quantidade de obervações positivas antes depois limpeza de outliers.\n",
    "post = treino.loc[train['isFraud']==1,].shape[0]\n",
    "print(f'Quantidade de Classes Positivas: {post} ')"
   ]
  },
  {
   "cell_type": "markdown",
   "metadata": {
    "hidden": true
   },
   "source": [
    "Estamos perdendo muitas observações positivas que já são raras neste dataset. Vamos eliminar os outliers somente das observações negativas ('isFraud'=0)"
   ]
  },
  {
   "cell_type": "markdown",
   "metadata": {},
   "source": [
    "###  Sem Classe Positiva"
   ]
  },
  {
   "cell_type": "code",
   "execution_count": 8,
   "metadata": {
    "ExecuteTime": {
     "end_time": "2020-11-15T18:53:35.733431Z",
     "start_time": "2020-11-15T18:53:35.524841Z"
    },
    "execution": {
     "iopub.execute_input": "2020-11-01T14:44:45.220330Z",
     "iopub.status.busy": "2020-11-01T14:44:45.220161Z",
     "iopub.status.idle": "2020-11-01T14:44:45.427901Z",
     "shell.execute_reply": "2020-11-01T14:44:45.427292Z",
     "shell.execute_reply.started": "2020-11-01T14:44:45.220308Z"
    }
   },
   "outputs": [],
   "source": [
    "# Separando as observações com classe positiva\n",
    "train_pos = train.loc[train['isFraud']==1,]\n",
    "train_neg = train.loc[train['isFraud']==0,]"
   ]
  },
  {
   "cell_type": "code",
   "execution_count": 9,
   "metadata": {
    "ExecuteTime": {
     "end_time": "2020-11-15T18:53:42.474438Z",
     "start_time": "2020-11-15T18:53:38.910670Z"
    },
    "execution": {
     "iopub.execute_input": "2020-11-01T14:44:45.428851Z",
     "iopub.status.busy": "2020-11-01T14:44:45.428723Z",
     "iopub.status.idle": "2020-11-01T14:44:48.833186Z",
     "shell.execute_reply": "2020-11-01T14:44:48.832327Z",
     "shell.execute_reply.started": "2020-11-01T14:44:45.428835Z"
    }
   },
   "outputs": [
    {
     "data": {
      "image/png": "[encoded data removed]",
      "text/plain": [
       "<Figure size 1296x720 with 6 Axes>"
      ]
     },
     "metadata": {
      "needs_background": "light"
     },
     "output_type": "display_data"
    }
   ],
   "source": [
    "# Investigando Outliers\n",
    "explorer = mtb.EDA(train_neg)\n",
    "explorer.multi_boxplots(['amount', 'step','oldbalanceOrg','newbalanceOrig','oldbalanceDest','newbalanceDest'])"
   ]
  },
  {
   "cell_type": "code",
   "execution_count": 10,
   "metadata": {
    "ExecuteTime": {
     "end_time": "2020-11-15T18:53:48.995112Z",
     "start_time": "2020-11-15T18:53:46.212279Z"
    },
    "execution": {
     "iopub.execute_input": "2020-11-01T14:44:48.834027Z",
     "iopub.status.busy": "2020-11-01T14:44:48.833852Z",
     "iopub.status.idle": "2020-11-01T14:44:50.220971Z",
     "shell.execute_reply": "2020-11-01T14:44:50.220457Z",
     "shell.execute_reply.started": "2020-11-01T14:44:48.834005Z"
    }
   },
   "outputs": [
    {
     "data": {
      "text/plain": [
       "(2346304, 10)"
      ]
     },
     "execution_count": 10,
     "metadata": {},
     "output_type": "execute_result"
    }
   ],
   "source": [
    "# Eliminando os Outliers - Pandas\n",
    "\n",
    "# Passada 1\n",
    "for var in ['amount', 'step', 'oldbalanceOrg', 'newbalanceOrig', 'oldbalanceDest', 'newbalanceDest']:\n",
    "    treino = drop_outliers(var, train_neg)\n",
    "\n",
    "# Passada 2\n",
    "for var in ['amount', 'step', 'oldbalanceOrg', 'newbalanceOrig', 'oldbalanceDest', 'newbalanceDest']:\n",
    "    treino1 = drop_outliers(var, treino)\n",
    "\n",
    "treino1.shape"
   ]
  },
  {
   "cell_type": "code",
   "execution_count": 11,
   "metadata": {
    "ExecuteTime": {
     "end_time": "2020-11-15T18:53:54.120376Z",
     "start_time": "2020-11-15T18:53:52.543050Z"
    }
   },
   "outputs": [
    {
     "data": {
      "text/plain": [
       "(2346304, 10)"
      ]
     },
     "execution_count": 11,
     "metadata": {},
     "output_type": "execute_result"
    }
   ],
   "source": [
    "# Eliminando os Outliers - Vaex\n",
    "\n",
    "# Separando as observações com classe positiva\n",
    "train_pos_vaex = train_vaex[train_vaex['isFraud']==1]\n",
    "train_neg_vaex = train_vaex[train_vaex['isFraud']==0]\n",
    "\n",
    "# Passada 1\n",
    "for var in ['amount', 'step', 'oldbalanceOrg', 'newbalanceOrig', 'oldbalanceDest', 'newbalanceDest']:\n",
    "    treino_vaex = drop_outliers_vaex(var, train_neg_vaex)\n",
    "\n",
    "# Passada 2 \n",
    "for var in ['amount', 'step', 'oldbalanceOrg', 'newbalanceOrig', 'oldbalanceDest', 'newbalanceDest']:  \n",
    "    treino_vaex1 = drop_outliers_vaex(var, treino_vaex)\n",
    "\n",
    "treino_vaex1.shape"
   ]
  },
  {
   "cell_type": "code",
   "execution_count": 11,
   "metadata": {
    "ExecuteTime": {
     "end_time": "2020-11-15T16:50:11.222521Z",
     "start_time": "2020-11-15T16:50:08.559905Z"
    },
    "execution": {
     "iopub.execute_input": "2020-11-01T14:44:50.221687Z",
     "iopub.status.busy": "2020-11-01T14:44:50.221572Z",
     "iopub.status.idle": "2020-11-01T14:44:53.077101Z",
     "shell.execute_reply": "2020-11-01T14:44:53.076517Z",
     "shell.execute_reply.started": "2020-11-01T14:44:50.221671Z"
    }
   },
   "outputs": [
    {
     "data": {
      "image/png": "[encoded data removed]",
      "text/plain": [
       "<Figure size 1296x720 with 6 Axes>"
      ]
     },
     "metadata": {
      "needs_background": "light"
     },
     "output_type": "display_data"
    }
   ],
   "source": [
    "explorer1 = mtb.EDA(treino1)\n",
    "explorer1.multi_boxplots(['amount', 'step','oldbalanceOrg','newbalanceOrig','oldbalanceDest','newbalanceDest'])"
   ]
  },
  {
   "cell_type": "code",
   "execution_count": 12,
   "metadata": {
    "ExecuteTime": {
     "end_time": "2020-11-15T18:54:16.789446Z",
     "start_time": "2020-11-15T18:54:16.389964Z"
    },
    "execution": {
     "iopub.execute_input": "2020-11-01T14:44:53.077791Z",
     "iopub.status.busy": "2020-11-01T14:44:53.077675Z",
     "iopub.status.idle": "2020-11-01T14:44:53.377160Z",
     "shell.execute_reply": "2020-11-01T14:44:53.376499Z",
     "shell.execute_reply.started": "2020-11-01T14:44:53.077775Z"
    }
   },
   "outputs": [],
   "source": [
    "# Unindo classe negativa e positiva - Vaex\n",
    "dataset = vaex.concat([train_pos_vaex, treino_vaex1])\n",
    "\n",
    "# Unindo classe negativa e positiva - Pandas\n",
    "dataset_pd = pd.concat([train_pos, treino1], axis=0)"
   ]
  },
  {
   "cell_type": "markdown",
   "metadata": {},
   "source": [
    "# Feature Engineering"
   ]
  },
  {
   "cell_type": "markdown",
   "metadata": {},
   "source": [
    "- Criar a variável type_dest a partir da primeira letra da variável nameDest. C representa 'Customer' e M representa 'Merchant'.\n",
    "\n",
    "- Criar a variável erro_transaction, espera-se que 'amount' - (oldbalanceOrg - newbalanceOrig) seja igual a zero talvez erros maiores podem levar o modelo entender o evento de Fraude. \n",
    "\n",
    "- Criar variável por iteração 'amount' / 'step' = 'amount_step', o relacionamento do valor da transação por unidade de tempo pode nos ajudar a modelar o evento.\n",
    "\n",
    "- Criar variáveis a partir do WeightOfEvidenceEncoder. WOE é uma medida do quão bem a observação suporta ou mitiga a hipostese - H0.\n",
    "  - A partir dest_type criar woe_encoded_dest_type\n",
    "  - A partir type criar woe_encoded_type\n",
    "  \n",
    "- Criar variáveis a partir do grupamento de 'type', calculando-se a média e o desvio padrão das variáveis 'amount', 'oldbalanceOrg', 'newbalanceOrig', 'oldbalanceDest', 'newbalanceDest'. Objetivo aqui é gerar sinais que ajude o modelo a separar melhor o evento de fraude das transações comuns.\n",
    "\n",
    "- Criar variáveis aplicando transformação logaritmica nas varáveis 'amount','step', 'oldbalanceOrg', 'newbalanceOrig', 'oldbalanceDest', 'newbalanceDest'. A transformação logartmica foi escolhida por ser aproriada para lidar com skew das variáveis citadas anteriormente.\n",
    "\n",
    "- Realizar o binning, utilizando a estrátegia de k-means, com o objetivo de agrupar as variáveis 'amount','step', 'oldbalanceOrg', 'newbalanceOrig', 'oldbalanceDest', 'newbalanceDest' em 5 grupos colocando os dados em uma mesma escala e a divisão em grupos irá auxiliar o modelo a aprender os eventos de fraude. "
   ]
  },
  {
   "cell_type": "code",
   "execution_count": 17,
   "metadata": {
    "ExecuteTime": {
     "end_time": "2020-11-15T19:19:05.760783Z",
     "start_time": "2020-11-15T19:19:04.717067Z"
    }
   },
   "outputs": [],
   "source": [
    "# Splinting entre dados de treino e teste\n",
    "Xtrain_pd = dataset_pd.sample(2119065)\n",
    "Xtest_pd = dataset_pd.sample(235452)"
   ]
  },
  {
   "cell_type": "code",
   "execution_count": 18,
   "metadata": {
    "ExecuteTime": {
     "end_time": "2020-11-15T19:19:46.306242Z",
     "start_time": "2020-11-15T19:19:27.312635Z"
    },
    "execution": {
     "iopub.execute_input": "2020-11-01T14:44:53.501992Z",
     "iopub.status.busy": "2020-11-01T14:44:53.501744Z",
     "iopub.status.idle": "2020-11-01T14:45:08.197084Z",
     "shell.execute_reply": "2020-11-01T14:45:08.196633Z",
     "shell.execute_reply.started": "2020-11-01T14:44:53.501959Z"
    },
    "hide_input": false
   },
   "outputs": [],
   "source": [
    "# dest_type; 1 - Merchant e 0-Customer e Dropping 'nameOrig', 'nameDest'\n",
    "Xtrain_pd['dest_type'] = Xtrain_pd['nameDest'].apply(lambda x: 1 if x[0] == 'M' else 0)\n",
    "Xtest_pd['dest_type'] = Xtest_pd['nameDest'].apply(lambda x: 1 if x[0] == 'M' else 0)\n",
    "\n",
    "# error_transaction\n",
    "Xtrain_pd['error_transaction'] = Xtrain_pd['amount'] - (Xtrain_pd['oldbalanceOrg'] - Xtrain_pd['newbalanceOrig'])\n",
    "Xtest_pd['error_transaction'] = Xtest_pd['amount'] - (Xtest_pd['oldbalanceOrg'] - Xtest_pd['newbalanceOrig'])\n",
    "\n",
    "# amount/step\n",
    "Xtrain_pd['amount_step'] = Xtrain_pd['amount']/Xtrain_pd['step']\n",
    "Xtest_pd['amount_step'] = Xtest_pd['amount']/Xtest_pd['step']\n",
    "\n",
    "# GroupBy('amount') over Type\n",
    "group_train = Xtrain_pd.groupby('type').agg({'amount':['mean','std']}).reset_index()\n",
    "Xtrain_pd = Xtrain_pd.merge(group_train, left_on='type', right_on='type')\n",
    "\n",
    "group_test = Xtest_pd.groupby('type').agg({'amount':['mean','std']}).reset_index()\n",
    "Xtest_pd = Xtest_pd.merge(group_test, left_on='type', right_on='type')\n",
    "\n",
    "# GroupBy('oldbalanceOrg') over Type\n",
    "group_train1 = Xtrain_pd.groupby('type').agg({'oldbalanceOrg':['mean','std']}).reset_index()\n",
    "Xtrain_pd = Xtrain_pd.merge(group_train1, left_on='type', right_on='type')\n",
    "\n",
    "group_test1 = Xtest_pd.groupby('type').agg({'oldbalanceOrg':['mean','std']}).reset_index()\n",
    "Xtest_pd = Xtest_pd.merge(group_test1, left_on='type', right_on='type')\n",
    "\n",
    "# GroupBy('newbalanceOrig') over Type\n",
    "group_train2 = Xtrain_pd.groupby('type').agg({'newbalanceOrig':['mean','std']}).reset_index()\n",
    "Xtrain_pd = Xtrain_pd.merge(group_train2, left_on='type', right_on='type')\n",
    "\n",
    "group_test2 = Xtest_pd.groupby('type').agg({'newbalanceOrig':['mean','std']}).reset_index()\n",
    "Xtest_pd = Xtest_pd.merge(group_test2, left_on='type', right_on='type')\n",
    "\n",
    "# GroupBy('oldbalanceDest') over Type\n",
    "group_train3 = Xtrain_pd.groupby('type').agg({'oldbalanceDest':['mean','std']}).reset_index()\n",
    "Xtrain_pd = Xtrain_pd.merge(group_train3, left_on='type', right_on='type')\n",
    "\n",
    "group_test3 = Xtest_pd.groupby('type').agg({'oldbalanceDest':['mean','std']}).reset_index()\n",
    "Xtest_pd = Xtest_pd.merge(group_test3, left_on='type', right_on='type')\n",
    "\n",
    "# GroupBy('newbalanceDest') over Type\n",
    "group_train4 = Xtrain_pd.groupby('type').agg({'newbalanceDest':['mean','std']}).reset_index()\n",
    "Xtrain_pd = Xtrain_pd.merge(group_train4, left_on='type', right_on='type')\n",
    "\n",
    "group_test4 = Xtest_pd.groupby('type').agg({'newbalanceDest':['mean','std']}).reset_index()\n",
    "Xtest_pd = Xtest_pd.merge(group_test4, left_on='type', right_on='type')\n",
    "\n",
    "# Binning 'amount'\n",
    "Xtrain_pd['amount_bin_log'] = np.floor(np.log10(Xtrain_pd['amount']))\n",
    "Xtrain_pd['amount_bin_log'] = Xtrain_pd['amount_bin_log'].apply(lambda x: 0 if x == -np.inf else x)\n",
    "Xtrain_pd['amount_kbins_kmeans'] = KBinsDiscretizer(n_bins=5, encode='ordinal', strategy='kmeans').fit_transform(np.array(Xtrain_pd['amount']).reshape(-1,1))\n",
    "\n",
    "Xtest_pd['amount_bin_log'] = np.floor(np.log10(Xtest_pd['amount']))\n",
    "Xtest_pd['amount_bin_log'] = Xtest_pd['amount_bin_log'].apply(lambda x: 0 if x == -np.inf else x)\n",
    "Xtest_pd['amount_kbins_kmeans'] = KBinsDiscretizer(n_bins=5, encode='ordinal', strategy='kmeans').fit_transform(np.array(Xtest_pd['amount']).reshape(-1,1))\n",
    "\n",
    "# Binning 'step'\n",
    "Xtrain_pd['step_bin_log'] = np.floor(np.log10(Xtrain_pd['step']))\n",
    "Xtrain_pd['step_bin_log'] = Xtrain_pd['step_bin_log'].apply(lambda x: 0 if x == -np.inf else x)\n",
    "Xtrain_pd['step_kbins_kmeans'] = KBinsDiscretizer(n_bins=5, encode='ordinal', strategy='kmeans').fit_transform(np.array(Xtrain_pd['step']).reshape(-1,1))\n",
    "\n",
    "Xtest_pd['step_bin_log'] = np.floor(np.log10(Xtest_pd['step']))\n",
    "Xtest_pd['step_bin_log'] = Xtest_pd['step_bin_log'].apply(lambda x: 0 if x == -np.inf else x)\n",
    "Xtest_pd['step_kbins_kmeans'] = KBinsDiscretizer(n_bins=5, encode='ordinal', strategy='kmeans').fit_transform(np.array(Xtest_pd['step']).reshape(-1,1))\n",
    "\n",
    "# Binning 'oldbalanceOrg'\n",
    "Xtrain_pd['oldbalanceOrg_bin_log'] = np.floor(np.log10(Xtrain_pd['oldbalanceOrg']))\n",
    "Xtrain_pd['oldbalanceOrg_bin_log'] = Xtrain_pd['oldbalanceOrg_bin_log'].apply(lambda x: 0 if x == -np.inf else x)\n",
    "Xtrain_pd['oldbalanceOrg_kbins_kmeans'] = KBinsDiscretizer(n_bins=5, encode='ordinal', strategy='kmeans').fit_transform(np.array(Xtrain_pd['oldbalanceOrg']).reshape(-1,1))\n",
    "\n",
    "Xtest_pd['oldbalanceOrg_bin_log'] = np.floor(np.log10(Xtest_pd['oldbalanceOrg']))\n",
    "Xtest_pd['oldbalanceOrg_bin_log'] = Xtest_pd['oldbalanceOrg_bin_log'].apply(lambda x: 0 if x == -np.inf else x)\n",
    "Xtest_pd['oldbalanceOrg_kbins_kmeans'] = KBinsDiscretizer(n_bins=5, encode='ordinal', strategy='kmeans').fit_transform(np.array(Xtest_pd['oldbalanceOrg']).reshape(-1,1))\n",
    "\n",
    "# Binning 'newbalanceOrig'\n",
    "Xtrain_pd['newbalanceOrig_bin_log'] = np.floor(np.log10(Xtrain_pd['newbalanceOrig']))\n",
    "Xtrain_pd['newbalanceOrig_bin_log'] = Xtrain_pd['newbalanceOrig_bin_log'].apply(lambda x: 0 if x == -np.inf else x)\n",
    "Xtrain_pd['newbalanceOrig_kbins_kmeans'] = KBinsDiscretizer(n_bins=5, encode='ordinal', strategy='kmeans').fit_transform(np.array(Xtrain_pd['newbalanceOrig']).reshape(-1,1))\n",
    "\n",
    "Xtest_pd['newbalanceOrig_bin_log'] = np.floor(np.log10(Xtest_pd['newbalanceOrig']))\n",
    "Xtest_pd['newbalanceOrig_bin_log'] = Xtest_pd['newbalanceOrig_bin_log'].apply(lambda x: 0 if x == -np.inf else x)\n",
    "Xtest_pd['newbalanceOrig_kbins_kmeans'] = KBinsDiscretizer(n_bins=5, encode='ordinal', strategy='kmeans').fit_transform(np.array(Xtest_pd['newbalanceOrig']).reshape(-1,1))\n",
    "\n",
    "# Binning 'oldbalanceDest'\n",
    "Xtrain_pd['oldbalanceDest_bin_log'] = np.floor(np.log10(Xtrain_pd['oldbalanceDest']))\n",
    "Xtrain_pd['oldbalanceDest_bin_log'] = Xtrain_pd['oldbalanceDest_bin_log'].apply(lambda x: 0 if x == -np.inf else x)\n",
    "Xtrain_pd['oldbalanceDest_kbins_kmeans'] = KBinsDiscretizer(n_bins=5, encode='ordinal', strategy='kmeans').fit_transform(np.array(Xtrain_pd['oldbalanceDest']).reshape(-1,1))\n",
    "\n",
    "Xtest_pd['oldbalanceDest_bin_log'] = np.floor(np.log10(Xtest_pd['oldbalanceDest']))\n",
    "Xtest_pd['oldbalanceDest_bin_log'] = Xtest_pd['oldbalanceDest_bin_log'].apply(lambda x: 0 if x == -np.inf else x)\n",
    "Xtest_pd['oldbalanceDest_kbins_kmeans'] = KBinsDiscretizer(n_bins=5, encode='ordinal', strategy='kmeans').fit_transform(np.array(Xtest_pd['oldbalanceDest']).reshape(-1,1))\n",
    "\n",
    "# Binning 'newbalanceDest'\n",
    "Xtrain_pd['newbalanceDest_bin_log'] = np.floor(np.log10(Xtrain_pd['newbalanceDest']))\n",
    "Xtrain_pd['newbalanceDest_bin_log'] = Xtrain_pd['newbalanceDest_bin_log'].apply(lambda x: 0 if x == -np.inf else x)\n",
    "Xtrain_pd['newbalanceDest_kbins_kmeans'] = KBinsDiscretizer(n_bins=5, encode='ordinal', strategy='kmeans').fit_transform(np.array(Xtrain_pd['newbalanceDest']).reshape(-1,1))\n",
    "\n",
    "Xtest_pd['newbalanceDest_bin_log'] = np.floor(np.log10(Xtest_pd['newbalanceDest']))\n",
    "Xtest_pd['newbalanceDest_bin_log'] = Xtest_pd['newbalanceDest_bin_log'].apply(lambda x: 0 if x == -np.inf else x)\n",
    "Xtest_pd['newbalanceDest_kbins_kmeans'] = KBinsDiscretizer(n_bins=5, encode='ordinal', strategy='kmeans').fit_transform(np.array(Xtest_pd['newbalanceDest']).reshape(-1,1))\n",
    "\n",
    "# Droping nameOrig e nameDest\n",
    "Xtrain_pd.drop(['nameOrig','nameDest'], inplace=True, axis=1)\n",
    "Xtest_pd.drop(['nameOrig','nameDest'], inplace=True, axis=1)\n",
    "\n",
    "# Encoding 'Type'\n",
    "Xtrain_pd['type'] = Xtrain_pd['type'].apply(lambda x: 1 if x == 'TRANSFER' else 0)\n",
    "Xtest_pd['type'] = Xtest_pd['type'].apply(lambda x: 1 if x == 'TRANSFER' else 0)\n",
    "\n",
    "# convertendo para vaex dataframe\n",
    "dataset_train = vaex.from_pandas(df=Xtrain_pd)\n",
    "dataset_test = vaex.from_pandas(df=Xtest_pd)\n",
    "\n",
    "# Woe\n",
    "# dest_type\n",
    "dataset_train = vaex.ml.WeightOfEvidenceEncoder(target='isFraud', features = ['dest_type']).fit_transform(dataset_train)\n",
    "dataset_test = vaex.ml.WeightOfEvidenceEncoder(target='isFraud', features = ['dest_type']).fit_transform(dataset_test)\n",
    "\n",
    "# Type\n",
    "dataset_train = vaex.ml.WeightOfEvidenceEncoder(target='isFraud', features = ['type']).fit_transform(dataset_train)\n",
    "dataset_test = vaex.ml.WeightOfEvidenceEncoder(target='isFraud', features = ['type']).fit_transform(dataset_test)"
   ]
  },
  {
   "cell_type": "code",
   "execution_count": 19,
   "metadata": {
    "ExecuteTime": {
     "end_time": "2020-11-15T19:20:15.412194Z",
     "start_time": "2020-11-15T19:20:14.863982Z"
    }
   },
   "outputs": [],
   "source": [
    "# salvando os dados - CHECKPOINT\n",
    "dataset_train.export_hdf5('../data/dataset_trainv1.hdf5')\n",
    "dataset_test.export_hdf5('../data/dataset_testv1.hdf5')"
   ]
  },
  {
   "cell_type": "markdown",
   "metadata": {},
   "source": [
    "# Balanciamento do Dataset"
   ]
  },
  {
   "cell_type": "code",
   "execution_count": 22,
   "metadata": {
    "ExecuteTime": {
     "end_time": "2020-11-15T17:05:10.619503Z",
     "start_time": "2020-11-15T17:05:10.427541Z"
    }
   },
   "outputs": [],
   "source": [
    "train = pd.DataFrame(dataset_train.columns)\n",
    "test = pd.DataFrame(dataset_test.columns)"
   ]
  },
  {
   "cell_type": "code",
   "execution_count": 25,
   "metadata": {
    "ExecuteTime": {
     "end_time": "2020-11-15T18:11:12.186234Z",
     "start_time": "2020-11-15T17:11:53.265224Z"
    }
   },
   "outputs": [],
   "source": [
    "# SMOTE + TOMEKLINK\n",
    "X = train.drop('isFraud', axis=1)\n",
    "y = train['isFraud']\n",
    "\n",
    "smt = SMOTETomek(random_state=42)\n",
    "Xres, yres = smt.fit_resample(X, y)\n",
    "train = pd.concat([Xres, yres], axis=1)"
   ]
  },
  {
   "cell_type": "code",
   "execution_count": 29,
   "metadata": {
    "ExecuteTime": {
     "end_time": "2020-11-15T18:22:41.580450Z",
     "start_time": "2020-11-15T18:20:18.131537Z"
    }
   },
   "outputs": [],
   "source": [
    "# Salvando, pois o processo de balanciamento leva aprox 1h.\n",
    "train.to_csv('../data/train_balanced.csv')"
   ]
  },
  {
   "cell_type": "code",
   "execution_count": 31,
   "metadata": {
    "ExecuteTime": {
     "end_time": "2020-11-15T18:24:34.598934Z",
     "start_time": "2020-11-15T18:24:34.573585Z"
    }
   },
   "outputs": [
    {
     "data": {
      "text/plain": [
       "1    2111263\n",
       "0    2111263\n",
       "Name: isFraud, dtype: int64"
      ]
     },
     "execution_count": 31,
     "metadata": {},
     "output_type": "execute_result"
    }
   ],
   "source": [
    "train['isFraud'].value_counts()"
   ]
  },
  {
   "cell_type": "code",
   "execution_count": 23,
   "metadata": {
    "ExecuteTime": {
     "end_time": "2020-11-15T19:25:35.004960Z",
     "start_time": "2020-11-15T19:25:25.579829Z"
    }
   },
   "outputs": [],
   "source": [
    "# Carregando os dados balanceados\n",
    "train = pd.read_csv('../data/train_balanced.csv')\n",
    "train.drop('Unnamed: 0', inplace=True, axis=1)"
   ]
  },
  {
   "cell_type": "markdown",
   "metadata": {},
   "source": [
    "# EDA"
   ]
  },
  {
   "cell_type": "markdown",
   "metadata": {
    "heading_collapsed": true
   },
   "source": [
    "##  Análise Univariada"
   ]
  },
  {
   "cell_type": "markdown",
   "metadata": {
    "hidden": true
   },
   "source": [
    " - A partir da análise dos histogramas podemos notar um alto skew, na fase de pré-processamento será testado algumas soluções.(RobustScaler, possivelmente)\n",
    " - Também podemos notar que as variáveis criadas via Binning com transformação de log possuem um shape mais proxima de uma distribuição Gaussiana.\n",
    " - Também encontramos um padrão interessante, parece haver um acumulo de casos de Fraude em transações de maior montante financeiro. Tanto com relação a variável 'amount' quanto as variáveis de Old e New balances.\n",
    " - A partir da análise Multivariada, correlação de pearson (Númericas x Númericas) observamos que oldbalanceOrg e newbalanceOrg são altamente correlacionadas, assim como, oldbalanceDest e newbalanceDest, iremos eliminar uma variável balance de destino e uma de origem. A variável error_trasaction também esta apresentando grande correlação com a variável amount por isso iremos elimana-la também. A correlação entre as variáveis orignais e suas versões logaritimicas não passou de 0.70 manteremos elas para a etapa de Feature Selection. \n",
    " - Ainda conforme análise Multivariada, correlação de cramer v (Categóricas x Categóricas) observamos que as variáveis oldbalanceOrg_kbins_kmeans, newbalanceOrig_kbins_kmeans, oldbalanceDest_kbins_kmeans possuiam alta correlação por essa razão seram eliminadas."
   ]
  },
  {
   "cell_type": "markdown",
   "metadata": {
    "heading_collapsed": true,
    "hidden": true
   },
   "source": [
    "### Variáveis Numericas."
   ]
  },
  {
   "cell_type": "code",
   "execution_count": null,
   "metadata": {
    "ExecuteTime": {
     "end_time": "2020-11-08T22:11:11.539306Z",
     "start_time": "2020-11-08T22:11:09.477903Z"
    },
    "execution": {
     "iopub.execute_input": "2020-10-30T17:17:08.687666Z",
     "iopub.status.busy": "2020-10-30T17:17:08.687248Z",
     "iopub.status.idle": "2020-10-30T17:17:08.692461Z",
     "shell.execute_reply": "2020-10-30T17:17:08.691408Z",
     "shell.execute_reply.started": "2020-10-30T17:17:08.687619Z"
    },
    "hidden": true
   },
   "outputs": [],
   "source": [
    "#pip install ../dist/MyToolBox-0.0.1.tar.gz"
   ]
  },
  {
   "cell_type": "code",
   "execution_count": 39,
   "metadata": {
    "ExecuteTime": {
     "end_time": "2020-11-15T18:33:25.683136Z",
     "start_time": "2020-11-15T18:31:54.978190Z"
    },
    "hidden": true
   },
   "outputs": [
    {
     "data": {
      "image/png": "[encoded data removed]",
      "text/plain": [
       "<Figure size 1728x1152 with 13 Axes>"
      ]
     },
     "metadata": {
      "needs_background": "light"
     },
     "output_type": "display_data"
    }
   ],
   "source": [
    "variables = dataset_train.get_column_names(regex='scaled*') + \\\n",
    "            dataset_train.get_column_names(regex='.*_kmeans')+ \\\n",
    "            dataset_train.get_column_names(regex='.*_log')+ \\\n",
    "            ['type']\n",
    "\n",
    "n=1\n",
    "plt.figure(figsize=(24, 16))\n",
    "for column in Xtrain_pd[variables].columns:\n",
    "    plt.subplot(5, 5, n)\n",
    "    _ = sns.distplot(Xtrain_pd[column])\n",
    "    n += 1\n",
    "    \n",
    "plt.subplots_adjust(hspace=0.3)\n",
    "\n",
    "plt.show()"
   ]
  },
  {
   "cell_type": "code",
   "execution_count": 40,
   "metadata": {
    "ExecuteTime": {
     "end_time": "2020-11-15T18:34:01.149101Z",
     "start_time": "2020-11-15T18:34:00.428414Z"
    },
    "execution": {
     "iopub.execute_input": "2020-10-30T17:19:05.256377Z",
     "iopub.status.busy": "2020-10-30T17:19:05.256033Z",
     "iopub.status.idle": "2020-10-30T17:19:06.043225Z",
     "shell.execute_reply": "2020-10-30T17:19:06.042671Z",
     "shell.execute_reply.started": "2020-10-30T17:19:05.256340Z"
    },
    "hidden": true
   },
   "outputs": [],
   "source": [
    "# objeto temporario\n",
    "all_data = Xtrain_pd.copy()\n",
    "\n",
    "# amount\n",
    "all_data['amount_bin'] = pd.qcut(all_data['amount'], q=10)\n",
    "\n",
    "# step\n",
    "all_data['step_bin'] = pd.qcut(all_data['step'], q=10)\n",
    "\n",
    "# oldbalanceOrg'\n",
    "all_data['oldbalanceOrg_bin'] = pd.qcut(all_data['oldbalanceOrg'], q=10, duplicates='drop')\n",
    "\n",
    "# newbalanceOrig\n",
    "all_data['newbalanceOrig_bin'] = pd.qcut(all_data['newbalanceOrig'], q=10, duplicates='drop')\n",
    "\n",
    "obj_temp = all_data.loc[all_data['isFraud']==1, ]\n",
    "obj_temp['counter'] = 1"
   ]
  },
  {
   "cell_type": "markdown",
   "metadata": {
    "execution": {
     "iopub.execute_input": "2020-10-25T15:31:59.674965Z",
     "iopub.status.busy": "2020-10-25T15:31:59.674587Z",
     "iopub.status.idle": "2020-10-25T15:31:59.678738Z",
     "shell.execute_reply": "2020-10-25T15:31:59.677878Z",
     "shell.execute_reply.started": "2020-10-25T15:31:59.674924Z"
    },
    "hidden": true
   },
   "source": [
    "### Faixas de Fraude 'amount_bin'."
   ]
  },
  {
   "cell_type": "code",
   "execution_count": 41,
   "metadata": {
    "ExecuteTime": {
     "end_time": "2020-11-15T18:34:19.388916Z",
     "start_time": "2020-11-15T18:34:19.210103Z"
    },
    "execution": {
     "iopub.execute_input": "2020-10-30T17:19:08.124727Z",
     "iopub.status.busy": "2020-10-30T17:19:08.124354Z",
     "iopub.status.idle": "2020-10-30T17:19:08.285150Z",
     "shell.execute_reply": "2020-10-30T17:19:08.284780Z",
     "shell.execute_reply.started": "2020-10-30T17:19:08.124687Z"
    },
    "hidden": true
   },
   "outputs": [
    {
     "data": {
      "text/plain": [
       "<AxesSubplot:xlabel='amount_bin'>"
      ]
     },
     "execution_count": 41,
     "metadata": {},
     "output_type": "execute_result"
    },
    {
     "data": {
      "image/png": "[encoded data removed]",
      "text/plain": [
       "<Figure size 432x288 with 1 Axes>"
      ]
     },
     "metadata": {
      "needs_background": "light"
     },
     "output_type": "display_data"
    }
   ],
   "source": [
    "# Plot 'amount'\n",
    "obj_temp.groupby('amount_bin').count()['counter'].plot(kind='bar')"
   ]
  },
  {
   "cell_type": "code",
   "execution_count": 42,
   "metadata": {
    "ExecuteTime": {
     "end_time": "2020-11-15T18:34:37.298981Z",
     "start_time": "2020-11-15T18:34:37.288546Z"
    },
    "execution": {
     "iopub.execute_input": "2020-10-30T17:19:08.359220Z",
     "iopub.status.busy": "2020-10-30T17:19:08.358854Z",
     "iopub.status.idle": "2020-10-30T17:19:08.377414Z",
     "shell.execute_reply": "2020-10-30T17:19:08.376916Z",
     "shell.execute_reply.started": "2020-10-30T17:19:08.359181Z"
    },
    "hidden": true
   },
   "outputs": [
    {
     "data": {
      "text/plain": [
       "amount_bin\n",
       "(-0.001, 32082.808]         664\n",
       "(32082.808, 62941.436]      469\n",
       "(62941.436, 93796.082]      370\n",
       "(93796.082, 126208.634]     376\n",
       "(126208.634, 161411.73]     332\n",
       "(161411.73, 201857.378]     310\n",
       "(201857.378, 252057.42]     330\n",
       "(252057.42, 322471.862]     369\n",
       "(322471.862, 457409.0]      596\n",
       "(457409.0, 10000000.0]     3622\n",
       "Name: counter, dtype: int64"
      ]
     },
     "execution_count": 42,
     "metadata": {},
     "output_type": "execute_result"
    }
   ],
   "source": [
    "# Tabela com a quantidade de fraudes por faixa 'amount_bin'\n",
    "obj_temp.groupby('amount_bin').count()['counter']"
   ]
  },
  {
   "cell_type": "markdown",
   "metadata": {
    "heading_collapsed": true,
    "hidden": true
   },
   "source": [
    "### Faixas de Fraude 'step_bin'."
   ]
  },
  {
   "cell_type": "code",
   "execution_count": null,
   "metadata": {
    "ExecuteTime": {
     "end_time": "2020-11-10T21:32:43.306300Z",
     "start_time": "2020-11-10T21:32:43.180871Z"
    },
    "execution": {
     "iopub.execute_input": "2020-10-30T17:19:09.419815Z",
     "iopub.status.busy": "2020-10-30T17:19:09.419433Z",
     "iopub.status.idle": "2020-10-30T17:19:09.558881Z",
     "shell.execute_reply": "2020-10-30T17:19:09.558458Z",
     "shell.execute_reply.started": "2020-10-30T17:19:09.419774Z"
    },
    "hidden": true
   },
   "outputs": [],
   "source": [
    "# Plot\n",
    "obj_temp.groupby('step_bin').count()['counter'].plot(kind='bar')"
   ]
  },
  {
   "cell_type": "code",
   "execution_count": null,
   "metadata": {
    "ExecuteTime": {
     "end_time": "2020-11-10T21:32:44.047958Z",
     "start_time": "2020-11-10T21:32:44.038593Z"
    },
    "execution": {
     "iopub.execute_input": "2020-10-30T17:19:09.729169Z",
     "iopub.status.busy": "2020-10-30T17:19:09.728735Z",
     "iopub.status.idle": "2020-10-30T17:19:09.743629Z",
     "shell.execute_reply": "2020-10-30T17:19:09.743072Z",
     "shell.execute_reply.started": "2020-10-30T17:19:09.729128Z"
    },
    "hidden": true
   },
   "outputs": [],
   "source": [
    "# Tabela com a quantidade de fraudes por faixa 'step_bin'\n",
    "obj_temp.groupby('step_bin').count()['counter']"
   ]
  },
  {
   "cell_type": "markdown",
   "metadata": {
    "heading_collapsed": true,
    "hidden": true
   },
   "source": [
    "### Faixas de Fraude 'oldbalanceOrg_bin'."
   ]
  },
  {
   "cell_type": "code",
   "execution_count": null,
   "metadata": {
    "ExecuteTime": {
     "end_time": "2020-11-10T21:37:09.437132Z",
     "start_time": "2020-11-10T21:37:09.328202Z"
    },
    "execution": {
     "iopub.execute_input": "2020-10-30T17:19:10.526413Z",
     "iopub.status.busy": "2020-10-30T17:19:10.526013Z",
     "iopub.status.idle": "2020-10-30T17:19:10.649784Z",
     "shell.execute_reply": "2020-10-30T17:19:10.649267Z",
     "shell.execute_reply.started": "2020-10-30T17:19:10.526369Z"
    },
    "hidden": true
   },
   "outputs": [],
   "source": [
    "# Plot\n",
    "obj_temp.groupby('oldbalanceOrg_bin').count()['counter'].plot(kind='bar')"
   ]
  },
  {
   "cell_type": "code",
   "execution_count": null,
   "metadata": {
    "ExecuteTime": {
     "end_time": "2020-11-10T21:37:13.054682Z",
     "start_time": "2020-11-10T21:37:13.042385Z"
    },
    "execution": {
     "iopub.execute_input": "2020-10-30T17:19:10.840712Z",
     "iopub.status.busy": "2020-10-30T17:19:10.840274Z",
     "iopub.status.idle": "2020-10-30T17:19:10.855343Z",
     "shell.execute_reply": "2020-10-30T17:19:10.854600Z",
     "shell.execute_reply.started": "2020-10-30T17:19:10.840663Z"
    },
    "hidden": true
   },
   "outputs": [],
   "source": [
    "# Tabela com a quantidade de fraudes por faixa 'oldbalanceOrg_bin'\n",
    "obj_temp.groupby('oldbalanceOrg_bin').count()['counter']"
   ]
  },
  {
   "cell_type": "markdown",
   "metadata": {
    "heading_collapsed": true,
    "hidden": true
   },
   "source": [
    "###  Faixas de Fraude 'newbalanceOrig_bin'."
   ]
  },
  {
   "cell_type": "code",
   "execution_count": null,
   "metadata": {
    "ExecuteTime": {
     "end_time": "2020-11-10T21:46:46.393713Z",
     "start_time": "2020-11-10T21:46:46.285895Z"
    },
    "execution": {
     "iopub.execute_input": "2020-10-30T17:19:11.734149Z",
     "iopub.status.busy": "2020-10-30T17:19:11.733568Z",
     "iopub.status.idle": "2020-10-30T17:19:11.989611Z",
     "shell.execute_reply": "2020-10-30T17:19:11.989046Z",
     "shell.execute_reply.started": "2020-10-30T17:19:11.734065Z"
    },
    "hidden": true
   },
   "outputs": [],
   "source": [
    "# Tabela com a quantidade de fraudes por faixa 'oldbalanceOrg_bin'\n",
    "obj_temp.groupby('newbalanceOrig_bin').count()['counter'].plot(kind='bar')"
   ]
  },
  {
   "cell_type": "code",
   "execution_count": null,
   "metadata": {
    "ExecuteTime": {
     "end_time": "2020-11-10T21:46:47.481803Z",
     "start_time": "2020-11-10T21:46:47.469619Z"
    },
    "execution": {
     "iopub.execute_input": "2020-10-30T17:19:12.031284Z",
     "iopub.status.busy": "2020-10-30T17:19:12.030882Z",
     "iopub.status.idle": "2020-10-30T17:19:12.048452Z",
     "shell.execute_reply": "2020-10-30T17:19:12.047911Z",
     "shell.execute_reply.started": "2020-10-30T17:19:12.031238Z"
    },
    "hidden": true
   },
   "outputs": [],
   "source": [
    "# Tabela com a quantidade de fraudes por faixa 'oldbalanceOrg_bin'\n",
    "obj_temp.groupby('newbalanceOrig_bin').count()['counter']"
   ]
  },
  {
   "cell_type": "markdown",
   "metadata": {
    "heading_collapsed": true
   },
   "source": [
    "## Análise Multivariada"
   ]
  },
  {
   "cell_type": "markdown",
   "metadata": {
    "heading_collapsed": true,
    "hidden": true
   },
   "source": [
    "###  Variáveis Númericas"
   ]
  },
  {
   "cell_type": "code",
   "execution_count": null,
   "metadata": {
    "ExecuteTime": {
     "end_time": "2020-11-10T22:01:08.742961Z",
     "start_time": "2020-11-10T22:01:07.487799Z"
    },
    "execution": {
     "iopub.execute_input": "2020-10-31T14:43:30.270187Z",
     "iopub.status.busy": "2020-10-31T14:43:30.269845Z",
     "iopub.status.idle": "2020-10-31T14:43:30.896075Z",
     "shell.execute_reply": "2020-10-31T14:43:30.895552Z",
     "shell.execute_reply.started": "2020-10-31T14:43:30.270152Z"
    },
    "hidden": true
   },
   "outputs": [],
   "source": [
    "# Correlação de Pearson.\n",
    "variaveis = ['amount',\n",
    "             'error_transaction',\n",
    "             'amount_step', \n",
    "             'step',\n",
    "             'oldbalanceOrg',\n",
    "             'newbalanceOrig',\n",
    "             'oldbalanceDest',\n",
    "             'newbalanceDest',\n",
    "             'amount_bin_log',\n",
    "             'step_bin_log',\n",
    "             'oldbalanceOrg_bin_log',\n",
    "             'oldbalanceDest_bin_log',\n",
    "             'newbalanceOrig_bin_log',\n",
    "             'newbalanceDest_bin_log']\n",
    "\n",
    "Myheat_map(dataset=dataset_pd, variaveis=variaveis)"
   ]
  },
  {
   "cell_type": "markdown",
   "metadata": {
    "heading_collapsed": true,
    "hidden": true
   },
   "source": [
    "###  Variáveis Númericas - Eliminando as variáveis com alta correlação"
   ]
  },
  {
   "cell_type": "code",
   "execution_count": null,
   "metadata": {
    "ExecuteTime": {
     "end_time": "2020-11-10T22:30:31.343089Z",
     "start_time": "2020-11-10T22:30:30.429336Z"
    },
    "execution": {
     "iopub.execute_input": "2020-10-30T17:43:31.514139Z",
     "iopub.status.busy": "2020-10-30T17:43:31.513515Z",
     "iopub.status.idle": "2020-10-30T17:43:31.980381Z",
     "shell.execute_reply": "2020-10-30T17:43:31.979818Z",
     "shell.execute_reply.started": "2020-10-30T17:43:31.514090Z"
    },
    "hidden": true
   },
   "outputs": [],
   "source": [
    "# Correlação de Pearson.\n",
    "variaveis = ['amount',\n",
    "             'amount_step', \n",
    "             'step',\n",
    "             'oldbalanceOrg',\n",
    "             'newbalanceDest',\n",
    "             'amount_bin_log',\n",
    "             'step_bin_log',\n",
    "             'oldbalanceOrg_bin_log',\n",
    "             'oldbalanceDest_bin_log',\n",
    "             'newbalanceOrig_bin_log',\n",
    "             'newbalanceDest_bin_log']\n",
    "\n",
    "Myheat_map(dataset=dataset_pd, variaveis=variaveis)"
   ]
  },
  {
   "cell_type": "markdown",
   "metadata": {
    "heading_collapsed": true,
    "hidden": true
   },
   "source": [
    "###  Variáveis Númericas - Target"
   ]
  },
  {
   "cell_type": "code",
   "execution_count": null,
   "metadata": {
    "ExecuteTime": {
     "end_time": "2020-11-10T22:31:18.055484Z",
     "start_time": "2020-11-10T22:31:17.348125Z"
    },
    "execution": {
     "iopub.execute_input": "2020-10-31T14:49:35.294297Z",
     "iopub.status.busy": "2020-10-31T14:49:35.293950Z",
     "iopub.status.idle": "2020-10-31T14:49:35.932734Z",
     "shell.execute_reply": "2020-10-31T14:49:35.932075Z",
     "shell.execute_reply.started": "2020-10-31T14:49:35.294256Z"
    },
    "hidden": true
   },
   "outputs": [],
   "source": [
    "from scipy.stats import pointbiserialr\n",
    "\n",
    "# Variáveis númericas\n",
    "num_vars =  ['amount',\n",
    "             'error_transaction',\n",
    "             'amount_step', \n",
    "             'step',\n",
    "             'oldbalanceOrg',\n",
    "             'newbalanceOrig',\n",
    "             'oldbalanceDest',\n",
    "             'newbalanceDest',\n",
    "             'amount_bin_log',\n",
    "             'step_bin_log',\n",
    "             'oldbalanceOrg_bin_log',\n",
    "             'oldbalanceDest_bin_log',\n",
    "             'newbalanceOrig_bin_log',\n",
    "             'newbalanceDest_bin_log']\n",
    "\n",
    "# Correlações\n",
    "corrs = [pointbiserialr(dataset_pd['isFraud'], dataset_pd[var])[0] for var in num_vars]\n",
    "df_corr = pd.DataFrame({'isFraud': corrs}, index=num_vars)\n",
    "\n",
    "# Plot Matrix\n",
    "fig, ax = plt.subplots()\n",
    "plt.subplot(1, 2, 1)\n",
    "sns.heatmap(df_corr, annot=True, annot_kws={\"fontsize\":14}, cmap='viridis')\n",
    "plt.title(\"Pointbiserialr\")"
   ]
  },
  {
   "cell_type": "markdown",
   "metadata": {
    "heading_collapsed": true,
    "hidden": true
   },
   "source": [
    "###  Variáveis Categóricas - Cramers v"
   ]
  },
  {
   "cell_type": "code",
   "execution_count": null,
   "metadata": {
    "ExecuteTime": {
     "end_time": "2020-11-10T22:36:23.909205Z",
     "start_time": "2020-11-10T22:36:23.203486Z"
    },
    "execution": {
     "iopub.execute_input": "2020-10-31T16:35:35.541649Z",
     "iopub.status.busy": "2020-10-31T16:35:35.541248Z",
     "iopub.status.idle": "2020-10-31T16:42:48.132984Z",
     "shell.execute_reply": "2020-10-31T16:42:48.132246Z",
     "shell.execute_reply.started": "2020-10-31T16:35:35.541604Z"
    },
    "hidden": true
   },
   "outputs": [],
   "source": [
    "# Variáveis Categoricas\n",
    "cols = [\n",
    "        'type',\n",
    "        'amount_kbins_kmeans',\n",
    "        'step_kbins_kmeans',\n",
    "        'oldbalanceOrg_kbins_kmeans',\n",
    "        'newbalanceOrig_kbins_kmeans',\n",
    "        'oldbalanceDest_kbins_kmeans',\n",
    "        'newbalanceDest_kbins_kmeans',\n",
    "        'isFraud'\n",
    "        ]\n",
    "\n",
    "# Sample pois nosso Dataset é muito grande\n",
    "treino_sample = dataset_pd.sample(5000)\n",
    "\n",
    "# alterando o tipo de dados para 'category'\n",
    "for col in cols:\n",
    "    treino_sample[col] = treino_sample[col].astype('category')\n",
    "\n",
    "# Dicionario para registro das correlações\n",
    "dict = {\n",
    "        'type': [],\n",
    "        'amount_kbins_kmeans': [],\n",
    "        'step_kbins_kmeans': [],\n",
    "        'oldbalanceOrg_kbins_kmeans': [],\n",
    "        'newbalanceOrig_kbins_kmeans': [],\n",
    "        'oldbalanceDest_kbins_kmeans': [],\n",
    "        'newbalanceDest_kbins_kmeans': [],\n",
    "        'isFraud': []\n",
    "        }\n",
    "\n",
    "\n",
    "for col in cols:\n",
    "    for col1 in cols:\n",
    "        corr = cramer_v(treino_sample[col], treino_sample[col1])\n",
    "        dict[col].append(corr)"
   ]
  },
  {
   "cell_type": "code",
   "execution_count": null,
   "metadata": {
    "ExecuteTime": {
     "end_time": "2020-11-10T22:36:26.615380Z",
     "start_time": "2020-11-10T22:36:26.609187Z"
    },
    "execution": {
     "iopub.execute_input": "2020-10-31T16:42:48.134012Z",
     "iopub.status.busy": "2020-10-31T16:42:48.133845Z",
     "iopub.status.idle": "2020-10-31T16:42:48.139725Z",
     "shell.execute_reply": "2020-10-31T16:42:48.138952Z",
     "shell.execute_reply.started": "2020-10-31T16:42:48.133988Z"
    },
    "hidden": true
   },
   "outputs": [],
   "source": [
    "# Matriz de Correlação\n",
    "df_cramer = pd.DataFrame(dict)\n",
    "df_cramer = df_cramer.set_index(df_cramer.columns)"
   ]
  },
  {
   "cell_type": "code",
   "execution_count": null,
   "metadata": {
    "ExecuteTime": {
     "end_time": "2020-11-10T22:36:27.755255Z",
     "start_time": "2020-11-10T22:36:27.417015Z"
    },
    "execution": {
     "iopub.execute_input": "2020-10-31T16:42:48.141266Z",
     "iopub.status.busy": "2020-10-31T16:42:48.141078Z",
     "iopub.status.idle": "2020-10-31T16:42:48.938778Z",
     "shell.execute_reply": "2020-10-31T16:42:48.938253Z",
     "shell.execute_reply.started": "2020-10-31T16:42:48.141242Z"
    },
    "hidden": true
   },
   "outputs": [],
   "source": [
    "# HeatMap\n",
    "\n",
    "fig, ax = plt.subplots()\n",
    "ax.figure.set_size_inches(16, 6)\n",
    "\n",
    "mask = np.triu(np.ones_like(df_cramer, dtype=np.bool))\n",
    "sns.heatmap(df_cramer, mask=mask, linewidths=.5, annot=True, annot_kws={\"fontsize\":14}, cmap='viridis')\n",
    "plt.title(\"Cramér V\")"
   ]
  },
  {
   "cell_type": "markdown",
   "metadata": {
    "heading_collapsed": true,
    "hidden": true
   },
   "source": [
    "###  Variáveis Categóricas - Cramers v"
   ]
  },
  {
   "cell_type": "code",
   "execution_count": null,
   "metadata": {
    "ExecuteTime": {
     "end_time": "2020-11-10T22:39:24.562749Z",
     "start_time": "2020-11-10T22:39:24.059337Z"
    },
    "execution": {
     "iopub.execute_input": "2020-10-30T17:44:28.039412Z",
     "iopub.status.busy": "2020-10-30T17:44:28.038836Z",
     "iopub.status.idle": "2020-10-30T17:44:30.356836Z",
     "shell.execute_reply": "2020-10-30T17:44:30.356188Z",
     "shell.execute_reply.started": "2020-10-30T17:44:28.039368Z"
    },
    "hidden": true
   },
   "outputs": [],
   "source": [
    "# Variáveis Categoricas, eliminando oldbalanceOrg_kbins_kmeans, newbalanceOrig_kbins_kmeans, oldbalanceDest_kbins_kmeans\n",
    "cols = [\n",
    "        'type',\n",
    "        'amount_kbins_kmeans',\n",
    "        'step_kbins_kmeans',\n",
    "        'newbalanceDest_kbins_kmeans',\n",
    "        'isFraud'\n",
    "        ]\n",
    "\n",
    "# Sample pois nosso Dataset é muito grande\n",
    "treino_sample = dataset_pd.sample(5000)\n",
    "\n",
    "# alterando o tipo de dados para 'category'\n",
    "for col in cols:\n",
    "    treino_sample[col] = treino_sample[col].astype('category')\n",
    "\n",
    "# Dicionario para registro das correlações\n",
    "dictt = {\n",
    "        'type': [],\n",
    "        'amount_kbins_kmeans': [],\n",
    "        'step_kbins_kmeans': [],\n",
    "        'newbalanceDest_kbins_kmeans': [],\n",
    "        'isFraud': []\n",
    "        }\n",
    "\n",
    "\n",
    "for col in cols:\n",
    "    for col1 in cols:\n",
    "        corr = cramer_v(treino_sample[col], treino_sample[col1])\n",
    "        dictt[col].append(corr)\n",
    "\n",
    "# Matriz de Correlação\n",
    "df_cramer1 = pd.DataFrame(dictt)\n",
    "df_cramer1 = df_cramer1.set_index(df_cramer1.columns)\n",
    "\n",
    "# HeatMap\n",
    "\n",
    "fig, ax = plt.subplots()\n",
    "ax.figure.set_size_inches(16, 6)\n",
    "\n",
    "mask = np.triu(np.ones_like(df_cramer1, dtype=np.bool))\n",
    "sns.heatmap(df_cramer1, mask=mask, linewidths=.5, annot=True, annot_kws={\"fontsize\":14}, cmap='viridis')\n",
    "plt.title(\"Cramér V\")"
   ]
  },
  {
   "cell_type": "markdown",
   "metadata": {
    "heading_collapsed": true
   },
   "source": [
    "## Teste de Hiposteses"
   ]
  },
  {
   "cell_type": "code",
   "execution_count": null,
   "metadata": {
    "ExecuteTime": {
     "end_time": "2020-11-10T22:41:06.723336Z",
     "start_time": "2020-11-10T22:41:06.660891Z"
    },
    "execution": {
     "iopub.execute_input": "2020-10-30T17:57:17.727432Z",
     "iopub.status.busy": "2020-10-30T17:57:17.726832Z",
     "iopub.status.idle": "2020-10-30T17:57:17.737156Z",
     "shell.execute_reply": "2020-10-30T17:57:17.736426Z",
     "shell.execute_reply.started": "2020-10-30T17:57:17.727364Z"
    },
    "hidden": true
   },
   "outputs": [],
   "source": [
    "from PIL import Image\n",
    "Image.open(\"../img/map_mental.jpg\")"
   ]
  },
  {
   "cell_type": "markdown",
   "metadata": {
    "hidden": true
   },
   "source": [
    "Lista de Hipóteses!\n",
    "\n",
    "1. O montante fraudado é maior para o 'type' transfer!\n",
    "2. O percentual de error_transaction é maior que 50%!\n",
    "3. O montante fraudado é maior com o 'dest_type' Customers que Merchant!\n",
    "4. O oldbalanceOrig é sempre diferente de 0, já que se deve ter saldo para realizar uma transação!\n",
    "5. A quantidade de transações fraudulentas é maior para o tipo de Origem 'Customer'!\n",
    "6. A conta de uma transação fraudulenta 'TRANSFER' bate com a conta Origem de um CASH-OUT!\n",
    "7. A quantidade de transações fraudulentas é maior na modalidade 'TRANSFER'!"
   ]
  },
  {
   "cell_type": "markdown",
   "metadata": {
    "heading_collapsed": true,
    "hidden": true
   },
   "source": [
    "###  H1 O montante fraudado é maior para o 'type' TRANSFER! [TRUE]"
   ]
  },
  {
   "cell_type": "code",
   "execution_count": null,
   "metadata": {
    "ExecuteTime": {
     "end_time": "2020-11-10T22:41:10.453119Z",
     "start_time": "2020-11-10T22:41:10.440378Z"
    },
    "execution": {
     "iopub.execute_input": "2020-10-30T17:57:21.081709Z",
     "iopub.status.busy": "2020-10-30T17:57:21.080757Z",
     "iopub.status.idle": "2020-10-30T17:57:21.636470Z",
     "shell.execute_reply": "2020-10-30T17:57:21.633931Z",
     "shell.execute_reply.started": "2020-10-30T17:57:21.081657Z"
    },
    "hidden": true
   },
   "outputs": [],
   "source": [
    "dados_temp = dataset_pd.loc[dataset_pd['isFraud']==1, ]\n",
    "\n",
    "AMOUNT_TRANSFER = dados_temp.loc[dados_temp['type']== 1, 'amount'].sum()\n",
    "AMOUNT_CASH_OUT = dados_temp.loc[dados_temp['type']== 0, 'amount'].sum()\n",
    "\n",
    "print(f'\\n Montante de observações TRANSFER: {AMOUNT_TRANSFER}')\n",
    "print(f'Montante de observações CASH_OUT: {AMOUNT_CASH_OUT}\\n')"
   ]
  },
  {
   "cell_type": "markdown",
   "metadata": {
    "heading_collapsed": true,
    "hidden": true
   },
   "source": [
    "###  H2 O percentual de error_transaction é maior que 50%[TRUE]!"
   ]
  },
  {
   "cell_type": "code",
   "execution_count": null,
   "metadata": {
    "ExecuteTime": {
     "end_time": "2020-11-10T22:41:12.533973Z",
     "start_time": "2020-11-10T22:41:12.366309Z"
    },
    "execution": {
     "iopub.execute_input": "2020-10-30T17:57:23.720600Z",
     "iopub.status.busy": "2020-10-30T17:57:23.719649Z",
     "iopub.status.idle": "2020-10-30T17:57:24.023612Z",
     "shell.execute_reply": "2020-10-30T17:57:24.022276Z",
     "shell.execute_reply.started": "2020-10-30T17:57:23.720535Z"
    },
    "hidden": true
   },
   "outputs": [],
   "source": [
    "# Erro\n",
    "erro_acima_0 = dataset_pd.loc[dataset_pd['error_transaction'] != 0, ]\n",
    "\n",
    "#Percentual do erro sobre dataset\n",
    "perc_error = round(erro_acima_0.shape[0]/treino.shape[0]*100, 2)\n",
    "print(f'O percentual de transações com erro são de {perc_error}')"
   ]
  },
  {
   "cell_type": "markdown",
   "metadata": {
    "heading_collapsed": true,
    "hidden": true
   },
   "source": [
    "###  H3 O montante fraudado é maior com o 'dest_type' Customers que Merchant![TRUE]"
   ]
  },
  {
   "cell_type": "code",
   "execution_count": null,
   "metadata": {
    "ExecuteTime": {
     "end_time": "2020-11-10T22:41:15.725983Z",
     "start_time": "2020-11-10T22:41:15.709775Z"
    },
    "execution": {
     "iopub.execute_input": "2020-10-30T17:58:12.506110Z",
     "iopub.status.busy": "2020-10-30T17:58:12.505622Z",
     "iopub.status.idle": "2020-10-30T17:58:12.520291Z",
     "shell.execute_reply": "2020-10-30T17:58:12.519755Z",
     "shell.execute_reply.started": "2020-10-30T17:58:12.506068Z"
    },
    "hidden": true
   },
   "outputs": [],
   "source": [
    "dados_temp1 = dataset_pd.loc[dataset_pd['isFraud'] == 1, ['amount','dest_type']]\n",
    "\n",
    "# Montantes\n",
    "AMOUNT_CUSTOMER = round(dados_temp1.loc[dados_temp1['dest_type']==0, 'amount'].sum(),2)\n",
    "AMOUNT_MERCHANT = round(dados_temp1.loc[dados_temp1['dest_type']==1, 'amount'].sum(),2)\n",
    "\n",
    "# Report\n",
    "print(f'Quantidade de observações Customers: {AMOUNT_CUSTOMER}')\n",
    "print(f'Quantidade de observações Merchant: {AMOUNT_MERCHANT}\\n')"
   ]
  },
  {
   "cell_type": "markdown",
   "metadata": {
    "heading_collapsed": true,
    "hidden": true
   },
   "source": [
    "### H4 O oldbalanceOrig é sempre diferente de 0, já que se deve ter saldo para realizar uma transação![FALSE]"
   ]
  },
  {
   "cell_type": "code",
   "execution_count": null,
   "metadata": {
    "ExecuteTime": {
     "end_time": "2020-11-10T22:41:17.384984Z",
     "start_time": "2020-11-10T22:41:17.268866Z"
    },
    "execution": {
     "iopub.execute_input": "2020-10-30T17:58:42.046840Z",
     "iopub.status.busy": "2020-10-30T17:58:42.046416Z",
     "iopub.status.idle": "2020-10-30T17:58:44.398157Z",
     "shell.execute_reply": "2020-10-30T17:58:44.396766Z",
     "shell.execute_reply.started": "2020-10-30T17:58:42.046797Z"
    },
    "hidden": true
   },
   "outputs": [],
   "source": [
    "# Percentual de operações amount != de zero oldBalanceOrig e newBalanceOrig são iguais a 0\n",
    "\n",
    "quant_orig = dataset_pd.loc[(dataset_pd['amount'] != 0) & (dataset_pd['oldbalanceOrg'] == 0) & (dataset_pd['newbalanceOrig'] == 0), ]\n",
    "\n",
    "perc_quant_orig = round(quant_orig.shape[0]/dataset_pd.shape[0], 2)*100\n",
    "print(f'O percentual de casos onde o amount é diferente de 0 com oldbalanceDest e newbalanceDest iguais {perc_quant_orig}%')"
   ]
  },
  {
   "cell_type": "markdown",
   "metadata": {
    "heading_collapsed": true,
    "hidden": true
   },
   "source": [
    "###  H5 A quantidade de transações fraudulentas é maior para o tipo de Origem 'Customer'![TRUE]"
   ]
  },
  {
   "cell_type": "code",
   "execution_count": null,
   "metadata": {
    "ExecuteTime": {
     "end_time": "2020-11-10T22:41:22.155159Z",
     "start_time": "2020-11-10T22:41:21.141260Z"
    },
    "execution": {
     "iopub.execute_input": "2020-10-30T17:59:32.160931Z",
     "iopub.status.busy": "2020-10-30T17:59:32.159909Z",
     "iopub.status.idle": "2020-10-30T17:59:33.466874Z",
     "shell.execute_reply": "2020-10-30T17:59:33.466311Z",
     "shell.execute_reply.started": "2020-10-30T17:59:32.160889Z"
    },
    "hidden": true
   },
   "outputs": [],
   "source": [
    "# cheando o tipo origem.\n",
    "treino['nameOrig'].str[0].unique()"
   ]
  },
  {
   "cell_type": "markdown",
   "metadata": {
    "hidden": true
   },
   "source": [
    "Obs: O tipo de origen 'Customer' é unico tipo de origem neste dataset!"
   ]
  },
  {
   "cell_type": "code",
   "execution_count": null,
   "metadata": {
    "ExecuteTime": {
     "end_time": "2020-11-10T22:41:23.714215Z",
     "start_time": "2020-11-10T22:41:23.705366Z"
    },
    "execution": {
     "iopub.execute_input": "2020-10-30T17:59:43.813110Z",
     "iopub.status.busy": "2020-10-30T17:59:43.811781Z",
     "iopub.status.idle": "2020-10-30T17:59:43.823058Z",
     "shell.execute_reply": "2020-10-30T17:59:43.822325Z",
     "shell.execute_reply.started": "2020-10-30T17:59:43.813035Z"
    },
    "hidden": true
   },
   "outputs": [],
   "source": [
    "# Montantes\n",
    "QUANT_CUSTOMER = dados_temp1.loc[dados_temp1['dest_type']==0, 'amount'].shape[0]\n",
    "QUANT_MERCHANT = dados_temp1.loc[dados_temp1['dest_type']==1, 'amount'].shape[0]\n",
    "\n",
    "# Report\n",
    "print(f'Quantidade de observações Customers: {QUANT_CUSTOMER}')\n",
    "print(f'Quantidade de observações Merchant: {QUANT_MERCHANT}\\n')"
   ]
  },
  {
   "cell_type": "markdown",
   "metadata": {
    "heading_collapsed": true,
    "hidden": true
   },
   "source": [
    "### H6 A conta de uma transação fraudulenta 'TRANSFER' bate com a conta Origem de um CASH-OUT![FALSE]"
   ]
  },
  {
   "cell_type": "code",
   "execution_count": null,
   "metadata": {
    "ExecuteTime": {
     "end_time": "2020-11-10T22:41:26.946354Z",
     "start_time": "2020-11-10T22:41:26.748716Z"
    },
    "execution": {
     "iopub.execute_input": "2020-10-30T17:59:45.086691Z",
     "iopub.status.busy": "2020-10-30T17:59:45.086254Z",
     "iopub.status.idle": "2020-10-30T17:59:45.352743Z",
     "shell.execute_reply": "2020-10-30T17:59:45.351424Z",
     "shell.execute_reply.started": "2020-10-30T17:59:45.086648Z"
    },
    "hidden": true
   },
   "outputs": [],
   "source": [
    "CONTA_ORIG = treino1.loc[(treino1['isFraud']==1) & (treino1['type']=='TRANSFER'), 'nameDest']\n",
    "CONTA_DEST = treino1.loc[(treino1['isFraud']==1) & (treino1['type']=='CASH_OUT'), 'nameOrig']\n",
    "\n",
    "resultado = set(CONTA_ORIG).intersection(set(CONTA_DEST))\n",
    "print(f'Contas encontradas:{len(resultado)}')"
   ]
  },
  {
   "cell_type": "markdown",
   "metadata": {
    "hidden": true
   },
   "source": [
    "Nosso dataset não segue um padrão de fraude comum. de uma operação de 'TRANSFER' para uma conta fria seguida de um 'CASH_OUT'."
   ]
  },
  {
   "cell_type": "markdown",
   "metadata": {
    "heading_collapsed": true,
    "hidden": true
   },
   "source": [
    "###  H7 A quantidade de transações fraudulentas é maior na modalidade 'TRANSFER'!"
   ]
  },
  {
   "cell_type": "code",
   "execution_count": null,
   "metadata": {
    "ExecuteTime": {
     "end_time": "2020-11-10T22:41:28.505624Z",
     "start_time": "2020-11-10T22:41:28.485498Z"
    },
    "execution": {
     "iopub.execute_input": "2020-10-30T17:59:46.986254Z",
     "iopub.status.busy": "2020-10-30T17:59:46.985770Z",
     "iopub.status.idle": "2020-10-30T17:59:49.174759Z",
     "shell.execute_reply": "2020-10-30T17:59:49.173976Z",
     "shell.execute_reply.started": "2020-10-30T17:59:46.986213Z"
    },
    "hidden": true
   },
   "outputs": [],
   "source": [
    "# Montantes\n",
    "QUANT_TRANSFER = dataset_pd.loc[(dataset_pd['isFraud']==1) & (dataset_pd['type']==1), 'amount'].shape[0]\n",
    "QUANT_MERCHANT = dataset_pd.loc[(dataset_pd['isFraud']==1) & (dataset_pd['type']==0), 'amount'].shape[0]\n",
    "\n",
    "# Report\n",
    "print(f'Quantidade de observações Customers: {QUANT_CUSTOMER}')\n",
    "print(f'Quantidade de observações Merchant: {QUANT_MERCHANT}\\n')"
   ]
  },
  {
   "cell_type": "markdown",
   "metadata": {},
   "source": [
    "#  Feature Selection"
   ]
  },
  {
   "cell_type": "code",
   "execution_count": 53,
   "metadata": {
    "ExecuteTime": {
     "end_time": "2020-11-15T20:05:40.541330Z",
     "start_time": "2020-11-15T20:05:39.948109Z"
    }
   },
   "outputs": [
    {
     "data": {
      "text/plain": [
       "0    750286\n",
       "1    749714\n",
       "Name: isFraud, dtype: int64"
      ]
     },
     "execution_count": 53,
     "metadata": {},
     "output_type": "execute_result"
    }
   ],
   "source": [
    "# Sampling data para seleção de features.\n",
    "sampled_train = train.sample(1500000)\n",
    "sampled_train['isFraud'].value_counts()"
   ]
  },
  {
   "cell_type": "code",
   "execution_count": 58,
   "metadata": {
    "ExecuteTime": {
     "end_time": "2020-11-15T20:30:42.529661Z",
     "start_time": "2020-11-15T20:27:35.127539Z"
    },
    "execution": {
     "iopub.execute_input": "2020-10-31T17:14:41.330726Z",
     "iopub.status.busy": "2020-10-31T17:14:41.330331Z",
     "iopub.status.idle": "2020-10-31T17:48:21.513225Z",
     "shell.execute_reply": "2020-10-31T17:48:21.512637Z",
     "shell.execute_reply.started": "2020-10-31T17:14:41.330682Z"
    }
   },
   "outputs": [
    {
     "name": "stderr",
     "output_type": "stream",
     "text": [
      "100%|██████████| 10/10 [03:07<00:00, 18.71s/it]"
     ]
    },
    {
     "name": "stdout",
     "output_type": "stream",
     "text": [
      "0 attributes confirmed important: []\n",
      "32 attributes confirmed unimportant: ['amount_kbins_kmeans', 'dest_type', 'newbalanceDest', 'oldbalanceOrgmean', 'oldbalanceDest_bin_log', 'step_kbins_kmeans', 'newbalanceDestmean', 'newbalanceOrig', 'amount_step', 'step', 'oldbalanceOrg', 'newbalanceOrig_bin_log', 'amountstd', 'amountmean', 'newbalanceOrigstd', 'oldbalanceDestmean', 'oldbalanceOrg_bin_log', 'oldbalanceDest_kbins_kmeans', 'newbalanceDeststd', 'newbalanceDest_kbins_kmeans', 'oldbalanceOrgstd', 'newbalanceOrigmean', 'amount', 'newbalanceDest_bin_log', 'step_bin_log', 'amount_bin_log', 'oldbalanceDeststd', 'oldbalanceDest', 'oldbalanceOrg_kbins_kmeans', 'type', 'newbalanceOrig_kbins_kmeans', 'error_transaction']\n",
      "0 tentative attributes remains: []\n"
     ]
    },
    {
     "name": "stderr",
     "output_type": "stream",
     "text": [
      "\n"
     ]
    }
   ],
   "source": [
    "# Variaveis que não foram elimiandas durante anlise multivariada\n",
    "variaveis = dataset_train.column_names[0:33]\n",
    "sampled_train.columns = dataset_train.column_names[0:33]\n",
    "\n",
    "# Data\n",
    "y = sampled_train['isFraud']\n",
    "X = sampled_train[variaveis].drop('isFraud', axis=1)\n",
    "\n",
    "model = XGBClassifier()\n",
    "\n",
    "# Selecionador de Features\n",
    "Feature_Selector = BorutaShap(model=model,\n",
    "                              importance_measure='shap',\n",
    "                              classification=True, )\n",
    "\n",
    "Feature_Selector.fit(X=X,y=y, n_trials=10, random_state=1)"
   ]
  },
  {
   "cell_type": "code",
   "execution_count": 29,
   "metadata": {
    "ExecuteTime": {
     "end_time": "2020-11-15T19:32:31.526697Z",
     "start_time": "2020-11-15T19:32:31.519822Z"
    },
    "execution": {
     "iopub.execute_input": "2020-10-31T17:54:38.700567Z",
     "iopub.status.busy": "2020-10-31T17:54:38.700307Z",
     "iopub.status.idle": "2020-10-31T17:54:38.828333Z",
     "shell.execute_reply": "2020-10-31T17:54:38.827699Z",
     "shell.execute_reply.started": "2020-10-31T17:54:38.700539Z"
    }
   },
   "outputs": [
    {
     "data": {
      "text/html": [
       "<div>\n",
       "<style scoped>\n",
       "    .dataframe tbody tr th:only-of-type {\n",
       "        vertical-align: middle;\n",
       "    }\n",
       "\n",
       "    .dataframe tbody tr th {\n",
       "        vertical-align: top;\n",
       "    }\n",
       "\n",
       "    .dataframe thead th {\n",
       "        text-align: right;\n",
       "    }\n",
       "</style>\n",
       "<table border=\"1\" class=\"dataframe\">\n",
       "  <thead>\n",
       "    <tr style=\"text-align: right;\">\n",
       "      <th></th>\n",
       "    </tr>\n",
       "  </thead>\n",
       "  <tbody>\n",
       "    <tr>\n",
       "      <th>871686</th>\n",
       "    </tr>\n",
       "    <tr>\n",
       "      <th>2313615</th>\n",
       "    </tr>\n",
       "    <tr>\n",
       "      <th>677782</th>\n",
       "    </tr>\n",
       "    <tr>\n",
       "      <th>3495660</th>\n",
       "    </tr>\n",
       "    <tr>\n",
       "      <th>240177</th>\n",
       "    </tr>\n",
       "  </tbody>\n",
       "</table>\n",
       "</div>"
      ],
      "text/plain": [
       "Empty DataFrame\n",
       "Columns: []\n",
       "Index: [871686, 2313615, 677782, 3495660, 240177]"
      ]
     },
     "execution_count": 29,
     "metadata": {},
     "output_type": "execute_result"
    }
   ],
   "source": [
    "subset = Feature_Selector.Subset()\n",
    "subset.head()"
   ]
  },
  {
   "cell_type": "markdown",
   "metadata": {
    "heading_collapsed": true,
    "toc-hr-collapsed": true,
    "toc-nb-collapsed": true
   },
   "source": [
    "# Modelagem Machine Learning / Avaliação dos Modelos"
   ]
  },
  {
   "cell_type": "markdown",
   "metadata": {
    "hidden": true
   },
   "source": [
    "- Pipeline 1 - StandardScaler() nas variáveis numericas sem considerar feature selection.\n",
    "- Pipeline 2 - StandardScaler() nas variáveis numericas somente com as variáveis selecionadas"
   ]
  },
  {
   "cell_type": "markdown",
   "metadata": {
    "hidden": true
   },
   "source": [
    "## Pipeline-1 - SGDC com Log loss"
   ]
  },
  {
   "cell_type": "markdown",
   "metadata": {
    "ExecuteTime": {
     "end_time": "2020-11-14T22:43:30.920116Z",
     "start_time": "2020-11-14T22:43:30.917363Z"
    },
    "hidden": true
   },
   "source": [
    "### Pipeline1 - Arrumando os Dados"
   ]
  },
  {
   "cell_type": "code",
   "execution_count": null,
   "metadata": {
    "ExecuteTime": {
     "end_time": "2020-11-15T09:09:27.251915Z",
     "start_time": "2020-11-15T09:09:25.543848Z"
    },
    "hidden": true
   },
   "outputs": [],
   "source": [
    "# Threading option.\n",
    "vaex.multithreading.thread_count_default = 16\n",
    "\n",
    "# Definindo as features para a transformação\n",
    "features = ['step', \n",
    "            'amount', \n",
    "            'oldbalanceOrg',\n",
    "            'newbalanceOrig',\n",
    "            'oldbalanceDest',\n",
    "            'newbalanceDest', \n",
    "            'error_transaction',\n",
    "            'amount_step',\n",
    "            'amountmean',\n",
    "            'amountstd',\n",
    "            'oldbalanceOrgmean',\n",
    "            'oldbalanceOrgstd',\n",
    "            'newbalanceOrigmean',\n",
    "            'newbalanceOrigstd',\n",
    "            'oldbalanceDestmean',\n",
    "            'oldbalanceDeststd',\n",
    "            'newbalanceDestmean',\n",
    "            'newbalanceDeststd',\n",
    "            'amount_bin_log',\n",
    "            'step_bin_log',\n",
    "            'oldbalanceOrg_bin_log',\n",
    "            'newbalanceOrig_bin_log',\n",
    "            'oldbalanceDest_bin_log',\n",
    "            'newbalanceDest_bin_log',\n",
    "            'woe_encoded_dest_type',\n",
    "            'woe_encoded_type']\n",
    "\n",
    "# Scaler.\n",
    "scaler = vaex.ml.StandardScaler(features=features, prefix='scaled_')\n",
    "\n",
    "# Transformando os dados de treino.\n",
    "scaler.fit(df_train)\n",
    "df_train_scaled = scaler.transform(df_train)\n",
    "\n",
    "# Transformando os dados de teste.\n",
    "#df_test_scaled = scaler.transform(df_test)\n",
    "\n",
    "# Features de treino\n",
    "features_train = df_train_scaled.get_column_names(regex='scaled*') + \\\n",
    "                 df_train_scaled.get_column_names(regex='.*_kmeans')+ \\\n",
    "                 ['type']"
   ]
  },
  {
   "cell_type": "code",
   "execution_count": null,
   "metadata": {
    "ExecuteTime": {
     "end_time": "2020-11-15T08:55:47.839122Z",
     "start_time": "2020-11-15T08:55:46.805399Z"
    },
    "execution": {
     "iopub.execute_input": "2020-11-01T14:45:46.428471Z",
     "iopub.status.busy": "2020-11-01T14:45:46.428079Z",
     "iopub.status.idle": "2020-11-01T14:45:46.454621Z",
     "shell.execute_reply": "2020-11-01T14:45:46.453901Z",
     "shell.execute_reply.started": "2020-11-01T14:45:46.428429Z"
    },
    "hidden": true
   },
   "outputs": [],
   "source": [
    "# Definindo o modelo\n",
    "model = SGDClassifier(loss='log', \n",
    "                      eta0=0.001, \n",
    "                      learning_rate='constant',\n",
    "                      random_state=42)\n",
    "\n",
    "# Treinamento Incremental\n",
    "vaex_model_log = IncrementalPredictor(features=features_train, \n",
    "                                      target='isFraud', \n",
    "                                      model=model,\n",
    "                                      batch_size=1_000_00,\n",
    "                                      partial_fit_kwargs={'classes':[0,1]},\n",
    "                                      num_epochs=1,\n",
    "                                      shuffle=False,\n",
    "                                      prediction_name='prediction')\n",
    "\n",
    "vaex_model_log.fit(df=df_train_scaled, progress='widget')\n",
    "\n",
    "# Previsões sobre os dados de teste\n",
    "#df_test_scaled = df_test_scaled[features_train]\n",
    "df_log = vaex_model_log.transform(df_train_scaled)\n",
    "df_log"
   ]
  },
  {
   "cell_type": "code",
   "execution_count": null,
   "metadata": {
    "ExecuteTime": {
     "end_time": "2020-11-15T09:17:36.460780Z",
     "start_time": "2020-11-15T09:17:36.435290Z"
    },
    "hidden": true
   },
   "outputs": [],
   "source": [
    "# Previsões em dados de teste\n",
    "\n",
    "\n",
    "# Salvando o state dos dados de treino\n",
    "state = df_train_scaled.state_get()\n",
    "\n",
    "# Passando o state para os dados de teste\n",
    "df_test.state_set(state)\n",
    "\n",
    "# checkando os dados de teste\n",
    "df_test.head()[features_train + ['prediction']]"
   ]
  },
  {
   "cell_type": "markdown",
   "metadata": {
    "hidden": true
   },
   "source": [
    "## Pipeline-1 - SGDC com Perceptron loss"
   ]
  },
  {
   "cell_type": "code",
   "execution_count": null,
   "metadata": {
    "ExecuteTime": {
     "end_time": "2020-11-15T08:55:58.879785Z",
     "start_time": "2020-11-15T08:55:57.880021Z"
    },
    "hidden": true
   },
   "outputs": [],
   "source": [
    "# Definindo o modelo\n",
    "model = SGDClassifier(loss='perceptron', \n",
    "                      eta0=0.001, \n",
    "                      learning_rate='constant',\n",
    "                      random_state=42)\n",
    "\n",
    "# Treinamento Incremental\n",
    "vaex_model_perc = IncrementalPredictor(features=features_train, \n",
    "                                  target='isFraud', \n",
    "                                  model=model,\n",
    "                                  batch_size=1_000_00,\n",
    "                                  partial_fit_kwargs={'classes':[0,1]},\n",
    "                                  num_epochs=1,\n",
    "                                  shuffle=False,\n",
    "                                  prediction_name='prediction')\n",
    "\n",
    "vaex_model_perc.fit(df=df_train_scaled, progress='widget')\n",
    "\n",
    "# Previsões sobre os dados de teste\n",
    "df_test_scaled = df_test_scaled[features_train]\n",
    "df_perc = vaex_model_perc.transform(df_test_scaled)\n",
    "df_perc"
   ]
  },
  {
   "cell_type": "markdown",
   "metadata": {
    "hidden": true
   },
   "source": [
    "## Pipeline-1 -  Xgboost"
   ]
  },
  {
   "cell_type": "code",
   "execution_count": null,
   "metadata": {
    "ExecuteTime": {
     "end_time": "2020-11-15T08:57:02.276085Z",
     "start_time": "2020-11-15T08:56:47.539187Z"
    },
    "hidden": true
   },
   "outputs": [],
   "source": [
    "from vaex.ml.xgboost import XGBoostModel\n",
    "\n",
    "# Sampling\n",
    "dataset = dataset.sample(1000000)\n",
    "\n",
    "# Spliting dados em treino e teste\n",
    "df_train, df_test = dataset.ml.train_test_split(test_size=0.1, verbose=False)\n",
    "\n",
    "# Scaler.\n",
    "scaler = vaex.ml.StandardScaler(features=features, prefix='scaled_')\n",
    "\n",
    "# Transformando os dados de treino.\n",
    "scaler.fit(df_train)\n",
    "df_train_scaled = scaler.transform(df_train)\n",
    "\n",
    "# Transformando os dados de teste.\n",
    "df_test_scaled = scaler.transform(df_test)\n",
    "\n",
    "# Features para treinamento\n",
    "features_train = df_train_scaled.get_column_names(regex='scaled*') + \\\n",
    "                 df_train_scaled.get_column_names(regex='.*_kmeans')+ \\\n",
    "                 ['type']\n",
    "\n",
    "# Grid de Parametros\n",
    "params = {'learning_rate': 0.01,\n",
    "          'max_depth': 5,\n",
    "          'objective': 'binary:hinge',\n",
    "          'eval_metric': 'auc',\n",
    "          'subsample': 1,\n",
    "          'random_state': 42,\n",
    "          'n_jobs': -1}\n",
    "\n",
    "# Intanciando e treinando o modelo\n",
    "booster = XGBoostModel(features=features_train, \n",
    "                       target='isFraud', \n",
    "                       num_boost_round=500,\n",
    "                       params=params)\n",
    "\n",
    "booster.fit(df=df_train_scaled, \n",
    "            evals=[(df_train_scaled, 'train'),(df_test_scaled, 'test')], \n",
    "            early_stopping_rounds=5)\n",
    "\n",
    "# Gerando as Previsões\n",
    "df_test_scaled = df_test_scaled[features_train]\n",
    "dataset_test = booster.transform(df_test_scaled)\n",
    "dataset_test"
   ]
  },
  {
   "cell_type": "markdown",
   "metadata": {
    "hidden": true
   },
   "source": [
    "## Pipelines-2 - SGDC com Log Loss"
   ]
  },
  {
   "cell_type": "code",
   "execution_count": null,
   "metadata": {
    "hidden": true
   },
   "outputs": [],
   "source": []
  },
  {
   "cell_type": "markdown",
   "metadata": {
    "hidden": true
   },
   "source": [
    "## Pipelines-2 - SGDC com Perceptron Loss"
   ]
  },
  {
   "cell_type": "code",
   "execution_count": null,
   "metadata": {
    "hidden": true
   },
   "outputs": [],
   "source": []
  },
  {
   "cell_type": "markdown",
   "metadata": {
    "hidden": true
   },
   "source": [
    "## Pipeline-2 -  Xgboost"
   ]
  },
  {
   "cell_type": "code",
   "execution_count": null,
   "metadata": {
    "hidden": true
   },
   "outputs": [],
   "source": []
  },
  {
   "cell_type": "code",
   "execution_count": null,
   "metadata": {
    "execution": {
     "iopub.execute_input": "2020-10-31T23:03:53.414431Z",
     "iopub.status.busy": "2020-10-31T23:03:53.414006Z"
    },
    "hidden": true
   },
   "outputs": [],
   "source": [
    "# Features - variáveis numericas escolhidas pelo BorutaShap.\n",
    "# features = ['step',\n",
    "#             'oldbalanceOrg', \n",
    "#             'newbalanceOrig_bin_log', \n",
    "#             'newbalanceDest',\n",
    "#             'amount_step', \n",
    "#             'amount',\n",
    "#             'oldbalanceDest_bin_log'\n",
    "#             ]"
   ]
  },
  {
   "cell_type": "code",
   "execution_count": null,
   "metadata": {
    "hidden": true
   },
   "outputs": [],
   "source": []
  },
  {
   "cell_type": "code",
   "execution_count": null,
   "metadata": {
    "hidden": true
   },
   "outputs": [],
   "source": []
  },
  {
   "cell_type": "code",
   "execution_count": null,
   "metadata": {
    "hidden": true
   },
   "outputs": [],
   "source": []
  },
  {
   "cell_type": "code",
   "execution_count": null,
   "metadata": {
    "hidden": true,
    "toc-hr-collapsed": true,
    "toc-nb-collapsed": true
   },
   "outputs": [],
   "source": []
  },
  {
   "cell_type": "code",
   "execution_count": null,
   "metadata": {
    "hidden": true
   },
   "outputs": [],
   "source": []
  },
  {
   "cell_type": "code",
   "execution_count": null,
   "metadata": {
    "hidden": true
   },
   "outputs": [],
   "source": []
  }
 ],
 "metadata": {
  "kernelspec": {
   "display_name": "project-block-fraud (3.8.6)",
   "language": "python",
   "name": "project-block-fraud-38"
  },
  "language_info": {
   "codemirror_mode": {
    "name": "ipython",
    "version": 3
   },
   "file_extension": ".py",
   "mimetype": "text/x-python",
   "name": "python",
   "nbconvert_exporter": "python",
   "pygments_lexer": "ipython3",
   "version": "3.8.6"
  },
  "toc": {
   "base_numbering": 1,
   "nav_menu": {},
   "number_sections": true,
   "sideBar": true,
   "skip_h1_title": false,
   "title_cell": "Table of Contents",
   "title_sidebar": "Contents",
   "toc_cell": false,
   "toc_position": {},
   "toc_section_display": true,
   "toc_window_display": false
  },
  "toc-autonumbering": false,
  "toc-showcode": false,
  "toc-showmarkdowntxt": false,
  "toc-showtags": false,
  "varInspector": {
   "cols": {
    "lenName": 16,
    "lenType": 16,
    "lenVar": 40
   },
   "kernels_config": {
    "python": {
     "delete_cmd_postfix": "",
     "delete_cmd_prefix": "del ",
     "library": "var_list.py",
     "varRefreshCmd": "print(var_dic_list())"
    },
    "r": {
     "delete_cmd_postfix": ") ",
     "delete_cmd_prefix": "rm(",
     "library": "var_list.r",
     "varRefreshCmd": "cat(var_dic_list()) "
    }
   },
   "types_to_exclude": [
    "module",
    "function",
    "builtin_function_or_method",
    "instance",
    "_Feature"
   ],
   "window_display": false
  }
 },
 "nbformat": 4,
 "nbformat_minor": 4
}
