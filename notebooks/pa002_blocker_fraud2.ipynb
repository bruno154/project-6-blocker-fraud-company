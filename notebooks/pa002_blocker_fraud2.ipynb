{
 "cells": [
  {
   "cell_type": "markdown",
   "metadata": {
    "hide_input": false
   },
   "source": [
    "# Business Problem"
   ]
  },
  {
   "cell_type": "markdown",
   "metadata": {},
   "source": [
    "Como um Consultor de Ciência de Dados para criar um modelo de alta precisão e acurácia na detecção de fraudes de transações feitas através de dispositivos móveis.\n",
    "\n",
    "Entregáveis da consultoria:\n",
    "\n",
    "- Modelo em produção com API.\n",
    "- Relatório reportando a performance e os resultados do seu modelo em relação ao lucro e prejuízo que a empresa terá ao usar o modelo que você produziu.\n",
    "\n",
    "  No seu relatório deve conter as respostas para as seguintes perguntas:\n",
    "\n",
    " -   Qual a Precisão e Acurácia do modelo?\n",
    " -   Qual a Confiabilidade do modelo em classificar as transações como legítimas ou fraudulentas?\n",
    " -   Qual o Faturamento Esperado pela Empresa se classificarmos 100% das transações com o modelo?\n",
    " -   Qual o Prejuízo Esperado pela Empresa em caso de falha do modelo?\n",
    " -   Qual o Lucro Esperado pela Blocker Fraud Company ao utilizar o modelo?\n",
    "\n",
    "Data source: [Link](https://www.kaggle.com/ntnu-testimon/paysim1)\n",
    "\n",
    "**Index:**\n",
    "\n",
    " - 1.0 Problema de Negócio\n",
    " - 1.1 Importações de bibliotecas\n",
    " - 2.0 Coleta de Dados\n",
    " - 3.0 Descrição dos Dados\n",
    " - 4.0 Limpeza de dados\n",
    " - 5.0 Feature Engineering\n",
    " - 6.0 EDA\n",
    " - 7.0 Feature Selection\n",
    " - 8.0 Data Preparation - Pipelines\n",
    " - 9.0 Modelagem Machine Learning / Avaliação dos Modelos\n",
    " - 10.0 Interpretação do Modelo\n",
    " - 11.0 API\n",
    "\n",
    "**Estrátegia:**\n",
    "\n",
    "2.0 Coleta de Dados:\n",
    "- Coletar os dados utilizando pd.read_csv().\n",
    "\n",
    "3.0 Descrição dos Dados:\n",
    "\n",
    "- Descrever as seguintes infos por feature: percentual de missing, valores únicos, percentual de valores únicos, tipos de dados, skew, kurtosis.                                             \n",
    "- Investigar isFraud vs isFlaggedFraud para determinar qual é a variável target.\n",
    "- Descrever a variável 'type' com relação ao target.\n",
    "- Descrever outras variáveis\n",
    " \n",
    "4.0 Limpeza de dados:\n",
    "\n",
    "- Investigar e eliminar os outliers\n",
    "- Excluir os 'types' diferentes de 'TRANSFER'e 'CASH_OUT'\n",
    "- Avaliar o tamanho do dataset e decidir sobre utilizar alguma estratégia de sampling.\n",
    " \n",
    "5.0 Feature Engineering\n",
    "\n",
    "- Criar a variável type_dest a partir da primeira letra da variável nameDest. C representa 'Customer' e M representa 'Merchant'.\n",
    "\n",
    "- Criar a variável erro_transaction, espera-se que 'amount' - (oldbalanceOrg - newbalanceOrig) seja igual a zero talvez erros maiores podem levar o modelo entender o evento de Fraude. \n",
    "\n",
    "- Criar variável por iteração 'amount' / 'step' = 'amount_step', o relacionamento do valor da transação por unidade de tempo pode nos ajudar a modelar o evento.\n",
    "\n",
    "- Criar variáveis a partir do WeightOfEvidenceEncoder. WOE é uma medida do quão bem a observação suporta ou mitiga a hipostese - H0.\n",
    "  - A partir dest_type criar woe_encoded_dest_type\n",
    "  - A partir type criar woe_encoded_type\n",
    "  \n",
    "- Criar variáveis a partir do grupamento de 'type', calculando-se a média e o desvio padrão das variáveis 'amount', 'oldbalanceOrg', 'newbalanceOrig', 'oldbalanceDest', 'newbalanceDest'. Objetivo aqui é gerar sinais que ajude o modelo a separar melhor o evento de fraude das transações comuns.\n",
    "\n",
    "- Criar variáveis aplicando transformação logaritmica nas varáveis 'amount','step', 'oldbalanceOrg', 'newbalanceOrig', 'oldbalanceDest', 'newbalanceDest'. A transformação logartmica foi escolhida por ser aproriada para lidar com skew das variáveis citadas anteriormente.\n",
    "\n",
    "- Realizar o binning, utilizando a estrátegia de k-means, com o objetivo de agrupar as variáveis 'amount','step', 'oldbalanceOrg', 'newbalanceOrig', 'oldbalanceDest', 'newbalanceDest' em 5 grupos colocando os dados em uma mesma escala e a divisão em grupos irá auxiliar o modelo a aprender os eventos de fraude. \n",
    "\n",
    "6.0 EDA\n",
    "\n",
    "- Realizar análise univariada, identificar se atingimos o objetivo de diminuir a escala e tornar as distribuições mais gaussianas com relação as variáveis criadas.\n",
    "- Realizar análise Multivariada, indentificar variáveis com alta correlação entre si\n",
    "- Testar Hipóteses conforme mapa mental.\n",
    "\n",
    "7.0 Feature Selection\n",
    "\n",
    "- Aplicar BorutaShapley, utilizando valores 'shap' e um modelo com base de arvores de decisão como estimador base.\n",
    "- Aplicar BorutaShapley, testando a utilização de um modelo linear como estimador base.\n",
    "\n",
    "\n",
    "\n",
    "\n",
    "\n",
    "\n",
    "Conclusões e Resultados:\n"
   ]
  },
  {
   "cell_type": "markdown",
   "metadata": {},
   "source": [
    "##  Importações de bibliotecas"
   ]
  },
  {
   "cell_type": "code",
   "execution_count": 1,
   "metadata": {
    "ExecuteTime": {
     "end_time": "2020-11-14T01:25:30.990144Z",
     "start_time": "2020-11-14T01:25:30.917672Z"
    },
    "execution": {
     "iopub.execute_input": "2020-11-01T14:44:25.552702Z",
     "iopub.status.busy": "2020-11-01T14:44:25.552222Z",
     "iopub.status.idle": "2020-11-01T14:44:27.507926Z",
     "shell.execute_reply": "2020-11-01T14:44:27.507061Z",
     "shell.execute_reply.started": "2020-11-01T14:44:25.552581Z"
    }
   },
   "outputs": [
    {
     "ename": "ModuleNotFoundError",
     "evalue": "No module named 'pandas'",
     "output_type": "error",
     "traceback": [
      "\u001b[0;31m---------------------------------------------------------------------------\u001b[0m",
      "\u001b[0;31mModuleNotFoundError\u001b[0m                       Traceback (most recent call last)",
      "\u001b[0;32m<ipython-input-1-92174005e89b>\u001b[0m in \u001b[0;36m<module>\u001b[0;34m\u001b[0m\n\u001b[1;32m      1\u001b[0m \u001b[0;31m# Importings\u001b[0m\u001b[0;34m\u001b[0m\u001b[0;34m\u001b[0m\u001b[0;34m\u001b[0m\u001b[0m\n\u001b[0;32m----> 2\u001b[0;31m \u001b[0;32mimport\u001b[0m \u001b[0mpandas\u001b[0m \u001b[0;32mas\u001b[0m \u001b[0mpd\u001b[0m\u001b[0;34m\u001b[0m\u001b[0;34m\u001b[0m\u001b[0m\n\u001b[0m\u001b[1;32m      3\u001b[0m \u001b[0;32mimport\u001b[0m \u001b[0mnumpy\u001b[0m \u001b[0;32mas\u001b[0m \u001b[0mnp\u001b[0m\u001b[0;34m\u001b[0m\u001b[0;34m\u001b[0m\u001b[0m\n\u001b[1;32m      4\u001b[0m \u001b[0;32mimport\u001b[0m \u001b[0mtime\u001b[0m\u001b[0;34m\u001b[0m\u001b[0;34m\u001b[0m\u001b[0m\n\u001b[1;32m      5\u001b[0m \u001b[0;34m\u001b[0m\u001b[0m\n",
      "\u001b[0;31mModuleNotFoundError\u001b[0m: No module named 'pandas'"
     ]
    }
   ],
   "source": [
    "# Importings\n",
    "import pandas as pd\n",
    "import numpy as np\n",
    "import time\n",
    "\n",
    "# Importings Vaex\n",
    "import vaex\n",
    "import vaex.ml\n",
    "from vaex.ml.sklearn import Predictor, IncrementalPredictor\n",
    "\n",
    "# Data Viz\n",
    "import seaborn as sns\n",
    "import matplotlib.pyplot as plt\n",
    "\n",
    "# General Librarys\n",
    "import lightgbm as lgb\n",
    "from sklearn.svm import SVC\n",
    "from MyToolBox import MyToolBox as mtb\n",
    "from imblearn.combine import SMOTETomek\n",
    "from scipy.stats import chi2_contingency\n",
    "from sklearn.ensemble import IsolationForest\n",
    "from sklearn.preprocessing import RobustScaler\n",
    "from sklearn.pipeline import Pipeline, FeatureUnion\n",
    "from sklearn.model_selection import cross_val_score\n",
    "from sklearn.linear_model import LogisticRegression, SGDClassifier\n",
    "from sklearn.preprocessing import OrdinalEncoder, KBinsDiscretizer\n",
    "\n",
    "\n",
    "import warnings\n",
    "warnings.filterwarnings(\"ignore\")"
   ]
  },
  {
   "cell_type": "markdown",
   "metadata": {
    "execution": {
     "iopub.execute_input": "2020-10-22T20:26:26.646097Z",
     "iopub.status.busy": "2020-10-22T20:26:26.645730Z",
     "iopub.status.idle": "2020-10-22T20:26:26.650094Z",
     "shell.execute_reply": "2020-10-22T20:26:26.649143Z",
     "shell.execute_reply.started": "2020-10-22T20:26:26.646053Z"
    },
    "heading_collapsed": true
   },
   "source": [
    "##  Funções auxiliares"
   ]
  },
  {
   "cell_type": "code",
   "execution_count": 2,
   "metadata": {
    "ExecuteTime": {
     "end_time": "2020-11-13T10:12:57.736780Z",
     "start_time": "2020-11-13T10:12:57.719874Z"
    },
    "execution": {
     "iopub.execute_input": "2020-11-01T14:44:27.509245Z",
     "iopub.status.busy": "2020-11-01T14:44:27.509072Z",
     "iopub.status.idle": "2020-11-01T14:44:27.523665Z",
     "shell.execute_reply": "2020-11-01T14:44:27.522883Z",
     "shell.execute_reply.started": "2020-11-01T14:44:27.509223Z"
    },
    "hidden": true
   },
   "outputs": [],
   "source": [
    "def balanced_target(target, dataset, hue=None):\n",
    "    \"\"\"\n",
    "    Function to check the balancing of the target variable.\n",
    "\n",
    "    :target:  An pd.Series of the target variable that will be checked.\n",
    "    :dataset: An Dataframe object.\n",
    "    \"\"\"\n",
    "    sns.set(style='darkgrid', palette='Accent')\n",
    "    ax = sns.countplot(x=target, hue=hue, data=dataset)\n",
    "    ax.figure.set_size_inches(10, 6)\n",
    "    ax.set_title('Feature Distribution', fontsize=18, loc='center')\n",
    "    ax.set_xlabel(target, fontsize=14)\n",
    "    ax.set_ylabel('Count', fontsize=14)\n",
    "    ax=ax\n",
    "\n",
    "def drop_outliers(var: str, dataset: pd.DataFrame):\n",
    "\n",
    "    # Calculando os Q1, Q3 e IQR\n",
    "    Q1 = np.quantile(dataset[var], .25)\n",
    "    Q3 = np.quantile(dataset[var], .75)\n",
    "    IQR = Q3 - Q1\n",
    "\n",
    "    # calculates the outliers boundaries through statistical relationship\n",
    "    low = Q1 - 1.5 * IQR\n",
    "    high = Q3 + 1.5 * IQR\n",
    "\n",
    "    dados_resultado = dataset.loc[(dataset[var] > low) & (dataset[var] < high),]\n",
    "\n",
    "    return dados_resultado\n",
    "\n",
    "def drop_outliers_vaex(var: str, dataset_vaex):\n",
    "\n",
    "    # Calculando os Q1, Q3 e IQR\n",
    "    Q1 = np.quantile(dataset_vaex[var].to_pandas_series(), .25)\n",
    "    Q3 = np.quantile(dataset_vaex[var].to_pandas_series(), .75)\n",
    "    IQR = Q3 - Q1\n",
    "\n",
    "    # calculates the outliers boundaries through statistical relationship\n",
    "    low = Q1 - 1.5 * IQR\n",
    "    high = Q3 + 1.5 * IQR\n",
    "\n",
    "    dados_resultado = dataset_vaex[(dataset_vaex[var] > low) & (dataset_vaex[var] < high)]\n",
    "\n",
    "    return dados_resultado\n",
    "\n",
    "\n",
    "def Myheat_map(dataset, variaveis):\n",
    "\n",
    "    df_corr = dataset[variaveis].corr()\n",
    "\n",
    "    fig, ax = plt.subplots(figsize=(16, 10))\n",
    "    # mask\n",
    "    mask = np.triu(np.ones_like(df_corr, dtype=np.bool))\n",
    "    # adjust mask and df\n",
    "    mask = mask[1:, :-1]\n",
    "    corr = df_corr.iloc[1:,:-1].copy()\n",
    "    # color map\n",
    "    cmap = sns.diverging_palette(0, 230, 90, 60, as_cmap=True)\n",
    "\n",
    "    # plot heatmap\n",
    "    sns.heatmap(corr, mask=mask, annot=True, fmt=\".2f\",\n",
    "                   linewidths=5, cmap=cmap, vmin=-1, vmax=1, \n",
    "                   cbar_kws={\"shrink\": .8}, square=True)\n",
    "    yticks = [i.upper() for i in corr.index]\n",
    "    xticks = [i.upper() for i in corr.columns]\n",
    "    plt.yticks(plt.yticks()[0], labels=yticks, rotation=0)\n",
    "    plt.xticks(plt.xticks()[0], labels=xticks, rotation=20)\n",
    "\n",
    "    # title\n",
    "    title = 'CORRELATION MATRIX\\n'\n",
    "    plt.title(title, loc='left', fontsize=18)\n",
    "    plt.show()\n",
    "\n",
    "\n",
    "def cramer_v(var_x, var_y):\n",
    "    \"\"\"\n",
    "    Function to calculate the Cramers v correlation.\n",
    "\n",
    "    \"\"\"\n",
    "    # builds contigency matrix (or confusion matrix)\n",
    "    confusion_matrix_v = pd.crosstab(var_x, var_y).values\n",
    "\n",
    "    # gets the sum of all values in the matrix\n",
    "    n = confusion_matrix_v.sum()\n",
    "\n",
    "    # gets the rows, cols\n",
    "    r, k = confusion_matrix_v.shape\n",
    "\n",
    "    # gets the chi-squared\n",
    "    chi2 = chi2_contingency(confusion_matrix_v)[0]\n",
    "\n",
    "    # makes the bias correction\n",
    "    chi2corr = max(0, chi2 - (k-1) * (r-1) / (n-1))\n",
    "    kcorr = k - (k-1) ** 2 / (n-1)\n",
    "    rcorr = r - (r-1) ** 2 / (n-1)\n",
    "\n",
    "    # returns cramér V\n",
    "    return np.sqrt((chi2corr/n) / min(kcorr-1, rcorr-1))\n"
   ]
  },
  {
   "cell_type": "markdown",
   "metadata": {},
   "source": [
    "#  Coleta de Dados"
   ]
  },
  {
   "cell_type": "markdown",
   "metadata": {},
   "source": [
    "## Usando o Pandas"
   ]
  },
  {
   "cell_type": "code",
   "execution_count": 3,
   "metadata": {
    "ExecuteTime": {
     "end_time": "2020-11-13T10:13:09.243719Z",
     "start_time": "2020-11-13T10:13:02.395714Z"
    },
    "execution": {
     "iopub.execute_input": "2020-11-01T14:44:28.002560Z",
     "iopub.status.busy": "2020-11-01T14:44:28.002193Z",
     "iopub.status.idle": "2020-11-01T14:44:36.312902Z",
     "shell.execute_reply": "2020-11-01T14:44:36.311954Z",
     "shell.execute_reply.started": "2020-11-01T14:44:28.002520Z"
    }
   },
   "outputs": [
    {
     "name": "stdout",
     "output_type": "stream",
     "text": [
      "Quantidade de Colunas 11\n",
      "Quantidade de Observações 6362620\n"
     ]
    }
   ],
   "source": [
    "# With pandas\n",
    "train = pd.read_csv('../data/trans_fraud_data.csv')\n",
    "print(f'Quantidade de Colunas {train.shape[1]}')\n",
    "\n",
    "print(f'Quantidade de Observações {train.shape[0]}')"
   ]
  },
  {
   "cell_type": "markdown",
   "metadata": {},
   "source": [
    "## Usando Vaex"
   ]
  },
  {
   "cell_type": "code",
   "execution_count": 4,
   "metadata": {
    "ExecuteTime": {
     "end_time": "2020-11-13T10:13:09.382498Z",
     "start_time": "2020-11-13T10:13:09.371677Z"
    }
   },
   "outputs": [
    {
     "data": {
      "text/plain": [
       "(6362620, 11)"
      ]
     },
     "execution_count": 4,
     "metadata": {},
     "output_type": "execute_result"
    }
   ],
   "source": [
    "# With Vaex\n",
    "train_vaex = vaex.from_csv('../data/trans_fraud_data.csv', convert=True)\n",
    "train_vaex.shape"
   ]
  },
  {
   "cell_type": "markdown",
   "metadata": {
    "heading_collapsed": true,
    "toc-hr-collapsed": true,
    "toc-nb-collapsed": true
   },
   "source": [
    "# Descrição dos dados"
   ]
  },
  {
   "cell_type": "markdown",
   "metadata": {
    "hidden": true
   },
   "source": [
    "- Nosso dataset não possui missing values, conforme Mydescribe.\n",
    "- Nosso dataset está bastante desbalanciado, 2.1 isFraud vs isFlaggedFraud.\n",
    "- A partir da análise da Skew e Kurtosis(conforme Mydescribe) podemos observar que as variáveis numericas precisaram ser transformadas. O tipo de transformação será decidido mais a frente.\n",
    "- A variável isFlaggedFraud possui somente 16 observações,as quais também estão como positivas em isFraud, podemos nos desfazer dessa variável.\n",
    "- A variável 'isFraud' é a nossa variável taret nesse problema!\n",
    "- A variável 'type' possui 5 valores únicos. 'PAYMENT','TRANSFER','DEBIT','CASH_OUT'\n",
    "- Possuímos casos de fraude somente para os tipos 'TRANSFER'e 'CASH_OUT', dessa forma podemos eliminar os outros tipos já que os mesmos só irão apresentar ao modelo exemplos de não fraude, ou seja, nosso modelo não irá conseguir modelar situações de fraude (nosso objetivo) a partir desses dados.\n",
    "- A partir do describe na seção 2.2 observamos que as variáveis 'amount' e 'step' variam por diversos niveis de grandeza desde da unidade simples até a centenas, 'step', ou a milhares 'amount'. Irei criar novas variáveis aplicando Binning e excluindo as originais tendo em vista que variáveis que ultrapassam varias ordens de grandeza são problemáticas para muitos modelos."
   ]
  },
  {
   "cell_type": "code",
   "execution_count": null,
   "metadata": {
    "ExecuteTime": {
     "end_time": "2020-11-12T09:05:45.492162Z",
     "start_time": "2020-11-12T09:05:45.472672Z"
    },
    "execution": {
     "iopub.execute_input": "2020-10-31T23:00:55.932435Z",
     "iopub.status.busy": "2020-10-31T23:00:55.932308Z",
     "iopub.status.idle": "2020-10-31T23:00:55.954478Z",
     "shell.execute_reply": "2020-10-31T23:00:55.953750Z",
     "shell.execute_reply.started": "2020-10-31T23:00:55.932419Z"
    },
    "hidden": true
   },
   "outputs": [],
   "source": [
    "# Checando os primeiros registros\n",
    "train.head()"
   ]
  },
  {
   "cell_type": "code",
   "execution_count": null,
   "metadata": {
    "ExecuteTime": {
     "end_time": "2020-11-12T09:06:07.838178Z",
     "start_time": "2020-11-12T09:05:51.445496Z"
    },
    "execution": {
     "iopub.execute_input": "2020-10-31T22:08:11.518185Z",
     "iopub.status.busy": "2020-10-31T22:08:11.517990Z",
     "iopub.status.idle": "2020-10-31T22:08:28.054568Z",
     "shell.execute_reply": "2020-10-31T22:08:28.053725Z",
     "shell.execute_reply.started": "2020-10-31T22:08:11.518161Z"
    },
    "hidden": true
   },
   "outputs": [],
   "source": [
    "# Mydescribe\n",
    "pd.DataFrame({'missingPerc': train.isna().mean(),\n",
    "              'uniques': train.nunique(),\n",
    "              '%uniquePerc': (train.nunique()/train.shape[0])*100,\n",
    "              'data_types': train.dtypes,\n",
    "              'skew': train.skew(),\n",
    "              'kurtosis': train.kurt()\n",
    "               })"
   ]
  },
  {
   "cell_type": "markdown",
   "metadata": {
    "hidden": true
   },
   "source": [
    "##  isFraud vs isFlaggedFraud"
   ]
  },
  {
   "cell_type": "code",
   "execution_count": null,
   "metadata": {
    "ExecuteTime": {
     "end_time": "2020-11-12T09:06:58.063352Z",
     "start_time": "2020-11-12T09:06:57.435464Z"
    },
    "execution": {
     "iopub.execute_input": "2020-10-31T22:08:28.056097Z",
     "iopub.status.busy": "2020-10-31T22:08:28.055820Z",
     "iopub.status.idle": "2020-10-31T22:08:28.849745Z",
     "shell.execute_reply": "2020-10-31T22:08:28.849208Z",
     "shell.execute_reply.started": "2020-10-31T22:08:28.056061Z"
    },
    "hidden": true
   },
   "outputs": [],
   "source": [
    "quant = train['isFraud'].sum()\n",
    "perc = (quant/train.shape[0])*100\n",
    "print(f'Quantidade de eventos positivos - isFraud- {quant}')\n",
    "print(f'Percentual de eventos positivos - isFraud- {perc}\\n')\n",
    "\n",
    "quant1 = train['isFlaggedFraud'].sum()\n",
    "perc1 = (quant/train.shape[0])*100\n",
    "print(f'Quantidade de eventos positivos - isFlaggedFraud- {quant1}')\n",
    "print(f'Percentual de eventos positivos - isFlaggedFraud- {perc1}\\n')\n",
    "\n",
    "\n",
    "# Plots\n",
    "plt.subplot(1, 2, 1)\n",
    "balanced_target('isFraud', dataset=train)\n",
    "\n",
    "plt.subplot(1, 2, 2)\n",
    "balanced_target('isFlaggedFraud', dataset=train)"
   ]
  },
  {
   "cell_type": "code",
   "execution_count": null,
   "metadata": {
    "ExecuteTime": {
     "end_time": "2020-11-12T09:06:59.278102Z",
     "start_time": "2020-11-12T09:06:59.207159Z"
    },
    "execution": {
     "iopub.execute_input": "2020-10-31T22:08:28.851563Z",
     "iopub.status.busy": "2020-10-31T22:08:28.851380Z",
     "iopub.status.idle": "2020-10-31T22:08:28.873058Z",
     "shell.execute_reply": "2020-10-31T22:08:28.872507Z",
     "shell.execute_reply.started": "2020-10-31T22:08:28.851539Z"
    },
    "hidden": true
   },
   "outputs": [],
   "source": [
    "dadosTemp = train.loc[train['isFlaggedFraud']==1,]\n",
    "dadosTemp"
   ]
  },
  {
   "cell_type": "markdown",
   "metadata": {
    "hidden": true
   },
   "source": [
    "## Descrição variável 'type'"
   ]
  },
  {
   "cell_type": "code",
   "execution_count": null,
   "metadata": {
    "ExecuteTime": {
     "end_time": "2020-11-12T09:07:04.593083Z",
     "start_time": "2020-11-12T09:07:04.244408Z"
    },
    "execution": {
     "iopub.execute_input": "2020-10-31T22:08:28.874333Z",
     "iopub.status.busy": "2020-10-31T22:08:28.874121Z",
     "iopub.status.idle": "2020-10-31T22:08:29.245574Z",
     "shell.execute_reply": "2020-10-31T22:08:29.245047Z",
     "shell.execute_reply.started": "2020-10-31T22:08:28.874313Z"
    },
    "hidden": true
   },
   "outputs": [],
   "source": [
    "# Quantidade Fraud\n",
    "data_temp = train.loc[train['isFraud'] == 1, ]\n",
    "\n",
    "uniq = train['type'].unique()\n",
    "print(f'Valores únicos de type são {uniq}\\n')\n",
    "balanced_target('type', dataset=data_temp)"
   ]
  },
  {
   "cell_type": "markdown",
   "metadata": {
    "hidden": true
   },
   "source": [
    "## Outras Variáveis"
   ]
  },
  {
   "cell_type": "code",
   "execution_count": null,
   "metadata": {
    "ExecuteTime": {
     "end_time": "2020-11-12T09:07:09.963049Z",
     "start_time": "2020-11-12T09:07:08.568942Z"
    },
    "execution": {
     "iopub.execute_input": "2020-10-31T22:08:29.246354Z",
     "iopub.status.busy": "2020-10-31T22:08:29.246235Z",
     "iopub.status.idle": "2020-10-31T22:08:30.575951Z",
     "shell.execute_reply": "2020-10-31T22:08:30.575448Z",
     "shell.execute_reply.started": "2020-10-31T22:08:29.246338Z"
    },
    "hidden": true
   },
   "outputs": [],
   "source": [
    "# Describe\n",
    "variables = ['amount','step', 'oldbalanceOrg', 'newbalanceOrig', 'oldbalanceDest', 'newbalanceDest']\n",
    "train[variables].describe().T"
   ]
  },
  {
   "cell_type": "markdown",
   "metadata": {
    "hidden": true
   },
   "source": [
    "###  Analisando 'Amount', 'oldBalanceDest', 'newBalanceDest', 'oldBalanceOrig', 'newBalanceOrig'"
   ]
  },
  {
   "cell_type": "code",
   "execution_count": null,
   "metadata": {
    "ExecuteTime": {
     "end_time": "2020-11-12T09:07:11.931294Z",
     "start_time": "2020-11-12T09:07:11.695034Z"
    },
    "execution": {
     "iopub.execute_input": "2020-10-31T22:08:30.576691Z",
     "iopub.status.busy": "2020-10-31T22:08:30.576574Z",
     "iopub.status.idle": "2020-10-31T22:08:30.824675Z",
     "shell.execute_reply": "2020-10-31T22:08:30.824031Z",
     "shell.execute_reply.started": "2020-10-31T22:08:30.576676Z"
    },
    "hidden": true
   },
   "outputs": [],
   "source": [
    "# Percentual de operações amount != de zero oldBalanceDest e newBalanceDest são iguais a 0\n",
    "quant_dest = train.loc[(train['amount'] != 0) & (train['oldbalanceDest'] == 0) & (train['newbalanceDest'] == 0), ]\n",
    "\n",
    "perc_quant_dest = round(quant_dest.shape[0]/train.shape[0], 2)*100\n",
    "print(f'O percentual de casos onde o amount é diferente de 0 com oldbalanceDest e newbalanceDest iguais {perc_quant_dest}%')"
   ]
  },
  {
   "cell_type": "code",
   "execution_count": null,
   "metadata": {
    "ExecuteTime": {
     "end_time": "2020-11-12T09:07:12.980731Z",
     "start_time": "2020-11-12T09:07:12.763866Z"
    },
    "execution": {
     "iopub.execute_input": "2020-10-31T22:08:30.825891Z",
     "iopub.status.busy": "2020-10-31T22:08:30.825683Z",
     "iopub.status.idle": "2020-10-31T22:08:31.054669Z",
     "shell.execute_reply": "2020-10-31T22:08:31.054143Z",
     "shell.execute_reply.started": "2020-10-31T22:08:30.825866Z"
    },
    "hidden": true
   },
   "outputs": [],
   "source": [
    "# Percentual de operações amount != de zero oldBalanceOrig e newBalanceOrig são iguais a 0\n",
    "\n",
    "quant_orig = train.loc[(train['amount'] != 0) & (train['oldbalanceOrg'] == 0) & (train['newbalanceOrig'] == 0), ]\n",
    "\n",
    "perc_quant_orig = round(quant_orig.shape[0]/train.shape[0], 2)*100\n",
    "print(f'O percentual de casos onde o amount é diferente de 0 com oldbalanceDest e newbalanceDest iguais {perc_quant_orig}%')"
   ]
  },
  {
   "cell_type": "markdown",
   "metadata": {},
   "source": [
    "# Limpeza de dados"
   ]
  },
  {
   "cell_type": "markdown",
   "metadata": {},
   "source": [
    "- Conforme observado na etapa de descrição dos dados iremos eliminar a variável 'isFlaggedFraud', pois possui apenas 16 observações positivas sendo que as mesmas também são positivas para a variável 'isFraud'\n",
    "- Conforme observado na etapa de descrição dos dados iremos eliminar as observações com 'type' diferente de 'TRANSFER' e 'CASH_OUT'\n",
    "- Investigar e eliminar os outliers"
   ]
  },
  {
   "cell_type": "markdown",
   "metadata": {},
   "source": [
    "## Eliminando a variável 'isFlaggedFraud' e os 'types' PAYMENT, CASH_IN, DEBIT"
   ]
  },
  {
   "cell_type": "code",
   "execution_count": 5,
   "metadata": {
    "ExecuteTime": {
     "end_time": "2020-11-13T10:13:14.568071Z",
     "start_time": "2020-11-13T10:13:13.327535Z"
    },
    "execution": {
     "iopub.execute_input": "2020-11-01T14:44:36.314725Z",
     "iopub.status.busy": "2020-11-01T14:44:36.314421Z",
     "iopub.status.idle": "2020-11-01T14:44:38.545828Z",
     "shell.execute_reply": "2020-11-01T14:44:38.545101Z",
     "shell.execute_reply.started": "2020-11-01T14:44:36.314689Z"
    }
   },
   "outputs": [],
   "source": [
    "# Pandas\n",
    "\n",
    "# 'isFlaggedFraud'\n",
    "train.drop('isFlaggedFraud', inplace=True, axis=1)\n",
    "\n",
    "# PAYMENT, CASH_IN, DEBIT\n",
    "train = train.loc[(train['type'] == 'TRANSFER') | (train['type'] == 'CASH_OUT'), ]"
   ]
  },
  {
   "cell_type": "code",
   "execution_count": 6,
   "metadata": {
    "ExecuteTime": {
     "end_time": "2020-11-13T10:13:14.813660Z",
     "start_time": "2020-11-13T10:13:14.762782Z"
    }
   },
   "outputs": [
    {
     "data": {
      "text/plain": [
       "(2770409, 10)"
      ]
     },
     "execution_count": 6,
     "metadata": {},
     "output_type": "execute_result"
    }
   ],
   "source": [
    "# Vaex\n",
    "\n",
    "# 'isFlaggedFraud'\n",
    "train_vaex.drop('isFlaggedFraud', inplace=True, check=False)\n",
    "\n",
    "# PAYMENT, CASH_IN, DEBIT\n",
    "train_vaex = train_vaex[(train_vaex['type'] == 'TRANSFER') | (train_vaex['type'] == 'CASH_OUT')]\n",
    "train_vaex.shape"
   ]
  },
  {
   "cell_type": "markdown",
   "metadata": {
    "execution": {
     "iopub.execute_input": "2020-10-24T17:16:52.967202Z",
     "iopub.status.busy": "2020-10-24T17:16:52.966713Z",
     "iopub.status.idle": "2020-10-24T17:16:52.971875Z",
     "shell.execute_reply": "2020-10-24T17:16:52.970545Z",
     "shell.execute_reply.started": "2020-10-24T17:16:52.967139Z"
    }
   },
   "source": [
    "## Eliminando Outliers"
   ]
  },
  {
   "cell_type": "markdown",
   "metadata": {
    "heading_collapsed": true
   },
   "source": [
    "### Com as classes positivas"
   ]
  },
  {
   "cell_type": "code",
   "execution_count": null,
   "metadata": {
    "ExecuteTime": {
     "end_time": "2020-11-12T00:11:04.159566Z",
     "start_time": "2020-11-12T00:11:00.810304Z"
    },
    "execution": {
     "iopub.execute_input": "2020-11-01T14:44:38.547097Z",
     "iopub.status.busy": "2020-11-01T14:44:38.546931Z",
     "iopub.status.idle": "2020-11-01T14:44:42.251883Z",
     "shell.execute_reply": "2020-11-01T14:44:42.251258Z",
     "shell.execute_reply.started": "2020-11-01T14:44:38.547076Z"
    },
    "hidden": true
   },
   "outputs": [],
   "source": [
    "# Pandas\n",
    "# Investigando Outliers\n",
    "explorer = mtb.EDA(train)\n",
    "explorer.multi_boxplots(['amount', 'step','oldbalanceOrg','newbalanceOrig','oldbalanceDest','newbalanceDest'])"
   ]
  },
  {
   "cell_type": "code",
   "execution_count": null,
   "metadata": {
    "ExecuteTime": {
     "end_time": "2020-11-12T00:11:06.631132Z",
     "start_time": "2020-11-12T00:11:06.097770Z"
    },
    "execution": {
     "iopub.execute_input": "2020-11-01T14:44:42.252849Z",
     "iopub.status.busy": "2020-11-01T14:44:42.252711Z",
     "iopub.status.idle": "2020-11-01T14:44:42.735625Z",
     "shell.execute_reply": "2020-11-01T14:44:42.735009Z",
     "shell.execute_reply.started": "2020-11-01T14:44:42.252832Z"
    },
    "hidden": true
   },
   "outputs": [],
   "source": [
    "# Pandas\n",
    "\n",
    "# Eliminando os Outliers\n",
    "treino = drop_outliers('amount', train)\n",
    "treino = drop_outliers('oldbalanceOrg', treino)\n",
    "treino.shape"
   ]
  },
  {
   "cell_type": "code",
   "execution_count": null,
   "metadata": {
    "ExecuteTime": {
     "end_time": "2020-11-12T00:11:08.974222Z",
     "start_time": "2020-11-12T00:11:08.797520Z"
    },
    "hidden": true
   },
   "outputs": [],
   "source": [
    "# Vaex\n",
    "\n",
    "# Eliminando os Outliers\n",
    "treino_vaex = drop_outliers_vaex('amount', train_vaex)\n",
    "treino_vaex = drop_outliers_vaex('oldbalanceOrg',treino_vaex)\n",
    "treino_vaex.shape"
   ]
  },
  {
   "cell_type": "code",
   "execution_count": null,
   "metadata": {
    "ExecuteTime": {
     "end_time": "2020-11-12T00:11:13.085836Z",
     "start_time": "2020-11-12T00:11:10.911733Z"
    },
    "execution": {
     "iopub.execute_input": "2020-11-01T14:44:42.736272Z",
     "iopub.status.busy": "2020-11-01T14:44:42.736154Z",
     "iopub.status.idle": "2020-11-01T14:44:44.951059Z",
     "shell.execute_reply": "2020-11-01T14:44:44.950335Z",
     "shell.execute_reply.started": "2020-11-01T14:44:42.736256Z"
    },
    "hidden": true
   },
   "outputs": [],
   "source": [
    "# Checando as distribuições após da eliminação de outliers\n",
    "explorer1 = mtb.EDA(treino)\n",
    "explorer1.multi_boxplots(['amount', 'step','oldbalanceOrg','newbalanceOrig','oldbalanceDest','newbalanceDest'])"
   ]
  },
  {
   "cell_type": "code",
   "execution_count": null,
   "metadata": {
    "ExecuteTime": {
     "end_time": "2020-11-12T00:13:06.183444Z",
     "start_time": "2020-11-12T00:13:06.172068Z"
    },
    "execution": {
     "iopub.execute_input": "2020-11-01T14:44:44.951820Z",
     "iopub.status.busy": "2020-11-01T14:44:44.951705Z",
     "iopub.status.idle": "2020-11-01T14:44:44.961922Z",
     "shell.execute_reply": "2020-11-01T14:44:44.961069Z",
     "shell.execute_reply.started": "2020-11-01T14:44:44.951805Z"
    },
    "hidden": true
   },
   "outputs": [],
   "source": [
    "# Quantidade de observações positivas antes da limpeza de outliers.\n",
    "post = train.loc[train['isFraud']==1,].shape[0]\n",
    "print(f'Quantidade de Classes Positivas: {post} ')"
   ]
  },
  {
   "cell_type": "code",
   "execution_count": null,
   "metadata": {
    "ExecuteTime": {
     "end_time": "2020-11-12T00:13:08.342068Z",
     "start_time": "2020-11-12T00:13:08.237113Z"
    },
    "execution": {
     "iopub.execute_input": "2020-11-01T14:44:44.963029Z",
     "iopub.status.busy": "2020-11-01T14:44:44.962847Z",
     "iopub.status.idle": "2020-11-01T14:44:45.218448Z",
     "shell.execute_reply": "2020-11-01T14:44:45.217556Z",
     "shell.execute_reply.started": "2020-11-01T14:44:44.962998Z"
    },
    "hidden": true
   },
   "outputs": [],
   "source": [
    "# Quantidade de obervações positivas antes depois limpeza de outliers.\n",
    "post = treino.loc[train['isFraud']==1,].shape[0]\n",
    "print(f'Quantidade de Classes Positivas: {post} ')"
   ]
  },
  {
   "cell_type": "markdown",
   "metadata": {
    "hidden": true
   },
   "source": [
    "Estamos perdendo muitas observações positivas que já são raras neste dataset. Vamos eliminar os outliers somente das observações negativas ('isFraud'=0)"
   ]
  },
  {
   "cell_type": "markdown",
   "metadata": {},
   "source": [
    "###  Sem Classe Positiva"
   ]
  },
  {
   "cell_type": "code",
   "execution_count": 7,
   "metadata": {
    "ExecuteTime": {
     "end_time": "2020-11-13T10:13:17.208228Z",
     "start_time": "2020-11-13T10:13:16.999619Z"
    },
    "execution": {
     "iopub.execute_input": "2020-11-01T14:44:45.220330Z",
     "iopub.status.busy": "2020-11-01T14:44:45.220161Z",
     "iopub.status.idle": "2020-11-01T14:44:45.427901Z",
     "shell.execute_reply": "2020-11-01T14:44:45.427292Z",
     "shell.execute_reply.started": "2020-11-01T14:44:45.220308Z"
    }
   },
   "outputs": [],
   "source": [
    "# Separando as observações com classe positiva\n",
    "train_pos = train.loc[train['isFraud']==1,]\n",
    "train_neg = train.loc[train['isFraud']==0,]"
   ]
  },
  {
   "cell_type": "code",
   "execution_count": 8,
   "metadata": {
    "ExecuteTime": {
     "end_time": "2020-11-13T10:13:21.406154Z",
     "start_time": "2020-11-13T10:13:18.014352Z"
    },
    "execution": {
     "iopub.execute_input": "2020-11-01T14:44:45.428851Z",
     "iopub.status.busy": "2020-11-01T14:44:45.428723Z",
     "iopub.status.idle": "2020-11-01T14:44:48.833186Z",
     "shell.execute_reply": "2020-11-01T14:44:48.832327Z",
     "shell.execute_reply.started": "2020-11-01T14:44:45.428835Z"
    }
   },
   "outputs": [
    {
     "data": {
      "image/png": "[encoded data removed]",
      "text/plain": [
       "<Figure size 1296x720 with 6 Axes>"
      ]
     },
     "metadata": {
      "needs_background": "light"
     },
     "output_type": "display_data"
    }
   ],
   "source": [
    "# Investigando Outliers\n",
    "explorer = mtb.EDA(train_neg)\n",
    "explorer.multi_boxplots(['amount', 'step','oldbalanceOrg','newbalanceOrig','oldbalanceDest','newbalanceDest'])"
   ]
  },
  {
   "cell_type": "code",
   "execution_count": 9,
   "metadata": {
    "ExecuteTime": {
     "end_time": "2020-11-13T10:13:25.077241Z",
     "start_time": "2020-11-13T10:13:22.305621Z"
    },
    "execution": {
     "iopub.execute_input": "2020-11-01T14:44:48.834027Z",
     "iopub.status.busy": "2020-11-01T14:44:48.833852Z",
     "iopub.status.idle": "2020-11-01T14:44:50.220971Z",
     "shell.execute_reply": "2020-11-01T14:44:50.220457Z",
     "shell.execute_reply.started": "2020-11-01T14:44:48.834005Z"
    }
   },
   "outputs": [
    {
     "data": {
      "text/plain": [
       "(2346304, 10)"
      ]
     },
     "execution_count": 9,
     "metadata": {},
     "output_type": "execute_result"
    }
   ],
   "source": [
    "# Eliminando os Outliers - Pandas\n",
    "\n",
    "# Passada 1\n",
    "for var in ['amount', 'step', 'oldbalanceOrg', 'newbalanceOrig', 'oldbalanceDest', 'newbalanceDest']:\n",
    "    treino = drop_outliers(var, train_neg)\n",
    "\n",
    "# Passada 2\n",
    "for var in ['amount', 'step', 'oldbalanceOrg', 'newbalanceOrig', 'oldbalanceDest', 'newbalanceDest']:\n",
    "    treino1 = drop_outliers(var, treino)\n",
    "\n",
    "treino1.shape"
   ]
  },
  {
   "cell_type": "code",
   "execution_count": 10,
   "metadata": {
    "ExecuteTime": {
     "end_time": "2020-11-13T10:13:28.805937Z",
     "start_time": "2020-11-13T10:13:27.203432Z"
    }
   },
   "outputs": [
    {
     "data": {
      "text/plain": [
       "(2346304, 10)"
      ]
     },
     "execution_count": 10,
     "metadata": {},
     "output_type": "execute_result"
    }
   ],
   "source": [
    "# Eliminando os Outliers - Vaex\n",
    "\n",
    "# Separando as observações com classe positiva\n",
    "train_pos_vaex = train_vaex[train_vaex['isFraud']==1]\n",
    "train_neg_vaex = train_vaex[train_vaex['isFraud']==0]\n",
    "\n",
    "# Passada 1\n",
    "for var in ['amount', 'step', 'oldbalanceOrg', 'newbalanceOrig', 'oldbalanceDest', 'newbalanceDest']:\n",
    "    treino_vaex = drop_outliers_vaex(var, train_neg_vaex)\n",
    "\n",
    "# Passada 2 \n",
    "for var in ['amount', 'step', 'oldbalanceOrg', 'newbalanceOrig', 'oldbalanceDest', 'newbalanceDest']:  \n",
    "    treino_vaex1 = drop_outliers_vaex(var, treino_vaex)\n",
    "\n",
    "treino_vaex1.shape"
   ]
  },
  {
   "cell_type": "code",
   "execution_count": 11,
   "metadata": {
    "ExecuteTime": {
     "end_time": "2020-11-13T10:13:34.190710Z",
     "start_time": "2020-11-13T10:13:31.805722Z"
    },
    "execution": {
     "iopub.execute_input": "2020-11-01T14:44:50.221687Z",
     "iopub.status.busy": "2020-11-01T14:44:50.221572Z",
     "iopub.status.idle": "2020-11-01T14:44:53.077101Z",
     "shell.execute_reply": "2020-11-01T14:44:53.076517Z",
     "shell.execute_reply.started": "2020-11-01T14:44:50.221671Z"
    }
   },
   "outputs": [
    {
     "data": {
      "image/png": "[encoded data removed]",
      "text/plain": [
       "<Figure size 1296x720 with 6 Axes>"
      ]
     },
     "metadata": {
      "needs_background": "light"
     },
     "output_type": "display_data"
    }
   ],
   "source": [
    "explorer1 = mtb.EDA(treino1)\n",
    "explorer1.multi_boxplots(['amount', 'step','oldbalanceOrg','newbalanceOrig','oldbalanceDest','newbalanceDest'])"
   ]
  },
  {
   "cell_type": "code",
   "execution_count": 12,
   "metadata": {
    "ExecuteTime": {
     "end_time": "2020-11-13T10:13:37.566021Z",
     "start_time": "2020-11-13T10:13:37.156626Z"
    },
    "execution": {
     "iopub.execute_input": "2020-11-01T14:44:53.077791Z",
     "iopub.status.busy": "2020-11-01T14:44:53.077675Z",
     "iopub.status.idle": "2020-11-01T14:44:53.377160Z",
     "shell.execute_reply": "2020-11-01T14:44:53.376499Z",
     "shell.execute_reply.started": "2020-11-01T14:44:53.077775Z"
    }
   },
   "outputs": [],
   "source": [
    "# Unindo classe negativa e positiva - Vaex\n",
    "dataset = vaex.concat([train_pos_vaex, treino_vaex1])\n",
    "\n",
    "# Unindo classe negativa e positiva - Pandas\n",
    "dataset_pd = pd.concat([train_pos, treino1], axis=0)"
   ]
  },
  {
   "cell_type": "markdown",
   "metadata": {},
   "source": [
    "# Feature Engineering"
   ]
  },
  {
   "cell_type": "markdown",
   "metadata": {},
   "source": [
    "- Criar a variável type_dest a partir da primeira letra da variável nameDest. C representa 'Customer' e M representa 'Merchant'.\n",
    "\n",
    "- Criar a variável erro_transaction, espera-se que 'amount' - (oldbalanceOrg - newbalanceOrig) seja igual a zero talvez erros maiores podem levar o modelo entender o evento de Fraude. \n",
    "\n",
    "- Criar variável por iteração 'amount' / 'step' = 'amount_step', o relacionamento do valor da transação por unidade de tempo pode nos ajudar a modelar o evento.\n",
    "\n",
    "- Criar variáveis a partir do WeightOfEvidenceEncoder. WOE é uma medida do quão bem a observação suporta ou mitiga a hipostese - H0.\n",
    "  - A partir dest_type criar woe_encoded_dest_type\n",
    "  - A partir type criar woe_encoded_type\n",
    "  \n",
    "- Criar variáveis a partir do grupamento de 'type', calculando-se a média e o desvio padrão das variáveis 'amount', 'oldbalanceOrg', 'newbalanceOrig', 'oldbalanceDest', 'newbalanceDest'. Objetivo aqui é gerar sinais que ajude o modelo a separar melhor o evento de fraude das transações comuns.\n",
    "\n",
    "- Criar variáveis aplicando transformação logaritmica nas varáveis 'amount','step', 'oldbalanceOrg', 'newbalanceOrig', 'oldbalanceDest', 'newbalanceDest'. A transformação logartmica foi escolhida por ser aproriada para lidar com skew das variáveis citadas anteriormente.\n",
    "\n",
    "- Realizar o binning, utilizando a estrátegia de k-means, com o objetivo de agrupar as variáveis 'amount','step', 'oldbalanceOrg', 'newbalanceOrig', 'oldbalanceDest', 'newbalanceDest' em 5 grupos colocando os dados em uma mesma escala e a divisão em grupos irá auxiliar o modelo a aprender os eventos de fraude. "
   ]
  },
  {
   "cell_type": "code",
   "execution_count": 13,
   "metadata": {
    "ExecuteTime": {
     "end_time": "2020-11-13T10:14:02.565823Z",
     "start_time": "2020-11-13T10:13:41.168176Z"
    },
    "execution": {
     "iopub.execute_input": "2020-11-01T14:44:53.501992Z",
     "iopub.status.busy": "2020-11-01T14:44:53.501744Z",
     "iopub.status.idle": "2020-11-01T14:45:08.197084Z",
     "shell.execute_reply": "2020-11-01T14:45:08.196633Z",
     "shell.execute_reply.started": "2020-11-01T14:44:53.501959Z"
    },
    "hide_input": false
   },
   "outputs": [],
   "source": [
    "# dest_type; 1 - Merchant e 0-Customer e Dropping 'nameOrig', 'nameDest'\n",
    "dataset_pd['dest_type'] = dataset_pd['nameDest'].apply(lambda x: 1 if x[0] == 'M' else 0)\n",
    "\n",
    "# error_transaction\n",
    "dataset_pd['error_transaction'] = dataset_pd['amount'] - (dataset_pd['oldbalanceOrg'] - dataset_pd['newbalanceOrig'])\n",
    "\n",
    "# amount/step\n",
    "dataset_pd['amount_step'] = dataset_pd['amount']/dataset_pd['step']\n",
    "\n",
    "# GroupBy('amount') over Type\n",
    "group = dataset_pd.groupby('type').agg({'amount':['mean','std']}).reset_index()\n",
    "dataset_pd = dataset_pd.merge(group, left_on='type', right_on='type')\n",
    "\n",
    "\n",
    "# GroupBy('oldbalanceOrg') over Type\n",
    "group1 = dataset_pd.groupby('type').agg({'oldbalanceOrg':['mean','std']}).reset_index()\n",
    "dataset_pd = dataset_pd.merge(group1, left_on='type', right_on='type')\n",
    "\n",
    "# GroupBy('newbalanceOrig') over Type\n",
    "group2 = dataset_pd.groupby('type').agg({'newbalanceOrig':['mean','std']}).reset_index()\n",
    "dataset_pd = dataset_pd.merge(group2, left_on='type', right_on='type')\n",
    "\n",
    "\n",
    "# GroupBy('oldbalanceDest') over Type\n",
    "group3 = dataset_pd.groupby('type').agg({'oldbalanceDest':['mean','std']}).reset_index()\n",
    "dataset_pd = dataset_pd.merge(group3, left_on='type', right_on='type')\n",
    "\n",
    "\n",
    "# GroupBy('newbalanceDest') over Type\n",
    "group4 = dataset_pd.groupby('type').agg({'newbalanceDest':['mean','std']}).reset_index()\n",
    "dataset_pd = dataset_pd.merge(group4, left_on='type', right_on='type')\n",
    "\n",
    "\n",
    "# Binning 'amount'\n",
    "dataset_pd['amount_bin_log'] = np.floor(np.log10(dataset_pd['amount']))\n",
    "dataset_pd['amount_bin_log'] = dataset_pd['amount_bin_log'].apply(lambda x: 0 if x == -np.inf else x)\n",
    "dataset_pd['amount_kbins_kmeans'] = KBinsDiscretizer(n_bins=5, encode='ordinal', strategy='kmeans').fit_transform(np.array(dataset_pd['amount']).reshape(-1,1))\n",
    "\n",
    "# Binning 'step'\n",
    "dataset_pd['step_bin_log'] = np.floor(np.log10(dataset_pd['step']))\n",
    "dataset_pd['step_bin_log'] = dataset_pd['step_bin_log'].apply(lambda x: 0 if x == -np.inf else x)\n",
    "dataset_pd['step_kbins_kmeans'] = KBinsDiscretizer(n_bins=5, encode='ordinal', strategy='kmeans').fit_transform(np.array(dataset_pd['step']).reshape(-1,1))\n",
    "\n",
    "# Binning 'oldbalanceOrg'\n",
    "dataset_pd['oldbalanceOrg_bin_log'] = np.floor(np.log10(dataset_pd['oldbalanceOrg']))\n",
    "dataset_pd['oldbalanceOrg_bin_log'] = dataset_pd['oldbalanceOrg_bin_log'].apply(lambda x: 0 if x == -np.inf else x)\n",
    "dataset_pd['oldbalanceOrg_kbins_kmeans'] = KBinsDiscretizer(n_bins=5, encode='ordinal', strategy='kmeans').fit_transform(np.array(dataset_pd['oldbalanceOrg']).reshape(-1,1))\n",
    "\n",
    "# Binning 'newbalanceOrig'\n",
    "dataset_pd['newbalanceOrig_bin_log'] = np.floor(np.log10(dataset_pd['newbalanceOrig']))\n",
    "dataset_pd['newbalanceOrig_bin_log'] = dataset_pd['newbalanceOrig_bin_log'].apply(lambda x: 0 if x == -np.inf else x)\n",
    "dataset_pd['newbalanceOrig_kbins_kmeans'] = KBinsDiscretizer(n_bins=5, encode='ordinal', strategy='kmeans').fit_transform(np.array(dataset_pd['newbalanceOrig']).reshape(-1,1))\n",
    "\n",
    "# Binning 'oldbalanceDest'\n",
    "dataset_pd['oldbalanceDest_bin_log'] = np.floor(np.log10(dataset_pd['oldbalanceDest']))\n",
    "dataset_pd['oldbalanceDest_bin_log'] = dataset_pd['oldbalanceDest_bin_log'].apply(lambda x: 0 if x == -np.inf else x)\n",
    "dataset_pd['oldbalanceDest_kbins_kmeans'] = KBinsDiscretizer(n_bins=5, encode='ordinal', strategy='kmeans').fit_transform(np.array(dataset_pd['oldbalanceDest']).reshape(-1,1))\n",
    "\n",
    "# Binning 'newbalanceDest'\n",
    "dataset_pd['newbalanceDest_bin_log'] = np.floor(np.log10(dataset_pd['newbalanceDest']))\n",
    "dataset_pd['newbalanceDest_bin_log'] = dataset_pd['newbalanceDest_bin_log'].apply(lambda x: 0 if x == -np.inf else x)\n",
    "dataset_pd['newbalanceDest_kbins_kmeans'] = KBinsDiscretizer(n_bins=5, encode='ordinal', strategy='kmeans').fit_transform(np.array(dataset_pd['newbalanceDest']).reshape(-1,1))\n",
    "\n",
    "# Droping nameOrig e nameDest\n",
    "dataset_pd.drop(['nameOrig','nameDest'], inplace=True, axis=1)\n",
    "\n",
    "\n",
    "# Encoding 'Type'\n",
    "dataset_pd['type'] = dataset_pd['type'].apply(lambda x: 1 if x == 'TRANSFER' else 0)\n",
    "\n",
    "# convertendo para vaex dataframe\n",
    "dataset = vaex.from_pandas(df=dataset_pd)\n",
    "\n",
    "# Woe\n",
    "# dest_type\n",
    "dataset = vaex.ml.WeightOfEvidenceEncoder(target='isFraud', features = ['dest_type']).fit_transform(dataset)\n",
    "\n",
    "# Type\n",
    "dataset = vaex.ml.WeightOfEvidenceEncoder(target='isFraud', features = ['type']).fit_transform(dataset)"
   ]
  },
  {
   "cell_type": "code",
   "execution_count": 14,
   "metadata": {
    "ExecuteTime": {
     "end_time": "2020-11-13T10:14:07.716327Z",
     "start_time": "2020-11-13T10:14:07.219967Z"
    }
   },
   "outputs": [],
   "source": [
    "# salvando os dados - CHECKPOINT\n",
    "dataset.export_hdf5('../data/dataset_v1.hdf5')"
   ]
  },
  {
   "cell_type": "markdown",
   "metadata": {
    "heading_collapsed": true
   },
   "source": [
    "# EDA"
   ]
  },
  {
   "cell_type": "markdown",
   "metadata": {
    "heading_collapsed": true,
    "hidden": true
   },
   "source": [
    "##  Análise Univariada"
   ]
  },
  {
   "cell_type": "markdown",
   "metadata": {
    "hidden": true
   },
   "source": [
    " - A partir da análise dos histogramas podemos notar um alto skew, na fase de pré-processamento será testado algumas soluções.(RobustScaler, possivelmente)\n",
    " - Também podemos notar que as variáveis criadas via Binning com transformação de log possuem um shape mais proxima de uma distribuição Gaussiana.\n",
    " - Também encontramos um padrão interessante, parece haver um acumulo de casos de Fraude em transações de maior montante financeiro. Tanto com relação a variável 'amount' quanto as variáveis de Old e New balances.\n",
    " - A partir da análise Multivariada, correlação de pearson (Númericas x Númericas) observamos que oldbalanceOrg e newbalanceOrg são altamente correlacionadas, assim como, oldbalanceDest e newbalanceDest, iremos eliminar uma variável balance de destino e uma de origem. A variável error_trasaction também esta apresentando grande correlação com a variável amount por isso iremos elimana-la também. A correlação entre as variáveis orignais e suas versões logaritimicas não passou de 0.70 manteremos elas para a etapa de Feature Selection. \n",
    " - Ainda conforme análise Multivariada, correlação de cramer v (Categóricas x Categóricas) observamos que as variáveis oldbalanceOrg_kbins_kmeans, newbalanceOrig_kbins_kmeans, oldbalanceDest_kbins_kmeans possuiam alta correlação por essa razão seram eliminadas."
   ]
  },
  {
   "cell_type": "markdown",
   "metadata": {
    "heading_collapsed": true,
    "hidden": true
   },
   "source": [
    "### Variáveis Numericas."
   ]
  },
  {
   "cell_type": "code",
   "execution_count": null,
   "metadata": {
    "ExecuteTime": {
     "end_time": "2020-11-08T22:11:11.539306Z",
     "start_time": "2020-11-08T22:11:09.477903Z"
    },
    "execution": {
     "iopub.execute_input": "2020-10-30T17:17:08.687666Z",
     "iopub.status.busy": "2020-10-30T17:17:08.687248Z",
     "iopub.status.idle": "2020-10-30T17:17:08.692461Z",
     "shell.execute_reply": "2020-10-30T17:17:08.691408Z",
     "shell.execute_reply.started": "2020-10-30T17:17:08.687619Z"
    },
    "hidden": true
   },
   "outputs": [],
   "source": [
    "#pip install ../dist/MyToolBox-0.0.1.tar.gz"
   ]
  },
  {
   "cell_type": "code",
   "execution_count": null,
   "metadata": {
    "ExecuteTime": {
     "end_time": "2020-11-10T21:29:47.036996Z",
     "start_time": "2020-11-10T21:29:35.561865Z"
    },
    "hidden": true
   },
   "outputs": [],
   "source": [
    "variables = ['amount',\n",
    "           'error_transaction',\n",
    "           'amount_step',\n",
    "           'step',\n",
    "           'oldbalanceOrg',\n",
    "           'newbalanceOrig',\n",
    "           'oldbalanceDest',\n",
    "           'newbalanceDest',\n",
    "           'amount_bin_log',\n",
    "           'step_bin_log',\n",
    "           'oldbalanceOrg_bin_log',\n",
    "           'newbalanceOrig_bin_log',\n",
    "           'oldbalanceDest_bin_log',\n",
    "           'newbalanceDest_bin_log',\n",
    "           'amount_kbins_kmeans',\n",
    "           'step_kbins_kmeans',\n",
    "           'oldbalanceOrg_kbins_kmeans',\n",
    "           'newbalanceOrig_kbins_kmeans',\n",
    "           'oldbalanceDest_kbins_kmeans',\n",
    "           'newbalanceDest_kbins_kmeans'\n",
    "           ]\n",
    "\n",
    "n=1\n",
    "plt.figure(figsize=(24, 16))\n",
    "for column in dataset_pd[variables].columns:\n",
    "    plt.subplot(5, 5, n)\n",
    "    _ = sns.distplot(dataset_pd[column])\n",
    "    n += 1\n",
    "    \n",
    "plt.subplots_adjust(hspace=0.3)\n",
    "\n",
    "plt.show()"
   ]
  },
  {
   "cell_type": "code",
   "execution_count": null,
   "metadata": {
    "ExecuteTime": {
     "end_time": "2020-11-10T21:29:56.743900Z",
     "start_time": "2020-11-10T21:29:56.047077Z"
    },
    "execution": {
     "iopub.execute_input": "2020-10-30T17:19:05.256377Z",
     "iopub.status.busy": "2020-10-30T17:19:05.256033Z",
     "iopub.status.idle": "2020-10-30T17:19:06.043225Z",
     "shell.execute_reply": "2020-10-30T17:19:06.042671Z",
     "shell.execute_reply.started": "2020-10-30T17:19:05.256340Z"
    },
    "hidden": true
   },
   "outputs": [],
   "source": [
    "# objeto temporario\n",
    "all_data = dataset_pd.copy()\n",
    "\n",
    "# amount\n",
    "all_data['amount_bin'] = pd.qcut(all_data['amount'], q=10)\n",
    "\n",
    "# step\n",
    "all_data['step_bin'] = pd.qcut(all_data['step'], q=10)\n",
    "\n",
    "# oldbalanceOrg'\n",
    "all_data['oldbalanceOrg_bin'] = pd.qcut(all_data['oldbalanceOrg'], q=10, duplicates='drop')\n",
    "\n",
    "# newbalanceOrig\n",
    "all_data['newbalanceOrig_bin'] = pd.qcut(all_data['newbalanceOrig'], q=10, duplicates='drop')\n",
    "\n",
    "obj_temp = all_data.loc[all_data['isFraud']==1, ]\n",
    "obj_temp['counter'] = 1"
   ]
  },
  {
   "cell_type": "markdown",
   "metadata": {
    "execution": {
     "iopub.execute_input": "2020-10-25T15:31:59.674965Z",
     "iopub.status.busy": "2020-10-25T15:31:59.674587Z",
     "iopub.status.idle": "2020-10-25T15:31:59.678738Z",
     "shell.execute_reply": "2020-10-25T15:31:59.677878Z",
     "shell.execute_reply.started": "2020-10-25T15:31:59.674924Z"
    },
    "heading_collapsed": true,
    "hidden": true
   },
   "source": [
    "### Faixas de Fraude 'amount_bin'."
   ]
  },
  {
   "cell_type": "code",
   "execution_count": null,
   "metadata": {
    "ExecuteTime": {
     "end_time": "2020-11-10T21:32:34.085191Z",
     "start_time": "2020-11-10T21:32:33.932628Z"
    },
    "execution": {
     "iopub.execute_input": "2020-10-30T17:19:08.124727Z",
     "iopub.status.busy": "2020-10-30T17:19:08.124354Z",
     "iopub.status.idle": "2020-10-30T17:19:08.285150Z",
     "shell.execute_reply": "2020-10-30T17:19:08.284780Z",
     "shell.execute_reply.started": "2020-10-30T17:19:08.124687Z"
    },
    "hidden": true
   },
   "outputs": [],
   "source": [
    "# Plot 'amount'\n",
    "obj_temp.groupby('amount_bin').count()['counter'].plot(kind='bar')"
   ]
  },
  {
   "cell_type": "code",
   "execution_count": null,
   "metadata": {
    "ExecuteTime": {
     "end_time": "2020-11-10T21:32:38.586309Z",
     "start_time": "2020-11-10T21:32:38.570077Z"
    },
    "execution": {
     "iopub.execute_input": "2020-10-30T17:19:08.359220Z",
     "iopub.status.busy": "2020-10-30T17:19:08.358854Z",
     "iopub.status.idle": "2020-10-30T17:19:08.377414Z",
     "shell.execute_reply": "2020-10-30T17:19:08.376916Z",
     "shell.execute_reply.started": "2020-10-30T17:19:08.359181Z"
    },
    "hidden": true
   },
   "outputs": [],
   "source": [
    "# Tabela com a quantidade de fraudes por faixa 'amount_bin'\n",
    "obj_temp.groupby('amount_bin').count()['counter']"
   ]
  },
  {
   "cell_type": "markdown",
   "metadata": {
    "heading_collapsed": true,
    "hidden": true
   },
   "source": [
    "### Faixas de Fraude 'step_bin'."
   ]
  },
  {
   "cell_type": "code",
   "execution_count": null,
   "metadata": {
    "ExecuteTime": {
     "end_time": "2020-11-10T21:32:43.306300Z",
     "start_time": "2020-11-10T21:32:43.180871Z"
    },
    "execution": {
     "iopub.execute_input": "2020-10-30T17:19:09.419815Z",
     "iopub.status.busy": "2020-10-30T17:19:09.419433Z",
     "iopub.status.idle": "2020-10-30T17:19:09.558881Z",
     "shell.execute_reply": "2020-10-30T17:19:09.558458Z",
     "shell.execute_reply.started": "2020-10-30T17:19:09.419774Z"
    },
    "hidden": true
   },
   "outputs": [],
   "source": [
    "# Plot\n",
    "obj_temp.groupby('step_bin').count()['counter'].plot(kind='bar')"
   ]
  },
  {
   "cell_type": "code",
   "execution_count": null,
   "metadata": {
    "ExecuteTime": {
     "end_time": "2020-11-10T21:32:44.047958Z",
     "start_time": "2020-11-10T21:32:44.038593Z"
    },
    "execution": {
     "iopub.execute_input": "2020-10-30T17:19:09.729169Z",
     "iopub.status.busy": "2020-10-30T17:19:09.728735Z",
     "iopub.status.idle": "2020-10-30T17:19:09.743629Z",
     "shell.execute_reply": "2020-10-30T17:19:09.743072Z",
     "shell.execute_reply.started": "2020-10-30T17:19:09.729128Z"
    },
    "hidden": true
   },
   "outputs": [],
   "source": [
    "# Tabela com a quantidade de fraudes por faixa 'step_bin'\n",
    "obj_temp.groupby('step_bin').count()['counter']"
   ]
  },
  {
   "cell_type": "markdown",
   "metadata": {
    "heading_collapsed": true,
    "hidden": true
   },
   "source": [
    "### Faixas de Fraude 'oldbalanceOrg_bin'."
   ]
  },
  {
   "cell_type": "code",
   "execution_count": null,
   "metadata": {
    "ExecuteTime": {
     "end_time": "2020-11-10T21:37:09.437132Z",
     "start_time": "2020-11-10T21:37:09.328202Z"
    },
    "execution": {
     "iopub.execute_input": "2020-10-30T17:19:10.526413Z",
     "iopub.status.busy": "2020-10-30T17:19:10.526013Z",
     "iopub.status.idle": "2020-10-30T17:19:10.649784Z",
     "shell.execute_reply": "2020-10-30T17:19:10.649267Z",
     "shell.execute_reply.started": "2020-10-30T17:19:10.526369Z"
    },
    "hidden": true
   },
   "outputs": [],
   "source": [
    "# Plot\n",
    "obj_temp.groupby('oldbalanceOrg_bin').count()['counter'].plot(kind='bar')"
   ]
  },
  {
   "cell_type": "code",
   "execution_count": null,
   "metadata": {
    "ExecuteTime": {
     "end_time": "2020-11-10T21:37:13.054682Z",
     "start_time": "2020-11-10T21:37:13.042385Z"
    },
    "execution": {
     "iopub.execute_input": "2020-10-30T17:19:10.840712Z",
     "iopub.status.busy": "2020-10-30T17:19:10.840274Z",
     "iopub.status.idle": "2020-10-30T17:19:10.855343Z",
     "shell.execute_reply": "2020-10-30T17:19:10.854600Z",
     "shell.execute_reply.started": "2020-10-30T17:19:10.840663Z"
    },
    "hidden": true
   },
   "outputs": [],
   "source": [
    "# Tabela com a quantidade de fraudes por faixa 'oldbalanceOrg_bin'\n",
    "obj_temp.groupby('oldbalanceOrg_bin').count()['counter']"
   ]
  },
  {
   "cell_type": "markdown",
   "metadata": {
    "heading_collapsed": true,
    "hidden": true
   },
   "source": [
    "###  Faixas de Fraude 'newbalanceOrig_bin'."
   ]
  },
  {
   "cell_type": "code",
   "execution_count": null,
   "metadata": {
    "ExecuteTime": {
     "end_time": "2020-11-10T21:46:46.393713Z",
     "start_time": "2020-11-10T21:46:46.285895Z"
    },
    "execution": {
     "iopub.execute_input": "2020-10-30T17:19:11.734149Z",
     "iopub.status.busy": "2020-10-30T17:19:11.733568Z",
     "iopub.status.idle": "2020-10-30T17:19:11.989611Z",
     "shell.execute_reply": "2020-10-30T17:19:11.989046Z",
     "shell.execute_reply.started": "2020-10-30T17:19:11.734065Z"
    },
    "hidden": true
   },
   "outputs": [],
   "source": [
    "# Tabela com a quantidade de fraudes por faixa 'oldbalanceOrg_bin'\n",
    "obj_temp.groupby('newbalanceOrig_bin').count()['counter'].plot(kind='bar')"
   ]
  },
  {
   "cell_type": "code",
   "execution_count": null,
   "metadata": {
    "ExecuteTime": {
     "end_time": "2020-11-10T21:46:47.481803Z",
     "start_time": "2020-11-10T21:46:47.469619Z"
    },
    "execution": {
     "iopub.execute_input": "2020-10-30T17:19:12.031284Z",
     "iopub.status.busy": "2020-10-30T17:19:12.030882Z",
     "iopub.status.idle": "2020-10-30T17:19:12.048452Z",
     "shell.execute_reply": "2020-10-30T17:19:12.047911Z",
     "shell.execute_reply.started": "2020-10-30T17:19:12.031238Z"
    },
    "hidden": true
   },
   "outputs": [],
   "source": [
    "# Tabela com a quantidade de fraudes por faixa 'oldbalanceOrg_bin'\n",
    "obj_temp.groupby('newbalanceOrig_bin').count()['counter']"
   ]
  },
  {
   "cell_type": "markdown",
   "metadata": {
    "heading_collapsed": true,
    "hidden": true
   },
   "source": [
    "## Análise Multivariada"
   ]
  },
  {
   "cell_type": "markdown",
   "metadata": {
    "heading_collapsed": true,
    "hidden": true
   },
   "source": [
    "###  Variáveis Númericas"
   ]
  },
  {
   "cell_type": "code",
   "execution_count": null,
   "metadata": {
    "ExecuteTime": {
     "end_time": "2020-11-10T22:01:08.742961Z",
     "start_time": "2020-11-10T22:01:07.487799Z"
    },
    "execution": {
     "iopub.execute_input": "2020-10-31T14:43:30.270187Z",
     "iopub.status.busy": "2020-10-31T14:43:30.269845Z",
     "iopub.status.idle": "2020-10-31T14:43:30.896075Z",
     "shell.execute_reply": "2020-10-31T14:43:30.895552Z",
     "shell.execute_reply.started": "2020-10-31T14:43:30.270152Z"
    },
    "hidden": true
   },
   "outputs": [],
   "source": [
    "# Correlação de Pearson.\n",
    "variaveis = ['amount',\n",
    "             'error_transaction',\n",
    "             'amount_step', \n",
    "             'step',\n",
    "             'oldbalanceOrg',\n",
    "             'newbalanceOrig',\n",
    "             'oldbalanceDest',\n",
    "             'newbalanceDest',\n",
    "             'amount_bin_log',\n",
    "             'step_bin_log',\n",
    "             'oldbalanceOrg_bin_log',\n",
    "             'oldbalanceDest_bin_log',\n",
    "             'newbalanceOrig_bin_log',\n",
    "             'newbalanceDest_bin_log']\n",
    "\n",
    "Myheat_map(dataset=dataset_pd, variaveis=variaveis)"
   ]
  },
  {
   "cell_type": "markdown",
   "metadata": {
    "heading_collapsed": true,
    "hidden": true
   },
   "source": [
    "###  Variáveis Númericas - Eliminando as variáveis com alta correlação"
   ]
  },
  {
   "cell_type": "code",
   "execution_count": null,
   "metadata": {
    "ExecuteTime": {
     "end_time": "2020-11-10T22:30:31.343089Z",
     "start_time": "2020-11-10T22:30:30.429336Z"
    },
    "execution": {
     "iopub.execute_input": "2020-10-30T17:43:31.514139Z",
     "iopub.status.busy": "2020-10-30T17:43:31.513515Z",
     "iopub.status.idle": "2020-10-30T17:43:31.980381Z",
     "shell.execute_reply": "2020-10-30T17:43:31.979818Z",
     "shell.execute_reply.started": "2020-10-30T17:43:31.514090Z"
    },
    "hidden": true
   },
   "outputs": [],
   "source": [
    "# Correlação de Pearson.\n",
    "variaveis = ['amount',\n",
    "             'amount_step', \n",
    "             'step',\n",
    "             'oldbalanceOrg',\n",
    "             'newbalanceDest',\n",
    "             'amount_bin_log',\n",
    "             'step_bin_log',\n",
    "             'oldbalanceOrg_bin_log',\n",
    "             'oldbalanceDest_bin_log',\n",
    "             'newbalanceOrig_bin_log',\n",
    "             'newbalanceDest_bin_log']\n",
    "\n",
    "Myheat_map(dataset=dataset_pd, variaveis=variaveis)"
   ]
  },
  {
   "cell_type": "markdown",
   "metadata": {
    "heading_collapsed": true,
    "hidden": true
   },
   "source": [
    "###  Variáveis Númericas - Target"
   ]
  },
  {
   "cell_type": "code",
   "execution_count": null,
   "metadata": {
    "ExecuteTime": {
     "end_time": "2020-11-10T22:31:18.055484Z",
     "start_time": "2020-11-10T22:31:17.348125Z"
    },
    "execution": {
     "iopub.execute_input": "2020-10-31T14:49:35.294297Z",
     "iopub.status.busy": "2020-10-31T14:49:35.293950Z",
     "iopub.status.idle": "2020-10-31T14:49:35.932734Z",
     "shell.execute_reply": "2020-10-31T14:49:35.932075Z",
     "shell.execute_reply.started": "2020-10-31T14:49:35.294256Z"
    },
    "hidden": true
   },
   "outputs": [],
   "source": [
    "from scipy.stats import pointbiserialr\n",
    "\n",
    "# Variáveis númericas\n",
    "num_vars =  ['amount',\n",
    "             'error_transaction',\n",
    "             'amount_step', \n",
    "             'step',\n",
    "             'oldbalanceOrg',\n",
    "             'newbalanceOrig',\n",
    "             'oldbalanceDest',\n",
    "             'newbalanceDest',\n",
    "             'amount_bin_log',\n",
    "             'step_bin_log',\n",
    "             'oldbalanceOrg_bin_log',\n",
    "             'oldbalanceDest_bin_log',\n",
    "             'newbalanceOrig_bin_log',\n",
    "             'newbalanceDest_bin_log']\n",
    "\n",
    "# Correlações\n",
    "corrs = [pointbiserialr(dataset_pd['isFraud'], dataset_pd[var])[0] for var in num_vars]\n",
    "df_corr = pd.DataFrame({'isFraud': corrs}, index=num_vars)\n",
    "\n",
    "# Plot Matrix\n",
    "fig, ax = plt.subplots()\n",
    "plt.subplot(1, 2, 1)\n",
    "sns.heatmap(df_corr, annot=True, annot_kws={\"fontsize\":14}, cmap='viridis')\n",
    "plt.title(\"Pointbiserialr\")"
   ]
  },
  {
   "cell_type": "markdown",
   "metadata": {
    "heading_collapsed": true,
    "hidden": true
   },
   "source": [
    "###  Variáveis Categóricas - Cramers v"
   ]
  },
  {
   "cell_type": "code",
   "execution_count": null,
   "metadata": {
    "ExecuteTime": {
     "end_time": "2020-11-10T22:36:23.909205Z",
     "start_time": "2020-11-10T22:36:23.203486Z"
    },
    "execution": {
     "iopub.execute_input": "2020-10-31T16:35:35.541649Z",
     "iopub.status.busy": "2020-10-31T16:35:35.541248Z",
     "iopub.status.idle": "2020-10-31T16:42:48.132984Z",
     "shell.execute_reply": "2020-10-31T16:42:48.132246Z",
     "shell.execute_reply.started": "2020-10-31T16:35:35.541604Z"
    },
    "hidden": true
   },
   "outputs": [],
   "source": [
    "# Variáveis Categoricas\n",
    "cols = [\n",
    "        'type',\n",
    "        'amount_kbins_kmeans',\n",
    "        'step_kbins_kmeans',\n",
    "        'oldbalanceOrg_kbins_kmeans',\n",
    "        'newbalanceOrig_kbins_kmeans',\n",
    "        'oldbalanceDest_kbins_kmeans',\n",
    "        'newbalanceDest_kbins_kmeans',\n",
    "        'isFraud'\n",
    "        ]\n",
    "\n",
    "# Sample pois nosso Dataset é muito grande\n",
    "treino_sample = dataset_pd.sample(5000)\n",
    "\n",
    "# alterando o tipo de dados para 'category'\n",
    "for col in cols:\n",
    "    treino_sample[col] = treino_sample[col].astype('category')\n",
    "\n",
    "# Dicionario para registro das correlações\n",
    "dict = {\n",
    "        'type': [],\n",
    "        'amount_kbins_kmeans': [],\n",
    "        'step_kbins_kmeans': [],\n",
    "        'oldbalanceOrg_kbins_kmeans': [],\n",
    "        'newbalanceOrig_kbins_kmeans': [],\n",
    "        'oldbalanceDest_kbins_kmeans': [],\n",
    "        'newbalanceDest_kbins_kmeans': [],\n",
    "        'isFraud': []\n",
    "        }\n",
    "\n",
    "\n",
    "for col in cols:\n",
    "    for col1 in cols:\n",
    "        corr = cramer_v(treino_sample[col], treino_sample[col1])\n",
    "        dict[col].append(corr)"
   ]
  },
  {
   "cell_type": "code",
   "execution_count": null,
   "metadata": {
    "ExecuteTime": {
     "end_time": "2020-11-10T22:36:26.615380Z",
     "start_time": "2020-11-10T22:36:26.609187Z"
    },
    "execution": {
     "iopub.execute_input": "2020-10-31T16:42:48.134012Z",
     "iopub.status.busy": "2020-10-31T16:42:48.133845Z",
     "iopub.status.idle": "2020-10-31T16:42:48.139725Z",
     "shell.execute_reply": "2020-10-31T16:42:48.138952Z",
     "shell.execute_reply.started": "2020-10-31T16:42:48.133988Z"
    },
    "hidden": true
   },
   "outputs": [],
   "source": [
    "# Matriz de Correlação\n",
    "df_cramer = pd.DataFrame(dict)\n",
    "df_cramer = df_cramer.set_index(df_cramer.columns)"
   ]
  },
  {
   "cell_type": "code",
   "execution_count": null,
   "metadata": {
    "ExecuteTime": {
     "end_time": "2020-11-10T22:36:27.755255Z",
     "start_time": "2020-11-10T22:36:27.417015Z"
    },
    "execution": {
     "iopub.execute_input": "2020-10-31T16:42:48.141266Z",
     "iopub.status.busy": "2020-10-31T16:42:48.141078Z",
     "iopub.status.idle": "2020-10-31T16:42:48.938778Z",
     "shell.execute_reply": "2020-10-31T16:42:48.938253Z",
     "shell.execute_reply.started": "2020-10-31T16:42:48.141242Z"
    },
    "hidden": true
   },
   "outputs": [],
   "source": [
    "# HeatMap\n",
    "\n",
    "fig, ax = plt.subplots()\n",
    "ax.figure.set_size_inches(16, 6)\n",
    "\n",
    "mask = np.triu(np.ones_like(df_cramer, dtype=np.bool))\n",
    "sns.heatmap(df_cramer, mask=mask, linewidths=.5, annot=True, annot_kws={\"fontsize\":14}, cmap='viridis')\n",
    "plt.title(\"Cramér V\")"
   ]
  },
  {
   "cell_type": "markdown",
   "metadata": {
    "heading_collapsed": true,
    "hidden": true
   },
   "source": [
    "###  Variáveis Categóricas - Cramers v"
   ]
  },
  {
   "cell_type": "code",
   "execution_count": null,
   "metadata": {
    "ExecuteTime": {
     "end_time": "2020-11-10T22:39:24.562749Z",
     "start_time": "2020-11-10T22:39:24.059337Z"
    },
    "execution": {
     "iopub.execute_input": "2020-10-30T17:44:28.039412Z",
     "iopub.status.busy": "2020-10-30T17:44:28.038836Z",
     "iopub.status.idle": "2020-10-30T17:44:30.356836Z",
     "shell.execute_reply": "2020-10-30T17:44:30.356188Z",
     "shell.execute_reply.started": "2020-10-30T17:44:28.039368Z"
    },
    "hidden": true
   },
   "outputs": [],
   "source": [
    "# Variáveis Categoricas, eliminando oldbalanceOrg_kbins_kmeans, newbalanceOrig_kbins_kmeans, oldbalanceDest_kbins_kmeans\n",
    "cols = [\n",
    "        'type',\n",
    "        'amount_kbins_kmeans',\n",
    "        'step_kbins_kmeans',\n",
    "        'newbalanceDest_kbins_kmeans',\n",
    "        'isFraud'\n",
    "        ]\n",
    "\n",
    "# Sample pois nosso Dataset é muito grande\n",
    "treino_sample = dataset_pd.sample(5000)\n",
    "\n",
    "# alterando o tipo de dados para 'category'\n",
    "for col in cols:\n",
    "    treino_sample[col] = treino_sample[col].astype('category')\n",
    "\n",
    "# Dicionario para registro das correlações\n",
    "dictt = {\n",
    "        'type': [],\n",
    "        'amount_kbins_kmeans': [],\n",
    "        'step_kbins_kmeans': [],\n",
    "        'newbalanceDest_kbins_kmeans': [],\n",
    "        'isFraud': []\n",
    "        }\n",
    "\n",
    "\n",
    "for col in cols:\n",
    "    for col1 in cols:\n",
    "        corr = cramer_v(treino_sample[col], treino_sample[col1])\n",
    "        dictt[col].append(corr)\n",
    "\n",
    "# Matriz de Correlação\n",
    "df_cramer1 = pd.DataFrame(dictt)\n",
    "df_cramer1 = df_cramer1.set_index(df_cramer1.columns)\n",
    "\n",
    "# HeatMap\n",
    "\n",
    "fig, ax = plt.subplots()\n",
    "ax.figure.set_size_inches(16, 6)\n",
    "\n",
    "mask = np.triu(np.ones_like(df_cramer1, dtype=np.bool))\n",
    "sns.heatmap(df_cramer1, mask=mask, linewidths=.5, annot=True, annot_kws={\"fontsize\":14}, cmap='viridis')\n",
    "plt.title(\"Cramér V\")"
   ]
  },
  {
   "cell_type": "markdown",
   "metadata": {
    "heading_collapsed": true,
    "hidden": true
   },
   "source": [
    "## Teste de Hiposteses"
   ]
  },
  {
   "cell_type": "code",
   "execution_count": null,
   "metadata": {
    "ExecuteTime": {
     "end_time": "2020-11-10T22:41:06.723336Z",
     "start_time": "2020-11-10T22:41:06.660891Z"
    },
    "execution": {
     "iopub.execute_input": "2020-10-30T17:57:17.727432Z",
     "iopub.status.busy": "2020-10-30T17:57:17.726832Z",
     "iopub.status.idle": "2020-10-30T17:57:17.737156Z",
     "shell.execute_reply": "2020-10-30T17:57:17.736426Z",
     "shell.execute_reply.started": "2020-10-30T17:57:17.727364Z"
    },
    "hidden": true
   },
   "outputs": [],
   "source": [
    "from PIL import Image\n",
    "Image.open(\"../img/map_mental.jpg\")"
   ]
  },
  {
   "cell_type": "markdown",
   "metadata": {
    "hidden": true
   },
   "source": [
    "Lista de Hipóteses!\n",
    "\n",
    "1. O montante fraudado é maior para o 'type' transfer!\n",
    "2. O percentual de error_transaction é maior que 50%!\n",
    "3. O montante fraudado é maior com o 'dest_type' Customers que Merchant!\n",
    "4. O oldbalanceOrig é sempre diferente de 0, já que se deve ter saldo para realizar uma transação!\n",
    "5. A quantidade de transações fraudulentas é maior para o tipo de Origem 'Customer'!\n",
    "6. A conta de uma transação fraudulenta 'TRANSFER' bate com a conta Origem de um CASH-OUT!\n",
    "7. A quantidade de transações fraudulentas é maior na modalidade 'TRANSFER'!"
   ]
  },
  {
   "cell_type": "markdown",
   "metadata": {
    "heading_collapsed": true,
    "hidden": true
   },
   "source": [
    "###  H1 O montante fraudado é maior para o 'type' TRANSFER! [TRUE]"
   ]
  },
  {
   "cell_type": "code",
   "execution_count": null,
   "metadata": {
    "ExecuteTime": {
     "end_time": "2020-11-10T22:41:10.453119Z",
     "start_time": "2020-11-10T22:41:10.440378Z"
    },
    "execution": {
     "iopub.execute_input": "2020-10-30T17:57:21.081709Z",
     "iopub.status.busy": "2020-10-30T17:57:21.080757Z",
     "iopub.status.idle": "2020-10-30T17:57:21.636470Z",
     "shell.execute_reply": "2020-10-30T17:57:21.633931Z",
     "shell.execute_reply.started": "2020-10-30T17:57:21.081657Z"
    },
    "hidden": true
   },
   "outputs": [],
   "source": [
    "dados_temp = dataset_pd.loc[dataset_pd['isFraud']==1, ]\n",
    "\n",
    "AMOUNT_TRANSFER = dados_temp.loc[dados_temp['type']== 1, 'amount'].sum()\n",
    "AMOUNT_CASH_OUT = dados_temp.loc[dados_temp['type']== 0, 'amount'].sum()\n",
    "\n",
    "print(f'\\n Montante de observações TRANSFER: {AMOUNT_TRANSFER}')\n",
    "print(f'Montante de observações CASH_OUT: {AMOUNT_CASH_OUT}\\n')"
   ]
  },
  {
   "cell_type": "markdown",
   "metadata": {
    "heading_collapsed": true,
    "hidden": true
   },
   "source": [
    "###  H2 O percentual de error_transaction é maior que 50%[TRUE]!"
   ]
  },
  {
   "cell_type": "code",
   "execution_count": null,
   "metadata": {
    "ExecuteTime": {
     "end_time": "2020-11-10T22:41:12.533973Z",
     "start_time": "2020-11-10T22:41:12.366309Z"
    },
    "execution": {
     "iopub.execute_input": "2020-10-30T17:57:23.720600Z",
     "iopub.status.busy": "2020-10-30T17:57:23.719649Z",
     "iopub.status.idle": "2020-10-30T17:57:24.023612Z",
     "shell.execute_reply": "2020-10-30T17:57:24.022276Z",
     "shell.execute_reply.started": "2020-10-30T17:57:23.720535Z"
    },
    "hidden": true
   },
   "outputs": [],
   "source": [
    "# Erro\n",
    "erro_acima_0 = dataset_pd.loc[dataset_pd['error_transaction'] != 0, ]\n",
    "\n",
    "#Percentual do erro sobre dataset\n",
    "perc_error = round(erro_acima_0.shape[0]/treino.shape[0]*100, 2)\n",
    "print(f'O percentual de transações com erro são de {perc_error}')"
   ]
  },
  {
   "cell_type": "markdown",
   "metadata": {
    "heading_collapsed": true,
    "hidden": true
   },
   "source": [
    "###  H3 O montante fraudado é maior com o 'dest_type' Customers que Merchant![TRUE]"
   ]
  },
  {
   "cell_type": "code",
   "execution_count": null,
   "metadata": {
    "ExecuteTime": {
     "end_time": "2020-11-10T22:41:15.725983Z",
     "start_time": "2020-11-10T22:41:15.709775Z"
    },
    "execution": {
     "iopub.execute_input": "2020-10-30T17:58:12.506110Z",
     "iopub.status.busy": "2020-10-30T17:58:12.505622Z",
     "iopub.status.idle": "2020-10-30T17:58:12.520291Z",
     "shell.execute_reply": "2020-10-30T17:58:12.519755Z",
     "shell.execute_reply.started": "2020-10-30T17:58:12.506068Z"
    },
    "hidden": true
   },
   "outputs": [],
   "source": [
    "dados_temp1 = dataset_pd.loc[dataset_pd['isFraud'] == 1, ['amount','dest_type']]\n",
    "\n",
    "# Montantes\n",
    "AMOUNT_CUSTOMER = round(dados_temp1.loc[dados_temp1['dest_type']==0, 'amount'].sum(),2)\n",
    "AMOUNT_MERCHANT = round(dados_temp1.loc[dados_temp1['dest_type']==1, 'amount'].sum(),2)\n",
    "\n",
    "# Report\n",
    "print(f'Quantidade de observações Customers: {AMOUNT_CUSTOMER}')\n",
    "print(f'Quantidade de observações Merchant: {AMOUNT_MERCHANT}\\n')"
   ]
  },
  {
   "cell_type": "markdown",
   "metadata": {
    "heading_collapsed": true,
    "hidden": true
   },
   "source": [
    "### H4 O oldbalanceOrig é sempre diferente de 0, já que se deve ter saldo para realizar uma transação![FALSE]"
   ]
  },
  {
   "cell_type": "code",
   "execution_count": null,
   "metadata": {
    "ExecuteTime": {
     "end_time": "2020-11-10T22:41:17.384984Z",
     "start_time": "2020-11-10T22:41:17.268866Z"
    },
    "execution": {
     "iopub.execute_input": "2020-10-30T17:58:42.046840Z",
     "iopub.status.busy": "2020-10-30T17:58:42.046416Z",
     "iopub.status.idle": "2020-10-30T17:58:44.398157Z",
     "shell.execute_reply": "2020-10-30T17:58:44.396766Z",
     "shell.execute_reply.started": "2020-10-30T17:58:42.046797Z"
    },
    "hidden": true
   },
   "outputs": [],
   "source": [
    "# Percentual de operações amount != de zero oldBalanceOrig e newBalanceOrig são iguais a 0\n",
    "\n",
    "quant_orig = dataset_pd.loc[(dataset_pd['amount'] != 0) & (dataset_pd['oldbalanceOrg'] == 0) & (dataset_pd['newbalanceOrig'] == 0), ]\n",
    "\n",
    "perc_quant_orig = round(quant_orig.shape[0]/dataset_pd.shape[0], 2)*100\n",
    "print(f'O percentual de casos onde o amount é diferente de 0 com oldbalanceDest e newbalanceDest iguais {perc_quant_orig}%')"
   ]
  },
  {
   "cell_type": "markdown",
   "metadata": {
    "heading_collapsed": true,
    "hidden": true
   },
   "source": [
    "###  H5 A quantidade de transações fraudulentas é maior para o tipo de Origem 'Customer'![TRUE]"
   ]
  },
  {
   "cell_type": "code",
   "execution_count": null,
   "metadata": {
    "ExecuteTime": {
     "end_time": "2020-11-10T22:41:22.155159Z",
     "start_time": "2020-11-10T22:41:21.141260Z"
    },
    "execution": {
     "iopub.execute_input": "2020-10-30T17:59:32.160931Z",
     "iopub.status.busy": "2020-10-30T17:59:32.159909Z",
     "iopub.status.idle": "2020-10-30T17:59:33.466874Z",
     "shell.execute_reply": "2020-10-30T17:59:33.466311Z",
     "shell.execute_reply.started": "2020-10-30T17:59:32.160889Z"
    },
    "hidden": true
   },
   "outputs": [],
   "source": [
    "# cheando o tipo origem.\n",
    "treino['nameOrig'].str[0].unique()"
   ]
  },
  {
   "cell_type": "markdown",
   "metadata": {
    "hidden": true
   },
   "source": [
    "Obs: O tipo de origen 'Customer' é unico tipo de origem neste dataset!"
   ]
  },
  {
   "cell_type": "code",
   "execution_count": null,
   "metadata": {
    "ExecuteTime": {
     "end_time": "2020-11-10T22:41:23.714215Z",
     "start_time": "2020-11-10T22:41:23.705366Z"
    },
    "execution": {
     "iopub.execute_input": "2020-10-30T17:59:43.813110Z",
     "iopub.status.busy": "2020-10-30T17:59:43.811781Z",
     "iopub.status.idle": "2020-10-30T17:59:43.823058Z",
     "shell.execute_reply": "2020-10-30T17:59:43.822325Z",
     "shell.execute_reply.started": "2020-10-30T17:59:43.813035Z"
    },
    "hidden": true
   },
   "outputs": [],
   "source": [
    "# Montantes\n",
    "QUANT_CUSTOMER = dados_temp1.loc[dados_temp1['dest_type']==0, 'amount'].shape[0]\n",
    "QUANT_MERCHANT = dados_temp1.loc[dados_temp1['dest_type']==1, 'amount'].shape[0]\n",
    "\n",
    "# Report\n",
    "print(f'Quantidade de observações Customers: {QUANT_CUSTOMER}')\n",
    "print(f'Quantidade de observações Merchant: {QUANT_MERCHANT}\\n')"
   ]
  },
  {
   "cell_type": "markdown",
   "metadata": {
    "heading_collapsed": true,
    "hidden": true
   },
   "source": [
    "### H6 A conta de uma transação fraudulenta 'TRANSFER' bate com a conta Origem de um CASH-OUT![FALSE]"
   ]
  },
  {
   "cell_type": "code",
   "execution_count": null,
   "metadata": {
    "ExecuteTime": {
     "end_time": "2020-11-10T22:41:26.946354Z",
     "start_time": "2020-11-10T22:41:26.748716Z"
    },
    "execution": {
     "iopub.execute_input": "2020-10-30T17:59:45.086691Z",
     "iopub.status.busy": "2020-10-30T17:59:45.086254Z",
     "iopub.status.idle": "2020-10-30T17:59:45.352743Z",
     "shell.execute_reply": "2020-10-30T17:59:45.351424Z",
     "shell.execute_reply.started": "2020-10-30T17:59:45.086648Z"
    },
    "hidden": true
   },
   "outputs": [],
   "source": [
    "CONTA_ORIG = treino1.loc[(treino1['isFraud']==1) & (treino1['type']=='TRANSFER'), 'nameDest']\n",
    "CONTA_DEST = treino1.loc[(treino1['isFraud']==1) & (treino1['type']=='CASH_OUT'), 'nameOrig']\n",
    "\n",
    "resultado = set(CONTA_ORIG).intersection(set(CONTA_DEST))\n",
    "print(f'Contas encontradas:{len(resultado)}')"
   ]
  },
  {
   "cell_type": "markdown",
   "metadata": {
    "hidden": true
   },
   "source": [
    "Nosso dataset não segue um padrão de fraude comum. de uma operação de 'TRANSFER' para uma conta fria seguida de um 'CASH_OUT'."
   ]
  },
  {
   "cell_type": "markdown",
   "metadata": {
    "heading_collapsed": true,
    "hidden": true
   },
   "source": [
    "###  H7 A quantidade de transações fraudulentas é maior na modalidade 'TRANSFER'!"
   ]
  },
  {
   "cell_type": "code",
   "execution_count": null,
   "metadata": {
    "ExecuteTime": {
     "end_time": "2020-11-10T22:41:28.505624Z",
     "start_time": "2020-11-10T22:41:28.485498Z"
    },
    "execution": {
     "iopub.execute_input": "2020-10-30T17:59:46.986254Z",
     "iopub.status.busy": "2020-10-30T17:59:46.985770Z",
     "iopub.status.idle": "2020-10-30T17:59:49.174759Z",
     "shell.execute_reply": "2020-10-30T17:59:49.173976Z",
     "shell.execute_reply.started": "2020-10-30T17:59:46.986213Z"
    },
    "hidden": true
   },
   "outputs": [],
   "source": [
    "# Montantes\n",
    "QUANT_TRANSFER = dataset_pd.loc[(dataset_pd['isFraud']==1) & (dataset_pd['type']==1), 'amount'].shape[0]\n",
    "QUANT_MERCHANT = dataset_pd.loc[(dataset_pd['isFraud']==1) & (dataset_pd['type']==0), 'amount'].shape[0]\n",
    "\n",
    "# Report\n",
    "print(f'Quantidade de observações Customers: {QUANT_CUSTOMER}')\n",
    "print(f'Quantidade de observações Merchant: {QUANT_MERCHANT}\\n')"
   ]
  },
  {
   "cell_type": "markdown",
   "metadata": {},
   "source": [
    "#  Feature Selection"
   ]
  },
  {
   "cell_type": "code",
   "execution_count": null,
   "metadata": {
    "ExecuteTime": {
     "end_time": "2020-11-13T01:09:43.236005Z",
     "start_time": "2020-11-13T00:42:28.903451Z"
    },
    "execution": {
     "iopub.execute_input": "2020-10-31T17:14:41.330726Z",
     "iopub.status.busy": "2020-10-31T17:14:41.330331Z",
     "iopub.status.idle": "2020-10-31T17:48:21.513225Z",
     "shell.execute_reply": "2020-10-31T17:48:21.512637Z",
     "shell.execute_reply.started": "2020-10-31T17:14:41.330682Z"
    }
   },
   "outputs": [],
   "source": [
    "from BorutaShap import BorutaShap\n",
    "from xgboost import XGBClassifier\n",
    "from sklearn.preprocessing import RobustScaler \n",
    "\n",
    "# Variaveis que não foram elimiandas durante anlise multivariada\n",
    "variaveis = dataset.column_names[0:33]\n",
    "dataset_pd.columns = dataset.column_names[0:33]\n",
    "\n",
    "# Scaler\n",
    "scaler = RobustScaler()\n",
    "\n",
    "# Data\n",
    "y = dataset_pd['isFraud']\n",
    "X = dataset_pd[variaveis].drop('isFraud', axis=1)\n",
    "\n",
    "# Xgboost\n",
    "model = XGBClassifier()\n",
    "\n",
    "# Selecionador de Features\n",
    "Feature_Selector = BorutaShap(model=model,\n",
    "                              importance_measure='shap',\n",
    "                              classification=False, )\n",
    "\n",
    "Feature_Selector.fit(X=X,y=y, n_trials=10, random_state=0)"
   ]
  },
  {
   "cell_type": "code",
   "execution_count": null,
   "metadata": {
    "ExecuteTime": {
     "end_time": "2020-11-13T08:57:15.659623Z",
     "start_time": "2020-11-13T08:57:15.621265Z"
    },
    "execution": {
     "iopub.execute_input": "2020-10-31T17:54:38.700567Z",
     "iopub.status.busy": "2020-10-31T17:54:38.700307Z",
     "iopub.status.idle": "2020-10-31T17:54:38.828333Z",
     "shell.execute_reply": "2020-10-31T17:54:38.827699Z",
     "shell.execute_reply.started": "2020-10-31T17:54:38.700539Z"
    }
   },
   "outputs": [],
   "source": [
    "subset = Feature_Selector.Subset()\n",
    "subset.head()"
   ]
  },
  {
   "cell_type": "markdown",
   "metadata": {
    "toc-hr-collapsed": true,
    "toc-nb-collapsed": true
   },
   "source": [
    "# Data Preparation - Pipelines"
   ]
  },
  {
   "cell_type": "markdown",
   "metadata": {},
   "source": [
    "- Pipeline 1 - StandardScaler() nas variáveis numericas sem considerar feature selection.\n",
    "- Pipeline 2 - StandardScaler() nas variáveis numericas somente com as variáveis selecionadas"
   ]
  },
  {
   "cell_type": "markdown",
   "metadata": {
    "heading_collapsed": true
   },
   "source": [
    "## Pipeline-1 - SGDC com Log loss"
   ]
  },
  {
   "cell_type": "code",
   "execution_count": 16,
   "metadata": {
    "ExecuteTime": {
     "end_time": "2020-11-13T10:20:52.923486Z",
     "start_time": "2020-11-13T10:20:49.397466Z"
    },
    "execution": {
     "iopub.execute_input": "2020-11-01T14:45:46.428471Z",
     "iopub.status.busy": "2020-11-01T14:45:46.428079Z",
     "iopub.status.idle": "2020-11-01T14:45:46.454621Z",
     "shell.execute_reply": "2020-11-01T14:45:46.453901Z",
     "shell.execute_reply.started": "2020-11-01T14:45:46.428429Z"
    },
    "hidden": true
   },
   "outputs": [
    {
     "data": {
      "application/vnd.jupyter.widget-view+json": {
       "model_id": "001ac3ee35484d0da6cc3812b26ee0b8",
       "version_major": 2,
       "version_minor": 0
      },
      "text/plain": [
       "HBox(children=(FloatProgress(value=0.0, max=1.0), Label(value='In progress...')))"
      ]
     },
     "metadata": {},
     "output_type": "display_data"
    },
    {
     "data": {
      "text/html": [
       "<table>\n",
       "<thead>\n",
       "<tr><th>#                                    </th><th>step  </th><th>type  </th><th>amount    </th><th>oldbalanceOrg  </th><th>newbalanceOrig  </th><th>oldbalanceDest  </th><th>newbalanceDest  </th><th>isFraud  </th><th>dest_type  </th><th>error_transaction  </th><th>amount_step       </th><th>(&#x27;amount&#x27;, &#x27;mean&#x27;)  </th><th>(&#x27;amount&#x27;, &#x27;std&#x27;)  </th><th>(&#x27;oldbalanceOrg&#x27;, &#x27;mean&#x27;)  </th><th>(&#x27;oldbalanceOrg&#x27;, &#x27;std&#x27;)  </th><th>(&#x27;newbalanceOrig&#x27;, &#x27;mean&#x27;)  </th><th>(&#x27;newbalanceOrig&#x27;, &#x27;std&#x27;)  </th><th>(&#x27;oldbalanceDest&#x27;, &#x27;mean&#x27;)  </th><th>(&#x27;oldbalanceDest&#x27;, &#x27;std&#x27;)  </th><th>(&#x27;newbalanceDest&#x27;, &#x27;mean&#x27;)  </th><th>(&#x27;newbalanceDest&#x27;, &#x27;std&#x27;)  </th><th>amount_bin_log  </th><th>amount_kbins_kmeans  </th><th>step_bin_log  </th><th>step_kbins_kmeans  </th><th>oldbalanceOrg_bin_log  </th><th>oldbalanceOrg_kbins_kmeans  </th><th>newbalanceOrig_bin_log  </th><th>newbalanceOrig_kbins_kmeans  </th><th>oldbalanceDest_bin_log  </th><th>oldbalanceDest_kbins_kmeans  </th><th>newbalanceDest_bin_log  </th><th>newbalanceDest_kbins_kmeans  </th><th>woe_encoded_dest_type  </th><th>woe_encoded_type  </th><th>scaled_step       </th><th>scaled_amount       </th><th>scaled_oldbalanceOrg  </th><th>scaled_newbalanceOrig  </th><th>scaled_oldbalanceDest  </th><th>scaled_newbalanceDest  </th><th>scaled_error_transaction  </th><th>scaled_amount_step   </th><th>scaled_amountmean   </th><th>scaled_amountstd   </th><th>scaled_oldbalanceOrgmean  </th><th>scaled_oldbalanceOrgstd  </th><th>scaled_newbalanceOrigmean  </th><th>scaled_newbalanceOrigstd  </th><th>scaled_oldbalanceDestmean  </th><th>scaled_oldbalanceDeststd  </th><th>scaled_newbalanceDestmean  </th><th>scaled_newbalanceDeststd  </th><th>scaled_amount_bin_log  </th><th>scaled_step_bin_log  </th><th>scaled_oldbalanceOrg_bin_log  </th><th>scaled_newbalanceOrig_bin_log  </th><th>scaled_oldbalanceDest_bin_log  </th><th>scaled_newbalanceDest_bin_log  </th><th>scaled_woe_encoded_dest_type  </th><th>scaled_woe_encoded_type  </th><th>prediction  </th></tr>\n",
       "</thead>\n",
       "<tbody>\n",
       "<tr><td><i style='opacity: 0.6'>0</i>        </td><td>1     </td><td>1     </td><td>181.0     </td><td>181.0          </td><td>0.0             </td><td>0.0             </td><td>0.0             </td><td>1        </td><td>0          </td><td>0.0                </td><td>181.0             </td><td>537361.7272602181   </td><td>561751.6977020104  </td><td>62861.969999974215         </td><td>510485.68466055463        </td><td>12877.763452953923          </td><td>305816.9563440003          </td><td>782646.8259206628           </td><td>782540.1382098091          </td><td>1313369.281028787           </td><td>916688.4417441946          </td><td>2.0             </td><td>0.0                  </td><td>0.0           </td><td>0.0                </td><td>2.0                    </td><td>0.0                         </td><td>0.0                     </td><td>0.0                          </td><td>0.0                     </td><td>0.0                          </td><td>0.0                     </td><td>0.0                          </td><td>-5.654878338327999     </td><td>-4.536146803906333</td><td>-1.693131465331818</td><td>-0.748668584038229  </td><td>-0.18809554590853814  </td><td>-0.10993715591632539   </td><td>-0.8618504253838751    </td><td>-1.0683403859418812    </td><td>-0.7562922512721365       </td><td>-0.2646232806070302  </td><td>2.256620322241861   </td><td>2.256620322487125  </td><td>2.2566203249116517        </td><td>2.256620322393132        </td><td>-2.2566203205112543        </td><td>2.256620322285348         </td><td>2.256620318761071          </td><td>-2.2566196366385256       </td><td>2.2566203215160923         </td><td>2.2566203648601277        </td><td>-4.551984515583558     </td><td>-4.476938763986024   </td><td>-0.07972519386963377          </td><td>-0.33838015155983997           </td><td>-2.1420056488892234            </td><td>-6.985028621176604             </td><td>-2.8438177084730815e-06       </td><td>2.2566203271413205       </td><td>1           </td></tr>\n",
       "<tr><td><i style='opacity: 0.6'>1</i>        </td><td>1     </td><td>1     </td><td>2806.0    </td><td>2806.0         </td><td>0.0             </td><td>0.0             </td><td>0.0             </td><td>1        </td><td>0          </td><td>0.0                </td><td>2806.0            </td><td>537361.7272602181   </td><td>561751.6977020104  </td><td>62861.969999974215         </td><td>510485.68466055463        </td><td>12877.763452953923          </td><td>305816.9563440003          </td><td>782646.8259206628           </td><td>782540.1382098091          </td><td>1313369.281028787           </td><td>916688.4417441946          </td><td>3.0             </td><td>0.0                  </td><td>0.0           </td><td>0.0                </td><td>3.0                    </td><td>0.0                         </td><td>0.0                     </td><td>0.0                          </td><td>0.0                     </td><td>0.0                          </td><td>0.0                     </td><td>0.0                          </td><td>-5.654878338327999     </td><td>-4.536146803906333</td><td>-1.693131465331818</td><td>-0.7402279256542569 </td><td>-0.1781678056820929   </td><td>-0.10993715591632539   </td><td>-0.8618504253838751    </td><td>-1.0683403859418812    </td><td>-0.7562922512721365       </td><td>-0.010362044999741823</td><td>2.256620322241861   </td><td>2.256620322487125  </td><td>2.2566203249116517        </td><td>2.256620322393132        </td><td>-2.2566203205112543        </td><td>2.256620322285348         </td><td>2.256620318761071          </td><td>-2.2566196366385256       </td><td>2.2566203215160923         </td><td>2.2566203648601277        </td><td>-2.8473712974974856    </td><td>-4.476938763986024   </td><td>0.4100746592129692            </td><td>-0.33838015155983997           </td><td>-2.1420056488892234            </td><td>-6.985028621176604             </td><td>-2.8438177084730815e-06       </td><td>2.2566203271413205       </td><td>1           </td></tr>\n",
       "<tr><td><i style='opacity: 0.6'>2</i>        </td><td>1     </td><td>1     </td><td>20128.0   </td><td>20128.0        </td><td>0.0             </td><td>0.0             </td><td>0.0             </td><td>1        </td><td>0          </td><td>0.0                </td><td>20128.0           </td><td>537361.7272602181   </td><td>561751.6977020104  </td><td>62861.969999974215         </td><td>510485.68466055463        </td><td>12877.763452953923          </td><td>305816.9563440003          </td><td>782646.8259206628           </td><td>782540.1382098091          </td><td>1313369.281028787           </td><td>916688.4417441946          </td><td>4.0             </td><td>0.0                  </td><td>0.0           </td><td>0.0                </td><td>4.0                    </td><td>0.0                         </td><td>0.0                     </td><td>0.0                          </td><td>0.0                     </td><td>0.0                          </td><td>0.0                     </td><td>0.0                          </td><td>-5.654878338327999     </td><td>-4.536146803906333</td><td>-1.693131465331818</td><td>-0.6845292267867656 </td><td>-0.11265606617638463  </td><td>-0.10993715591632539   </td><td>-0.8618504253838751    </td><td>-1.0683403859418812    </td><td>-0.7562922512721365       </td><td>1.6674715257390962   </td><td>2.256620322241861   </td><td>2.256620322487125  </td><td>2.2566203249116517        </td><td>2.256620322393132        </td><td>-2.2566203205112543        </td><td>2.256620322285348         </td><td>2.256620318761071          </td><td>-2.2566196366385256       </td><td>2.2566203215160923         </td><td>2.2566203648601277        </td><td>-1.1427580794114136    </td><td>-4.476938763986024   </td><td>0.8998745122955721            </td><td>-0.33838015155983997           </td><td>-2.1420056488892234            </td><td>-6.985028621176604             </td><td>-2.8438177084730815e-06       </td><td>2.2566203271413205       </td><td>1           </td></tr>\n",
       "<tr><td><i style='opacity: 0.6'>3</i>        </td><td>1     </td><td>1     </td><td>1277212.77</td><td>1277212.77     </td><td>0.0             </td><td>0.0             </td><td>0.0             </td><td>1        </td><td>0          </td><td>0.0                </td><td>1277212.77        </td><td>537361.7272602181   </td><td>561751.6977020104  </td><td>62861.969999974215         </td><td>510485.68466055463        </td><td>12877.763452953923          </td><td>305816.9563440003          </td><td>782646.8259206628           </td><td>782540.1382098091          </td><td>1313369.281028787           </td><td>916688.4417441946          </td><td>6.0             </td><td>2.0                  </td><td>0.0           </td><td>0.0                </td><td>6.0                    </td><td>1.0                         </td><td>0.0                     </td><td>0.0                          </td><td>0.0                     </td><td>0.0                          </td><td>0.0                     </td><td>0.0                          </td><td>-5.654878338327999     </td><td>-4.536146803906333</td><td>-1.693131465331818</td><td>3.357612907790045   </td><td>4.64163385351148      </td><td>-0.10993715591632539   </td><td>-0.8618504253838751    </td><td>-1.0683403859418812    </td><td>-0.7562922512721365       </td><td>123.4304912908073    </td><td>2.256620322241861   </td><td>2.256620322487125  </td><td>2.2566203249116517        </td><td>2.256620322393132        </td><td>-2.2566203205112543        </td><td>2.256620322285348         </td><td>2.256620318761071          </td><td>-2.2566196366385256       </td><td>2.2566203215160923         </td><td>2.2566203648601277        </td><td>2.266468356760731      </td><td>-4.476938763986024   </td><td>1.8794742184607782            </td><td>-0.33838015155983997           </td><td>-2.1420056488892234            </td><td>-6.985028621176604             </td><td>-2.8438177084730815e-06       </td><td>2.2566203271413205       </td><td>0           </td></tr>\n",
       "<tr><td><i style='opacity: 0.6'>4</i>        </td><td>1     </td><td>1     </td><td>35063.63  </td><td>35063.63       </td><td>0.0             </td><td>0.0             </td><td>0.0             </td><td>1        </td><td>0          </td><td>0.0                </td><td>35063.63          </td><td>537361.7272602181   </td><td>561751.6977020104  </td><td>62861.969999974215         </td><td>510485.68466055463        </td><td>12877.763452953923          </td><td>305816.9563440003          </td><td>782646.8259206628           </td><td>782540.1382098091          </td><td>1313369.281028787           </td><td>916688.4417441946          </td><td>4.0             </td><td>0.0                  </td><td>0.0           </td><td>0.0                </td><td>4.0                    </td><td>0.0                         </td><td>0.0                     </td><td>0.0                          </td><td>0.0                     </td><td>0.0                          </td><td>0.0                     </td><td>0.0                          </td><td>-5.654878338327999     </td><td>-4.536146803906333</td><td>-1.693131465331818</td><td>-0.6365038741850875 </td><td>-0.05616956912560289  </td><td>-0.10993715591632539   </td><td>-0.8618504253838751    </td><td>-1.0683403859418812    </td><td>-0.7562922512721365       </td><td>3.114157902262252    </td><td>2.256620322241861   </td><td>2.256620322487125  </td><td>2.2566203249116517        </td><td>2.256620322393132        </td><td>-2.2566203205112543        </td><td>2.256620322285348         </td><td>2.256620318761071          </td><td>-2.2566196366385256       </td><td>2.2566203215160923         </td><td>2.2566203648601277        </td><td>-1.1427580794114136    </td><td>-4.476938763986024   </td><td>0.8998745122955721            </td><td>-0.33838015155983997           </td><td>-2.1420056488892234            </td><td>-6.985028621176604             </td><td>-2.8438177084730815e-06       </td><td>2.2566203271413205       </td><td>1           </td></tr>\n",
       "<tr><td>...                                  </td><td>...   </td><td>...   </td><td>...       </td><td>...            </td><td>...             </td><td>...             </td><td>...             </td><td>...      </td><td>...        </td><td>...                </td><td>...               </td><td>...                 </td><td>...                </td><td>...                        </td><td>...                       </td><td>...                         </td><td>...                        </td><td>...                         </td><td>...                        </td><td>...                         </td><td>...                        </td><td>...             </td><td>...                  </td><td>...           </td><td>...                </td><td>...                    </td><td>...                         </td><td>...                     </td><td>...                          </td><td>...                     </td><td>...                          </td><td>...                     </td><td>...                          </td><td>...                    </td><td>...               </td><td>...               </td><td>...                 </td><td>...                   </td><td>...                    </td><td>...                    </td><td>...                    </td><td>...                       </td><td>...                  </td><td>...                 </td><td>...                </td><td>...                       </td><td>...                      </td><td>...                        </td><td>...                       </td><td>...                        </td><td>...                       </td><td>...                        </td><td>...                       </td><td>...                    </td><td>...                  </td><td>...                           </td><td>...                            </td><td>...                            </td><td>...                            </td><td>...                           </td><td>...                      </td><td>...         </td></tr>\n",
       "<tr><td><i style='opacity: 0.6'>2,354,512</i></td><td>718   </td><td>0     </td><td>169291.34 </td><td>26919.0        </td><td>0.0             </td><td>2684602.16      </td><td>2853893.5       </td><td>0        </td><td>0          </td><td>142372.34          </td><td>235.7818105849582 </td><td>173246.90923650007  </td><td>178830.52590969772 </td><td>47373.10882451304          </td><td>180079.754135976          </td><td>17850.253258152337          </td><td>101746.4267326915          </td><td>670584.6599667605           </td><td>801405.9030142671          </td><td>853199.2774894472           </td><td>839256.3673847476          </td><td>5.0             </td><td>0.0                  </td><td>2.0           </td><td>4.0                </td><td>4.0                    </td><td>0.0                         </td><td>0.0                     </td><td>0.0                          </td><td>6.0                     </td><td>1.0                          </td><td>6.0                     </td><td>1.0                          </td><td>-5.654878338327999     </td><td>-6.167820519576324</td><td>3.3669358915861984</td><td>-0.20489616150970671</td><td>-0.08697252946103624  </td><td>-0.10993715591632539   </td><td>2.496345967870219      </td><td>2.2145550482600496     </td><td>-0.21827068574870875      </td><td>-0.259317036474407   </td><td>-0.44314056295444026</td><td>-0.4431405630139231</td><td>-0.44314056359113185      </td><td>-0.4431405630180837      </td><td>0.44314056275265334        </td><td>-0.4431405629082535       </td><td>-0.4431405620203256        </td><td>0.44314043134798337       </td><td>-0.44314056269240204       </td><td>-0.44314057181943345      </td><td>0.5618551386746585     </td><td>0.4376888355594318   </td><td>0.8998745122955721            </td><td>-0.33838015155983997           </td><td>0.8333785078689536             </td><td>1.0207507512102942             </td><td>-2.8438177084730815e-06       </td><td>-0.4431405636901689      </td><td>0           </td></tr>\n",
       "<tr><td><i style='opacity: 0.6'>2,354,513</i></td><td>718   </td><td>0     </td><td>111963.72 </td><td>4514.0         </td><td>0.0             </td><td>154925.27       </td><td>266888.99       </td><td>0        </td><td>0          </td><td>107449.72          </td><td>155.9383286908078 </td><td>173246.90923650007  </td><td>178830.52590969772 </td><td>47373.10882451304          </td><td>180079.754135976          </td><td>17850.253258152337          </td><td>101746.4267326915          </td><td>670584.6599667605           </td><td>801405.9030142671          </td><td>853199.2774894472           </td><td>839256.3673847476          </td><td>5.0             </td><td>0.0                  </td><td>2.0           </td><td>4.0                </td><td>3.0                    </td><td>0.0                         </td><td>0.0                     </td><td>0.0                          </td><td>5.0                     </td><td>0.0                          </td><td>5.0                     </td><td>0.0                          </td><td>-5.654878338327999     </td><td>-6.167820519576324</td><td>3.3669358915861984</td><td>-0.3892324877520557 </td><td>-0.1717081560414192   </td><td>-0.10993715591632539   </td><td>-0.6680528151867959    </td><td>-0.7613322068666057    </td><td>-0.35024240641144255      </td><td>-0.2670507897550146  </td><td>-0.44314056295444026</td><td>-0.4431405630139231</td><td>-0.44314056359113185      </td><td>-0.4431405630180837      </td><td>0.44314056275265334        </td><td>-0.4431405629082535       </td><td>-0.4431405620203256        </td><td>0.44314043134798337       </td><td>-0.44314056269240204       </td><td>-0.44314057181943345      </td><td>0.5618551386746585     </td><td>0.4376888355594318   </td><td>0.4100746592129692            </td><td>-0.33838015155983997           </td><td>0.33748114840925747            </td><td>-0.31354581085418876           </td><td>-2.8438177084730815e-06       </td><td>-0.4431405636901689      </td><td>0           </td></tr>\n",
       "<tr><td><i style='opacity: 0.6'>2,354,514</i></td><td>718   </td><td>0     </td><td>317177.48 </td><td>170.0          </td><td>0.0             </td><td>345042.13       </td><td>662219.61       </td><td>0        </td><td>0          </td><td>317007.48          </td><td>441.75136490250696</td><td>173246.90923650007  </td><td>178830.52590969772 </td><td>47373.10882451304          </td><td>180079.754135976          </td><td>17850.253258152337          </td><td>101746.4267326915          </td><td>670584.6599667605           </td><td>801405.9030142671          </td><td>853199.2774894472           </td><td>839256.3673847476          </td><td>5.0             </td><td>1.0                  </td><td>2.0           </td><td>4.0                </td><td>2.0                    </td><td>0.0                         </td><td>0.0                     </td><td>0.0                          </td><td>5.0                     </td><td>0.0                          </td><td>5.0                     </td><td>0.0                          </td><td>-5.654878338327999     </td><td>-6.167820519576324</td><td>3.3669358915861984</td><td>0.2706300813338248  </td><td>-0.1881371478675823   </td><td>-0.10993715591632539   </td><td>-0.43023368389741584   </td><td>-0.30657484209520885   </td><td>0.44167120618200595       </td><td>-0.23936653233030708 </td><td>-0.44314056295444026</td><td>-0.4431405630139231</td><td>-0.44314056359113185      </td><td>-0.4431405630180837      </td><td>0.44314056275265334        </td><td>-0.4431405629082535       </td><td>-0.4431405620203256        </td><td>0.44314043134798337       </td><td>-0.44314056269240204       </td><td>-0.44314057181943345      </td><td>0.5618551386746585     </td><td>0.4376888355594318   </td><td>-0.07972519386963377          </td><td>-0.33838015155983997           </td><td>0.33748114840925747            </td><td>-0.31354581085418876           </td><td>-2.8438177084730815e-06       </td><td>-0.4431405636901689      </td><td>0           </td></tr>\n",
       "<tr><td><i style='opacity: 0.6'>2,354,515</i></td><td>718   </td><td>0     </td><td>159188.22 </td><td>3859.0         </td><td>0.0             </td><td>0.0             </td><td>159188.22       </td><td>0        </td><td>0          </td><td>155329.22          </td><td>221.7106128133705 </td><td>173246.90923650007  </td><td>178830.52590969772 </td><td>47373.10882451304          </td><td>180079.754135976          </td><td>17850.253258152337          </td><td>101746.4267326915          </td><td>670584.6599667605           </td><td>801405.9030142671          </td><td>853199.2774894472           </td><td>839256.3673847476          </td><td>5.0             </td><td>0.0                  </td><td>2.0           </td><td>4.0                </td><td>3.0                    </td><td>0.0                         </td><td>0.0                     </td><td>0.0                          </td><td>0.0                     </td><td>0.0                          </td><td>5.0                     </td><td>0.0                          </td><td>-5.654878338327999     </td><td>-6.167820519576324</td><td>3.3669358915861984</td><td>-0.23738263180771665</td><td>-0.17418536360268458  </td><td>-0.10993715591632539   </td><td>-0.8618504253838751    </td><td>-0.8852227325968169    </td><td>-0.16930695542089932      </td><td>-0.2606799927151226  </td><td>-0.44314056295444026</td><td>-0.4431405630139231</td><td>-0.44314056359113185      </td><td>-0.4431405630180837      </td><td>0.44314056275265334        </td><td>-0.4431405629082535       </td><td>-0.4431405620203256        </td><td>0.44314043134798337       </td><td>-0.44314056269240204       </td><td>-0.44314057181943345      </td><td>0.5618551386746585     </td><td>0.4376888355594318   </td><td>0.4100746592129692            </td><td>-0.33838015155983997           </td><td>-2.1420056488892234            </td><td>-0.31354581085418876           </td><td>-2.8438177084730815e-06       </td><td>-0.4431405636901689      </td><td>0           </td></tr>\n",
       "<tr><td><i style='opacity: 0.6'>2,354,516</i></td><td>718   </td><td>0     </td><td>186273.84 </td><td>168046.0       </td><td>0.0             </td><td>24893.67        </td><td>211167.51       </td><td>0        </td><td>0          </td><td>18227.839999999997 </td><td>259.4343175487465 </td><td>173246.90923650007  </td><td>178830.52590969772 </td><td>47373.10882451304          </td><td>180079.754135976          </td><td>17850.253258152337          </td><td>101746.4267326915          </td><td>670584.6599667605           </td><td>801405.9030142671          </td><td>853199.2774894472           </td><td>839256.3673847476          </td><td>5.0             </td><td>0.0                  </td><td>2.0           </td><td>4.0                </td><td>5.0                    </td><td>0.0                         </td><td>0.0                     </td><td>0.0                          </td><td>4.0                     </td><td>0.0                          </td><td>5.0                     </td><td>0.0                          </td><td>-5.654878338327999     </td><td>-6.167820519576324</td><td>3.3669358915861984</td><td>-0.1502891211265425 </td><td>0.44676925908659626   </td><td>-0.10993715591632539   </td><td>-0.8307106781042045    </td><td>-0.8254298307894936    </td><td>-0.6874096929542036       </td><td>-0.25702602099028404 </td><td>-0.44314056295444026</td><td>-0.4431405630139231</td><td>-0.44314056359113185      </td><td>-0.4431405630180837      </td><td>0.44314056275265334        </td><td>-0.4431405629082535       </td><td>-0.4431405620203256        </td><td>0.44314043134798337       </td><td>-0.44314056269240204       </td><td>-0.44314057181943345      </td><td>0.5618551386746585     </td><td>0.4376888355594318   </td><td>1.3896743653781751            </td><td>-0.33838015155983997           </td><td>-0.15841621105043865           </td><td>-0.31354581085418876           </td><td>-2.8438177084730815e-06       </td><td>-0.4431405636901689      </td><td>0           </td></tr>\n",
       "</tbody>\n",
       "</table>"
      ],
      "text/plain": [
       "#          step    type    amount      oldbalanceOrg    newbalanceOrig    oldbalanceDest    newbalanceDest    isFraud    dest_type    error_transaction    amount_step         ('amount', 'mean')    ('amount', 'std')    ('oldbalanceOrg', 'mean')    ('oldbalanceOrg', 'std')    ('newbalanceOrig', 'mean')    ('newbalanceOrig', 'std')    ('oldbalanceDest', 'mean')    ('oldbalanceDest', 'std')    ('newbalanceDest', 'mean')    ('newbalanceDest', 'std')    amount_bin_log    amount_kbins_kmeans    step_bin_log    step_kbins_kmeans    oldbalanceOrg_bin_log    oldbalanceOrg_kbins_kmeans    newbalanceOrig_bin_log    newbalanceOrig_kbins_kmeans    oldbalanceDest_bin_log    oldbalanceDest_kbins_kmeans    newbalanceDest_bin_log    newbalanceDest_kbins_kmeans    woe_encoded_dest_type    woe_encoded_type    scaled_step         scaled_amount         scaled_oldbalanceOrg    scaled_newbalanceOrig    scaled_oldbalanceDest    scaled_newbalanceDest    scaled_error_transaction    scaled_amount_step     scaled_amountmean     scaled_amountstd     scaled_oldbalanceOrgmean    scaled_oldbalanceOrgstd    scaled_newbalanceOrigmean    scaled_newbalanceOrigstd    scaled_oldbalanceDestmean    scaled_oldbalanceDeststd    scaled_newbalanceDestmean    scaled_newbalanceDeststd    scaled_amount_bin_log    scaled_step_bin_log    scaled_oldbalanceOrg_bin_log    scaled_newbalanceOrig_bin_log    scaled_oldbalanceDest_bin_log    scaled_newbalanceDest_bin_log    scaled_woe_encoded_dest_type    scaled_woe_encoded_type    prediction\n",
       "0          1       1       181.0       181.0            0.0               0.0               0.0               1          0            0.0                  181.0               537361.7272602181     561751.6977020104    62861.969999974215           510485.68466055463          12877.763452953923            305816.9563440003            782646.8259206628             782540.1382098091            1313369.281028787             916688.4417441946            2.0               0.0                    0.0             0.0                  2.0                      0.0                           0.0                       0.0                            0.0                       0.0                            0.0                       0.0                            -5.654878338327999       -4.536146803906333  -1.693131465331818  -0.748668584038229    -0.18809554590853814    -0.10993715591632539     -0.8618504253838751      -1.0683403859418812      -0.7562922512721365         -0.2646232806070302    2.256620322241861     2.256620322487125    2.2566203249116517          2.256620322393132          -2.2566203205112543          2.256620322285348           2.256620318761071            -2.2566196366385256         2.2566203215160923           2.2566203648601277          -4.551984515583558       -4.476938763986024     -0.07972519386963377            -0.33838015155983997             -2.1420056488892234              -6.985028621176604               -2.8438177084730815e-06         2.2566203271413205         1\n",
       "1          1       1       2806.0      2806.0           0.0               0.0               0.0               1          0            0.0                  2806.0              537361.7272602181     561751.6977020104    62861.969999974215           510485.68466055463          12877.763452953923            305816.9563440003            782646.8259206628             782540.1382098091            1313369.281028787             916688.4417441946            3.0               0.0                    0.0             0.0                  3.0                      0.0                           0.0                       0.0                            0.0                       0.0                            0.0                       0.0                            -5.654878338327999       -4.536146803906333  -1.693131465331818  -0.7402279256542569   -0.1781678056820929     -0.10993715591632539     -0.8618504253838751      -1.0683403859418812      -0.7562922512721365         -0.010362044999741823  2.256620322241861     2.256620322487125    2.2566203249116517          2.256620322393132          -2.2566203205112543          2.256620322285348           2.256620318761071            -2.2566196366385256         2.2566203215160923           2.2566203648601277          -2.8473712974974856      -4.476938763986024     0.4100746592129692              -0.33838015155983997             -2.1420056488892234              -6.985028621176604               -2.8438177084730815e-06         2.2566203271413205         1\n",
       "2          1       1       20128.0     20128.0          0.0               0.0               0.0               1          0            0.0                  20128.0             537361.7272602181     561751.6977020104    62861.969999974215           510485.68466055463          12877.763452953923            305816.9563440003            782646.8259206628             782540.1382098091            1313369.281028787             916688.4417441946            4.0               0.0                    0.0             0.0                  4.0                      0.0                           0.0                       0.0                            0.0                       0.0                            0.0                       0.0                            -5.654878338327999       -4.536146803906333  -1.693131465331818  -0.6845292267867656   -0.11265606617638463    -0.10993715591632539     -0.8618504253838751      -1.0683403859418812      -0.7562922512721365         1.6674715257390962     2.256620322241861     2.256620322487125    2.2566203249116517          2.256620322393132          -2.2566203205112543          2.256620322285348           2.256620318761071            -2.2566196366385256         2.2566203215160923           2.2566203648601277          -1.1427580794114136      -4.476938763986024     0.8998745122955721              -0.33838015155983997             -2.1420056488892234              -6.985028621176604               -2.8438177084730815e-06         2.2566203271413205         1\n",
       "3          1       1       1277212.77  1277212.77       0.0               0.0               0.0               1          0            0.0                  1277212.77          537361.7272602181     561751.6977020104    62861.969999974215           510485.68466055463          12877.763452953923            305816.9563440003            782646.8259206628             782540.1382098091            1313369.281028787             916688.4417441946            6.0               2.0                    0.0             0.0                  6.0                      1.0                           0.0                       0.0                            0.0                       0.0                            0.0                       0.0                            -5.654878338327999       -4.536146803906333  -1.693131465331818  3.357612907790045     4.64163385351148        -0.10993715591632539     -0.8618504253838751      -1.0683403859418812      -0.7562922512721365         123.4304912908073      2.256620322241861     2.256620322487125    2.2566203249116517          2.256620322393132          -2.2566203205112543          2.256620322285348           2.256620318761071            -2.2566196366385256         2.2566203215160923           2.2566203648601277          2.266468356760731        -4.476938763986024     1.8794742184607782              -0.33838015155983997             -2.1420056488892234              -6.985028621176604               -2.8438177084730815e-06         2.2566203271413205         0\n",
       "4          1       1       35063.63    35063.63         0.0               0.0               0.0               1          0            0.0                  35063.63            537361.7272602181     561751.6977020104    62861.969999974215           510485.68466055463          12877.763452953923            305816.9563440003            782646.8259206628             782540.1382098091            1313369.281028787             916688.4417441946            4.0               0.0                    0.0             0.0                  4.0                      0.0                           0.0                       0.0                            0.0                       0.0                            0.0                       0.0                            -5.654878338327999       -4.536146803906333  -1.693131465331818  -0.6365038741850875   -0.05616956912560289    -0.10993715591632539     -0.8618504253838751      -1.0683403859418812      -0.7562922512721365         3.114157902262252      2.256620322241861     2.256620322487125    2.2566203249116517          2.256620322393132          -2.2566203205112543          2.256620322285348           2.256620318761071            -2.2566196366385256         2.2566203215160923           2.2566203648601277          -1.1427580794114136      -4.476938763986024     0.8998745122955721              -0.33838015155983997             -2.1420056488892234              -6.985028621176604               -2.8438177084730815e-06         2.2566203271413205         1\n",
       "...        ...     ...     ...         ...              ...               ...               ...               ...        ...          ...                  ...                 ...                   ...                  ...                          ...                         ...                           ...                          ...                           ...                          ...                           ...                          ...               ...                    ...             ...                  ...                      ...                           ...                       ...                            ...                       ...                            ...                       ...                            ...                      ...                 ...                 ...                   ...                     ...                      ...                      ...                      ...                         ...                    ...                   ...                  ...                         ...                        ...                          ...                         ...                          ...                         ...                          ...                         ...                      ...                    ...                             ...                              ...                              ...                              ...                             ...                        ...\n",
       "2,354,512  718     0       169291.34   26919.0          0.0               2684602.16        2853893.5         0          0            142372.34            235.7818105849582   173246.90923650007    178830.52590969772   47373.10882451304            180079.754135976            17850.253258152337            101746.4267326915            670584.6599667605             801405.9030142671            853199.2774894472             839256.3673847476            5.0               0.0                    2.0             4.0                  4.0                      0.0                           0.0                       0.0                            6.0                       1.0                            6.0                       1.0                            -5.654878338327999       -6.167820519576324  3.3669358915861984  -0.20489616150970671  -0.08697252946103624    -0.10993715591632539     2.496345967870219        2.2145550482600496       -0.21827068574870875        -0.259317036474407     -0.44314056295444026  -0.4431405630139231  -0.44314056359113185        -0.4431405630180837        0.44314056275265334          -0.4431405629082535         -0.4431405620203256          0.44314043134798337         -0.44314056269240204         -0.44314057181943345        0.5618551386746585       0.4376888355594318     0.8998745122955721              -0.33838015155983997             0.8333785078689536               1.0207507512102942               -2.8438177084730815e-06         -0.4431405636901689        0\n",
       "2,354,513  718     0       111963.72   4514.0           0.0               154925.27         266888.99         0          0            107449.72            155.9383286908078   173246.90923650007    178830.52590969772   47373.10882451304            180079.754135976            17850.253258152337            101746.4267326915            670584.6599667605             801405.9030142671            853199.2774894472             839256.3673847476            5.0               0.0                    2.0             4.0                  3.0                      0.0                           0.0                       0.0                            5.0                       0.0                            5.0                       0.0                            -5.654878338327999       -6.167820519576324  3.3669358915861984  -0.3892324877520557   -0.1717081560414192     -0.10993715591632539     -0.6680528151867959      -0.7613322068666057      -0.35024240641144255        -0.2670507897550146    -0.44314056295444026  -0.4431405630139231  -0.44314056359113185        -0.4431405630180837        0.44314056275265334          -0.4431405629082535         -0.4431405620203256          0.44314043134798337         -0.44314056269240204         -0.44314057181943345        0.5618551386746585       0.4376888355594318     0.4100746592129692              -0.33838015155983997             0.33748114840925747              -0.31354581085418876             -2.8438177084730815e-06         -0.4431405636901689        0\n",
       "2,354,514  718     0       317177.48   170.0            0.0               345042.13         662219.61         0          0            317007.48            441.75136490250696  173246.90923650007    178830.52590969772   47373.10882451304            180079.754135976            17850.253258152337            101746.4267326915            670584.6599667605             801405.9030142671            853199.2774894472             839256.3673847476            5.0               1.0                    2.0             4.0                  2.0                      0.0                           0.0                       0.0                            5.0                       0.0                            5.0                       0.0                            -5.654878338327999       -6.167820519576324  3.3669358915861984  0.2706300813338248    -0.1881371478675823     -0.10993715591632539     -0.43023368389741584     -0.30657484209520885     0.44167120618200595         -0.23936653233030708   -0.44314056295444026  -0.4431405630139231  -0.44314056359113185        -0.4431405630180837        0.44314056275265334          -0.4431405629082535         -0.4431405620203256          0.44314043134798337         -0.44314056269240204         -0.44314057181943345        0.5618551386746585       0.4376888355594318     -0.07972519386963377            -0.33838015155983997             0.33748114840925747              -0.31354581085418876             -2.8438177084730815e-06         -0.4431405636901689        0\n",
       "2,354,515  718     0       159188.22   3859.0           0.0               0.0               159188.22         0          0            155329.22            221.7106128133705   173246.90923650007    178830.52590969772   47373.10882451304            180079.754135976            17850.253258152337            101746.4267326915            670584.6599667605             801405.9030142671            853199.2774894472             839256.3673847476            5.0               0.0                    2.0             4.0                  3.0                      0.0                           0.0                       0.0                            0.0                       0.0                            5.0                       0.0                            -5.654878338327999       -6.167820519576324  3.3669358915861984  -0.23738263180771665  -0.17418536360268458    -0.10993715591632539     -0.8618504253838751      -0.8852227325968169      -0.16930695542089932        -0.2606799927151226    -0.44314056295444026  -0.4431405630139231  -0.44314056359113185        -0.4431405630180837        0.44314056275265334          -0.4431405629082535         -0.4431405620203256          0.44314043134798337         -0.44314056269240204         -0.44314057181943345        0.5618551386746585       0.4376888355594318     0.4100746592129692              -0.33838015155983997             -2.1420056488892234              -0.31354581085418876             -2.8438177084730815e-06         -0.4431405636901689        0\n",
       "2,354,516  718     0       186273.84   168046.0         0.0               24893.67          211167.51         0          0            18227.839999999997   259.4343175487465   173246.90923650007    178830.52590969772   47373.10882451304            180079.754135976            17850.253258152337            101746.4267326915            670584.6599667605             801405.9030142671            853199.2774894472             839256.3673847476            5.0               0.0                    2.0             4.0                  5.0                      0.0                           0.0                       0.0                            4.0                       0.0                            5.0                       0.0                            -5.654878338327999       -6.167820519576324  3.3669358915861984  -0.1502891211265425   0.44676925908659626     -0.10993715591632539     -0.8307106781042045      -0.8254298307894936      -0.6874096929542036         -0.25702602099028404   -0.44314056295444026  -0.4431405630139231  -0.44314056359113185        -0.4431405630180837        0.44314056275265334          -0.4431405629082535         -0.4431405620203256          0.44314043134798337         -0.44314056269240204         -0.44314057181943345        0.5618551386746585       0.4376888355594318     1.3896743653781751              -0.33838015155983997             -0.15841621105043865             -0.31354581085418876             -2.8438177084730815e-06         -0.4431405636901689        0"
      ]
     },
     "execution_count": 16,
     "metadata": {},
     "output_type": "execute_result"
    }
   ],
   "source": [
    "vaex.multithreading.thread_count_default = 16\n",
    "features = ['step', \n",
    "            'amount', \n",
    "            'oldbalanceOrg',\n",
    "            'newbalanceOrig',\n",
    "            'oldbalanceDest',\n",
    "            'newbalanceDest', \n",
    "            'error_transaction',\n",
    "            'amount_step',\n",
    "            'amountmean',\n",
    "            'amountstd',\n",
    "            'oldbalanceOrgmean',\n",
    "            'oldbalanceOrgstd',\n",
    "            'newbalanceOrigmean',\n",
    "            'newbalanceOrigstd',\n",
    "            'oldbalanceDestmean',\n",
    "            'oldbalanceDeststd',\n",
    "            'newbalanceDestmean',\n",
    "            'newbalanceDeststd',\n",
    "            'amount_bin_log',\n",
    "            'step_bin_log',\n",
    "            'oldbalanceOrg_bin_log',\n",
    "            'newbalanceOrig_bin_log',\n",
    "            'oldbalanceDest_bin_log',\n",
    "            'newbalanceDest_bin_log',\n",
    "            'woe_encoded_dest_type',\n",
    "            'woe_encoded_type']\n",
    "\n",
    "# Scaler\n",
    "scaler = vaex.ml.StandardScaler(features=features, prefix='scaled_')\n",
    "scaler.fit(dataset)\n",
    "dataset_scaled = scaler.transform(dataset)\n",
    "\n",
    "features_train = dataset_scaled.get_column_names(regex='scaled*') + \\\n",
    "                 dataset_scaled.get_column_names(regex='.*_kmeans')+ \\\n",
    "                 ['type']\n",
    "\n",
    "model = SGDClassifier(loss='log', \n",
    "                      eta0=0.001, \n",
    "                      learning_rate='constant',\n",
    "                      random_state=42)\n",
    "\n",
    "\n",
    "vaex_model_log = IncrementalPredictor(features=features_train, \n",
    "                                  target='isFraud', \n",
    "                                  model=model,\n",
    "                                  batch_size=1_000_00,\n",
    "                                  partial_fit_kwargs={'classes':[0,1]},\n",
    "                                  num_epochs=1,\n",
    "                                  shuffle=False,\n",
    "                                  prediction_name='prediction')\n",
    "\n",
    "vaex_model_log.fit(df=dataset_scaled, progress='widget')\n",
    "df_log = vaex_model_log.transform(dataset_scaled)\n",
    "df_log"
   ]
  },
  {
   "cell_type": "markdown",
   "metadata": {
    "heading_collapsed": true
   },
   "source": [
    "## Pipeline-1 - SGDC com Perceptron loss"
   ]
  },
  {
   "cell_type": "code",
   "execution_count": null,
   "metadata": {
    "ExecuteTime": {
     "end_time": "2020-11-13T09:37:41.598099Z",
     "start_time": "2020-11-13T09:37:38.314906Z"
    },
    "hidden": true
   },
   "outputs": [],
   "source": [
    "vaex.multithreading.thread_count_default = 16\n",
    "features = ['step', \n",
    "            'amount', \n",
    "            'oldbalanceOrg',\n",
    "            'newbalanceOrig',\n",
    "            'oldbalanceDest',\n",
    "            'newbalanceDest', \n",
    "            'error_transaction',\n",
    "            'amount_step',\n",
    "            'amountmean',\n",
    "            'amountstd',\n",
    "            'oldbalanceOrgmean',\n",
    "            'oldbalanceOrgstd',\n",
    "            'newbalanceOrigmean',\n",
    "            'newbalanceOrigstd',\n",
    "            'oldbalanceDestmean',\n",
    "            'oldbalanceDeststd',\n",
    "            'newbalanceDestmean',\n",
    "            'newbalanceDeststd',\n",
    "            'amount_bin_log',\n",
    "            'step_bin_log',\n",
    "            'oldbalanceOrg_bin_log',\n",
    "            'newbalanceOrig_bin_log',\n",
    "            'oldbalanceDest_bin_log',\n",
    "            'newbalanceDest_bin_log',\n",
    "            'woe_encoded_dest_type',\n",
    "            'woe_encoded_type']\n",
    "\n",
    "# Scaler\n",
    "scaler = vaex.ml.StandardScaler(features=features, prefix='scaled_')\n",
    "scaler.fit(dataset)\n",
    "dataset_scaled = scaler.transform(dataset)\n",
    "\n",
    "features_train = dataset_scaled.get_column_names(regex='scaled*') + \\\n",
    "                 dataset_scaled.get_column_names(regex='.*_kmeans')+ \\\n",
    "                 ['type']\n",
    "\n",
    "model = SGDClassifier(loss='perceptron', eta0=0.001, learning_rate='constant',random_state=42)\n",
    "vaex_model_perc = IncrementalPredictor(features=features_train, \n",
    "                                  target='isFraud', \n",
    "                                  model=model,\n",
    "                                  batch_size=1_000_00,\n",
    "                                  partial_fit_kwargs={'classes':[0,1]},\n",
    "                                  num_epochs=1,\n",
    "                                  shuffle=False,\n",
    "                                  prediction_name='prediction')\n",
    "\n",
    "vaex_model_perc.fit(df=dataset_scaled, progress='widget')\n",
    "df_perc = vaex_model_perc.transform(dataset_scaled)\n",
    "df_perc"
   ]
  },
  {
   "cell_type": "markdown",
   "metadata": {},
   "source": [
    "## Pipeline-1 -  Xgboost"
   ]
  },
  {
   "cell_type": "code",
   "execution_count": 41,
   "metadata": {
    "ExecuteTime": {
     "end_time": "2020-11-13T12:45:23.735808Z",
     "start_time": "2020-11-13T12:45:12.113872Z"
    }
   },
   "outputs": [
    {
     "data": {
      "text/html": [
       "<table>\n",
       "<thead>\n",
       "<tr><th>#                                  </th><th>step  </th><th>type  </th><th>amount   </th><th>oldbalanceOrg  </th><th>newbalanceOrig  </th><th>oldbalanceDest  </th><th>newbalanceDest  </th><th>isFraud  </th><th>dest_type  </th><th>error_transaction  </th><th>amount_step       </th><th>(&#x27;amount&#x27;, &#x27;mean&#x27;)  </th><th>(&#x27;amount&#x27;, &#x27;std&#x27;)  </th><th>(&#x27;oldbalanceOrg&#x27;, &#x27;mean&#x27;)  </th><th>(&#x27;oldbalanceOrg&#x27;, &#x27;std&#x27;)  </th><th>(&#x27;newbalanceOrig&#x27;, &#x27;mean&#x27;)  </th><th>(&#x27;newbalanceOrig&#x27;, &#x27;std&#x27;)  </th><th>(&#x27;oldbalanceDest&#x27;, &#x27;mean&#x27;)  </th><th>(&#x27;oldbalanceDest&#x27;, &#x27;std&#x27;)  </th><th>(&#x27;newbalanceDest&#x27;, &#x27;mean&#x27;)  </th><th>(&#x27;newbalanceDest&#x27;, &#x27;std&#x27;)  </th><th>amount_bin_log  </th><th>amount_kbins_kmeans  </th><th>step_bin_log  </th><th>step_kbins_kmeans  </th><th>oldbalanceOrg_bin_log  </th><th>oldbalanceOrg_kbins_kmeans  </th><th>newbalanceOrig_bin_log  </th><th>newbalanceOrig_kbins_kmeans  </th><th>oldbalanceDest_bin_log  </th><th>oldbalanceDest_kbins_kmeans  </th><th>newbalanceDest_bin_log  </th><th>newbalanceDest_kbins_kmeans  </th><th>woe_encoded_dest_type  </th><th>woe_encoded_type  </th><th>scaled_step         </th><th>scaled_amount       </th><th>scaled_oldbalanceOrg  </th><th>scaled_newbalanceOrig  </th><th>scaled_oldbalanceDest  </th><th>scaled_newbalanceDest  </th><th>scaled_error_transaction  </th><th>scaled_amount_step  </th><th>scaled_amountmean   </th><th>scaled_amountstd   </th><th>scaled_oldbalanceOrgmean  </th><th>scaled_oldbalanceOrgstd  </th><th>scaled_newbalanceOrigmean  </th><th>scaled_newbalanceOrigstd  </th><th>scaled_oldbalanceDestmean  </th><th>scaled_oldbalanceDeststd  </th><th>scaled_newbalanceDestmean  </th><th>scaled_newbalanceDeststd  </th><th>scaled_amount_bin_log  </th><th>scaled_step_bin_log  </th><th>scaled_oldbalanceOrg_bin_log  </th><th>scaled_newbalanceOrig_bin_log  </th><th>scaled_oldbalanceDest_bin_log  </th><th>scaled_newbalanceDest_bin_log  </th><th>scaled_woe_encoded_dest_type  </th><th>scaled_woe_encoded_type  </th><th>xgboost_prediction  </th></tr>\n",
       "</thead>\n",
       "<tbody>\n",
       "<tr><td><i style='opacity: 0.6'>0</i>      </td><td>161   </td><td>0     </td><td>132971.28</td><td>0.0            </td><td>0.0             </td><td>984543.31       </td><td>1072685.96      </td><td>0        </td><td>0          </td><td>132971.28          </td><td>825.9085714285715 </td><td>173246.90923650007  </td><td>178830.52590969772 </td><td>47373.10882451304          </td><td>180079.754135976          </td><td>17850.253258152337          </td><td>101746.4267326915          </td><td>670584.6599667605           </td><td>801405.9030142671          </td><td>853199.2774894472           </td><td>839256.3673847476          </td><td>5.0             </td><td>0.0                  </td><td>2.0           </td><td>1.0                </td><td>0.0                    </td><td>0.0                         </td><td>0.0                     </td><td>0.0                          </td><td>5.0                     </td><td>0.0                          </td><td>6.0                     </td><td>0.0                          </td><td>-5.654878338327999     </td><td>-6.167820519576324</td><td>-0.5639672015844225 </td><td>-0.32168291158413315</td><td>-0.18878008723462825  </td><td>-0.10993715591632539   </td><td>0.3697249051837079     </td><td>0.16559348034167662    </td><td>-0.25379705989399337      </td><td>-0.20215651861649317</td><td>-0.44314056295444026</td><td>-0.4431405630139231</td><td>-0.44314056359113185      </td><td>-0.4431405630180837      </td><td>0.44314056275265334        </td><td>-0.4431405629082535       </td><td>-0.4431405620203256        </td><td>0.44314043134798337       </td><td>-0.44314056269240204       </td><td>-0.44314057181943345      </td><td>0.5618551386746585     </td><td>0.4376888355594318   </td><td>-1.0593249000348397           </td><td>-0.33838015155983997           </td><td>0.33748114840925747            </td><td>1.0207507512102942             </td><td>-2.8438177084730815e-06       </td><td>-0.4431405636901689      </td><td>1.0                 </td></tr>\n",
       "<tr><td><i style='opacity: 0.6'>1</i>      </td><td>378   </td><td>0     </td><td>316518.22</td><td>5156.0         </td><td>0.0             </td><td>0.0             </td><td>316518.22       </td><td>0        </td><td>0          </td><td>311362.22          </td><td>837.3497883597882 </td><td>173246.90923650007  </td><td>178830.52590969772 </td><td>47373.10882451304          </td><td>180079.754135976          </td><td>17850.253258152337          </td><td>101746.4267326915          </td><td>670584.6599667605           </td><td>801405.9030142671          </td><td>853199.2774894472           </td><td>839256.3673847476          </td><td>5.0             </td><td>1.0                  </td><td>2.0           </td><td>2.0                </td><td>3.0                    </td><td>0.0                         </td><td>0.0                     </td><td>0.0                          </td><td>0.0                     </td><td>0.0                          </td><td>5.0                     </td><td>0.0                          </td><td>-5.654878338327999     </td><td>-6.167820519576324</td><td>0.9674618311229827  </td><td>0.26851023811621816 </td><td>-0.16928011443175145  </td><td>-0.10993715591632539   </td><td>-0.8618504253838751    </td><td>-0.704242629918497     </td><td>0.42033790771274715       </td><td>-0.20104830606267138</td><td>-0.44314056295444026</td><td>-0.4431405630139231</td><td>-0.44314056359113185      </td><td>-0.4431405630180837      </td><td>0.44314056275265334        </td><td>-0.4431405629082535       </td><td>-0.4431405620203256        </td><td>0.44314043134798337       </td><td>-0.44314056269240204       </td><td>-0.44314057181943345      </td><td>0.5618551386746585     </td><td>0.4376888355594318   </td><td>0.4100746592129692            </td><td>-0.33838015155983997           </td><td>-2.1420056488892234            </td><td>-0.31354581085418876           </td><td>-2.8438177084730815e-06       </td><td>-0.4431405636901689      </td><td>1.0                 </td></tr>\n",
       "<tr><td><i style='opacity: 0.6'>2</i>      </td><td>281   </td><td>0     </td><td>44361.65 </td><td>0.0            </td><td>0.0             </td><td>1375491.91      </td><td>1419853.56      </td><td>0        </td><td>0          </td><td>44361.65           </td><td>157.87064056939502</td><td>173246.90923650007  </td><td>178830.52590969772 </td><td>47373.10882451304          </td><td>180079.754135976          </td><td>17850.253258152337          </td><td>101746.4267326915          </td><td>670584.6599667605           </td><td>801405.9030142671          </td><td>853199.2774894472           </td><td>839256.3673847476          </td><td>4.0             </td><td>0.0                  </td><td>2.0           </td><td>2.0                </td><td>0.0                    </td><td>0.0                         </td><td>0.0                     </td><td>0.0                          </td><td>6.0                     </td><td>1.0                          </td><td>6.0                     </td><td>1.0                          </td><td>-5.654878338327999     </td><td>-6.167820519576324</td><td>0.28290599622612417 </td><td>-0.6066061940070532 </td><td>-0.18878008723462825  </td><td>-0.10993715591632539   </td><td>0.8587665211182406     </td><td>0.5649478812479622     </td><td>-0.5886506687695073       </td><td>-0.26686362327660385</td><td>-0.44314056295444026</td><td>-0.4431405630139231</td><td>-0.44314056359113185      </td><td>-0.4431405630180837      </td><td>0.44314056275265334        </td><td>-0.4431405629082535       </td><td>-0.4431405620203256        </td><td>0.44314043134798337       </td><td>-0.44314056269240204       </td><td>-0.44314057181943345      </td><td>-1.1427580794114136    </td><td>0.4376888355594318   </td><td>-1.0593249000348397           </td><td>-0.33838015155983997           </td><td>0.8333785078689536             </td><td>1.0207507512102942             </td><td>-2.8438177084730815e-06       </td><td>-0.4431405636901689      </td><td>1.0                 </td></tr>\n",
       "<tr><td><i style='opacity: 0.6'>3</i>      </td><td>250   </td><td>0     </td><td>380950.72</td><td>41070.0        </td><td>0.0             </td><td>638778.12       </td><td>1019728.84      </td><td>0        </td><td>0          </td><td>339880.72          </td><td>1523.80288        </td><td>173246.90923650007  </td><td>178830.52590969772 </td><td>47373.10882451304          </td><td>180079.754135976          </td><td>17850.253258152337          </td><td>101746.4267326915          </td><td>670584.6599667605           </td><td>801405.9030142671          </td><td>853199.2774894472           </td><td>839256.3673847476          </td><td>5.0             </td><td>1.0                  </td><td>2.0           </td><td>1.0                </td><td>4.0                    </td><td>0.0                         </td><td>0.0                     </td><td>0.0                          </td><td>5.0                     </td><td>0.0                          </td><td>6.0                     </td><td>0.0                          </td><td>-5.654878338327999     </td><td>-6.167820519576324</td><td>0.06413042012506628 </td><td>0.47569222719251597 </td><td>-0.03345350014887381  </td><td>-0.10993715591632539   </td><td>-0.06279631947731106   </td><td>0.1046757595309723     </td><td>0.5281086166607062        </td><td>-0.13455748272290627</td><td>-0.44314056295444026</td><td>-0.4431405630139231</td><td>-0.44314056359113185      </td><td>-0.4431405630180837      </td><td>0.44314056275265334        </td><td>-0.4431405629082535       </td><td>-0.4431405620203256        </td><td>0.44314043134798337       </td><td>-0.44314056269240204       </td><td>-0.44314057181943345      </td><td>0.5618551386746585     </td><td>0.4376888355594318   </td><td>0.8998745122955721            </td><td>-0.33838015155983997           </td><td>0.33748114840925747            </td><td>1.0207507512102942             </td><td>-2.8438177084730815e-06       </td><td>-0.4431405636901689      </td><td>1.0                 </td></tr>\n",
       "<tr><td><i style='opacity: 0.6'>4</i>      </td><td>311   </td><td>0     </td><td>32085.67 </td><td>88432.0        </td><td>56346.33        </td><td>425214.62       </td><td>457300.29       </td><td>0        </td><td>0          </td><td>0.0                </td><td>103.16935691318328</td><td>173246.90923650007  </td><td>178830.52590969772 </td><td>47373.10882451304          </td><td>180079.754135976          </td><td>17850.253258152337          </td><td>101746.4267326915          </td><td>670584.6599667605           </td><td>801405.9030142671          </td><td>853199.2774894472           </td><td>839256.3673847476          </td><td>4.0             </td><td>0.0                  </td><td>2.0           </td><td>2.0                </td><td>4.0                    </td><td>0.0                         </td><td>4.0                     </td><td>0.0                          </td><td>5.0                     </td><td>0.0                          </td><td>5.0                     </td><td>0.0                          </td><td>-5.654878338327999     </td><td>-6.167820519576324</td><td>0.4946242956787608  </td><td>-0.6460794715340907 </td><td>0.14566940751013524   </td><td>0.2537197342329188     </td><td>-0.3299450933689035    </td><td>-0.5422979691172104    </td><td>-0.7562922512721365       </td><td>-0.2721620674563117 </td><td>-0.44314056295444026</td><td>-0.4431405630139231</td><td>-0.44314056359113185      </td><td>-0.4431405630180837      </td><td>0.44314056275265334        </td><td>-0.4431405629082535       </td><td>-0.4431405620203256        </td><td>0.44314043134798337       </td><td>-0.44314056269240204       </td><td>-0.44314057181943345      </td><td>-1.1427580794114136    </td><td>0.4376888355594318   </td><td>0.8998745122955721            </td><td>2.639256675309615              </td><td>0.33748114840925747            </td><td>-0.31354581085418876           </td><td>-2.8438177084730815e-06       </td><td>-0.4431405636901689      </td><td>1.0                 </td></tr>\n",
       "<tr><td>...                                </td><td>...   </td><td>...   </td><td>...      </td><td>...            </td><td>...             </td><td>...             </td><td>...             </td><td>...      </td><td>...        </td><td>...                </td><td>...               </td><td>...                 </td><td>...                </td><td>...                        </td><td>...                       </td><td>...                         </td><td>...                        </td><td>...                         </td><td>...                        </td><td>...                         </td><td>...                        </td><td>...             </td><td>...                  </td><td>...           </td><td>...                </td><td>...                    </td><td>...                         </td><td>...                     </td><td>...                          </td><td>...                     </td><td>...                          </td><td>...                     </td><td>...                          </td><td>...                    </td><td>...               </td><td>...                 </td><td>...                 </td><td>...                   </td><td>...                    </td><td>...                    </td><td>...                    </td><td>...                       </td><td>...                 </td><td>...                 </td><td>...                </td><td>...                       </td><td>...                      </td><td>...                        </td><td>...                       </td><td>...                        </td><td>...                       </td><td>...                        </td><td>...                       </td><td>...                    </td><td>...                  </td><td>...                           </td><td>...                            </td><td>...                            </td><td>...                            </td><td>...                           </td><td>...                      </td><td>...                 </td></tr>\n",
       "<tr><td><i style='opacity: 0.6'>199,995</i></td><td>286   </td><td>0     </td><td>16046.61 </td><td>0.0            </td><td>0.0             </td><td>649751.24       </td><td>665797.85       </td><td>0        </td><td>0          </td><td>16046.61           </td><td>56.10702797202797 </td><td>173246.90923650007  </td><td>178830.52590969772 </td><td>47373.10882451304          </td><td>180079.754135976          </td><td>17850.253258152337          </td><td>101746.4267326915          </td><td>670584.6599667605           </td><td>801405.9030142671          </td><td>853199.2774894472           </td><td>839256.3673847476          </td><td>4.0             </td><td>0.0                  </td><td>2.0           </td><td>2.0                </td><td>0.0                    </td><td>0.0                         </td><td>0.0                     </td><td>0.0                          </td><td>5.0                     </td><td>0.0                          </td><td>5.0                     </td><td>0.0                          </td><td>-5.654878338327999     </td><td>-6.167820519576324</td><td>0.31819237946823026 </td><td>-0.6976528910617218 </td><td>-0.18878008723462825  </td><td>-0.10993715591632539   </td><td>-0.04906993105529461   </td><td>-0.3024587152115397    </td><td>-0.695652507389695        </td><td>-0.2767205916114107 </td><td>-0.44314056295444026</td><td>-0.4431405630139231</td><td>-0.44314056359113185      </td><td>-0.4431405630180837      </td><td>0.44314056275265334        </td><td>-0.4431405629082535       </td><td>-0.4431405620203256        </td><td>0.44314043134798337       </td><td>-0.44314056269240204       </td><td>-0.44314057181943345      </td><td>-1.1427580794114136    </td><td>0.4376888355594318   </td><td>-1.0593249000348397           </td><td>-0.33838015155983997           </td><td>0.33748114840925747            </td><td>-0.31354581085418876           </td><td>-2.8438177084730815e-06       </td><td>-0.4431405636901689      </td><td>1.0                 </td></tr>\n",
       "<tr><td><i style='opacity: 0.6'>199,996</i></td><td>203   </td><td>1     </td><td>54252.78 </td><td>0.0            </td><td>0.0             </td><td>1167237.41      </td><td>1221490.2       </td><td>0        </td><td>0          </td><td>54252.78           </td><td>267.2550738916256 </td><td>537361.7272602181   </td><td>561751.6977020104  </td><td>62861.969999974215         </td><td>510485.68466055463        </td><td>12877.763452953923          </td><td>305816.9563440003          </td><td>782646.8259206628           </td><td>782540.1382098091          </td><td>1313369.281028787           </td><td>916688.4417441946          </td><td>4.0             </td><td>0.0                  </td><td>2.0           </td><td>1.0                </td><td>0.0                    </td><td>0.0                         </td><td>0.0                     </td><td>0.0                          </td><td>6.0                     </td><td>1.0                          </td><td>6.0                     </td><td>0.0                          </td><td>-5.654878338327999     </td><td>-4.536146803906333</td><td>-0.26756158235073113</td><td>-0.5748013752026883 </td><td>-0.18878008723462825  </td><td>-0.10993715591632539   </td><td>0.5982588298114084     </td><td>0.33676621684564506    </td><td>-0.5512723321670764       </td><td>-0.25626849140128444</td><td>2.256620322241861   </td><td>2.256620322487125  </td><td>2.2566203249116517        </td><td>2.256620322393132        </td><td>-2.2566203205112543        </td><td>2.256620322285348         </td><td>2.256620318761071          </td><td>-2.2566196366385256       </td><td>2.2566203215160923         </td><td>2.2566203648601277        </td><td>-1.1427580794114136    </td><td>0.4376888355594318   </td><td>-1.0593249000348397           </td><td>-0.33838015155983997           </td><td>0.8333785078689536             </td><td>1.0207507512102942             </td><td>-2.8438177084730815e-06       </td><td>2.2566203271413205       </td><td>1.0                 </td></tr>\n",
       "<tr><td><i style='opacity: 0.6'>199,997</i></td><td>44    </td><td>0     </td><td>93044.86 </td><td>21008.0        </td><td>0.0             </td><td>145896.62       </td><td>238941.48       </td><td>0        </td><td>0          </td><td>72036.86           </td><td>2114.655909090909 </td><td>173246.90923650007  </td><td>178830.52590969772 </td><td>47373.10882451304          </td><td>180079.754135976          </td><td>17850.253258152337          </td><td>101746.4267326915          </td><td>670584.6599667605           </td><td>801405.9030142671          </td><td>853199.2774894472           </td><td>839256.3673847476          </td><td>4.0             </td><td>0.0                  </td><td>1.0           </td><td>0.0                </td><td>4.0                    </td><td>0.0                         </td><td>0.0                     </td><td>0.0                          </td><td>5.0                     </td><td>0.0                          </td><td>5.0                     </td><td>0.0                          </td><td>-5.654878338327999     </td><td>-6.167820519576324</td><td>-1.3896685694497055 </td><td>-0.4500658722374631 </td><td>-0.10932790945285252  </td><td>-0.10993715591632539   </td><td>-0.6793468461302686    </td><td>-0.7934808322362324    </td><td>-0.48406673195713473      </td><td>-0.07732661748901534</td><td>-0.44314056295444026</td><td>-0.4431405630139231</td><td>-0.44314056359113185      </td><td>-0.4431405630180837      </td><td>0.44314056275265334        </td><td>-0.4431405629082535       </td><td>-0.4431405620203256        </td><td>0.44314043134798337       </td><td>-0.44314056269240204       </td><td>-0.44314057181943345      </td><td>-1.1427580794114136    </td><td>-2.019624964213296   </td><td>0.8998745122955721            </td><td>-0.33838015155983997           </td><td>0.33748114840925747            </td><td>-0.31354581085418876           </td><td>-2.8438177084730815e-06       </td><td>-0.4431405636901689      </td><td>1.0                 </td></tr>\n",
       "<tr><td><i style='opacity: 0.6'>199,998</i></td><td>328   </td><td>0     </td><td>164058.91</td><td>371.0          </td><td>0.0             </td><td>0.0             </td><td>164058.91       </td><td>0        </td><td>0          </td><td>163687.91          </td><td>500.1796036585366 </td><td>173246.90923650007  </td><td>178830.52590969772 </td><td>47373.10882451304          </td><td>180079.754135976          </td><td>17850.253258152337          </td><td>101746.4267326915          </td><td>670584.6599667605           </td><td>801405.9030142671          </td><td>853199.2774894472           </td><td>839256.3673847476          </td><td>5.0             </td><td>0.0                  </td><td>2.0           </td><td>2.0                </td><td>2.0                    </td><td>0.0                         </td><td>0.0                     </td><td>0.0                          </td><td>0.0                     </td><td>0.0                          </td><td>5.0                     </td><td>0.0                          </td><td>-5.654878338327999     </td><td>-6.167820519576324</td><td>0.6145979987019216  </td><td>-0.22172098213753416</td><td>-0.18737696661595732  </td><td>-0.10993715591632539   </td><td>-0.8618504253838751    </td><td>-0.8796198725172754    </td><td>-0.13771967182687384      </td><td>-0.2337070899758439 </td><td>-0.44314056295444026</td><td>-0.4431405630139231</td><td>-0.44314056359113185      </td><td>-0.4431405630180837      </td><td>0.44314056275265334        </td><td>-0.4431405629082535       </td><td>-0.4431405620203256        </td><td>0.44314043134798337       </td><td>-0.44314056269240204       </td><td>-0.44314057181943345      </td><td>0.5618551386746585     </td><td>0.4376888355594318   </td><td>-0.07972519386963377          </td><td>-0.33838015155983997           </td><td>-2.1420056488892234            </td><td>-0.31354581085418876           </td><td>-2.8438177084730815e-06       </td><td>-0.4431405636901689      </td><td>1.0                 </td></tr>\n",
       "<tr><td><i style='opacity: 0.6'>199,999</i></td><td>254   </td><td>0     </td><td>149251.41</td><td>11511.0        </td><td>0.0             </td><td>0.0             </td><td>149251.41       </td><td>0        </td><td>0          </td><td>137740.41          </td><td>587.6039763779528 </td><td>173246.90923650007  </td><td>178830.52590969772 </td><td>47373.10882451304          </td><td>180079.754135976          </td><td>17850.253258152337          </td><td>101746.4267326915          </td><td>670584.6599667605           </td><td>801405.9030142671          </td><td>853199.2774894472           </td><td>839256.3673847476          </td><td>5.0             </td><td>0.0                  </td><td>2.0           </td><td>1.0                </td><td>4.0                    </td><td>0.0                         </td><td>0.0                     </td><td>0.0                          </td><td>0.0                     </td><td>0.0                          </td><td>5.0                     </td><td>0.0                          </td><td>-5.654878338327999     </td><td>-6.167820519576324</td><td>0.09235952671875117 </td><td>-0.2693343341454072 </td><td>-0.14524552809306215  </td><td>-0.10993715591632539   </td><td>-0.8618504253838751    </td><td>-0.8966532601128339    </td><td>-0.23577463511130914      </td><td>-0.22523904082162263</td><td>-0.44314056295444026</td><td>-0.4431405630139231</td><td>-0.44314056359113185      </td><td>-0.4431405630180837      </td><td>0.44314056275265334        </td><td>-0.4431405629082535       </td><td>-0.4431405620203256        </td><td>0.44314043134798337       </td><td>-0.44314056269240204       </td><td>-0.44314057181943345      </td><td>0.5618551386746585     </td><td>0.4376888355594318   </td><td>0.8998745122955721            </td><td>-0.33838015155983997           </td><td>-2.1420056488892234            </td><td>-0.31354581085418876           </td><td>-2.8438177084730815e-06       </td><td>-0.4431405636901689      </td><td>1.0                 </td></tr>\n",
       "</tbody>\n",
       "</table>"
      ],
      "text/plain": [
       "#        step    type    amount     oldbalanceOrg    newbalanceOrig    oldbalanceDest    newbalanceDest    isFraud    dest_type    error_transaction    amount_step         ('amount', 'mean')    ('amount', 'std')    ('oldbalanceOrg', 'mean')    ('oldbalanceOrg', 'std')    ('newbalanceOrig', 'mean')    ('newbalanceOrig', 'std')    ('oldbalanceDest', 'mean')    ('oldbalanceDest', 'std')    ('newbalanceDest', 'mean')    ('newbalanceDest', 'std')    amount_bin_log    amount_kbins_kmeans    step_bin_log    step_kbins_kmeans    oldbalanceOrg_bin_log    oldbalanceOrg_kbins_kmeans    newbalanceOrig_bin_log    newbalanceOrig_kbins_kmeans    oldbalanceDest_bin_log    oldbalanceDest_kbins_kmeans    newbalanceDest_bin_log    newbalanceDest_kbins_kmeans    woe_encoded_dest_type    woe_encoded_type    scaled_step           scaled_amount         scaled_oldbalanceOrg    scaled_newbalanceOrig    scaled_oldbalanceDest    scaled_newbalanceDest    scaled_error_transaction    scaled_amount_step    scaled_amountmean     scaled_amountstd     scaled_oldbalanceOrgmean    scaled_oldbalanceOrgstd    scaled_newbalanceOrigmean    scaled_newbalanceOrigstd    scaled_oldbalanceDestmean    scaled_oldbalanceDeststd    scaled_newbalanceDestmean    scaled_newbalanceDeststd    scaled_amount_bin_log    scaled_step_bin_log    scaled_oldbalanceOrg_bin_log    scaled_newbalanceOrig_bin_log    scaled_oldbalanceDest_bin_log    scaled_newbalanceDest_bin_log    scaled_woe_encoded_dest_type    scaled_woe_encoded_type    xgboost_prediction\n",
       "0        161     0       132971.28  0.0              0.0               984543.31         1072685.96        0          0            132971.28            825.9085714285715   173246.90923650007    178830.52590969772   47373.10882451304            180079.754135976            17850.253258152337            101746.4267326915            670584.6599667605             801405.9030142671            853199.2774894472             839256.3673847476            5.0               0.0                    2.0             1.0                  0.0                      0.0                           0.0                       0.0                            5.0                       0.0                            6.0                       0.0                            -5.654878338327999       -6.167820519576324  -0.5639672015844225   -0.32168291158413315  -0.18878008723462825    -0.10993715591632539     0.3697249051837079       0.16559348034167662      -0.25379705989399337        -0.20215651861649317  -0.44314056295444026  -0.4431405630139231  -0.44314056359113185        -0.4431405630180837        0.44314056275265334          -0.4431405629082535         -0.4431405620203256          0.44314043134798337         -0.44314056269240204         -0.44314057181943345        0.5618551386746585       0.4376888355594318     -1.0593249000348397             -0.33838015155983997             0.33748114840925747              1.0207507512102942               -2.8438177084730815e-06         -0.4431405636901689        1.0\n",
       "1        378     0       316518.22  5156.0           0.0               0.0               316518.22         0          0            311362.22            837.3497883597882   173246.90923650007    178830.52590969772   47373.10882451304            180079.754135976            17850.253258152337            101746.4267326915            670584.6599667605             801405.9030142671            853199.2774894472             839256.3673847476            5.0               1.0                    2.0             2.0                  3.0                      0.0                           0.0                       0.0                            0.0                       0.0                            5.0                       0.0                            -5.654878338327999       -6.167820519576324  0.9674618311229827    0.26851023811621816   -0.16928011443175145    -0.10993715591632539     -0.8618504253838751      -0.704242629918497       0.42033790771274715         -0.20104830606267138  -0.44314056295444026  -0.4431405630139231  -0.44314056359113185        -0.4431405630180837        0.44314056275265334          -0.4431405629082535         -0.4431405620203256          0.44314043134798337         -0.44314056269240204         -0.44314057181943345        0.5618551386746585       0.4376888355594318     0.4100746592129692              -0.33838015155983997             -2.1420056488892234              -0.31354581085418876             -2.8438177084730815e-06         -0.4431405636901689        1.0\n",
       "2        281     0       44361.65   0.0              0.0               1375491.91        1419853.56        0          0            44361.65             157.87064056939502  173246.90923650007    178830.52590969772   47373.10882451304            180079.754135976            17850.253258152337            101746.4267326915            670584.6599667605             801405.9030142671            853199.2774894472             839256.3673847476            4.0               0.0                    2.0             2.0                  0.0                      0.0                           0.0                       0.0                            6.0                       1.0                            6.0                       1.0                            -5.654878338327999       -6.167820519576324  0.28290599622612417   -0.6066061940070532   -0.18878008723462825    -0.10993715591632539     0.8587665211182406       0.5649478812479622       -0.5886506687695073         -0.26686362327660385  -0.44314056295444026  -0.4431405630139231  -0.44314056359113185        -0.4431405630180837        0.44314056275265334          -0.4431405629082535         -0.4431405620203256          0.44314043134798337         -0.44314056269240204         -0.44314057181943345        -1.1427580794114136      0.4376888355594318     -1.0593249000348397             -0.33838015155983997             0.8333785078689536               1.0207507512102942               -2.8438177084730815e-06         -0.4431405636901689        1.0\n",
       "3        250     0       380950.72  41070.0          0.0               638778.12         1019728.84        0          0            339880.72            1523.80288          173246.90923650007    178830.52590969772   47373.10882451304            180079.754135976            17850.253258152337            101746.4267326915            670584.6599667605             801405.9030142671            853199.2774894472             839256.3673847476            5.0               1.0                    2.0             1.0                  4.0                      0.0                           0.0                       0.0                            5.0                       0.0                            6.0                       0.0                            -5.654878338327999       -6.167820519576324  0.06413042012506628   0.47569222719251597   -0.03345350014887381    -0.10993715591632539     -0.06279631947731106     0.1046757595309723       0.5281086166607062          -0.13455748272290627  -0.44314056295444026  -0.4431405630139231  -0.44314056359113185        -0.4431405630180837        0.44314056275265334          -0.4431405629082535         -0.4431405620203256          0.44314043134798337         -0.44314056269240204         -0.44314057181943345        0.5618551386746585       0.4376888355594318     0.8998745122955721              -0.33838015155983997             0.33748114840925747              1.0207507512102942               -2.8438177084730815e-06         -0.4431405636901689        1.0\n",
       "4        311     0       32085.67   88432.0          56346.33          425214.62         457300.29         0          0            0.0                  103.16935691318328  173246.90923650007    178830.52590969772   47373.10882451304            180079.754135976            17850.253258152337            101746.4267326915            670584.6599667605             801405.9030142671            853199.2774894472             839256.3673847476            4.0               0.0                    2.0             2.0                  4.0                      0.0                           4.0                       0.0                            5.0                       0.0                            5.0                       0.0                            -5.654878338327999       -6.167820519576324  0.4946242956787608    -0.6460794715340907   0.14566940751013524     0.2537197342329188       -0.3299450933689035      -0.5422979691172104      -0.7562922512721365         -0.2721620674563117   -0.44314056295444026  -0.4431405630139231  -0.44314056359113185        -0.4431405630180837        0.44314056275265334          -0.4431405629082535         -0.4431405620203256          0.44314043134798337         -0.44314056269240204         -0.44314057181943345        -1.1427580794114136      0.4376888355594318     0.8998745122955721              2.639256675309615                0.33748114840925747              -0.31354581085418876             -2.8438177084730815e-06         -0.4431405636901689        1.0\n",
       "...      ...     ...     ...        ...              ...               ...               ...               ...        ...          ...                  ...                 ...                   ...                  ...                          ...                         ...                           ...                          ...                           ...                          ...                           ...                          ...               ...                    ...             ...                  ...                      ...                           ...                       ...                            ...                       ...                            ...                       ...                            ...                      ...                 ...                   ...                   ...                     ...                      ...                      ...                      ...                         ...                   ...                   ...                  ...                         ...                        ...                          ...                         ...                          ...                         ...                          ...                         ...                      ...                    ...                             ...                              ...                              ...                              ...                             ...                        ...\n",
       "199,995  286     0       16046.61   0.0              0.0               649751.24         665797.85         0          0            16046.61             56.10702797202797   173246.90923650007    178830.52590969772   47373.10882451304            180079.754135976            17850.253258152337            101746.4267326915            670584.6599667605             801405.9030142671            853199.2774894472             839256.3673847476            4.0               0.0                    2.0             2.0                  0.0                      0.0                           0.0                       0.0                            5.0                       0.0                            5.0                       0.0                            -5.654878338327999       -6.167820519576324  0.31819237946823026   -0.6976528910617218   -0.18878008723462825    -0.10993715591632539     -0.04906993105529461     -0.3024587152115397      -0.695652507389695          -0.2767205916114107   -0.44314056295444026  -0.4431405630139231  -0.44314056359113185        -0.4431405630180837        0.44314056275265334          -0.4431405629082535         -0.4431405620203256          0.44314043134798337         -0.44314056269240204         -0.44314057181943345        -1.1427580794114136      0.4376888355594318     -1.0593249000348397             -0.33838015155983997             0.33748114840925747              -0.31354581085418876             -2.8438177084730815e-06         -0.4431405636901689        1.0\n",
       "199,996  203     1       54252.78   0.0              0.0               1167237.41        1221490.2         0          0            54252.78             267.2550738916256   537361.7272602181     561751.6977020104    62861.969999974215           510485.68466055463          12877.763452953923            305816.9563440003            782646.8259206628             782540.1382098091            1313369.281028787             916688.4417441946            4.0               0.0                    2.0             1.0                  0.0                      0.0                           0.0                       0.0                            6.0                       1.0                            6.0                       0.0                            -5.654878338327999       -4.536146803906333  -0.26756158235073113  -0.5748013752026883   -0.18878008723462825    -0.10993715591632539     0.5982588298114084       0.33676621684564506      -0.5512723321670764         -0.25626849140128444  2.256620322241861     2.256620322487125    2.2566203249116517          2.256620322393132          -2.2566203205112543          2.256620322285348           2.256620318761071            -2.2566196366385256         2.2566203215160923           2.2566203648601277          -1.1427580794114136      0.4376888355594318     -1.0593249000348397             -0.33838015155983997             0.8333785078689536               1.0207507512102942               -2.8438177084730815e-06         2.2566203271413205         1.0\n",
       "199,997  44      0       93044.86   21008.0          0.0               145896.62         238941.48         0          0            72036.86             2114.655909090909   173246.90923650007    178830.52590969772   47373.10882451304            180079.754135976            17850.253258152337            101746.4267326915            670584.6599667605             801405.9030142671            853199.2774894472             839256.3673847476            4.0               0.0                    1.0             0.0                  4.0                      0.0                           0.0                       0.0                            5.0                       0.0                            5.0                       0.0                            -5.654878338327999       -6.167820519576324  -1.3896685694497055   -0.4500658722374631   -0.10932790945285252    -0.10993715591632539     -0.6793468461302686      -0.7934808322362324      -0.48406673195713473        -0.07732661748901534  -0.44314056295444026  -0.4431405630139231  -0.44314056359113185        -0.4431405630180837        0.44314056275265334          -0.4431405629082535         -0.4431405620203256          0.44314043134798337         -0.44314056269240204         -0.44314057181943345        -1.1427580794114136      -2.019624964213296     0.8998745122955721              -0.33838015155983997             0.33748114840925747              -0.31354581085418876             -2.8438177084730815e-06         -0.4431405636901689        1.0\n",
       "199,998  328     0       164058.91  371.0            0.0               0.0               164058.91         0          0            163687.91            500.1796036585366   173246.90923650007    178830.52590969772   47373.10882451304            180079.754135976            17850.253258152337            101746.4267326915            670584.6599667605             801405.9030142671            853199.2774894472             839256.3673847476            5.0               0.0                    2.0             2.0                  2.0                      0.0                           0.0                       0.0                            0.0                       0.0                            5.0                       0.0                            -5.654878338327999       -6.167820519576324  0.6145979987019216    -0.22172098213753416  -0.18737696661595732    -0.10993715591632539     -0.8618504253838751      -0.8796198725172754      -0.13771967182687384        -0.2337070899758439   -0.44314056295444026  -0.4431405630139231  -0.44314056359113185        -0.4431405630180837        0.44314056275265334          -0.4431405629082535         -0.4431405620203256          0.44314043134798337         -0.44314056269240204         -0.44314057181943345        0.5618551386746585       0.4376888355594318     -0.07972519386963377            -0.33838015155983997             -2.1420056488892234              -0.31354581085418876             -2.8438177084730815e-06         -0.4431405636901689        1.0\n",
       "199,999  254     0       149251.41  11511.0          0.0               0.0               149251.41         0          0            137740.41            587.6039763779528   173246.90923650007    178830.52590969772   47373.10882451304            180079.754135976            17850.253258152337            101746.4267326915            670584.6599667605             801405.9030142671            853199.2774894472             839256.3673847476            5.0               0.0                    2.0             1.0                  4.0                      0.0                           0.0                       0.0                            0.0                       0.0                            5.0                       0.0                            -5.654878338327999       -6.167820519576324  0.09235952671875117   -0.2693343341454072   -0.14524552809306215    -0.10993715591632539     -0.8618504253838751      -0.8966532601128339      -0.23577463511130914        -0.22523904082162263  -0.44314056295444026  -0.4431405630139231  -0.44314056359113185        -0.4431405630180837        0.44314056275265334          -0.4431405629082535         -0.4431405620203256          0.44314043134798337         -0.44314056269240204         -0.44314057181943345        0.5618551386746585       0.4376888355594318     0.8998745122955721              -0.33838015155983997             -2.1420056488892234              -0.31354581085418876             -2.8438177084730815e-06         -0.4431405636901689        1.0"
      ]
     },
     "execution_count": 41,
     "metadata": {},
     "output_type": "execute_result"
    }
   ],
   "source": [
    "from vaex.ml.xgboost import XGBoostModel\n",
    "\n",
    "# Spliting dados em treino e teste\n",
    "dataset_scaled = dataset_scaled.sample(1000000)\n",
    "df_train, df_test = dataset_scaled.ml.train_test_split(test_size=0.2, verbose=False)\n",
    "\n",
    "\n",
    "# Features para treinamento\n",
    "features_train = dataset_scaled.get_column_names(regex='scaled*') + \\\n",
    "                 dataset_scaled.get_column_names(regex='.*_kmeans')+ \\\n",
    "                 ['type']\n",
    "\n",
    "# Grid de Parametros\n",
    "params = {'learning_rate': 0.01,\n",
    "          'max_depth': 5,\n",
    "          'objective': 'binary:hinge',\n",
    "          'eval_metric': 'auc',\n",
    "          'subsample': 1,\n",
    "          'random_state': 42,\n",
    "          'n_jobs': -1}\n",
    "\n",
    "# Intanciando e treinando o modelo\n",
    "booster = XGBoostModel(features=features_train, \n",
    "                       target='isFraud', \n",
    "                       num_boost_round=500,\n",
    "                       params=params)\n",
    "\n",
    "booster.fit(df=df_train, \n",
    "            evals=[(df_train, 'train'),(df_test, 'test')], \n",
    "            early_stopping_rounds=5)\n",
    "\n",
    "# Gerando as Previsões\n",
    "dataset_test = booster.transform(df_test)\n",
    "dataset_test"
   ]
  },
  {
   "cell_type": "markdown",
   "metadata": {
    "heading_collapsed": true
   },
   "source": [
    "## Pipeline-1 - LightGBM"
   ]
  },
  {
   "cell_type": "code",
   "execution_count": 51,
   "metadata": {
    "ExecuteTime": {
     "end_time": "2020-11-13T13:26:39.709400Z",
     "start_time": "2020-11-13T13:26:35.311684Z"
    },
    "hidden": true
   },
   "outputs": [
    {
     "ename": "TypeError",
     "evalue": "'NoneType' object is not iterable",
     "output_type": "error",
     "traceback": [
      "\u001b[0;31m---------------------------------------------------------------------------\u001b[0m",
      "\u001b[0;31mTypeError\u001b[0m                                 Traceback (most recent call last)",
      "\u001b[0;32m<ipython-input-51-99b2bd4ee8d1>\u001b[0m in \u001b[0;36m<module>\u001b[0;34m\u001b[0m\n\u001b[1;32m     18\u001b[0m                                                \u001b[0mnum_boost_round\u001b[0m\u001b[0;34m=\u001b[0m\u001b[0;36m500\u001b[0m\u001b[0;34m,\u001b[0m\u001b[0;34m\u001b[0m\u001b[0;34m\u001b[0m\u001b[0m\n\u001b[1;32m     19\u001b[0m                                                params=params)\n\u001b[0;32m---> 20\u001b[0;31m booster_light.fit(df=df_train, \n\u001b[0m\u001b[1;32m     21\u001b[0m             \u001b[0mvalid_sets\u001b[0m\u001b[0;34m=\u001b[0m\u001b[0;34m[\u001b[0m\u001b[0mdf_test\u001b[0m\u001b[0;34m]\u001b[0m\u001b[0;34m,\u001b[0m\u001b[0;34m\u001b[0m\u001b[0;34m\u001b[0m\u001b[0m\n\u001b[1;32m     22\u001b[0m             early_stopping_rounds=10)\n",
      "\u001b[0;32m~/anaconda3/envs/ds-env-38/lib/python3.8/site-packages/vaex/ml/lightgbm.py\u001b[0m in \u001b[0;36mfit\u001b[0;34m(self, df, valid_sets, valid_names, early_stopping_rounds, evals_result, verbose_eval, copy, **kwargs)\u001b[0m\n\u001b[1;32m    125\u001b[0m                 \u001b[0mvalid_sets\u001b[0m \u001b[0;34m=\u001b[0m \u001b[0;34m(\u001b[0m\u001b[0;34m)\u001b[0m\u001b[0;34m\u001b[0m\u001b[0;34m\u001b[0m\u001b[0m\n\u001b[1;32m    126\u001b[0m \u001b[0;34m\u001b[0m\u001b[0m\n\u001b[0;32m--> 127\u001b[0;31m         self.booster = lightgbm.train(params=self.params,\n\u001b[0m\u001b[1;32m    128\u001b[0m                                       \u001b[0mtrain_set\u001b[0m\u001b[0;34m=\u001b[0m\u001b[0mdtrain\u001b[0m\u001b[0;34m,\u001b[0m\u001b[0;34m\u001b[0m\u001b[0;34m\u001b[0m\u001b[0m\n\u001b[1;32m    129\u001b[0m                                       \u001b[0mnum_boost_round\u001b[0m\u001b[0;34m=\u001b[0m\u001b[0mself\u001b[0m\u001b[0;34m.\u001b[0m\u001b[0mnum_boost_round\u001b[0m\u001b[0;34m,\u001b[0m\u001b[0;34m\u001b[0m\u001b[0;34m\u001b[0m\u001b[0m\n",
      "\u001b[0;32m~/anaconda3/envs/ds-env-38/lib/python3.8/site-packages/lightgbm/engine.py\u001b[0m in \u001b[0;36mtrain\u001b[0;34m(params, train_set, num_boost_round, valid_sets, valid_names, fobj, feval, init_model, feature_name, categorical_feature, early_stopping_rounds, evals_result, verbose_eval, learning_rates, keep_training_booster, callbacks)\u001b[0m\n\u001b[1;32m    229\u001b[0m     \u001b[0;31m# construct booster\u001b[0m\u001b[0;34m\u001b[0m\u001b[0;34m\u001b[0m\u001b[0;34m\u001b[0m\u001b[0m\n\u001b[1;32m    230\u001b[0m     \u001b[0;32mtry\u001b[0m\u001b[0;34m:\u001b[0m\u001b[0;34m\u001b[0m\u001b[0;34m\u001b[0m\u001b[0m\n\u001b[0;32m--> 231\u001b[0;31m         \u001b[0mbooster\u001b[0m \u001b[0;34m=\u001b[0m \u001b[0mBooster\u001b[0m\u001b[0;34m(\u001b[0m\u001b[0mparams\u001b[0m\u001b[0;34m=\u001b[0m\u001b[0mparams\u001b[0m\u001b[0;34m,\u001b[0m \u001b[0mtrain_set\u001b[0m\u001b[0;34m=\u001b[0m\u001b[0mtrain_set\u001b[0m\u001b[0;34m)\u001b[0m\u001b[0;34m\u001b[0m\u001b[0;34m\u001b[0m\u001b[0m\n\u001b[0m\u001b[1;32m    232\u001b[0m         \u001b[0;32mif\u001b[0m \u001b[0mis_valid_contain_train\u001b[0m\u001b[0;34m:\u001b[0m\u001b[0;34m\u001b[0m\u001b[0;34m\u001b[0m\u001b[0m\n\u001b[1;32m    233\u001b[0m             \u001b[0mbooster\u001b[0m\u001b[0;34m.\u001b[0m\u001b[0mset_train_data_name\u001b[0m\u001b[0;34m(\u001b[0m\u001b[0mtrain_data_name\u001b[0m\u001b[0;34m)\u001b[0m\u001b[0;34m\u001b[0m\u001b[0;34m\u001b[0m\u001b[0m\n",
      "\u001b[0;32m~/anaconda3/envs/ds-env-38/lib/python3.8/site-packages/lightgbm/basic.py\u001b[0m in \u001b[0;36m__init__\u001b[0;34m(self, params, train_set, model_file, model_str, silent)\u001b[0m\n\u001b[1;32m   1983\u001b[0m             \u001b[0mtrain_set\u001b[0m\u001b[0;34m.\u001b[0m\u001b[0mconstruct\u001b[0m\u001b[0;34m(\u001b[0m\u001b[0;34m)\u001b[0m\u001b[0;34m\u001b[0m\u001b[0;34m\u001b[0m\u001b[0m\n\u001b[1;32m   1984\u001b[0m             \u001b[0;31m# copy the parameters from train_set\u001b[0m\u001b[0;34m\u001b[0m\u001b[0;34m\u001b[0m\u001b[0;34m\u001b[0m\u001b[0m\n\u001b[0;32m-> 1985\u001b[0;31m             \u001b[0mparams\u001b[0m\u001b[0;34m.\u001b[0m\u001b[0mupdate\u001b[0m\u001b[0;34m(\u001b[0m\u001b[0mtrain_set\u001b[0m\u001b[0;34m.\u001b[0m\u001b[0mget_params\u001b[0m\u001b[0;34m(\u001b[0m\u001b[0;34m)\u001b[0m\u001b[0;34m)\u001b[0m\u001b[0;34m\u001b[0m\u001b[0;34m\u001b[0m\u001b[0m\n\u001b[0m\u001b[1;32m   1986\u001b[0m             \u001b[0mparams_str\u001b[0m \u001b[0;34m=\u001b[0m \u001b[0mparam_dict_to_str\u001b[0m\u001b[0;34m(\u001b[0m\u001b[0mparams\u001b[0m\u001b[0;34m)\u001b[0m\u001b[0;34m\u001b[0m\u001b[0;34m\u001b[0m\u001b[0m\n\u001b[1;32m   1987\u001b[0m             \u001b[0mself\u001b[0m\u001b[0;34m.\u001b[0m\u001b[0mhandle\u001b[0m \u001b[0;34m=\u001b[0m \u001b[0mctypes\u001b[0m\u001b[0;34m.\u001b[0m\u001b[0mc_void_p\u001b[0m\u001b[0;34m(\u001b[0m\u001b[0;34m)\u001b[0m\u001b[0;34m\u001b[0m\u001b[0;34m\u001b[0m\u001b[0m\n",
      "\u001b[0;31mTypeError\u001b[0m: 'NoneType' object is not iterable"
     ]
    }
   ],
   "source": [
    "import vaex\n",
    "import vaex.ml.lightgbm\n",
    "\n",
    "# Grid de Parametros\n",
    "params = {'learning_rate': 0.01,\n",
    "          'max_depth': 5,\n",
    "          'num_leaves': 15,\n",
    "          'application': 'binary',\n",
    "          'num_class': 1,\n",
    "          'subsample': 0.80,\n",
    "          'colsample_bytree': 0.80,\n",
    "          'n_jobs': -1}\n",
    "\n",
    "# Intanciando e treinando o modelo\n",
    "booster_light = vaex.ml.lightgbm.LightGBMModel(features=features_train, \n",
    "                                               target='isFraud', \n",
    "                                               num_boost_round=500, \n",
    "                                               params=params)\n",
    "booster_light.fit(df=df_train, \n",
    "            valid_sets=[df_test],\n",
    "            early_stopping_rounds=10)\n",
    "\n",
    "# Gerando as Previsões\n",
    "dataset_test = booster_light.transform(df_test)\n",
    "dataset_test"
   ]
  },
  {
   "cell_type": "markdown",
   "metadata": {},
   "source": [
    "## Pipelines-2 - SGDC com Log Loss"
   ]
  },
  {
   "cell_type": "code",
   "execution_count": null,
   "metadata": {},
   "outputs": [],
   "source": []
  },
  {
   "cell_type": "markdown",
   "metadata": {},
   "source": [
    "## Pipelines-2 - SGDC com Perceptron Loss"
   ]
  },
  {
   "cell_type": "code",
   "execution_count": null,
   "metadata": {},
   "outputs": [],
   "source": []
  },
  {
   "cell_type": "markdown",
   "metadata": {},
   "source": [
    "## Pipeline-2 -  Xgboost"
   ]
  },
  {
   "cell_type": "code",
   "execution_count": null,
   "metadata": {},
   "outputs": [],
   "source": []
  },
  {
   "cell_type": "code",
   "execution_count": null,
   "metadata": {
    "execution": {
     "iopub.execute_input": "2020-10-31T23:03:53.414431Z",
     "iopub.status.busy": "2020-10-31T23:03:53.414006Z"
    }
   },
   "outputs": [],
   "source": [
    "# Features - variáveis numericas escolhidas pelo BorutaShap.\n",
    "# features = ['step',\n",
    "#             'oldbalanceOrg', \n",
    "#             'newbalanceOrig_bin_log', \n",
    "#             'newbalanceDest',\n",
    "#             'amount_step', \n",
    "#             'amount',\n",
    "#             'oldbalanceDest_bin_log'\n",
    "#             ]"
   ]
  },
  {
   "cell_type": "code",
   "execution_count": null,
   "metadata": {},
   "outputs": [],
   "source": []
  },
  {
   "cell_type": "code",
   "execution_count": null,
   "metadata": {},
   "outputs": [],
   "source": []
  },
  {
   "cell_type": "code",
   "execution_count": null,
   "metadata": {},
   "outputs": [],
   "source": []
  },
  {
   "cell_type": "markdown",
   "metadata": {
    "heading_collapsed": true,
    "toc-hr-collapsed": true,
    "toc-nb-collapsed": true
   },
   "source": [
    "# Modelagem Machine Learning / Avaliação dos Modelos"
   ]
  },
  {
   "cell_type": "code",
   "execution_count": null,
   "metadata": {
    "hidden": true
   },
   "outputs": [],
   "source": []
  },
  {
   "cell_type": "markdown",
   "metadata": {
    "hidden": true
   },
   "source": []
  }
 ],
 "metadata": {
  "kernelspec": {
   "display_name": "project-fraud-blocker",
   "language": "python",
   "name": "myenv"
  },
  "language_info": {
   "codemirror_mode": {
    "name": "ipython",
    "version": 3
   },
   "file_extension": ".py",
   "mimetype": "text/x-python",
   "name": "python",
   "nbconvert_exporter": "python",
   "pygments_lexer": "ipython3",
   "version": "3.9.0"
  },
  "toc": {
   "base_numbering": 1,
   "nav_menu": {},
   "number_sections": true,
   "sideBar": true,
   "skip_h1_title": false,
   "title_cell": "Table of Contents",
   "title_sidebar": "Contents",
   "toc_cell": false,
   "toc_position": {},
   "toc_section_display": true,
   "toc_window_display": false
  },
  "toc-autonumbering": false,
  "toc-showcode": false,
  "toc-showmarkdowntxt": false,
  "toc-showtags": false,
  "varInspector": {
   "cols": {
    "lenName": 16,
    "lenType": 16,
    "lenVar": 40
   },
   "kernels_config": {
    "python": {
     "delete_cmd_postfix": "",
     "delete_cmd_prefix": "del ",
     "library": "var_list.py",
     "varRefreshCmd": "print(var_dic_list())"
    },
    "r": {
     "delete_cmd_postfix": ") ",
     "delete_cmd_prefix": "rm(",
     "library": "var_list.r",
     "varRefreshCmd": "cat(var_dic_list()) "
    }
   },
   "types_to_exclude": [
    "module",
    "function",
    "builtin_function_or_method",
    "instance",
    "_Feature"
   ],
   "window_display": false
  }
 },
 "nbformat": 4,
 "nbformat_minor": 4
}
